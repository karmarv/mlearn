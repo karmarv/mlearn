{
 "cells": [
  {
   "cell_type": "markdown",
   "metadata": {},
   "source": [
    "\n",
    "\n",
    "\n",
    "#### Topics: Sparsity (PCA and Compressive Sensing)\n",
    "#### Assigned: Wednesday May 23\n",
    "#### Due: Sunday June 10 by midnight\n",
    "\n"
   ]
  },
  {
   "cell_type": "code",
   "execution_count": null,
   "metadata": {},
   "outputs": [],
   "source": []
  },
  {
   "cell_type": "markdown",
   "metadata": {},
   "source": []
  },
  {
   "cell_type": "code",
   "execution_count": 1,
   "metadata": {
    "ExecuteTime": {
     "end_time": "2018-06-11T04:56:30.677821Z",
     "start_time": "2018-06-11T04:56:30.082216Z"
    }
   },
   "outputs": [],
   "source": [
    "# -*- coding: utf-8 -*-\n",
    "import numpy as np\n",
    "from math import *\n",
    "import matplotlib.pyplot as plt\n",
    "from matplotlib import cm\n",
    "from mpl_toolkits.mplot3d import Axes3D\n",
    "from scipy.stats import norm\n",
    "\n",
    "\n",
    "# Params\n",
    "N = 2000\n",
    "dims = 100\n",
    "ulength = 7"
   ]
  },
  {
   "cell_type": "markdown",
   "metadata": {},
   "source": [
    "# Code & Logs\n",
    "\n",
    "## Part I PCA\n",
    "\n",
    "Generate a random vector u in d dimensions as follows: The components of u are i.i.d., with\n",
    "- P [u[i] = 0] = 2=3; P [u[i] = +1] = 1=6; P [u[i] = −1] = 1=6\n",
    "\n",
    "\n"
   ]
  },
  {
   "cell_type": "code",
   "execution_count": 2,
   "metadata": {
    "ExecuteTime": {
     "end_time": "2018-06-11T04:56:30.721704Z",
     "start_time": "2018-06-11T04:56:30.681812Z"
    }
   },
   "outputs": [
    {
     "name": "stdout",
     "output_type": "stream",
     "text": [
      "(7, 100)\n"
     ]
    }
   ],
   "source": [
    "# Generate the IID \n",
    "def generateMultiDimGaussian(d, ulength):\n",
    "    u = np.ndarray((ulength,d))\n",
    "    angles = np.zeros((ulength,ulength))\n",
    "    deviation = 10    \n",
    "    while np.amax(angles+90*np.eye(ulength)) > (90+deviation) or np.amin(angles+90*np.eye(ulength)) < (90-deviation):\n",
    "        for i in range(ulength):\n",
    "            for j in range(d):\n",
    "                r = np.random.rand()\n",
    "                if(r<4/6):\n",
    "                    u[i,j] = 0\n",
    "                elif(r<5/6):\n",
    "                    u[i,j] = 1\n",
    "                else:\n",
    "                    u[i,j] = -1\n",
    "        if(u.any(axis=1).all()):\n",
    "            for i in range(ulength):\n",
    "                for j in range(i):\n",
    "                    angles[i,j] = np.arccos(  np.clip( np.dot(u[i,:]/np.linalg.norm(u[i,:]), u[j,:]/np.linalg.norm(u[j,:]))  ,-1.0,1.0))/np.pi*180\n",
    "                    angles[j,i] = angles[i,j]\n",
    "    #print(angles)\n",
    "    return u\n",
    "\n",
    "# Uj be i.i.d\n",
    "Uj = generateMultiDimGaussian(dims, ulength)\n",
    "print(Uj.shape)"
   ]
  },
  {
   "cell_type": "markdown",
   "metadata": {},
   "source": [
    "Generate d-dimensional data samples for a Gaussian mixture distribution with 3 equiprobable components\n",
    "1. Zm  : Standard Gaussian (N(0, 1)) distribution\n",
    "2. N   : noise vector\" N ∼ N(0, σ2Id) (default value σ2 = 0:01)\n",
    "3. Component 1: Generate X = u1 + Z1u2 + Z2u3 + N.\n",
    "4. Component 2: Generate X = 2u4 + sqrt(2)Z1u5 + Z2u6 + N.\n",
    "5. Component 3: Generate X = sqrt(2)u6 + Z1(u1 + u2) + (1/sqrt(2))Z2u5 + N"
   ]
  },
  {
   "cell_type": "code",
   "execution_count": 3,
   "metadata": {
    "ExecuteTime": {
     "end_time": "2018-06-11T04:56:30.732638Z",
     "start_time": "2018-06-11T04:56:30.723665Z"
    }
   },
   "outputs": [],
   "source": [
    "\n",
    "\"\"\" \n",
    "Generate the higher dimension dataset and sample equiprobable from components\n",
    "\"\"\"\n",
    "def generateDataset(u, num_data = 50, d = 30):\n",
    "    sigma_sq = 0.01\n",
    "    #print('\\nX(Nxd):',num_data,\"x\",d,',\\tUj:',Uj[0].shape)\n",
    "    dataset = np.ndarray((num_data,d))\n",
    "    labels  = np.zeros((num_data,3))  # will be containing [0,1,0] one hot value    \n",
    "    # Assign the values based on the three component function\n",
    "    for i in range(0, num_data):\n",
    "        # Random numbers Zm {Z1, Z2} and N are drawn afresh\n",
    "        Z1 = np.random.normal()\n",
    "        Z2 = np.random.normal()\n",
    "        noise = np.random.multivariate_normal(np.zeros(d), (sigma_sq)*np.eye(d))  \n",
    "        # choose which comnponent to pick from \n",
    "        idx_comp = np.random.choice([0, 1, 2],1,p=[0.333, 0.333, 0.334])\n",
    "        if(idx_comp == 0):   # Sample from component 1\n",
    "            dataset[i,:] = Uj[1,:] + Z1*Uj[2,:] + Z2*Uj[3,:] + noise\n",
    "        elif(idx_comp == 1): # Sample from component 3\n",
    "            dataset[i,:] = 2*Uj[4,:] + np.sqrt(2)*Z1*Uj[5,:] + Z2*Uj[6,:] + noise\n",
    "        elif(idx_comp == 2): # Sample from component 3\n",
    "            dataset[i,:] = np.sqrt(2)*Uj[6,:] + Z1*(Uj[1,:] + Uj[2,:]) + 1/np.sqrt(2) *Z2*Uj[5,:] + noise\n",
    "        # Assign a label\n",
    "        labels[i,idx_comp]=1\n",
    "    return dataset, labels\n",
    "\n",
    "#X_data, Y_hot_labels = generateDataset(Uj, 50, 30)\n",
    "#print(\"> X: Data Set:\",X_data.shape,\", Y: One hot :\",Y_hot_labels.shape)"
   ]
  },
  {
   "cell_type": "markdown",
   "metadata": {
    "ExecuteTime": {
     "end_time": "2018-06-10T05:27:47.062966Z",
     "start_time": "2018-06-10T05:27:47.055984Z"
    }
   },
   "source": [
    "### 1. SVD of the A(N × d) data matrix \n",
    "\n",
    "A = U SIGMA V<sup>T</sup>\n",
    "\n",
    "1. V must diagonalize A<sup>T</sup>A and v<sub>i</sub> are eigenvectors of A<sup>T</sup>A.\n",
    "2. SIGMA where SIGMA<sub>ii</sub> are singular values of A. \n",
    "3. U must diagonalize AA<sup>T</sup> and u<sub>i</sub> are eigenvectors of AA<sup>T</sup> "
   ]
  },
  {
   "cell_type": "code",
   "execution_count": 4,
   "metadata": {
    "ExecuteTime": {
     "end_time": "2018-06-11T04:56:32.236044Z",
     "start_time": "2018-06-11T04:56:30.734635Z"
    }
   },
   "outputs": [
    {
     "name": "stdout",
     "output_type": "stream",
     "text": [
      "> X: Data Set: (50, 100) , Y: One hot : (50, 3)\n",
      "> SD-inp: 1.2425699236269871 \n",
      "SD-out: 1.242569923626987 \n",
      "SD-Err: 3.048454173224238e-15\n",
      "Singular values  50 × 100  :  [48.39048927 43.11330642 41.06337937 33.16084801 21.96589821 15.14612167\n",
      "  1.5994595 ]\n",
      "> X: Data Set: (60, 100) , Y: One hot : (60, 3)\n",
      "> SD-inp: 1.3498319267986385 \n",
      "SD-out: 1.3498319267986376 \n",
      "SD-Err: 3.4819962065686176e-15\n",
      "Singular values  60 × 100  :  [55.31684119 53.0200592  44.0650705  39.84964441 30.09112566 24.50793065\n",
      "  1.69841237]\n",
      "> X: Data Set: (80, 100) , Y: One hot : (80, 3)\n",
      "> SD-inp: 1.1498704791356968 \n",
      "SD-out: 1.1498704791356964 \n",
      "SD-Err: 1.806028648889445e-15\n",
      "Singular values  80 × 100  :  [57.5893642  53.216893   40.83616548 33.89971405 28.80635373 27.18518553\n",
      "  1.76064902]\n",
      "> X: Data Set: (100, 100) , Y: One hot : (100, 3)\n",
      "> SD-inp: 1.2997668301927499 \n",
      "SD-out: 1.2997668301927496 \n",
      "SD-Err: 4.440394990401163e-15\n",
      "Singular values  100 × 100  :  [69.90863454 62.67001101 54.6252193  50.84244765 38.22080618 31.71841843\n",
      "  1.90438301]\n",
      "> X: Data Set: (120, 100) , Y: One hot : (120, 3)\n",
      "> SD-inp: 1.3060641823925117 \n",
      "SD-out: 1.3060641823925123 \n",
      "SD-Err: 1.6985712333628717e-15\n",
      "Singular values  120 × 100  :  [71.74773111 67.46007854 66.34224228 60.79853815 40.5416491  31.15522685\n",
      "  1.98174145]\n",
      "> X: Data Set: (150, 100) , Y: One hot : (150, 3)\n",
      "> SD-inp: 1.1982438899074066 \n",
      "SD-out: 1.198243889907406 \n",
      "SD-Err: 2.0649813402642227e-15\n",
      "Singular values  150 × 100  :  [79.06779613 70.36741234 65.26769035 51.45642124 44.6072953  37.23663099\n",
      "  2.11513307]\n",
      "> X: Data Set: (200, 100) , Y: One hot : (200, 3)\n",
      "> SD-inp: 1.2448438513004056 \n",
      "SD-out: 1.2448438513004045 \n",
      "SD-Err: 1.9863919347571614e-15\n",
      "Singular values  200 × 100  :  [93.67871151 83.432265   76.45619056 68.60885691 49.28696661 46.61398066\n",
      "  2.31861979]\n",
      "> X: Data Set: (300, 100) , Y: One hot : (300, 3)\n",
      "> SD-inp: 1.24972911012126 \n",
      "SD-out: 1.2497291101212598 \n",
      "SD-Err: 1.6247784093964919e-15\n",
      "Singular values  300 × 100  :  [117.56893054 104.47921109  95.45651027  86.14543701  58.24326313\n",
      "  45.01554453   2.66531009]\n"
     ]
    },
    {
     "data": {
      "image/png": "[encoded data removed]",
      "text/plain": [
       "<Figure size 1008x432 with 1 Axes>"
      ]
     },
     "metadata": {},
     "output_type": "display_data"
    }
   ],
   "source": [
    "# input sample N=? from components \n",
    "def getSingularValues(N = 50, d=30):\n",
    "    X_data, Y_hot_labels = generateDataset(Uj, N, d)\n",
    "    print(\"> X: Data Set:\",X_data.shape,\", Y: One hot :\",Y_hot_labels.shape)\n",
    "    #Xt = X_data.T\n",
    "    U, S, V = np.linalg.svd(X_data, full_matrices=False)\n",
    "    X_a = np.dot(np.dot(U, np.diag(S)), V)\n",
    "    print(\"> SD-inp:\", np.std(X_data), \"\\nSD-out:\", np.std(X_a), \"\\nSD-Err:\",np.std(X_data - X_a))\n",
    "    print(\"Singular values \",N,\"×\",d,\" : \",S[0:7])\n",
    "    return S\n",
    "\n",
    "plt.figure(figsize=(14,6))\n",
    "plt.title('Singular Values vs N')\n",
    "plt.xlabel('Singular value index')\n",
    "plt.ylabel('Singular Value magnitude')\n",
    "\n",
    "for Num in [50, 60, 80, 100, 120, 150, 200, 300]:\n",
    "    S = getSingularValues(Num, dims)\n",
    "    plt.plot(range(len(S)), S,label = str('N='+str(Num)))\n",
    "plt.legend()\n",
    "plt.show()\n",
    "    \n",
    "    "
   ]
  },
  {
   "cell_type": "markdown",
   "metadata": {
    "ExecuteTime": {
     "end_time": "2018-06-10T08:29:57.326652Z",
     "start_time": "2018-06-10T08:29:57.322665Z"
    }
   },
   "source": [
    "\n",
    "### 1.(a)  d<sub>0</sub> = 6 are the dominant singular values\n",
    "##### we can see this based on the variation for N = [50, 60, 80, 100, 120, 150, 200, 300]\n",
    "\n",
    "\n",
    "\n",
    "### Now, project the data down to the dominant d0 components to obtain an N × d0 data matrix."
   ]
  },
  {
   "cell_type": "code",
   "execution_count": 5,
   "metadata": {
    "ExecuteTime": {
     "end_time": "2018-06-11T04:56:34.485661Z",
     "start_time": "2018-06-11T04:56:32.238040Z"
    },
    "scrolled": true
   },
   "outputs": [
    {
     "name": "stdout",
     "output_type": "stream",
     "text": [
      "> X: Data Set: (2000, 100) , Y: One hot : (2000, 3)\n",
      ">\n",
      "SD-inp: 1.2395057807174528 \n",
      "SD-out: 1.2395057807174528 \n",
      "SD-Err: 1.7785550318342964e-15\n",
      "Singular values  2000 × 100  :  [282.76080712 266.71486558 242.47285716 229.01120717 161.32588682\n",
      " 133.6358575    5.38798619]\n",
      "Singular:  (6, 6)\n",
      ">\n",
      "SD-inp: 1.2395057807174528 \n",
      "SD-out: 1.235722754594632 \n",
      "SD-Err: 0.09679696927444671\n",
      "Reduced Matrix[From = 2000 × 100 ]:  To = (2000, 6)\n"
     ]
    }
   ],
   "source": [
    "\n",
    "X_data, Y_hot_labels = generateDataset(Uj, N, dims)\n",
    "print(\"> X: Data Set:\",X_data.shape,\", Y: One hot :\",Y_hot_labels.shape)\n",
    "U, S, V = np.linalg.svd(X_data, full_matrices=False)\n",
    "X_a = np.dot(np.dot(U, np.diag(S)), V)\n",
    "print(\">\\nSD-inp:\", np.std(X_data), \"\\nSD-out:\", np.std(X_a), \"\\nSD-Err:\",np.std(X_data - X_a))\n",
    "print(\"Singular values \",N,\"×\",dims,\" : \",S[0:7])\n",
    "\n",
    "\n",
    "d0 = 6 # Dominant vectors d0 = 6 \n",
    "print(\"Singular: \", np.diag(S[:d0]).shape)\n",
    "reconst_matrix = np.dot(U[:,:d0],np.dot(np.diag(S[:d0]),V[:d0,:]))\n",
    "print(\">\\nSD-inp:\", np.std(X_data), \"\\nSD-out:\", np.std(reconst_matrix), \"\\nSD-Err:\",np.std(X_data - reconst_matrix))\n",
    "\n",
    "\n",
    "# Using eigen vector V as the basis for projecting the data \n",
    "evecs = V[:, :d0]\n",
    "X_reduced_matrix = np.dot(X_data, evecs)\n",
    "print(\"Reduced Matrix[From =\",N,\"×\",dims,\"]:\" ,\" To =\",X_reduced_matrix.shape)\n",
    "#print(X_reduced_matrix)"
   ]
  },
  {
   "cell_type": "code",
   "execution_count": 47,
   "metadata": {
    "ExecuteTime": {
     "end_time": "2018-06-11T06:36:15.982808Z",
     "start_time": "2018-06-11T06:36:12.509821Z"
    },
    "scrolled": false
   },
   "outputs": [
    {
     "name": "stdout",
     "output_type": "stream",
     "text": [
      "Run on the reduced dimensions data with d0 =  6\n",
      "Data Dims:  2000 x 6\n",
      "Dataset  :  (2000, 6)\n",
      "\n",
      "-------- K= 2 ----------\n",
      "______________________ \n",
      "\n",
      "K= 0 , idx= 0   -> Prob=0.00\n",
      "K= 0 , idx= 1   -> Prob=0.80\n",
      "K= 0 , idx= 2   -> Prob=0.00\n",
      "______________________ \n",
      "\n",
      "K= 1 , idx= 0   -> Prob=1.00\n",
      "K= 1 , idx= 1   -> Prob=0.20\n",
      "K= 1 , idx= 2   -> Prob=1.00\n",
      "\n",
      "-------- K= 3 ----------\n",
      "______________________ \n",
      "\n",
      "K= 0 , idx= 0   -> Prob=0.00\n",
      "K= 0 , idx= 1   -> Prob=0.30\n",
      "K= 0 , idx= 2   -> Prob=0.49\n",
      "______________________ \n",
      "\n",
      "K= 1 , idx= 0   -> Prob=1.00\n",
      "K= 1 , idx= 1   -> Prob=0.00\n",
      "K= 1 , idx= 2   -> Prob=0.51\n",
      "______________________ \n",
      "\n",
      "K= 2 , idx= 0   -> Prob=0.00\n",
      "K= 2 , idx= 1   -> Prob=0.70\n",
      "K= 2 , idx= 2   -> Prob=0.00\n",
      "\n",
      "-------- K= 4 ----------\n",
      "______________________ \n",
      "\n",
      "K= 0 , idx= 0   -> Prob=0.00\n",
      "K= 0 , idx= 1   -> Prob=0.51\n",
      "K= 0 , idx= 2   -> Prob=0.00\n",
      "______________________ \n",
      "\n",
      "K= 1 , idx= 0   -> Prob=0.00\n",
      "K= 1 , idx= 1   -> Prob=0.45\n",
      "K= 1 , idx= 2   -> Prob=0.00\n",
      "______________________ \n",
      "\n",
      "K= 2 , idx= 0   -> Prob=0.00\n",
      "K= 2 , idx= 1   -> Prob=0.04\n",
      "K= 2 , idx= 2   -> Prob=0.56\n",
      "______________________ \n",
      "\n",
      "K= 3 , idx= 0   -> Prob=1.00\n",
      "K= 3 , idx= 1   -> Prob=0.00\n",
      "K= 3 , idx= 2   -> Prob=0.44\n",
      "\n",
      "-------- K= 5 ----------\n",
      "______________________ \n",
      "\n",
      "K= 0 , idx= 0   -> Prob=0.00\n",
      "K= 0 , idx= 1   -> Prob=0.30\n",
      "K= 0 , idx= 2   -> Prob=0.46\n",
      "______________________ \n",
      "\n",
      "K= 1 , idx= 0   -> Prob=0.50\n",
      "K= 1 , idx= 1   -> Prob=0.00\n",
      "K= 1 , idx= 2   -> Prob=0.00\n",
      "______________________ \n",
      "\n",
      "K= 2 , idx= 0   -> Prob=0.13\n",
      "K= 2 , idx= 1   -> Prob=0.00\n",
      "K= 2 , idx= 2   -> Prob=0.54\n",
      "______________________ \n",
      "\n",
      "K= 3 , idx= 0   -> Prob=0.00\n",
      "K= 3 , idx= 1   -> Prob=0.70\n",
      "K= 3 , idx= 2   -> Prob=0.00\n",
      "______________________ \n",
      "\n",
      "K= 4 , idx= 0   -> Prob=0.37\n",
      "K= 4 , idx= 1   -> Prob=0.00\n",
      "K= 4 , idx= 2   -> Prob=0.00\n"
     ]
    },
    {
     "data": {
      "image/png": "[encoded data removed]",
      "text/plain": [
       "<Figure size 576x576 with 4 Axes>"
      ]
     },
     "metadata": {},
     "output_type": "display_data"
    }
   ],
   "source": [
    "def runKmeansCluster(data, labels, d):\n",
    "    class_means_dict=dict()\n",
    "    preds_dict=dict()\n",
    "    fig = plt.figure(figsize=(8,8))\n",
    "    subplot_id = 221\n",
    "    print(\"Data Dims: \",N,\"x\",d)\n",
    "    print(\"Dataset  : \", data.shape)\n",
    "    # Kmeans trial \n",
    "    for K in range(2,6):\n",
    "        pred = np.zeros((N, K))\n",
    "        class_means = np.ndarray((K, d))\n",
    "        initial_indices = np.random.choice(N,K)\n",
    "\n",
    "        for k in range(K):\n",
    "            class_means[k,:] = data[initial_indices[k],:]\n",
    "        old_class_means = np.zeros((K,d))\n",
    "\n",
    "        print(\"\\n-------- K=\",K,\"----------\")\n",
    "\n",
    "        while np.linalg.norm(old_class_means-class_means)/np.linalg.norm(class_means) > 0.001 : \n",
    "            norm_mse = np.linalg.norm(old_class_means-class_means)\n",
    "            norm_mu = np.linalg.norm(class_means)\n",
    "            #print(\"> \",norm_mse,\"/\",norm_mu,\" \\t=\\t \",norm_mse/norm_mu)\n",
    "            old_class_means = np.array(class_means)\n",
    "            for i in range(N):\n",
    "                distance_to_means = np.zeros(K)\n",
    "                for k in range(K):\n",
    "                    distance_to_means[k] = np.linalg.norm(class_means[k] - data[i])\n",
    "                #print(\"Distance: \",distance_to_means)\n",
    "                nearest_mean = np.argmin(distance_to_means)\n",
    "                #print(\"Nearest : \",nearest_mean)\n",
    "                # labels as the min dist\n",
    "                pred[i,:] = np.zeros(K)\n",
    "                pred[i, nearest_mean] = 1 # one hot encoding\n",
    "\n",
    "            # new mean\n",
    "            for k in range(K):\n",
    "                class_means[k] = np.mean(data[np.where(pred[:,k]==1)], axis=0)\n",
    "            #print(\"Class MU : \",class_means)\n",
    "        ax = fig.add_subplot(subplot_id)\n",
    "        subplot_id = subplot_id +1\n",
    "        \n",
    "        \n",
    "        for k in range(K):\n",
    "            colors = ('#fc0d1b','#041ca2','#162214','#fd8008','#c41bb6')\n",
    "            ax.scatter(data[np.where(pred[:k] == 1),0], data[np.where(pred[:k] == 1),1], color = colors[k], label = ('Class %d' % (k+1)))\n",
    "            ax.scatter(class_means[k,0], class_means[k,1], s=200, marker='+', color = colors[k])\n",
    "        ax.legend()\n",
    "        #plt.savefig('dim_%d_q1_%d_means.png' % (d,K), dpi=600)\n",
    "        #plt.show \n",
    "        \n",
    "        # save means\n",
    "        class_means_dict[K] = class_means\n",
    "        preds_dict[K] = pred\n",
    "        probabilities = np.ndarray((3,K))  \n",
    "\n",
    "        for predicted in range(K):\n",
    "            print('______________________ \\n')\n",
    "            for true_label in range(3):\n",
    "                interssect = np.intersect1d(np.where(labels[:, true_label] == 1), np.where(pred[:, predicted] == 1))\n",
    "                tots = np.where(labels[:, true_label] == 1)[0]\n",
    "                #print('K=',predicted,\", idx=\",true_label,\"\\nP -> \",interssect,\"\\nT ->\", tots)\n",
    "                probabilities[true_label, predicted] = len(interssect) / len(tots)  \n",
    "                print('K=',predicted,\", idx=\",true_label,'  -> Prob=%.2f' % probabilities[true_label, predicted])\n",
    "    fig.show\n",
    "print(\"Run on the reduced dimensions data with d0 = \", d0)\n",
    "runKmeansCluster(X_reduced_matrix, Y_hot_labels, d0)"
   ]
  },
  {
   "cell_type": "markdown",
   "metadata": {},
   "source": [
    "## Part II : Random Projections and Compressed Sensing\n",
    "\n",
    "## 3.\n",
    "#####  (a.) Generate m x d matrix Φ, IID drawn such as P [Φij = +1] = 1/2; P [Φij = −1] = 1/2\n",
    "#####  (b.) Compressive Projection,  y = 1/sqrt(m) * ( Φ x ) with sparse reconstruction of s based on y\n"
   ]
  },
  {
   "cell_type": "code",
   "execution_count": 7,
   "metadata": {
    "ExecuteTime": {
     "end_time": "2018-06-11T04:56:38.746075Z",
     "start_time": "2018-06-11T04:56:36.310604Z"
    }
   },
   "outputs": [
    {
     "name": "stdout",
     "output_type": "stream",
     "text": [
      "> N = 2000 , M = 20 , Y_xp: (2000, 20) , Labels: (2000, 3) , Phi : (20, 100) , B : (100, 7)\n"
     ]
    }
   ],
   "source": [
    "def generatePhiMatrix(m, d):\n",
    "    u = np.ndarray((m,d))\n",
    "    for i in range(m):\n",
    "        for j in range(d):\n",
    "            r = np.random.rand()\n",
    "            if(r<1/2):\n",
    "                u[i,j] = 1\n",
    "            else:\n",
    "                u[i,j] = -1\n",
    "    #print(\"Φ(mxd):\",u.shape)\n",
    "    return u\n",
    "\n",
    "def getCompressedProjection(m, d, log=False):\n",
    "    # Keeping dimensions as dimensions d = 30 and number of data N = 50\n",
    "    Xp_data, Zp_hot_labels = generateDataset(Uj, N, d)\n",
    "    # Generate Phi\n",
    "    phi = generatePhiMatrix(m,d)\n",
    "    # Compressive Projection (m-dim projection of the d-dim matrix x)\n",
    "    Y_xp =  (1/np.sqrt(m)) * np.matmul(Xp_data, phi.T)        \n",
    "    B = np.transpose(Uj)\n",
    "    if(log == True):\n",
    "        print(\"> N =\",N,\", M =\",m,\", Y_xp:\", Y_xp.shape, \", Labels:\",Zp_hot_labels.shape, \", Phi :\",phi.shape, \", B :\",B.shape)\n",
    "    return Xp_data, Y_xp, Zp_hot_labels, phi, B\n",
    "\n",
    "M = 20\n",
    "X, Y_xp, labels, phi, B_evecs = getCompressedProjection(M, dims, True)"
   ]
  },
  {
   "cell_type": "markdown",
   "metadata": {},
   "source": [
    "### 4. Lasso problem (using sklearn.linear_model.Lasso)\n",
    "\n",
    "- Φ(phi) = projection matrix also called A in examples \n",
    "- x = latent data variables with gaussian noise \n",
    "- y = observed results (projection matrix is applied on latent data variables and the result has been reduced in dimensions)"
   ]
  },
  {
   "cell_type": "code",
   "execution_count": 11,
   "metadata": {
    "ExecuteTime": {
     "end_time": "2018-06-11T04:58:58.762886Z",
     "start_time": "2018-06-11T04:58:23.150496Z"
    },
    "scrolled": false
   },
   "outputs": [
    {
     "data": {
      "image/png": "[encoded data removed]",
      "text/plain": [
       "<Figure size 432x288 with 1 Axes>"
      ]
     },
     "metadata": {},
     "output_type": "display_data"
    },
    {
     "name": "stdout",
     "output_type": "stream",
     "text": [
      "The minimum M is  11\n"
     ]
    }
   ],
   "source": [
    "\n",
    "\n",
    "from sklearn import linear_model\n",
    "\n",
    "def normalizedME(s, s_hat):\n",
    "     return np.linalg.norm(s_hat - s)/np.linalg.norm(s)\n",
    "\n",
    "def findMinimumM():\n",
    "    mses = []\n",
    "    # Keeping dimension fixed and varying M for this\n",
    "    rng = range(1,15)\n",
    "    for m in rng:  \n",
    "        s, Y_xp, labels, phi, B = getCompressedProjection(m, dims, False)\n",
    "        matrix = (1/np.sqrt(m)) * np.matmul(phi, B)\n",
    "        clf = linear_model.Lasso(alpha = 1.0) # Set lambda ( called ’alpha ’ here )\n",
    "        clf.fit(matrix, Y_xp.T) # Fit the reduced Y to the one hot\n",
    "        a_hat = clf.coef_ # Get a_hat\n",
    "        s_hat = np.matmul(a_hat, B.T) # this is the output\n",
    "        #print(\"Mat:\",matrix.shape, \",\\ts_hat:\",s_hat.shape, \",\\ts:\",s.shape)\n",
    "        mses.append(normalizedME(s, s_hat))  \n",
    "    plt.plot(list(rng), mses)\n",
    "    plt.show()\n",
    "    return np.argmin(mses)+1\n",
    "\n",
    "minM = findMinimumM()\n",
    "print(\"The minimum M is \", minM)"
   ]
  },
  {
   "cell_type": "markdown",
   "metadata": {},
   "source": [
    "### 5. Normalized MSE vs Lambda"
   ]
  },
  {
   "cell_type": "code",
   "execution_count": 37,
   "metadata": {
    "ExecuteTime": {
     "end_time": "2018-06-11T06:20:18.631765Z",
     "start_time": "2018-06-11T06:19:45.150776Z"
    }
   },
   "outputs": [],
   "source": [
    "\n",
    "def normalize(lst):\n",
    "    s = sum(lst)\n",
    "    return map(lambda x: float(x)/s, lst)\n",
    "\n",
    "def mean(lst):\n",
    "    return sum(lst)/float(len(lst))\n",
    "\n",
    "def normalizedMSE(s, s_hat):\n",
    "     return (np.linalg.norm(s_hat - s)/np.linalg.norm(s))**2\n",
    "\n",
    "def computeMSELambda(N, m, d):\n",
    "    mse_ = []\n",
    "    mse_comp1_ = []\n",
    "    mse_comp2_ = []\n",
    "    mse_comp3_ = []\n",
    "    s, Y_xp, labels, phi, B = getCompressedProjection(m, d, False)\n",
    "    matrix = (1/np.sqrt(m)) * np.matmul(phi, B)\n",
    "    clf = linear_model.Lasso(alpha = 1.0) # Set lambda ( called ’alpha ’ here )\n",
    "    clf.fit(matrix, Y_xp.T) # Fit the reduced Y to the one hot\n",
    "    a_hat = clf.coef_ # Get a_hat\n",
    "    s_hat = np.matmul(a_hat, B.T) # this is the output\n",
    "    for i in range(N):\n",
    "        mse = normalizedMSE(s[i],s_hat[i])\n",
    "        index = np.where(labels[i]==1)[0]\n",
    "        if index == 0: #component 1\n",
    "            mse_comp1_.append(mse)\n",
    "        if index == 1:\n",
    "            mse_comp2_.append(mse)\n",
    "        if index == 2:\n",
    "            mse_comp3_.append(mse)\n",
    "        mse_.append(mse)\n",
    "    return mean(mse_), mean(mse_comp1_),mean(mse_comp2_),mean(mse_comp3_)\n",
    "\n",
    "\n",
    "mse_list=[]\n",
    "mse_comp1_list = []\n",
    "mse_comp2_list = []\n",
    "mse_comp3_list = []\n",
    "\n",
    "lambda_list = [0.05,0.07,0.08,0.09,0.1,0.2,0.3,0.4,0.5,0.6,0.7,0.8,0.9,1.0]\n",
    "for l in lambda_list:\n",
    "    me, me1, me2, me3 = computeMSELambda(N, minM, dims)\n",
    "    mse_list.append(me)\n",
    "    mse_comp1_list.append(me1)\n",
    "    mse_comp2_list.append(me2)\n",
    "    mse_comp3_list.append(me3)\n",
    "    "
   ]
  },
  {
   "cell_type": "code",
   "execution_count": 38,
   "metadata": {
    "ExecuteTime": {
     "end_time": "2018-06-11T06:20:19.592410Z",
     "start_time": "2018-06-11T06:20:19.457162Z"
    }
   },
   "outputs": [
    {
     "data": {
      "image/png": "[encoded data removed]",
      "text/plain": [
       "<Figure size 432x288 with 1 Axes>"
      ]
     },
     "metadata": {},
     "output_type": "display_data"
    }
   ],
   "source": [
    "plt.title('Plot of Lambda vs MSE')\n",
    "plt.plot(lambda_list, mse_list, label=\"Avg MSE\")\n",
    "plt.plot(lambda_list, mse_comp1_list, label=\"Comp1 MSE\")\n",
    "plt.plot(lambda_list, mse_comp2_list, label=\"Comp2 MSE\")\n",
    "plt.plot(lambda_list, mse_comp3_list, label=\"Comp3 MSE\")\n",
    "plt.legend()\n",
    "plt.show()"
   ]
  },
  {
   "cell_type": "markdown",
   "metadata": {},
   "source": [
    "### 6. Compare the Euclidean distances squared vs the corresponding quantity in projected space\n"
   ]
  },
  {
   "cell_type": "code",
   "execution_count": 39,
   "metadata": {
    "ExecuteTime": {
     "end_time": "2018-06-11T06:20:32.960952Z",
     "start_time": "2018-06-11T06:20:32.951977Z"
    }
   },
   "outputs": [
    {
     "name": "stdout",
     "output_type": "stream",
     "text": [
      "projected_dist_matrix\n",
      " [[  0.    37.45  56.36  73.45  23.64  46.82]\n",
      " [ 37.45   0.    66.91  66.55  34.91  87.55]\n",
      " [ 56.36  66.91   0.   131.27  59.64 114.45]\n",
      " [ 73.45  66.55 131.27   0.    70.18  67.18]\n",
      " [ 23.64  34.91  59.64  70.18   0.    43.18]\n",
      " [ 46.82  87.55 114.45  67.18  43.18   0.  ]]\n",
      "dist_matrix\n",
      " [[ 0.  2.  2.  7.  3.  4.]\n",
      " [ 2.  0.  2.  3.  3.  2.]\n",
      " [ 2.  2.  0.  7.  3.  4.]\n",
      " [ 7.  3.  7.  0. 10.  7.]\n",
      " [ 3.  3.  3. 10.  0.  7.]\n",
      " [ 4.  2.  4.  7.  7.  0.]]\n"
     ]
    }
   ],
   "source": [
    "m = minM\n",
    "J = 6\n",
    "B = np.transpose(Uj)\n",
    "projected_u = (1/np.sqrt(m)) * np.matmul(phi, B)\n",
    "projected_dist_matrix = np.zeros(shape=(J,J))\n",
    "for i in range(J):\n",
    "    for j in range(J):\n",
    "        dist = np.linalg.norm(projected_u[:,i]-projected_u[:,j])**2\n",
    "        projected_dist_matrix[i][j] =  dist  \n",
    "print(\"projected_dist_matrix\\n\",projected_dist_matrix)\n",
    "dist_matrix = np.zeros(shape=(J,J))\n",
    "for i in range(J):\n",
    "    for j in range(J):\n",
    "        dist = np.linalg.norm(Uj[:,i]-Uj[:,j])**2\n",
    "        dist_matrix[i][j] =  dist \n",
    "print(\"dist_matrix\\n\",dist_matrix)"
   ]
  },
  {
   "cell_type": "markdown",
   "metadata": {},
   "source": [
    "### 7. K-means algorithm post-projection"
   ]
  },
  {
   "cell_type": "code",
   "execution_count": 48,
   "metadata": {
    "ExecuteTime": {
     "end_time": "2018-06-11T06:36:55.328135Z",
     "start_time": "2018-06-11T06:36:46.093278Z"
    },
    "scrolled": false
   },
   "outputs": [
    {
     "name": "stdout",
     "output_type": "stream",
     "text": [
      "Data Dims:  2000 x 11\n",
      "Dataset  :  (2000, 11)\n",
      "\n",
      "-------- K= 2 ----------\n",
      "______________________ \n",
      "\n",
      "K= 0 , idx= 0   -> Prob=0.69\n",
      "K= 0 , idx= 1   -> Prob=0.63\n",
      "K= 0 , idx= 2   -> Prob=0.27\n",
      "______________________ \n",
      "\n",
      "K= 1 , idx= 0   -> Prob=0.31\n",
      "K= 1 , idx= 1   -> Prob=0.37\n",
      "K= 1 , idx= 2   -> Prob=0.73\n",
      "\n",
      "-------- K= 3 ----------\n",
      "______________________ \n",
      "\n",
      "K= 0 , idx= 0   -> Prob=0.00\n",
      "K= 0 , idx= 1   -> Prob=0.43\n",
      "K= 0 , idx= 2   -> Prob=0.08\n",
      "______________________ \n",
      "\n",
      "K= 1 , idx= 0   -> Prob=0.31\n",
      "K= 1 , idx= 1   -> Prob=0.02\n",
      "K= 1 , idx= 2   -> Prob=0.66\n",
      "______________________ \n",
      "\n",
      "K= 2 , idx= 0   -> Prob=0.69\n",
      "K= 2 , idx= 1   -> Prob=0.55\n",
      "K= 2 , idx= 2   -> Prob=0.26\n",
      "\n",
      "-------- K= 4 ----------\n",
      "______________________ \n",
      "\n",
      "K= 0 , idx= 0   -> Prob=0.23\n",
      "K= 0 , idx= 1   -> Prob=0.01\n",
      "K= 0 , idx= 2   -> Prob=0.57\n",
      "______________________ \n",
      "\n",
      "K= 1 , idx= 0   -> Prob=0.03\n",
      "K= 1 , idx= 1   -> Prob=0.30\n",
      "K= 1 , idx= 2   -> Prob=0.01\n",
      "______________________ \n",
      "\n",
      "K= 2 , idx= 0   -> Prob=0.00\n",
      "K= 2 , idx= 1   -> Prob=0.39\n",
      "K= 2 , idx= 2   -> Prob=0.06\n",
      "______________________ \n",
      "\n",
      "K= 3 , idx= 0   -> Prob=0.74\n",
      "K= 3 , idx= 1   -> Prob=0.30\n",
      "K= 3 , idx= 2   -> Prob=0.36\n",
      "\n",
      "-------- K= 5 ----------\n",
      "______________________ \n",
      "\n",
      "K= 0 , idx= 0   -> Prob=0.00\n",
      "K= 0 , idx= 1   -> Prob=0.25\n",
      "K= 0 , idx= 2   -> Prob=0.01\n",
      "______________________ \n",
      "\n",
      "K= 1 , idx= 0   -> Prob=0.00\n",
      "K= 1 , idx= 1   -> Prob=0.37\n",
      "K= 1 , idx= 2   -> Prob=0.05\n",
      "______________________ \n",
      "\n",
      "K= 2 , idx= 0   -> Prob=0.47\n",
      "K= 2 , idx= 1   -> Prob=0.28\n",
      "K= 2 , idx= 2   -> Prob=0.13\n",
      "______________________ \n",
      "\n",
      "K= 3 , idx= 0   -> Prob=0.43\n",
      "K= 3 , idx= 1   -> Prob=0.10\n",
      "K= 3 , idx= 2   -> Prob=0.41\n",
      "______________________ \n",
      "\n",
      "K= 4 , idx= 0   -> Prob=0.10\n",
      "K= 4 , idx= 1   -> Prob=0.00\n",
      "K= 4 , idx= 2   -> Prob=0.40\n"
     ]
    },
    {
     "data": {
      "image/png": "[encoded data removed]",
      "text/plain": [
       "<Figure size 576x576 with 4 Axes>"
      ]
     },
     "metadata": {},
     "output_type": "display_data"
    }
   ],
   "source": [
    "x, labels = generateDataset(Uj, N, dims)\n",
    "phi = generatePhiMatrix(minM,dims)\n",
    "Y = np.matmul(phi,np.transpose(x))/(np.sqrt(minM))\n",
    "Z = np.transpose(Y)\n",
    "runKmeansCluster(Z,labels, minM)\n"
   ]
  },
  {
   "cell_type": "markdown",
   "metadata": {},
   "source": [
    "### 8. Geometric insights\n",
    "\n",
    "### END"
   ]
  }
 ],
 "metadata": {
  "kernelspec": {
   "display_name": "Python [conda env:tflo]",
   "language": "python",
   "name": "conda-env-tflo-py"
  },
  "language_info": {
   "codemirror_mode": {
    "name": "ipython",
    "version": 3
   },
   "file_extension": ".py",
   "mimetype": "text/x-python",
   "name": "python",
   "nbconvert_exporter": "python",
   "pygments_lexer": "ipython3",
   "version": "3.6.4"
  }
 },
 "nbformat": 4,
 "nbformat_minor": 2
}
