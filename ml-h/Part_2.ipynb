{
 "cells": [
  {
   "cell_type": "code",
   "execution_count": 1,
   "metadata": {
    "ExecuteTime": {
     "end_time": "2018-06-11T03:45:20.495283Z",
     "start_time": "2018-06-11T03:45:19.919421Z"
    }
   },
   "outputs": [],
   "source": [
    "import math\n",
    "import numpy as np\n",
    "import random\n",
    "from sklearn import linear_model\n",
    "import matplotlib.pyplot as plt\n",
    "from sklearn import preprocessing"
   ]
  },
  {
   "cell_type": "code",
   "execution_count": 2,
   "metadata": {
    "ExecuteTime": {
     "end_time": "2018-06-11T03:45:20.633796Z",
     "start_time": "2018-06-11T03:45:20.629792Z"
    }
   },
   "outputs": [],
   "source": [
    "P_1 = 1/2.0\n",
    "P_2 = 1/2.0\n",
    "p_1 = 2/3.0\n",
    "p_2 = 1/6.0\n",
    "p_3 = 1/6.0\n",
    "J = 6\n",
    "M = 100\n",
    "D = 100\n",
    "mu_Z = 0\n",
    "sigma_Z = 1\n",
    "mu_noise = np.zeros(D)\n",
    "sigma_noise = 0.01*np.identity(D)"
   ]
  },
  {
   "cell_type": "code",
   "execution_count": null,
   "metadata": {},
   "outputs": [],
   "source": []
  },
  {
   "cell_type": "code",
   "execution_count": 3,
   "metadata": {
    "ExecuteTime": {
     "end_time": "2018-06-11T03:45:23.441663Z",
     "start_time": "2018-06-11T03:45:23.436678Z"
    }
   },
   "outputs": [],
   "source": [
    "def draw_phi(M):\n",
    "    phi = np.zeros((M,D))\n",
    "    for i in range(M):\n",
    "        for d in range(D):\n",
    "            r_num = random.random()\n",
    "            if r_num > 0 and r_num <= P_1:\n",
    "                phi[i][d] = 1\n",
    "            elif r_num>P_1 and r_num<=1:\n",
    "                phi[i][d] = -1\n",
    "    return phi            "
   ]
  },
  {
   "cell_type": "code",
   "execution_count": null,
   "metadata": {},
   "outputs": [],
   "source": []
  },
  {
   "cell_type": "code",
   "execution_count": 4,
   "metadata": {
    "ExecuteTime": {
     "end_time": "2018-06-11T03:45:24.713636Z",
     "start_time": "2018-06-11T03:45:24.708651Z"
    }
   },
   "outputs": [],
   "source": [
    "def draw_vector(D):\n",
    "    u = np.zeros(D)\n",
    "    for i in range(D):\n",
    "        r_num = random.random()\n",
    "        if r_num > 0 and r_num <= p_1:\n",
    "            u[i] = 0\n",
    "            continue\n",
    "        if r_num > p_1 and r_num <= p_1+p_2:\n",
    "            u[i] = 1\n",
    "            continue\n",
    "        if r_num > p_1+p_2 and r_num <= 1:\n",
    "            u[i] = -1\n",
    "            continue  \n",
    "    return u"
   ]
  },
  {
   "cell_type": "code",
   "execution_count": 5,
   "metadata": {
    "ExecuteTime": {
     "end_time": "2018-06-11T03:45:25.393505Z",
     "start_time": "2018-06-11T03:45:25.389482Z"
    }
   },
   "outputs": [],
   "source": [
    "u = np.zeros((J,D))\n",
    "for j in range(J):\n",
    "    u[j] = draw_vector(D)"
   ]
  },
  {
   "cell_type": "code",
   "execution_count": 6,
   "metadata": {
    "ExecuteTime": {
     "end_time": "2018-06-11T03:45:26.026270Z",
     "start_time": "2018-06-11T03:45:26.018275Z"
    }
   },
   "outputs": [],
   "source": [
    "for i in range(J):\n",
    "    u[i] = draw_vector(D)\n",
    "    for k in range(i):\n",
    "        dot_product = np.dot(u[i] , u[k])\n",
    "        if ((dot_product) <= 0 and (dot_product == 0)):\n",
    "            i = i+1\n",
    "            break"
   ]
  },
  {
   "cell_type": "code",
   "execution_count": 7,
   "metadata": {
    "ExecuteTime": {
     "end_time": "2018-06-11T03:45:28.258035Z",
     "start_time": "2018-06-11T03:45:28.254044Z"
    }
   },
   "outputs": [],
   "source": [
    "def draw_z():\n",
    "    return np.random.normal(mu_Z, sigma_Z, 2)"
   ]
  },
  {
   "cell_type": "code",
   "execution_count": 8,
   "metadata": {
    "ExecuteTime": {
     "end_time": "2018-06-11T03:45:28.817278Z",
     "start_time": "2018-06-11T03:45:28.813253Z"
    }
   },
   "outputs": [],
   "source": [
    "def draw_noise():\n",
    "    return np.random.multivariate_normal(mu_noise, sigma_noise, 1)"
   ]
  },
  {
   "cell_type": "code",
   "execution_count": 9,
   "metadata": {
    "ExecuteTime": {
     "end_time": "2018-06-11T03:45:29.291207Z",
     "start_time": "2018-06-11T03:45:29.286187Z"
    }
   },
   "outputs": [],
   "source": [
    "#Component 1\n",
    "def gen_component_1(u):\n",
    "    z = draw_z()\n",
    "    #n = draw_noise()\n",
    "    X_1 = u[0] + z[0] * u[1] + z[1] * u[2]\n",
    "    return X_1\n",
    "\n",
    "#Component 2\n",
    "def gen_component_2(u):\n",
    "    z = draw_z()\n",
    "    #n = draw_noise()\n",
    "    X_2 = 2 * u[3] + math.sqrt(2) * z[0] * u[4] + z[1] * u[5]  \n",
    "    return X_2\n",
    "\n",
    "#Component 3\n",
    "def gen_component_3(u):\n",
    "    z = draw_z()\n",
    "    #n = draw_noise()\n",
    "    X_3 = math.sqrt(2) * u[5] + z[0] * (u[0]+u[1]) + (1/math.sqrt(2)) * z[1] * u[4]  \n",
    "    return X_3"
   ]
  },
  {
   "cell_type": "code",
   "execution_count": 10,
   "metadata": {
    "ExecuteTime": {
     "end_time": "2018-06-11T03:45:32.305524Z",
     "start_time": "2018-06-11T03:45:30.387752Z"
    }
   },
   "outputs": [],
   "source": [
    "N = 2000\n",
    "s = np.ndarray((N,D))\n",
    "x = np.ndarray((N,D))\n",
    "labels = np.zeros((N,3))\n",
    "sample1_num = 0\n",
    "sample2_num = 0\n",
    "sample3_num = 0\n",
    "for i in range(N):\n",
    "    r = np.random.randint(0,3)\n",
    "    if r ==0:\n",
    "        sample1_num += 1\n",
    "        n = draw_noise()\n",
    "        s[i,:]= gen_component_1(u)\n",
    "        x[i,:]= s[i,:] + n\n",
    "    elif r ==1:\n",
    "        sample2_num += 1\n",
    "        n = draw_noise()\n",
    "        s[i,:]= gen_component_2(u)\n",
    "        x[i,:]= s[i,:] + n\n",
    "    elif r ==2:\n",
    "        sample3_num += 1\n",
    "        n = draw_noise()\n",
    "        s[i,:]= gen_component_2(u)\n",
    "        x[i,:]= s[i,:] + n\n",
    "    labels[i,r] =1"
   ]
  },
  {
   "cell_type": "code",
   "execution_count": 20,
   "metadata": {
    "ExecuteTime": {
     "end_time": "2018-06-11T03:47:48.665086Z",
     "start_time": "2018-06-11T03:47:48.661093Z"
    }
   },
   "outputs": [
    {
     "name": "stdout",
     "output_type": "stream",
     "text": [
      "(2000, 100)\n",
      "(2000, 100)\n"
     ]
    }
   ],
   "source": [
    "print(s.shape)\n",
    "print(x.shape)"
   ]
  },
  {
   "cell_type": "code",
   "execution_count": 21,
   "metadata": {
    "ExecuteTime": {
     "end_time": "2018-06-11T03:49:50.660289Z",
     "start_time": "2018-06-11T03:49:50.655302Z"
    }
   },
   "outputs": [],
   "source": [
    "def minimum_m():\n",
    "    mse_list = []\n",
    "    for m in range(1,10):\n",
    "        phi = draw_phi(m)\n",
    "        y = np.matmul(phi,np.transpose(x))/(math.sqrt(m))\n",
    "        B = np.transpose(u)\n",
    "        matrix = np.matmul(phi,B)\n",
    "        print(\" Phi:\",phi.shape,\" y:\",y.shape,\" B:\",B.shape,\" matrix:\",matrix.shape)\n",
    "        clf = linear_model.Lasso(alpha=1.0)\n",
    "        clf.fit(matrix,y)\n",
    "        a_hat = clf.coef_\n",
    "        s_hat = np.matmul(a_hat,np.transpose(B))\n",
    "        mean_square_error = np.linalg.norm(s_hat - s)/np.linalg.norm(s)\n",
    "        mse_list.append(mean_square_error)\n",
    "    plt.plot(list(range(1,10)), mse_list)\n",
    "    plt.show()\n",
    "    return np.argmin(mse_list)+1"
   ]
  },
  {
   "cell_type": "code",
   "execution_count": 12,
   "metadata": {
    "ExecuteTime": {
     "end_time": "2018-06-11T03:45:35.802670Z",
     "start_time": "2018-06-11T03:45:35.795691Z"
    }
   },
   "outputs": [
    {
     "data": {
      "text/plain": [
       "'\\nmse_list = []\\nfor m in range(1,20):\\n    phi = draw_phi(m)\\n    mean_square_error_list=[]\\n    for i in range(N):\\n        y = np.matmul(phi,np.transpose(x[i]))/(math.sqrt(m))\\n        B = np.transpose(u)\\n        matrix = np.matmul(phi,B)\\n        clf = linear_model.Lasso(alpha=1.0)\\n        clf.fit(matrix,y)\\n        a_hat = clf.coef_\\n        s_hat = np.matmul(a_hat,np.transpose(B))\\n        mean_square_error = np.linalg.norm(s_hat - s)/np.linalg.norm(s)\\n        mean_square_error_list.append(mean_square_error)\\n    mse_list.append(sum(mean_square_error_list)/float(N))\\n'"
      ]
     },
     "execution_count": 12,
     "metadata": {},
     "output_type": "execute_result"
    }
   ],
   "source": [
    "'''\n",
    "mse_list = []\n",
    "for m in range(1,20):\n",
    "    phi = draw_phi(m)\n",
    "    mean_square_error_list=[]\n",
    "    for i in range(N):\n",
    "        y = np.matmul(phi,np.transpose(x[i]))/(math.sqrt(m))\n",
    "        B = np.transpose(u)\n",
    "        matrix = np.matmul(phi,B)\n",
    "        clf = linear_model.Lasso(alpha=1.0)\n",
    "        clf.fit(matrix,y)\n",
    "        a_hat = clf.coef_\n",
    "        s_hat = np.matmul(a_hat,np.transpose(B))\n",
    "        mean_square_error = np.linalg.norm(s_hat - s)/np.linalg.norm(s)\n",
    "        mean_square_error_list.append(mean_square_error)\n",
    "    mse_list.append(sum(mean_square_error_list)/float(N))\n",
    "'''    "
   ]
  },
  {
   "cell_type": "code",
   "execution_count": null,
   "metadata": {},
   "outputs": [],
   "source": []
  },
  {
   "cell_type": "code",
   "execution_count": 22,
   "metadata": {
    "ExecuteTime": {
     "end_time": "2018-06-11T03:50:00.829546Z",
     "start_time": "2018-06-11T03:49:58.662655Z"
    }
   },
   "outputs": [
    {
     "name": "stdout",
     "output_type": "stream",
     "text": [
      " Phi: (1, 100)  y: (1, 2000)  B: (100, 6)  matrix: (1, 6)\n",
      " Phi: (2, 100)  y: (2, 2000)  B: (100, 6)  matrix: (2, 6)\n"
     ]
    },
    {
     "name": "stderr",
     "output_type": "stream",
     "text": [
      "C:\\Users\\Karma\\Anaconda3\\envs\\tflo\\lib\\site-packages\\sklearn\\linear_model\\coordinate_descent.py:491: ConvergenceWarning: Objective did not converge. You might want to increase the number of iterations. Fitting data with very small alpha may cause precision problems.\n",
      "  ConvergenceWarning)\n"
     ]
    },
    {
     "name": "stdout",
     "output_type": "stream",
     "text": [
      " Phi: (3, 100)  y: (3, 2000)  B: (100, 6)  matrix: (3, 6)\n",
      " Phi: (4, 100)  y: (4, 2000)  B: (100, 6)  matrix: (4, 6)\n",
      " Phi: (5, 100)  y: (5, 2000)  B: (100, 6)  matrix: (5, 6)\n",
      " Phi: (6, 100)  y: (6, 2000)  B: (100, 6)  matrix: (6, 6)\n",
      " Phi: (7, 100)  y: (7, 2000)  B: (100, 6)  matrix: (7, 6)\n",
      " Phi: (8, 100)  y: (8, 2000)  B: (100, 6)  matrix: (8, 6)\n",
      " Phi: (9, 100)  y: (9, 2000)  B: (100, 6)  matrix: (9, 6)\n"
     ]
    },
    {
     "data": {
      "image/png": "[encoded data removed]",
      "text/plain": [
       "<Figure size 432x288 with 1 Axes>"
      ]
     },
     "metadata": {},
     "output_type": "display_data"
    }
   ],
   "source": [
    "alpha = minimum_m()"
   ]
  },
  {
   "cell_type": "code",
   "execution_count": 14,
   "metadata": {
    "ExecuteTime": {
     "end_time": "2018-06-11T03:45:44.601578Z",
     "start_time": "2018-06-11T03:45:44.597560Z"
    }
   },
   "outputs": [],
   "source": [
    "phi = draw_phi(alpha)\n",
    "\n",
    "#mean_square_error = np.linalg.norm(s_hat - s)/np.linalg.norm(s)\n",
    "#mse_list.append(mean_square_error)"
   ]
  },
  {
   "cell_type": "code",
   "execution_count": 15,
   "metadata": {
    "ExecuteTime": {
     "end_time": "2018-06-11T03:45:48.256024Z",
     "start_time": "2018-06-11T03:45:48.252035Z"
    }
   },
   "outputs": [],
   "source": [
    "y = np.matmul(phi,np.transpose(x))/(math.sqrt(alpha))"
   ]
  },
  {
   "cell_type": "code",
   "execution_count": null,
   "metadata": {},
   "outputs": [],
   "source": []
  },
  {
   "cell_type": "code",
   "execution_count": 16,
   "metadata": {
    "ExecuteTime": {
     "end_time": "2018-06-11T03:46:05.122511Z",
     "start_time": "2018-06-11T03:45:56.540860Z"
    }
   },
   "outputs": [
    {
     "name": "stderr",
     "output_type": "stream",
     "text": [
      "C:\\Users\\Karma\\Anaconda3\\envs\\tflo\\lib\\site-packages\\sklearn\\linear_model\\coordinate_descent.py:491: ConvergenceWarning: Objective did not converge. You might want to increase the number of iterations. Fitting data with very small alpha may cause precision problems.\n",
      "  ConvergenceWarning)\n"
     ]
    }
   ],
   "source": [
    "lambda_list = [0.05,0.07,0.08,0.09,0.1,0.2,0.3,0.4,0.5,0.6,0.7,0.8,0.9,1.0]\n",
    "normal_mse_list=[]\n",
    "normal_mse_comp1_list = []\n",
    "normal_mse_comp2_list = []\n",
    "normal_mse_comp3_list = []\n",
    "\n",
    "for l in lambda_list:\n",
    "    mse_list = []\n",
    "    mse_list_1 = []\n",
    "    mse_list_2 = []\n",
    "    mse_list_3 = []\n",
    "    s_1=0\n",
    "    s_2=0\n",
    "    s_3=0\n",
    "    \n",
    "    for i in range(N):\n",
    "        y = np.matmul(phi,np.transpose(x[i]))/(math.sqrt(alpha))\n",
    "        B = np.transpose(u)\n",
    "        matrix = np.matmul(phi,B)/(math.sqrt(alpha))\n",
    "        clf = linear_model.Lasso(alpha=l)\n",
    "        clf.fit(matrix,y)\n",
    "        a_hat = clf.coef_\n",
    "        s_hat = np.matmul(B,np.transpose(a_hat))\n",
    "        \n",
    "        #for i in range(N):\n",
    "        mse = (np.linalg.norm(s_hat - s[i])/np.linalg.norm(s[i]))**2\n",
    "        index = np.where(labels[i]==1)[0]\n",
    "        if index == 0: #component 1\n",
    "            mse_1 = mse\n",
    "            mse_list_1.append(mse_1)\n",
    "            s_1+=1\n",
    "        if index == 1:\n",
    "            mse_2 = mse\n",
    "            mse_list_2.append(mse_2)\n",
    "            s_2+=1\n",
    "        if index == 2:\n",
    "            mse_3 = mse\n",
    "            mse_list_3.append(mse_3)\n",
    "            s_3+=1\n",
    "        mse_list.append(mse)\n",
    "        \n",
    "    normal_mse = sum(mse_list)/float(len(mse_list))\n",
    "    normal_mse_comp1  = sum(mse_list_1)/float(len(mse_list_1))\n",
    "    normal_mse_comp2  = sum(mse_list_2)/float(len(mse_list_2))\n",
    "    normal_mse_comp3  = sum(mse_list_3)/float(len(mse_list_3))\n",
    "    normal_mse_list.append(normal_mse)\n",
    "    normal_mse_comp1_list.append(normal_mse_comp1)\n",
    "    normal_mse_comp2_list.append(normal_mse_comp2)\n",
    "    normal_mse_comp3_list.append(normal_mse_comp3)"
   ]
  },
  {
   "cell_type": "code",
   "execution_count": 17,
   "metadata": {
    "ExecuteTime": {
     "end_time": "2018-06-11T03:46:05.131487Z",
     "start_time": "2018-06-11T03:46:05.124506Z"
    }
   },
   "outputs": [
    {
     "data": {
      "text/plain": [
       "(6, 2000)"
      ]
     },
     "execution_count": 17,
     "metadata": {},
     "output_type": "execute_result"
    }
   ],
   "source": [
    "Y = np.matmul(phi,np.transpose(x))/(math.sqrt(alpha))\n",
    "Y.shape"
   ]
  },
  {
   "cell_type": "code",
   "execution_count": 18,
   "metadata": {
    "ExecuteTime": {
     "end_time": "2018-06-11T03:46:05.147444Z",
     "start_time": "2018-06-11T03:46:05.134479Z"
    }
   },
   "outputs": [
    {
     "data": {
      "text/plain": [
       "657.4874650663436"
      ]
     },
     "execution_count": 18,
     "metadata": {},
     "output_type": "execute_result"
    }
   ],
   "source": [
    "sum(mse_list)"
   ]
  },
  {
   "cell_type": "code",
   "execution_count": 19,
   "metadata": {
    "ExecuteTime": {
     "end_time": "2018-06-11T03:46:05.280977Z",
     "start_time": "2018-06-11T03:46:05.149440Z"
    }
   },
   "outputs": [
    {
     "data": {
      "image/png": "[encoded data removed]",
      "text/plain": [
       "<Figure size 432x288 with 1 Axes>"
      ]
     },
     "metadata": {},
     "output_type": "display_data"
    }
   ],
   "source": [
    "plt.title('Plot of MSE with All Data-Set')\n",
    "plt.plot(lambda_list, normal_mse_list)\n",
    "plt.show()"
   ]
  },
  {
   "cell_type": "code",
   "execution_count": 48,
   "metadata": {},
   "outputs": [
    {
     "data": {
      "image/png": "[encoded data removed]",
      "text/plain": [
       "<matplotlib.figure.Figure at 0x113f576d0>"
      ]
     },
     "metadata": {},
     "output_type": "display_data"
    }
   ],
   "source": [
    "plt.title('Plot of MSE with Component-1')\n",
    "plt.plot(lambda_list, normal_mse_comp1_list)\n",
    "plt.show()"
   ]
  },
  {
   "cell_type": "code",
   "execution_count": 49,
   "metadata": {},
   "outputs": [
    {
     "data": {
      "image/png": "[encoded data removed]",
      "text/plain": [
       "<matplotlib.figure.Figure at 0x1140826d0>"
      ]
     },
     "metadata": {},
     "output_type": "display_data"
    }
   ],
   "source": [
    "plt.title('Plot of MSE with Component-2')\n",
    "plt.plot(lambda_list, normal_mse_comp2_list)\n",
    "plt.show()"
   ]
  },
  {
   "cell_type": "code",
   "execution_count": 50,
   "metadata": {},
   "outputs": [
    {
     "data": {
      "image/png": "[encoded data removed]",
      "text/plain": [
       "<matplotlib.figure.Figure at 0x1140ae350>"
      ]
     },
     "metadata": {},
     "output_type": "display_data"
    }
   ],
   "source": [
    "plt.title('Plot of MSE with Component-3')\n",
    "plt.plot(lambda_list, normal_mse_comp3_list)\n",
    "plt.show()"
   ]
  },
  {
   "cell_type": "code",
   "execution_count": 51,
   "metadata": {
    "collapsed": true
   },
   "outputs": [],
   "source": [
    "projected_u = np.matmul(phi,B)/math.sqrt(20)"
   ]
  },
  {
   "cell_type": "code",
   "execution_count": 52,
   "metadata": {
    "collapsed": true
   },
   "outputs": [],
   "source": [
    "projected_dist_matrix = np.zeros(shape=(J,J))\n",
    "for i in range(J):\n",
    "    for j in range(J):\n",
    "        dist = np.linalg.norm(projected_u[:,i]-projected_u[:,j])**2\n",
    "        projected_dist_matrix[i][j] =  dist  "
   ]
  },
  {
   "cell_type": "code",
   "execution_count": 53,
   "metadata": {
    "collapsed": true
   },
   "outputs": [],
   "source": [
    "dist_matrix = np.zeros(shape=(J,J))\n",
    "for i in range(J):\n",
    "    for j in range(J):\n",
    "        dist = np.linalg.norm(u[:,i]-u[:,j])**2\n",
    "        dist_matrix[i][j] =  dist "
   ]
  },
  {
   "cell_type": "code",
   "execution_count": 54,
   "metadata": {},
   "outputs": [
    {
     "data": {
      "text/plain": [
       "array([[0., 0., 3., 4., 2., 6.],\n",
       "       [0., 0., 3., 4., 2., 6.],\n",
       "       [3., 3., 0., 1., 5., 3.],\n",
       "       [4., 4., 1., 0., 6., 6.],\n",
       "       [2., 2., 5., 6., 0., 8.],\n",
       "       [6., 6., 3., 6., 8., 0.]])"
      ]
     },
     "execution_count": 54,
     "metadata": {},
     "output_type": "execute_result"
    }
   ],
   "source": [
    "dist_matrix"
   ]
  },
  {
   "cell_type": "code",
   "execution_count": 55,
   "metadata": {},
   "outputs": [
    {
     "data": {
      "text/plain": [
       "array([[ 0.  , 21.6 , 58.35, 15.  , 11.15, 13.95],\n",
       "       [21.6 ,  0.  , 55.55, 10.2 , 19.55, 10.75],\n",
       "       [58.35, 55.55,  0.  , 44.75, 40.  , 31.2 ],\n",
       "       [15.  , 10.2 , 44.75,  0.  , 12.75,  9.55],\n",
       "       [11.15, 19.55, 40.  , 12.75,  0.  ,  4.4 ],\n",
       "       [13.95, 10.75, 31.2 ,  9.55,  4.4 ,  0.  ]])"
      ]
     },
     "execution_count": 55,
     "metadata": {},
     "output_type": "execute_result"
    }
   ],
   "source": [
    "projected_dist_matrix"
   ]
  },
  {
   "cell_type": "code",
   "execution_count": 56,
   "metadata": {
    "collapsed": true
   },
   "outputs": [],
   "source": [
    "Z = np.transpose(Y)"
   ]
  },
  {
   "cell_type": "code",
   "execution_count": 57,
   "metadata": {},
   "outputs": [
    {
     "data": {
      "text/plain": [
       "(2000, 7)"
      ]
     },
     "execution_count": 57,
     "metadata": {},
     "output_type": "execute_result"
    }
   ],
   "source": [
    "Z.shape"
   ]
  },
  {
   "cell_type": "code",
   "execution_count": 58,
   "metadata": {},
   "outputs": [
    {
     "name": "stdout",
     "output_type": "stream",
     "text": [
      "2\n",
      "0.00 0.54 0.59 \n",
      "\n",
      "1.00 0.46 0.41 \n",
      "\n",
      "3\n",
      "0.40 0.00 0.00 \n",
      "\n",
      "0.00 0.54 0.59 \n",
      "\n",
      "0.60 0.46 0.41 \n",
      "\n",
      "4\n",
      "0.53 0.00 0.00 \n",
      "\n",
      "0.02 0.52 0.47 \n",
      "\n",
      "0.45 0.00 0.00 \n",
      "\n",
      "0.00 0.48 0.53 \n",
      "\n",
      "5\n",
      "0.45 0.00 0.00 \n",
      "\n",
      "0.00 0.29 0.22 \n",
      "\n",
      "0.03 0.44 0.49 \n",
      "\n",
      "0.52 0.00 0.00 \n",
      "\n",
      "0.00 0.27 0.30 \n",
      "\n"
     ]
    }
   ],
   "source": [
    "class_means_dict = dict()\n",
    "preds_dict = dict()\n",
    "k=0\n",
    "# K means for different values.\n",
    "for K in range(2,6):\n",
    "    pred = np.zeros(shape = (N,K))\n",
    "    class_means = np.zeros(shape=(K,alpha))\n",
    "    # Initialize Class Means from different values from the dataset.\n",
    "    #First get the random indices.\n",
    "    initial_indices = np.random.choice(N,K)\n",
    "    #Pick the random values from the dataset based on random initialize indices.\n",
    "    for k in range(K):\n",
    "        class_means[k,:] = Z[initial_indices[k],:]\n",
    "    old_class_means = np.zeros(shape=(K,alpha)) \n",
    "    \n",
    "    while np.linalg.norm(old_class_means-class_means)/np.linalg.norm(class_means) > 0.001:\n",
    "        old_class_means = np.array(class_means)\n",
    "        for i in range(N): # Iterate over the dataset.\n",
    "            distances_to_mean = np.zeros(K)\n",
    "            # For each point in dataset compute the distance from the means.\n",
    "            for k in range(K):\n",
    "                distances_to_mean[k] = np.linalg.norm(class_means[k]-Z[i])\n",
    "            nearest_mean = np.argmin(distances_to_mean)\n",
    "            #Re-intialize the means\n",
    "            pred[i,:]=np.zeros(K)\n",
    "            # Update the means.\n",
    "            pred[i,nearest_mean]=1\n",
    "        #compute the new class means.\n",
    "        for k in range(K):\n",
    "            class_means[k] = np.mean(Z[np.where(pred[:,k]==1)],axis=0)\n",
    "\n",
    "    class_means_dict[K] = class_means\n",
    "    preds_dict[K] = pred\n",
    "    np.set_printoptions(precision=2)\n",
    "    probabilities = np.ndarray((3,K))\n",
    "    print K\n",
    "    for predicted in range(K):\n",
    "        for true_label in range(3):\n",
    "            probabilities[true_label,predicted]=np.intersect1d(np.where(labels[:,true_label]==1),np.where(pred[:,predicted]==1)).size/float(np.where(labels[:,true_label]==1)[0].size)\n",
    "            print \"%.2f\" %probabilities[true_label,predicted], \n",
    "        print '\\n'"
   ]
  },
  {
   "cell_type": "code",
   "execution_count": null,
   "metadata": {
    "collapsed": true
   },
   "outputs": [],
   "source": []
  }
 ],
 "metadata": {
  "kernelspec": {
   "display_name": "Python [conda env:tflo]",
   "language": "python",
   "name": "conda-env-tflo-py"
  },
  "language_info": {
   "codemirror_mode": {
    "name": "ipython",
    "version": 3
   },
   "file_extension": ".py",
   "mimetype": "text/x-python",
   "name": "python",
   "nbconvert_exporter": "python",
   "pygments_lexer": "ipython3",
   "version": "3.6.4"
  }
 },
 "nbformat": 4,
 "nbformat_minor": 2
}
