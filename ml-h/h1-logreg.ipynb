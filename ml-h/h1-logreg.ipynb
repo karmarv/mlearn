{
 "cells": [
  {
   "cell_type": "markdown",
   "metadata": {},
   "source": [
    "## 1. Generate 2D Gaussian distribution\n",
    "\n",
    "----------------------------------------"
   ]
  },
  {
   "cell_type": "code",
   "execution_count": 1,
   "metadata": {
    "ExecuteTime": {
     "end_time": "2018-04-17T17:17:30.194223Z",
     "start_time": "2018-04-17T17:17:26.912618Z"
    }
   },
   "outputs": [],
   "source": [
    "import numpy as np \n",
    "from math import *\n",
    "import matplotlib.pyplot as plt\n",
    "from matplotlib import cm\n",
    "from mpl_toolkits.mplot3d import Axes3D\n",
    "\n",
    "from scipy.stats import norm\n",
    "from IPython.display import Image, display, Math, Latex\n",
    "\n",
    "# this allows plots to appear directly in the notebook\n",
    "%matplotlib inline\n",
    "%config IPCompleter.greedy=True\n",
    "\n",
    "# Params\n",
    "n_inpoints = 100\n",
    "\n",
    "# Functions "
   ]
  },
  {
   "cell_type": "markdown",
   "metadata": {},
   "source": [
    "#### Class 0"
   ]
  },
  {
   "cell_type": "code",
   "execution_count": 2,
   "metadata": {
    "ExecuteTime": {
     "end_time": "2018-04-17T17:17:30.468549Z",
     "start_time": "2018-04-17T17:17:30.194223Z"
    }
   },
   "outputs": [
    {
     "data": {
      "image/png": "[encoded data removed]",
      "text/plain": [
       "<matplotlib.figure.Figure at 0x1d6a04ce8d0>"
      ]
     },
     "metadata": {},
     "output_type": "display_data"
    }
   ],
   "source": [
    "theta0 = 0\n",
    "lmb01 = 2\n",
    "lmb02 = 1\n",
    "m0 = (0,  0)\n",
    "# computing u * u.T and later multiplying with lambda\n",
    "cov01 = [[(cos(theta0))**2,    cos(theta0)*sin(theta0)], \n",
    "         [(sin(theta0))*cos(theta0), (sin(theta0))**2]]\n",
    "cov02 = [[(sin(theta0))**2,    -(cos(theta0)*sin(theta0))], \n",
    "         [-(cos(theta0)*sin(theta0)), (cos(theta0))**2]]\n",
    "cov0 = lmb01*np.matrix(cov01) + lmb02*np.matrix(cov02)\n",
    "cov0_det = np.linalg.det(cov0)\n",
    "x0, y0 = np.random.multivariate_normal(m0, cov0, int(n_inpoints/2)).T\n",
    "plt.scatter(x0, y0, color = 'r',marker='x', label = 'Cl 0')\n",
    "plt.legend()    \n",
    "plt.show()"
   ]
  },
  {
   "cell_type": "markdown",
   "metadata": {},
   "source": [
    "#### Class 1 (Mixture A & B)"
   ]
  },
  {
   "cell_type": "code",
   "execution_count": 3,
   "metadata": {
    "ExecuteTime": {
     "end_time": "2018-04-17T17:17:30.619160Z",
     "start_time": "2018-04-17T17:17:30.471540Z"
    },
    "scrolled": true
   },
   "outputs": [
    {
     "data": {
      "image/png": "[encoded data removed]",
      "text/plain": [
       "<matplotlib.figure.Figure at 0x1d6a1fcf2e8>"
      ]
     },
     "metadata": {},
     "output_type": "display_data"
    }
   ],
   "source": [
    "# Mixture A\n",
    "theta1a = -3*pi/4\n",
    "lmb1a1 = 2\n",
    "lmb1a2 = 1/4\n",
    "m1a = (-2, 1)\n",
    "cov1a = [[(cos(theta1a))**2,    cos(theta1a)*sin(theta1a)], \n",
    "         [(sin(theta1a))*cos(theta1a), (sin(theta1a))**2]]\n",
    "cov2a = [[(sin(theta1a))**2,    -(cos(theta1a)*sin(theta1a))], \n",
    "         [-(cos(theta1a)*sin(theta1a)), (cos(theta1a))**2]]\n",
    "cov1a = lmb1a1*np.matrix(cov1a) + lmb1a2*np.matrix(cov2a)\n",
    "cov1a_det = np.linalg.det(cov1a)\n",
    "x1a, y1a = np.random.multivariate_normal(m1a, cov1a, int(n_inpoints/2)).T\n",
    "\n",
    "#print('Shape: ',x1a.shape,', ',y1a.shape,', ',cov1a)\n",
    "\n",
    "# Mixture B\n",
    "theta1b = pi/4\n",
    "lmb1b1 = 3\n",
    "lmb1b2 = 1\n",
    "m1b = (3, 2)\n",
    "cov1b = [[(cos(theta1b))**2,    cos(theta1b)*sin(theta1b)], \n",
    "         [(sin(theta1b))*cos(theta1b), (sin(theta1b))**2]]\n",
    "cov2b = [[(sin(theta1b))**2,    -(cos(theta1b)*sin(theta1b))], \n",
    "         [-(cos(theta1b)*sin(theta1b)), (cos(theta1b))**2]]\n",
    "cov1b = lmb1b1*np.matrix(cov1b) + lmb1b2*np.matrix(cov2b)\n",
    "cov1b_det = np.linalg.det(cov1b)\n",
    "x1b, y1b = np.random.multivariate_normal(m1b, cov1b, int(n_inpoints/2)).T\n",
    "#print('Shape: ',x1b.shape,', ',y1b.shape,', ',cov1b)\n",
    "\n",
    "# Class 1 (A * 0.33 +B * 0.66)\n",
    "y1 = np.array(y1a)* (1 / 3)+np.array(y1b)* (2 / 3)\n",
    "x1 = np.array(x1a)* (1 / 3)+np.array(x1b)* (2 / 3)\n",
    "plt.scatter(x1, y1, color = 'b',marker='^', label = 'Cl 1')\n",
    "plt.legend()    \n",
    "plt.show()"
   ]
  },
  {
   "cell_type": "markdown",
   "metadata": {},
   "source": [
    "#### Combined plot "
   ]
  },
  {
   "cell_type": "code",
   "execution_count": 4,
   "metadata": {
    "ExecuteTime": {
     "end_time": "2018-04-17T17:17:30.737827Z",
     "start_time": "2018-04-17T17:17:30.621140Z"
    },
    "scrolled": false
   },
   "outputs": [
    {
     "name": "stdout",
     "output_type": "stream",
     "text": [
      "Shape; X: (100,) , Y: (100,)\n"
     ]
    },
    {
     "data": {
      "image/png": "[encoded data removed]",
      "text/plain": [
       "<matplotlib.figure.Figure at 0x1d6a1e4f668>"
      ]
     },
     "metadata": {},
     "output_type": "display_data"
    }
   ],
   "source": [
    "x = np.concatenate((x0, x1))\n",
    "y = np.concatenate((y0, y1))\n",
    "\n",
    "print('Shape; X:',x.shape,', Y:',y.shape)\n",
    "plt.scatter(x0, y0, color = 'r',marker='x', label = 'Cl 0')\n",
    "plt.scatter(x1, y1, color = 'b',marker='^', label = 'Cl 1')\n",
    "plt.legend()    \n",
    "plt.show()"
   ]
  },
  {
   "cell_type": "markdown",
   "metadata": {
    "ExecuteTime": {
     "end_time": "2018-04-13T21:47:29.838088Z",
     "start_time": "2018-04-13T21:47:29.831153Z"
    }
   },
   "source": [
    "## 2. MAP \n",
    "\n",
    "- Compute log likelihoods as log((pdf y1)/(pdf y0)) > 0 ===> [Class1]\n",
    "- We can then find the values of µ and σ that maximize the log likelihood by taking derivative\n",
    "with respect to the desired variable and solving the equation obtained.\n"
   ]
  },
  {
   "cell_type": "code",
   "execution_count": 5,
   "metadata": {
    "ExecuteTime": {
     "end_time": "2018-04-17T17:17:30.905173Z",
     "start_time": "2018-04-17T17:17:30.739822Z"
    },
    "scrolled": false
   },
   "outputs": [
    {
     "name": "stdout",
     "output_type": "stream",
     "text": [
      "(100, 1)\n"
     ]
    },
    {
     "data": {
      "image/png": "[encoded data removed]",
      "text/plain": [
       "<matplotlib.figure.Figure at 0x1d6a228c4a8>"
      ]
     },
     "metadata": {},
     "output_type": "display_data"
    }
   ],
   "source": [
    "# Take the log likelihood based on the generated data\n",
    "y0_ll = norm.pdf(y0)\n",
    "y1_ll = norm.pdf(y1)\n",
    "y_ll = np.log2(y1_ll / y0_ll) \n",
    "\n",
    "c0 = np.vstack((x0, y0)).T\n",
    "c1 = np.vstack((x1, y1)).T\n",
    "\n",
    "# ----------------------------------------\n",
    "# Set up the [xi, yi] training data vector\n",
    "# ----------------------------------------\n",
    "X = np.concatenate((c0,c1), axis = 0)\n",
    "Y = np.array([0]*int(n_inpoints/2) + [1]*int(n_inpoints/2)).reshape(n_inpoints,1)\n",
    "print(Y.shape)\n",
    "\n",
    "# Printing PDF Y0 and Y1 \n",
    "freex = np.arange(0, int(n_inpoints/2), 1)\n",
    "plt.scatter(freex, y0_ll, color = 'r',marker='x', label = 'Pdf Cl 0')\n",
    "plt.scatter(freex, y1_ll, color = 'b',marker='^', label = 'Pdf Cl 1')\n",
    "#plt.scatter(freex, z_ll, color = 'y',marker='o', label = 'Cl 1')\n",
    "plt.legend() \n",
    "plt.show()"
   ]
  },
  {
   "cell_type": "code",
   "execution_count": 6,
   "metadata": {
    "ExecuteTime": {
     "end_time": "2018-04-17T17:17:30.934098Z",
     "start_time": "2018-04-17T17:17:30.907169Z"
    }
   },
   "outputs": [
    {
     "name": "stdout",
     "output_type": "stream",
     "text": [
      "-0.16638222009895925 -0.8451823092642705\n",
      "MLE\n",
      "u: 0.8335793905429589\n",
      "C: [[1.86750129 0.75443306]\n",
      " [0.75443306 1.33232884]]\n"
     ]
    }
   ],
   "source": [
    "zx_ll = []\n",
    "zy_ll = []\n",
    "# Obtain decision boundary around 0\n",
    "idx = 0\n",
    "for xl in y_ll:\n",
    "    # Compare with 0 (+- 0.5)\n",
    "    if xl < 0.5 and xl > -0.5:       \n",
    "        zy_ll.append(y[idx])\n",
    "        zx_ll.append(x[idx])\n",
    "    idx = idx+1\n",
    "# Taking first two points: ==> FIX ME\n",
    "# need a slope and c to fix the position of line\n",
    "slope = (zy_ll[0]-zy_ll[1]) / (zx_ll[0]-zx_ll[1])\n",
    "c = zy_ll[0] - slope * zx_ll[0]\n",
    "print(c, slope)\n",
    "\n",
    "\n",
    "# Estimating the mean vector. \n",
    "# Not used right now\n",
    "combined = np.vstack((x, y)).T\n",
    "muMle = np.mean(combined)\n",
    "print('MLE')\n",
    "print('u:', muMle)\n",
    "covMle = np.cov(x,y)\n",
    "print('C:', covMle)"
   ]
  },
  {
   "cell_type": "code",
   "execution_count": 7,
   "metadata": {
    "ExecuteTime": {
     "end_time": "2018-04-17T17:17:31.380207Z",
     "start_time": "2018-04-17T17:17:30.937090Z"
    }
   },
   "outputs": [
    {
     "name": "stdout",
     "output_type": "stream",
     "text": [
      "Shape; X: (100,) , Y: (100,)\n"
     ]
    },
    {
     "data": {
      "image/png": "[encoded data removed]",
      "text/plain": [
       "<matplotlib.figure.Figure at 0x1d6a1f20080>"
      ]
     },
     "metadata": {},
     "output_type": "display_data"
    }
   ],
   "source": [
    "from numpy import sin, cos, pi\n",
    "from scipy.optimize import leastsq\n",
    "# Contour drawing helper function\n",
    "def find_boundary(x, y, n, plot_pts=1000):\n",
    "\n",
    "    def sines(theta):\n",
    "        ans = np.array([sin(i*theta)  for i in range(n+1)])\n",
    "        return ans\n",
    "\n",
    "    def cosines(theta):\n",
    "        ans = np.array([cos(i*theta)  for i in range(n+1)])\n",
    "        return ans\n",
    "\n",
    "    def residual(params, x, y):\n",
    "        x0 = params[0]\n",
    "        y0 = params[1]\n",
    "        c = params[2:]\n",
    "\n",
    "        r_pts = ((x-x0)**2 + (y-y0)**2)**0.5\n",
    "\n",
    "        thetas = np.arctan2((y-y0), (x-x0))\n",
    "        m = np.vstack((sines(thetas), cosines(thetas))).T\n",
    "        r_bound = m.dot(c)\n",
    "\n",
    "        delta = r_pts - r_bound\n",
    "        delta[delta>0] *= 10\n",
    "\n",
    "        return delta\n",
    "\n",
    "    # initial guess for x0 and y0\n",
    "    x0 = x.mean()\n",
    "    y0 = y.mean()\n",
    "\n",
    "    params = np.zeros(2 + 2*(n+1))\n",
    "    params[0] = x0\n",
    "    params[1] = y0\n",
    "    params[2:] += 1000\n",
    "\n",
    "    popt, pcov = leastsq(residual, x0=params, args=(x, y), ftol=1.e-12, xtol=1.e-12)\n",
    "\n",
    "    thetas = np.linspace(0, 2*pi, plot_pts)\n",
    "    m = np.vstack((sines(thetas), cosines(thetas))).T\n",
    "    c = np.array(popt[2:])\n",
    "    r_bound = m.dot(c)\n",
    "    x_bound = x0 + r_bound*cos(thetas)\n",
    "    y_bound = y0 + r_bound*sin(thetas)\n",
    "\n",
    "    return x_bound, y_bound\n",
    "\n",
    "# plot\n",
    "def plotDistrib():\n",
    "    fig,(ax1,ax2) = plt.subplots(1,2,figsize=(12,4))\n",
    "    print('Shape; X:',x.shape,', Y:',y.shape)\n",
    "    ax1.scatter(x, y, color = 'g',marker='o', label = 'Cl Unknown')\n",
    "    ax1.scatter(zx_ll, zy_ll, color = 'r',marker='x', label = 'Lin Cl')\n",
    "\n",
    "    xb0, yb0 = find_boundary(x0, y0, 5)\n",
    "    #ax2.plot(xb0, yb0, '-r', lw=2.)\n",
    "\n",
    "    xb1, yb1 = find_boundary(x1, y1, 5)\n",
    "    ax2.plot(xb1, yb1, '-b', lw=2.)\n",
    "\n",
    "    ax2.scatter(x0, y0, color = 'r',marker='x', label = 'Cl 0')\n",
    "    ax2.scatter(x1, y1, color = 'b',marker='^', label = 'Cl 1')\n",
    "    ax2.legend()  \n",
    "\n",
    "# Plot the distribution\n",
    "plotDistrib()"
   ]
  },
  {
   "cell_type": "code",
   "execution_count": 8,
   "metadata": {
    "ExecuteTime": {
     "end_time": "2018-04-17T17:17:32.608574Z",
     "start_time": "2018-04-17T17:17:31.383226Z"
    }
   },
   "outputs": [
    {
     "name": "stderr",
     "output_type": "stream",
     "text": [
      "C:\\Users\\Karma\\Anaconda3\\lib\\site-packages\\sklearn\\utils\\validation.py:578: DataConversionWarning: A column-vector y was passed when a 1d array was expected. Please change the shape of y to (n_samples, ), for example using ravel().\n",
      "  y = column_or_1d(y, warn=True)\n"
     ]
    },
    {
     "data": {
      "image/png": "[encoded data removed]",
      "text/plain": [
       "<matplotlib.figure.Figure at 0x1d6a04ce3c8>"
      ]
     },
     "metadata": {},
     "output_type": "display_data"
    }
   ],
   "source": [
    "import scipy\n",
    "from sklearn import svm\n",
    "\n",
    "def plotBoundary():\n",
    "\n",
    "    fig = plt.figure()\n",
    "    plt.scatter(x0,y0, marker='+')\n",
    "    plt.scatter(x1,y1, c= 'green', marker='o')\n",
    "    \n",
    "    # ------------ \n",
    "    C = 1.0  # SVM regularization parameter\n",
    "    clf = svm.SVC(kernel = 'linear',  gamma=0.7, C=C )\n",
    "    clf.fit(X, Y)\n",
    "\n",
    "    w = clf.coef_[0]\n",
    "    a = -w[0] / w[1]\n",
    "    xx = np.linspace(-5, 5)\n",
    "    yy = a * xx - (clf.intercept_[0]) / w[1]\n",
    "    plt.plot(xx, yy, 'k-')\n",
    "\n",
    "    # ------------ \n",
    "    C = 1.0  # SVM regularization parameter\n",
    "    clf = svm.SVC(kernel = 'rbf',  gamma=0.7, C=C )\n",
    "    clf.fit(X, Y)\n",
    "\n",
    "    h = .02  # step size in the mesh\n",
    "    # create a mesh to plot in\n",
    "    x_min, x_max = X[:, 0].min() - 1, X[:, 0].max() + 1\n",
    "    y_min, y_max = X[:, 1].min() - 1, X[:, 1].max() + 1\n",
    "    xx, yy = np.meshgrid(np.arange(x_min, x_max, h),\n",
    "                         np.arange(y_min, y_max, h))\n",
    "\n",
    "    # Plot the decision boundary. For that, we will assign a color to each\n",
    "    # point in the mesh [x_min, m_max]x[y_min, y_max].\n",
    "    Z = clf.predict(np.c_[xx.ravel(), yy.ravel()])\n",
    "\n",
    "    # Put the result into a color plot\n",
    "    Z = Z.reshape(xx.shape)\n",
    "    plt.contour(xx, yy, Z, cmap=plt.cm.Paired)\n",
    "\n",
    "# Plot the boundary/contour\n",
    "plotBoundary()\n"
   ]
  },
  {
   "cell_type": "markdown",
   "metadata": {},
   "source": [
    "## 3. Estimate the conditional probability of incorrect classification"
   ]
  },
  {
   "cell_type": "markdown",
   "metadata": {
    "ExecuteTime": {
     "end_time": "2018-04-17T01:41:29.259586Z",
     "start_time": "2018-04-17T01:41:29.255122Z"
    }
   },
   "source": [
    "## 4. Using a Gaussian kernel k(x; x0) = exp ((x − x0)2=2‘2), apply kernelized logistic regression with Newton’s method to find a classifier"
   ]
  },
  {
   "cell_type": "code",
   "execution_count": 78,
   "metadata": {
    "ExecuteTime": {
     "end_time": "2018-04-17T18:25:48.048320Z",
     "start_time": "2018-04-17T18:25:47.919679Z"
    }
   },
   "outputs": [],
   "source": [
    "def sigmoid(x):\n",
    "    return 1 / (1 + np.exp(-x))\n",
    "\n",
    "def krnl(xs, ys, sigma=1,l=1):\n",
    "    dx = xs-ys\n",
    "    k = (np.exp((dx)**2))/(2*(l**2))\n",
    "    return k\n",
    "\n",
    "a = np.zeros((1,n_inpoints))\n",
    "k = np.zeros((100, 100))\n",
    "diag_R = np.zeros((100, 100))\n",
    "for i in range(0,100):\n",
    "    for j in range(0,100):\n",
    "        k[i][j] = krnl(X[i][1],X[j][1])\n",
    "        \n",
    "y_hat = np.array([sigmoid(np.matmul(a,k[:,i]))  for i in range(0,100)])\n",
    "#print(Y.shape)\n",
    "y_hat = np.matrix(Y-y_hat)\n",
    "deltaE = np.matmul(k,y_hat)\n",
    "\n",
    "#for i in range (0,100):\n",
    "#    for j in range (0,100):\n",
    "#        if(i==j):\n",
    "#            diag_R[i][j] = y_hat[i][0]*(1-y_hat[i][0])\n",
    "\n",
    "#diag_R = [(y_hat[1][i]*(1-y_hat[1][i]))  for i in range(0,100)]\n",
    "#print(diagonal)\n",
    "diag_R = y_hat #just for declaration\n",
    "for i in range(0,100):\n",
    "    diag_R[i] = y_hat[i][0]*(1-y_hat[i][0])\n",
    "diag_R = diag_R.flatten()\n",
    "diag_R = np.array(diag_R)\n",
    "diagonalR_matrix = np.diag(diag_R[0])\n",
    "H = np.matmul(k,diagonalR_matrix)\n",
    "H = np.matmul(H,k)\n",
    "\n",
    "inv_H = np.linalg.inv(H)\n",
    "#print(inv_H)\n",
    "# update rule to update the weight vector\n",
    "#print(deltaE)\n",
    "a_T = a.T\n",
    "for i in range (0,100):\n",
    "    a_T = a_T - np.matmul(inv_H,deltaE)\n",
    "\n",
    "\n",
    "\n"
   ]
  },
  {
   "cell_type": "markdown",
   "metadata": {},
   "source": [
    "## 5. Plot the training data points and show the decision boundaries"
   ]
  },
  {
   "cell_type": "code",
   "execution_count": null,
   "metadata": {},
   "outputs": [],
   "source": []
  },
  {
   "cell_type": "code",
   "execution_count": null,
   "metadata": {},
   "outputs": [],
   "source": []
  }
 ],
 "metadata": {
  "kernelspec": {
   "display_name": "Python 3",
   "language": "python",
   "name": "python3"
  },
  "language_info": {
   "codemirror_mode": {
    "name": "ipython",
    "version": 3
   },
   "file_extension": ".py",
   "mimetype": "text/x-python",
   "name": "python",
   "nbconvert_exporter": "python",
   "pygments_lexer": "ipython3",
   "version": "3.6.4"
  }
 },
 "nbformat": 4,
 "nbformat_minor": 2
}
