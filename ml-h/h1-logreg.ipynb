{
 "cells": [
  {
   "cell_type": "markdown",
   "metadata": {},
   "source": [
    "### 1. Generate 2D Gaussian distribution\n",
    "\n",
    "----------------------------------------"
   ]
  },
  {
   "cell_type": "code",
   "execution_count": 184,
   "metadata": {
    "ExecuteTime": {
     "end_time": "2018-04-16T08:21:54.189184Z",
     "start_time": "2018-04-16T08:21:54.123211Z"
    }
   },
   "outputs": [],
   "source": [
    "import numpy as np \n",
    "from math import *\n",
    "import matplotlib.pyplot as plt\n",
    "from scipy.stats import norm\n",
    "from IPython.display import Image, display, Math, Latex\n",
    "\n",
    "# this allows plots to appear directly in the notebook\n",
    "%matplotlib inline\n",
    "%config IPCompleter.greedy=True\n",
    "\n",
    "# Params\n",
    "n_inpoints = 20\n",
    "\n",
    "# Functions "
   ]
  },
  {
   "cell_type": "markdown",
   "metadata": {},
   "source": [
    "#### Class 0"
   ]
  },
  {
   "cell_type": "code",
   "execution_count": 185,
   "metadata": {
    "ExecuteTime": {
     "end_time": "2018-04-16T08:21:55.357676Z",
     "start_time": "2018-04-16T08:21:55.119066Z"
    }
   },
   "outputs": [
    {
     "data": {
      "image/png": "[encoded data removed]",
      "text/plain": [
       "<Figure size 432x288 with 1 Axes>"
      ]
     },
     "metadata": {},
     "output_type": "display_data"
    }
   ],
   "source": [
    "theta0 = 0\n",
    "lmb01 = 2\n",
    "lmb02 = 1\n",
    "m0 = (0,  0)\n",
    "# computing u * u.T and later multiplying with lambda\n",
    "cov01 = [[(cos(theta0))**2,    cos(theta0)*sin(theta0)], \n",
    "         [(sin(theta0))*cos(theta0), (sin(theta0))**2]]\n",
    "cov02 = [[(sin(theta0))**2,    -(cos(theta0)*sin(theta0))], \n",
    "         [-(cos(theta0)*sin(theta0)), (cos(theta0))**2]]\n",
    "cov0 = lmb01*np.matrix(cov01) + lmb02*np.matrix(cov02)\n",
    "x0, y0 = np.random.multivariate_normal(m0, cov0, int(n_inpoints/2)).T\n",
    "plt.scatter(x0, y0, color = 'r',marker='x', label = 'Cl 0')\n",
    "plt.legend()    \n",
    "plt.show()"
   ]
  },
  {
   "cell_type": "markdown",
   "metadata": {},
   "source": [
    "#### Class 1 (Mixture A & B)"
   ]
  },
  {
   "cell_type": "code",
   "execution_count": 186,
   "metadata": {
    "ExecuteTime": {
     "end_time": "2018-04-16T08:21:57.018044Z",
     "start_time": "2018-04-16T08:21:56.751720Z"
    },
    "scrolled": true
   },
   "outputs": [
    {
     "data": {
      "image/png": "[encoded data removed]",
      "text/plain": [
       "<Figure size 432x288 with 1 Axes>"
      ]
     },
     "metadata": {},
     "output_type": "display_data"
    }
   ],
   "source": [
    "# Mixture A\n",
    "theta1a = -3*pi/4\n",
    "lmb1a1 = 2\n",
    "lmb1a2 = 1/4\n",
    "m1a = (-2, 1)\n",
    "cov1a = [[(cos(theta1a))**2,    cos(theta1a)*sin(theta1a)], \n",
    "         [(sin(theta1a))*cos(theta1a), (sin(theta1a))**2]]\n",
    "cov2a = [[(sin(theta1a))**2,    -(cos(theta1a)*sin(theta1a))], \n",
    "         [-(cos(theta1a)*sin(theta1a)), (cos(theta1a))**2]]\n",
    "cov1a = lmb1a1*np.matrix(cov1a) + lmb1a2*np.matrix(cov2a)\n",
    "x1a, y1a = np.random.multivariate_normal(m1a, cov1a, int(n_inpoints/2)).T\n",
    "#print('Shape: ',x1a.shape,', ',y1a.shape,', ',cov1a)\n",
    "\n",
    "# Mixture B\n",
    "theta1b = pi/4\n",
    "lmb1b1 = 3\n",
    "lmb1b2 = 1\n",
    "m1b = (3, 2)\n",
    "cov1b = [[(cos(theta1b))**2,    cos(theta1b)*sin(theta1b)], \n",
    "         [(sin(theta1b))*cos(theta1b), (sin(theta1b))**2]]\n",
    "cov2b = [[(sin(theta1b))**2,    -(cos(theta1b)*sin(theta1b))], \n",
    "         [-(cos(theta1b)*sin(theta1b)), (cos(theta1b))**2]]\n",
    "cov1b = lmb1b1*np.matrix(cov1b) + lmb1b2*np.matrix(cov2b)\n",
    "x1b, y1b = np.random.multivariate_normal(m1b, cov1b, int(n_inpoints/2)).T\n",
    "#print('Shape: ',x1b.shape,', ',y1b.shape,', ',cov1b)\n",
    "\n",
    "# Class 1 (A * 0.33 +B * 0.66)\n",
    "y1 = np.array(y1a)* (1 / 3)+np.array(y1b)* (2 / 3)\n",
    "x1 = np.array(x1a)* (1 / 3)+np.array(x1b)* (2 / 3)\n",
    "plt.scatter(x1, y1, color = 'b',marker='^', label = 'Cl 1')\n",
    "plt.legend()    \n",
    "plt.show()"
   ]
  },
  {
   "cell_type": "markdown",
   "metadata": {},
   "source": [
    "#### Combined plot "
   ]
  },
  {
   "cell_type": "code",
   "execution_count": 187,
   "metadata": {
    "ExecuteTime": {
     "end_time": "2018-04-16T08:22:09.953567Z",
     "start_time": "2018-04-16T08:22:09.751980Z"
    },
    "scrolled": true
   },
   "outputs": [
    {
     "name": "stdout",
     "output_type": "stream",
     "text": [
      "Shape; X: (20,) , Y: (20,)\n"
     ]
    },
    {
     "data": {
      "image/png": "[encoded data removed]",
      "text/plain": [
       "<Figure size 432x288 with 1 Axes>"
      ]
     },
     "metadata": {},
     "output_type": "display_data"
    }
   ],
   "source": [
    "x = np.concatenate((x0, x1))\n",
    "y = np.concatenate((y0, y1))\n",
    "print('Shape; X:',x.shape,', Y:',y.shape)\n",
    "plt.scatter(x0, y0, color = 'r',marker='x', label = 'Cl 0')\n",
    "plt.scatter(x1, y1, color = 'b',marker='^', label = 'Cl 1')\n",
    "plt.legend()    \n",
    "plt.show()"
   ]
  },
  {
   "cell_type": "markdown",
   "metadata": {
    "ExecuteTime": {
     "end_time": "2018-04-13T21:47:29.838088Z",
     "start_time": "2018-04-13T21:47:29.831153Z"
    }
   },
   "source": [
    "### 2. MAP \n",
    "\n",
    "- Compute log likelihoods as log((pdf y1)/(pdf y0)) > 0 ===> [Class1]\n",
    "- We can then find the values of µ and σ that maximize the log likelihood by taking derivative\n",
    "with respect to the desired variable and solving the equation obtained.\n",
    "- MLE for parameters mean and variance\n",
    "\\begin{equation}\n",
    "\\hat{\\mu} = \\frac{1}{N} {{\\sum}}_{n=1}^{N}x_n\n",
    "\\end{equation}\n",
    "\n",
    "\\begin{equation}\n",
    "\\hat{\\sigma}^2 = \\frac{1}{N} {{\\sum}}_{n=1}^{N}(x_n - \\hat{\\mu})^2\n",
    "\\end{equation}"
   ]
  },
  {
   "cell_type": "code",
   "execution_count": 194,
   "metadata": {
    "ExecuteTime": {
     "end_time": "2018-04-16T08:57:16.988059Z",
     "start_time": "2018-04-16T08:57:16.662190Z"
    },
    "scrolled": true
   },
   "outputs": [
    {
     "name": "stdout",
     "output_type": "stream",
     "text": [
      "[ 0.12774121  1.56595739  0.7804918  -0.61818181 -1.55485709  1.29263478\n",
      "  1.78000325  1.19754366  0.25496413  2.68635059  0.38173672  2.70134138\n",
      "  0.83344739  3.04508284  1.94456872  1.91341527  3.84193366  2.7690718\n",
      "  1.46793746  1.80985656]\n",
      "1.4110519859471489\n",
      "[[3.44818576 1.87982446]\n",
      " [1.87982446 1.701172  ]]\n",
      "(2, 2)\n",
      "{1: -9.625172130838886e-07, 9: -3.823557936203769e-05}\n",
      "[(9, -3.823557936203769e-05), (1, -9.625172130838886e-07)]\n",
      "(10,)\n"
     ]
    },
    {
     "data": {
      "image/png": "[encoded data removed]",
      "text/plain": [
       "<Figure size 432x288 with 1 Axes>"
      ]
     },
     "metadata": {},
     "output_type": "display_data"
    }
   ],
   "source": [
    "# Estimating the mean vector.\n",
    "muMle = np.mean(y, axis=0)\n",
    "print(muMle)\n",
    "covMle = np.cov(x,y)\n",
    "print(covMle)\n",
    "print(covMle.shape)\n",
    "\n",
    "# Take the log likelihood based on the generated data\n",
    "y0 = norm.pdf(y0)\n",
    "y1 = norm.pdf(y1)\n",
    "y_ll = np.log2( (y1 / y0)) \n",
    "z_ll = []\n",
    "\n",
    "# Obtain intersection\n",
    "edge_status_prev = 0\n",
    "idx = 0\n",
    "edge_index = {}\n",
    "for xl in y_ll:\n",
    "    # Compare with 0\n",
    "    status = -1\n",
    "    if xl > 0:\n",
    "        status = 1\n",
    "    elif xl < 0:\n",
    "        status = 0\n",
    "    else:\n",
    "        status = 0.5\n",
    "    z_ll.append(status)\n",
    "    # Skip first\n",
    "    if idx == 0:\n",
    "        idx = idx+1\n",
    "        continue\n",
    "    # Verify the edge change\n",
    "    if status != edge_status_prev:\n",
    "        #print([x, y_ll[idx-1]])\n",
    "        edge_index[idx] = xl - y_ll[idx-1]\n",
    "    edge_status_prev = status\n",
    "    idx = idx+1\n",
    "print(edge_index)\n",
    "# Only the magnitude hence comparing square\n",
    "edge_index = sorted(edge_index.items(), key=lambda x: x[1])\n",
    "print(edge_index)\n",
    "freex = np.arange(0, int(n_inpoints/2), 1)\n",
    "#plt.plot( y_ll, color = 'b',marker='x', label = 'Cl')\n",
    "#plt.plot( z_ll, color = 'r',marker='o', label = 'Cl')\n",
    "print(y0.shape)\n",
    "plt.scatter(freex, y0, color = 'r',marker='x', label = 'Cl 0')\n",
    "plt.scatter(freex, y1, color = 'b',marker='^', label = 'Cl 1')\n",
    "plt.scatter(freex, z_ll, color = 'y',marker='o', label = 'Cl 1')\n",
    "plt.legend() \n",
    "plt.show()"
   ]
  },
  {
   "cell_type": "code",
   "execution_count": null,
   "metadata": {
    "ExecuteTime": {
     "end_time": "2018-04-16T08:15:20.067839Z",
     "start_time": "2018-04-16T08:15:20.007822Z"
    }
   },
   "outputs": [],
   "source": [
    "\n",
    "\n"
   ]
  },
  {
   "cell_type": "code",
   "execution_count": null,
   "metadata": {},
   "outputs": [],
   "source": []
  },
  {
   "cell_type": "code",
   "execution_count": null,
   "metadata": {},
   "outputs": [],
   "source": []
  }
 ],
 "metadata": {
  "kernelspec": {
   "display_name": "Python [default]",
   "language": "python",
   "name": "python3"
  },
  "language_info": {
   "codemirror_mode": {
    "name": "ipython",
    "version": 3
   },
   "file_extension": ".py",
   "mimetype": "text/x-python",
   "name": "python",
   "nbconvert_exporter": "python",
   "pygments_lexer": "ipython3",
   "version": "3.6.4"
  }
 },
 "nbformat": 4,
 "nbformat_minor": 2
}
