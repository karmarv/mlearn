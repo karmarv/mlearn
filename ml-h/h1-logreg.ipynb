{
 "cells": [
  {
   "cell_type": "markdown",
   "metadata": {},
   "source": [
    "###### ECE 283: Homework 1\n",
    "###### Topics: Classification using logistic regression\n",
    "###### Assigned: Wednesday April 4\n",
    "###### Due: Monday April 16\n",
    "----------------------------------------"
   ]
  },
  {
   "cell_type": "markdown",
   "metadata": {
    "ExecuteTime": {
     "end_time": "2018-04-18T06:15:25.274503Z",
     "start_time": "2018-04-18T06:15:25.270549Z"
    }
   },
   "source": [
    "## 1. Generate 2D Gaussian distribution\n",
    "\n",
    "\n",
    "Generated distribution of Class 0 & 1 with the given mean and covariance (using eigen value,vector pair)"
   ]
  },
  {
   "cell_type": "code",
   "execution_count": 1,
   "metadata": {
    "ExecuteTime": {
     "end_time": "2018-04-18T06:45:18.206880Z",
     "start_time": "2018-04-18T06:45:17.686272Z"
    }
   },
   "outputs": [],
   "source": [
    "import numpy as np \n",
    "from math import *\n",
    "import matplotlib.pyplot as plt\n",
    "from matplotlib import cm\n",
    "from mpl_toolkits.mplot3d import Axes3D\n",
    "\n",
    "from scipy.stats import norm\n",
    "from IPython.display import Image, display, Math, Latex\n",
    "\n",
    "# this allows plots to appear directly in the notebook\n",
    "%matplotlib inline\n",
    "%config IPCompleter.greedy=True\n",
    "\n",
    "# Params\n",
    "n_inpoints = 100\n",
    "\n",
    "# Functions "
   ]
  },
  {
   "cell_type": "markdown",
   "metadata": {},
   "source": [
    "#### Class 0"
   ]
  },
  {
   "cell_type": "code",
   "execution_count": 2,
   "metadata": {
    "ExecuteTime": {
     "end_time": "2018-04-18T06:45:18.374100Z",
     "start_time": "2018-04-18T06:45:18.209883Z"
    }
   },
   "outputs": [
    {
     "data": {
      "image/png": "[encoded data removed]",
      "text/plain": [
       "<matplotlib.figure.Figure at 0x1e19572d668>"
      ]
     },
     "metadata": {},
     "output_type": "display_data"
    }
   ],
   "source": [
    "def generateClass0():\n",
    "    theta0 = 0\n",
    "    lmb01 = 2\n",
    "    lmb02 = 1\n",
    "    m0 = (0,  0)\n",
    "    # computing u * u.T and later multiplying with lambda\n",
    "    cov01 = [[(cos(theta0))**2,    cos(theta0)*sin(theta0)], \n",
    "             [(sin(theta0))*cos(theta0), (sin(theta0))**2]]\n",
    "    cov02 = [[(sin(theta0))**2,    -(cos(theta0)*sin(theta0))], \n",
    "             [-(cos(theta0)*sin(theta0)), (cos(theta0))**2]]\n",
    "    cov0 = lmb01*np.matrix(cov01) + lmb02*np.matrix(cov02)\n",
    "    cov0_det = np.linalg.det(cov0)\n",
    "    x0, y0 = np.random.multivariate_normal(m0, cov0, int(n_inpoints/2)).T\n",
    "    return x0,y0\n",
    "\n",
    "x0, y0 = generateClass0()\n",
    "plt.scatter(x0, y0, color = 'r',marker='x', label = 'Cl 0')\n",
    "plt.legend()    \n",
    "plt.title('Distribution of Class 0')\n",
    "plt.show()"
   ]
  },
  {
   "cell_type": "markdown",
   "metadata": {},
   "source": [
    "#### Class 1 (Mixture A & B)"
   ]
  },
  {
   "cell_type": "code",
   "execution_count": 3,
   "metadata": {
    "ExecuteTime": {
     "end_time": "2018-04-18T06:45:18.544647Z",
     "start_time": "2018-04-18T06:45:18.376068Z"
    },
    "scrolled": false
   },
   "outputs": [
    {
     "data": {
      "image/png": "[encoded data removed]",
      "text/plain": [
       "<matplotlib.figure.Figure at 0x1e19589c668>"
      ]
     },
     "metadata": {},
     "output_type": "display_data"
    }
   ],
   "source": [
    "def generateClass1():\n",
    "    # Mixture A\n",
    "    theta1a = -3*pi/4\n",
    "    lmb1a1 = 2\n",
    "    lmb1a2 = 1/4\n",
    "    m1a = (-2, 1)\n",
    "    cov1a = [[(cos(theta1a))**2,    cos(theta1a)*sin(theta1a)], \n",
    "             [(sin(theta1a))*cos(theta1a), (sin(theta1a))**2]]\n",
    "    cov2a = [[(sin(theta1a))**2,    -(cos(theta1a)*sin(theta1a))], \n",
    "             [-(cos(theta1a)*sin(theta1a)), (cos(theta1a))**2]]\n",
    "    cov1a = lmb1a1*np.matrix(cov1a) + lmb1a2*np.matrix(cov2a)\n",
    "    cov1a_det = np.linalg.det(cov1a)\n",
    "    x1a, y1a = np.random.multivariate_normal(m1a, cov1a, int(n_inpoints/2)).T\n",
    "    #print('Shape: ',x1a.shape,', ',y1a.shape,', ',cov1a)\n",
    "\n",
    "    # Mixture B\n",
    "    theta1b = pi/4\n",
    "    lmb1b1 = 3\n",
    "    lmb1b2 = 1\n",
    "    m1b = (3, 2)\n",
    "    cov1b = [[(cos(theta1b))**2,    cos(theta1b)*sin(theta1b)], \n",
    "             [(sin(theta1b))*cos(theta1b), (sin(theta1b))**2]]\n",
    "    cov2b = [[(sin(theta1b))**2,    -(cos(theta1b)*sin(theta1b))], \n",
    "             [-(cos(theta1b)*sin(theta1b)), (cos(theta1b))**2]]\n",
    "    cov1b = lmb1b1*np.matrix(cov1b) + lmb1b2*np.matrix(cov2b)\n",
    "    cov1b_det = np.linalg.det(cov1b)\n",
    "    x1b, y1b = np.random.multivariate_normal(m1b, cov1b, int(n_inpoints/2)).T\n",
    "    #print('Shape: ',x1b.shape,', ',y1b.shape,', ',cov1b)\n",
    "\n",
    "    # Class 1 (A * 0.33 +B * 0.66)\n",
    "    y1 = np.array(y1a)* (1 / 3)+np.array(y1b)* (2 / 3)\n",
    "    x1 = np.array(x1a)* (1 / 3)+np.array(x1b)* (2 / 3)\n",
    "    return x1,y1\n",
    "\n",
    "x1, y1 = generateClass1()    \n",
    "plt.scatter(x1, y1, color = 'b',marker='^', label = 'Cl 1')\n",
    "plt.title('Distribution of Class 1')\n",
    "plt.legend()    \n",
    "plt.show()"
   ]
  },
  {
   "cell_type": "markdown",
   "metadata": {},
   "source": [
    "#### Combined plot "
   ]
  },
  {
   "cell_type": "code",
   "execution_count": 4,
   "metadata": {
    "ExecuteTime": {
     "end_time": "2018-04-18T06:45:18.704615Z",
     "start_time": "2018-04-18T06:45:18.546606Z"
    },
    "scrolled": false
   },
   "outputs": [
    {
     "name": "stdout",
     "output_type": "stream",
     "text": [
      "Shape; X: (100,) , Y: (100,)\n"
     ]
    },
    {
     "data": {
      "image/png": "[encoded data removed]",
      "text/plain": [
       "<matplotlib.figure.Figure at 0x1e195862a20>"
      ]
     },
     "metadata": {},
     "output_type": "display_data"
    }
   ],
   "source": [
    "x = np.concatenate((x0, x1))\n",
    "y = np.concatenate((y0, y1))\n",
    "print('Shape; X:',x.shape,', Y:',y.shape)\n",
    "plt.scatter(x0, y0, color = 'r',marker='x', label = 'Cl 0')\n",
    "plt.scatter(x1, y1, color = 'b',marker='^', label = 'Cl 1')\n",
    "plt.legend()    \n",
    "plt.show()\n",
    "\n",
    "c0 = np.vstack((x0, y0)).T\n",
    "c1 = np.vstack((x1, y1)).T\n",
    "# ----------------------------------------\n",
    "# Set up the [xi, yi] training data vector\n",
    "# ----------------------------------------\n",
    "X = np.concatenate((c0,c1), axis = 0)\n",
    "Y = np.array([0]*int(n_inpoints/2) + [1]*int(n_inpoints/2)).reshape(n_inpoints,1)"
   ]
  },
  {
   "cell_type": "markdown",
   "metadata": {
    "ExecuteTime": {
     "end_time": "2018-04-13T21:47:29.838088Z",
     "start_time": "2018-04-13T21:47:29.831153Z"
    }
   },
   "source": [
    "## 2. MAP \n",
    "\n",
    "- Compute log likelihoods as log((pdf y1)/(pdf y0)) > 0 ===> [Class1]"
   ]
  },
  {
   "cell_type": "code",
   "execution_count": 5,
   "metadata": {
    "ExecuteTime": {
     "end_time": "2018-04-18T06:45:18.894131Z",
     "start_time": "2018-04-18T06:45:18.708605Z"
    },
    "scrolled": false
   },
   "outputs": [
    {
     "data": {
      "image/png": "[encoded data removed]",
      "text/plain": [
       "<matplotlib.figure.Figure at 0x1e195b3a5c0>"
      ]
     },
     "metadata": {},
     "output_type": "display_data"
    }
   ],
   "source": [
    "# Take the log likelihood based on the generated data\n",
    "y0_ll = norm.pdf(y0)\n",
    "y1_ll = norm.pdf(y1)\n",
    "y_ll = np.log2(y1_ll / y0_ll) \n",
    "\n",
    "# Printing PDF Y0 and Y1 \n",
    "freex = np.arange(0, int(n_inpoints/2), 1)\n",
    "plt.scatter(freex, y0_ll, color = 'r',marker='x', label = 'Pdf Cl 0')\n",
    "plt.scatter(freex, y1_ll, color = 'b',marker='^', label = 'Pdf Cl 1')\n",
    "#plt.scatter(freex, z_ll, color = 'y',marker='o', label = 'Cl 1')\n",
    "plt.title('Probability Distribution')\n",
    "plt.legend() \n",
    "plt.show()"
   ]
  },
  {
   "cell_type": "code",
   "execution_count": 6,
   "metadata": {
    "ExecuteTime": {
     "end_time": "2018-04-18T06:45:18.921031Z",
     "start_time": "2018-04-18T06:45:18.896112Z"
    }
   },
   "outputs": [
    {
     "name": "stdout",
     "output_type": "stream",
     "text": [
      "-0.4330345617661728 -0.2290170338321216\n",
      "MLE\n",
      "u: 0.6809932744531975\n",
      "C: [[2.14997676 0.80894144]\n",
      " [0.80894144 1.57792195]]\n"
     ]
    }
   ],
   "source": [
    "zx_ll = []\n",
    "zy_ll = []\n",
    "# Obtain decision boundary around 0\n",
    "idx = 0\n",
    "for xl in y_ll:\n",
    "    # Compare with 0 (+- 0.5)\n",
    "    if xl < 0.5 and xl > -0.5:       \n",
    "        zy_ll.append(y[idx])\n",
    "        zx_ll.append(x[idx])\n",
    "    idx = idx+1\n",
    "# Taking first two points: ==> FIX ME\n",
    "# need a slope and c to fix the position of line\n",
    "slope = (zy_ll[0]-zy_ll[1]) / (zx_ll[0]-zx_ll[1])\n",
    "c = zy_ll[0] - slope * zx_ll[0]\n",
    "print(c, slope)\n",
    "\n",
    "# Estimating the mean vector. \n",
    "# Not used right now\n",
    "combined = np.vstack((x, y)).T\n",
    "muMle = np.mean(combined)\n",
    "print('MLE')\n",
    "print('u:', muMle)\n",
    "covMle = np.cov(x,y)\n",
    "print('C:', covMle)"
   ]
  },
  {
   "cell_type": "code",
   "execution_count": 7,
   "metadata": {
    "ExecuteTime": {
     "end_time": "2018-04-18T06:45:19.558329Z",
     "start_time": "2018-04-18T06:45:18.923027Z"
    },
    "code_folding": [
     3
    ]
   },
   "outputs": [
    {
     "name": "stdout",
     "output_type": "stream",
     "text": [
      "Shape; X: (100,) , Y: (100,)\n"
     ]
    },
    {
     "name": "stderr",
     "output_type": "stream",
     "text": [
      "C:\\Users\\Karma\\Anaconda3\\lib\\site-packages\\scipy\\optimize\\minpack.py:427: RuntimeWarning: Number of calls to function has reached maxfev = 3000.\n",
      "  warnings.warn(errors[info][0], RuntimeWarning)\n"
     ]
    },
    {
     "data": {
      "image/png": "[encoded data removed]",
      "text/plain": [
       "<matplotlib.figure.Figure at 0x1e19587a518>"
      ]
     },
     "metadata": {},
     "output_type": "display_data"
    }
   ],
   "source": [
    "from numpy import sin, cos, pi\n",
    "from scipy.optimize import leastsq\n",
    "# Contour drawing helper function\n",
    "def find_boundary(x, y, n, plot_pts=1000):\n",
    "\n",
    "    def sines(theta):\n",
    "        ans = np.array([sin(i*theta)  for i in range(n+1)])\n",
    "        return ans\n",
    "\n",
    "    def cosines(theta):\n",
    "        ans = np.array([cos(i*theta)  for i in range(n+1)])\n",
    "        return ans\n",
    "\n",
    "    def residual(params, x, y):\n",
    "        x0 = params[0]\n",
    "        y0 = params[1]\n",
    "        c = params[2:]\n",
    "\n",
    "        r_pts = ((x-x0)**2 + (y-y0)**2)**0.5\n",
    "\n",
    "        thetas = np.arctan2((y-y0), (x-x0))\n",
    "        m = np.vstack((sines(thetas), cosines(thetas))).T\n",
    "        r_bound = m.dot(c)\n",
    "\n",
    "        delta = r_pts - r_bound\n",
    "        delta[delta>0] *= 10\n",
    "\n",
    "        return delta\n",
    "\n",
    "    # initial guess for x0 and y0\n",
    "    x0 = x.mean()\n",
    "    y0 = y.mean()\n",
    "\n",
    "    params = np.zeros(2 + 2*(n+1))\n",
    "    params[0] = x0\n",
    "    params[1] = y0\n",
    "    params[2:] += 1000\n",
    "\n",
    "    popt, pcov = leastsq(residual, x0=params, args=(x, y), ftol=1.e-12, xtol=1.e-12)\n",
    "\n",
    "    thetas = np.linspace(0, 2*pi, plot_pts)\n",
    "    m = np.vstack((sines(thetas), cosines(thetas))).T\n",
    "    c = np.array(popt[2:])\n",
    "    r_bound = m.dot(c)\n",
    "    x_bound = x0 + r_bound*cos(thetas)\n",
    "    y_bound = y0 + r_bound*sin(thetas)\n",
    "\n",
    "    return x_bound, y_bound\n",
    "\n",
    "# plot\n",
    "def plotDistrib():\n",
    "    fig,(ax1,ax2) = plt.subplots(1,2,figsize=(12,4))\n",
    "    print('Shape; X:',x.shape,', Y:',y.shape)\n",
    "    ax1.scatter(x, y, color = 'g',marker='o', label = 'Cl Unknown')\n",
    "    ax1.scatter(zx_ll, zy_ll, color = 'r',marker='x', label = 'Lin Cl')\n",
    "    ax1.set_title(\"Pts identified by LLR \")\n",
    "    xb0, yb0 = find_boundary(x0, y0, 5)\n",
    "\n",
    "    xb1, yb1 = find_boundary(x1, y1, 5)\n",
    "    ax2.plot(xb1, yb1, '-b', lw=2.)\n",
    "    ax2.set_title(\"Contour for Class 1\")\n",
    "    ax2.scatter(x0, y0, color = 'r',marker='x', label = 'Cl 0')\n",
    "    ax2.scatter(x1, y1, color = 'b',marker='^', label = 'Cl 1')\n",
    "    ax2.legend()  \n",
    "\n",
    "# Plot the distribution\n",
    "plotDistrib()"
   ]
  },
  {
   "cell_type": "code",
   "execution_count": 8,
   "metadata": {
    "ExecuteTime": {
     "end_time": "2018-04-18T06:45:20.070958Z",
     "start_time": "2018-04-18T06:45:19.561321Z"
    }
   },
   "outputs": [
    {
     "name": "stderr",
     "output_type": "stream",
     "text": [
      "C:\\Users\\Karma\\Anaconda3\\lib\\site-packages\\sklearn\\utils\\validation.py:578: DataConversionWarning: A column-vector y was passed when a 1d array was expected. Please change the shape of y to (n_samples, ), for example using ravel().\n",
      "  y = column_or_1d(y, warn=True)\n"
     ]
    },
    {
     "data": {
      "image/png": "[encoded data removed]",
      "text/plain": [
       "<matplotlib.figure.Figure at 0x1e195854828>"
      ]
     },
     "metadata": {},
     "output_type": "display_data"
    }
   ],
   "source": [
    "import scipy\n",
    "from sklearn import svm\n",
    "\n",
    "def plotDecisionLine(X, Y):\n",
    "    C = 1.0  # SVM regularization parameter\n",
    "    clf = svm.SVC(kernel = 'linear',  gamma=0.7, C=C )\n",
    "    clf.fit(X, Y)\n",
    "    w = clf.coef_[0]\n",
    "    a = -w[0] / w[1]\n",
    "    xx = np.linspace(-5, 5)\n",
    "    yy = a * xx - (clf.intercept_[0]) / w[1]\n",
    "    return xx, yy, clf\n",
    "\n",
    "def plotBoundary():\n",
    "    fig = plt.figure()\n",
    "    plt.scatter(x0,y0,c = 'red', marker='x' , label = 'Cl 0' )\n",
    "    plt.scatter(x1,y1, c= 'blue', marker='^' , label = 'Cl 1')\n",
    "    # ------------ \n",
    "    xxl, yyl, clf = plotDecisionLine(X, Y)\n",
    "    plt.plot(xxl, yyl, 'k-')\n",
    "    # ------------ \n",
    "    C = 1.0  # SVM regularization parameter\n",
    "    clf = svm.SVC(kernel = 'rbf',  gamma=0.7, C=C )\n",
    "    clf.fit(X, Y)\n",
    "\n",
    "    h = .02  # step size in the mesh\n",
    "    # create a mesh to plot in\n",
    "    x_min, x_max = X[:, 0].min() - 1, X[:, 0].max() + 1\n",
    "    y_min, y_max = X[:, 1].min() - 1, X[:, 1].max() + 1\n",
    "    xx, yy = np.meshgrid(np.arange(x_min, x_max, h),\n",
    "                         np.arange(y_min, y_max, h))\n",
    "\n",
    "    # Plot the decision boundary. For that, we will assign a color to each\n",
    "    # point in the mesh [x_min, m_max]x[y_min, y_max].\n",
    "    Z = clf.predict(np.c_[xx.ravel(), yy.ravel()])\n",
    "\n",
    "    # Put the result into a color plot\n",
    "    Z = Z.reshape(xx.shape)\n",
    "    plt.legend()\n",
    "    plt.title(\"Decision Boundary & Contour\")\n",
    "    plt.contour(xx, yy, Z, cmap=plt.cm.Paired)\n",
    "    return xxl, yyl\n",
    "\n",
    "# Plot the boundary/contour\n",
    "xx, yy = plotBoundary()"
   ]
  },
  {
   "cell_type": "markdown",
   "metadata": {},
   "source": [
    "## 3. Estimate the conditional probability of incorrect classification\n",
    "\n",
    "- Compute the decision line eqn obtained in previous question\n",
    "- Verify whether the points are correctly classified by this line\n",
    "- Using the incorrectly classified count obtain the probability of error"
   ]
  },
  {
   "cell_type": "code",
   "execution_count": 9,
   "metadata": {
    "ExecuteTime": {
     "end_time": "2018-04-18T06:45:20.129817Z",
     "start_time": "2018-04-18T06:45:20.072955Z"
    }
   },
   "outputs": [
    {
     "name": "stdout",
     "output_type": "stream",
     "text": [
      "Decision Line Slope:  -0.43729215905600105\n",
      "Decision Line intercept:  0.9250694106315436\n",
      "\n",
      "Conditional Probability of Error\n",
      "Prob error_c0, Prob error_c1 :  0.16 0.16\n",
      "Count error_c0, Count error_c1 :  8 8\n"
     ]
    }
   ],
   "source": [
    "bad_c0 = 0\n",
    "bad_c1 = 0\n",
    "def decisionLine(x,y,m,c):\n",
    "    val = y - (m*x + c)\n",
    "    if(val<0):\n",
    "        return 1\n",
    "    elif(val>0):\n",
    "        return 0\n",
    "    else:\n",
    "        return -1\n",
    "\n",
    "#equation of decision line\n",
    "m = (yy[1]-yy[0])/(xx[1]-xx[0])\n",
    "print('Decision Line Slope: ',m)\n",
    "c = yy[1] - m*xx[1]\n",
    "print('Decision Line intercept: ',c)\n",
    "for i in range(0,int(n_inpoints/2)):\n",
    "    if(decisionLine(X[i][0],X[i][1],m,c) == 0):\n",
    "        bad_c0 = bad_c0+1\n",
    "for i in range(int(n_inpoints/2),n_inpoints):\n",
    "    if(decisionLine(X[i][0],X[i][1],m,c) == 1):\n",
    "        bad_c1 = bad_c1+1\n",
    "print('')\n",
    "#Number of points mis-classified        \n",
    "Perror_c0 = bad_c0/(n_inpoints/2)\n",
    "Perror_c1 = bad_c1/(n_inpoints/2)\n",
    "print('Conditional Probability of Error')\n",
    "print('Prob error_c0, Prob error_c1 : ',Perror_c0, Perror_c1)\n",
    "print('Count error_c0, Count error_c1 : ',bad_c0, bad_c1)"
   ]
  },
  {
   "cell_type": "markdown",
   "metadata": {
    "ExecuteTime": {
     "end_time": "2018-04-17T01:41:29.259586Z",
     "start_time": "2018-04-17T01:41:29.255122Z"
    }
   },
   "source": [
    "## 4. Using a Gaussian kernel k(x; x0) = exp ((x − x0)2=2‘2), apply kernelized logistic regression with Newton’s method to find a classifier\n",
    "\n",
    "#### a. Compute y_hat\n",
    "- Compute the kernel K from feature vector X\n",
    "- thereafter compute zi using the kernel function and initial 'a'\n",
    "- Compute y_hat from the sigmoid of zi\n",
    "\n",
    "#### b. Compute the gradient of loss function\n",
    "- DeltaE: gradient of loss function w.r.t a\n",
    "- compute Hessian matrix\n",
    "#### c.  update rule to update the weight vector\n",
    "\n",
    "\n",
    "You will need to play with the\n",
    "hyperparameter ‘. For the Newton iterations, note that you may either process the entire data\n",
    "set, or use the data sequentially in smaller batches (or even one data point at a time). (Do some\n",
    "digging on your own to find out what the best practices are.) Comment on what is the smallest\n",
    "N you can get away with, as well as the number of iterations you needed to run for convergence\n",
    "\n",
    "\n",
    "### Observations\n",
    "\n",
    "- As the number of points increases we have to decrease the value of 'l' in order to get an optimal classification\n",
    "- If we keep the value of 'l' constant then at high number of input data points we see high probability of error\n",
    "- In case of Newton iterations we ran for the entire batch\n",
    "- To converge we had to run around 100 iterations beyond which the value of 'a' remains constant. The best practise suggests that we create batches and run iterations. We also evaluate loss or cross entropy to check for convergence.\n",
    "- In this case we were able to see convergence at around 95-100 iterations.\n",
    "\n"
   ]
  },
  {
   "cell_type": "code",
   "execution_count": 10,
   "metadata": {
    "ExecuteTime": {
     "end_time": "2018-04-18T06:45:20.249480Z",
     "start_time": "2018-04-18T06:45:20.132794Z"
    }
   },
   "outputs": [
    {
     "name": "stdout",
     "output_type": "stream",
     "text": [
      "(100, 1)\n"
     ]
    }
   ],
   "source": [
    "def sigmoid(x):\n",
    "    return 1 / (1 + np.exp(-x))\n",
    "\n",
    "def krnl(xs, ys, sigma=1,l=1):\n",
    "    dx = xs-ys\n",
    "    k = (np.exp((dx)**2))/(2*(l**2))\n",
    "    return k\n",
    "\n",
    "a = np.zeros((1,n_inpoints))\n",
    "k = np.zeros((100, 100))\n",
    "diag_R = np.zeros((100, 100))\n",
    "for i in range(0,100):\n",
    "    for j in range(0,100):\n",
    "        k[i][j] = krnl(X[i][1],X[j][1])\n",
    "        \n",
    "y_hat = np.array([sigmoid(np.matmul(a,k[:,i]))  for i in range(0,100)])\n",
    "#print(Y.shape)\n",
    "y_hat = np.matrix(Y-y_hat)\n",
    "deltaE = np.matmul(k,y_hat)\n",
    "\n",
    "diag_R = y_hat #just for declaration\n",
    "for i in range(0,100):\n",
    "    diag_R[i] = y_hat[i][0]*(1-y_hat[i][0])\n",
    "diag_R = diag_R.flatten()\n",
    "diag_R = np.array(diag_R)\n",
    "diagonalR_matrix = np.diag(diag_R[0])\n",
    "H = np.matmul(k,diagonalR_matrix)\n",
    "H = np.matmul(H,k)\n",
    "inv_H = np.linalg.inv(H)\n",
    "\n",
    "# update rule to update the weight vector\n",
    "a_T = a.T\n",
    "for i in range (0,100):\n",
    "    a_T = a_T - np.matmul(inv_H,deltaE)\n",
    "print(a_T.shape)"
   ]
  },
  {
   "cell_type": "code",
   "execution_count": 14,
   "metadata": {
    "ExecuteTime": {
     "end_time": "2018-04-18T06:50:09.401777Z",
     "start_time": "2018-04-18T06:50:09.387831Z"
    }
   },
   "outputs": [
    {
     "name": "stdout",
     "output_type": "stream",
     "text": [
      "[[-1.56584401e+103]]\n",
      "5.711010195786028e-05\n"
     ]
    }
   ],
   "source": [
    "def newClassifier(new_x):\n",
    "    new_k = np.zeros((n_inpoints, 1))\n",
    "    z = 0 #decision for new entry\n",
    "    for i in range(0,n_inpoints):\n",
    "        new_k[i][0] = krnl(X[i][1],new_x)\n",
    "    z = np.matmul(a_T.T,new_k)\n",
    "    return z\n",
    "\n",
    "# Test based on the updated decision variable\n",
    "new_x = 13.5\n",
    "new_z = newClassifier(new_x)\n",
    "#prob 1/(1+exp(-z))\n",
    "print(new_z[0])\n",
    "print(np.exp(-9.77052954))"
   ]
  },
  {
   "cell_type": "markdown",
   "metadata": {},
   "source": [
    "## 5. Plot the training data points and show the decision boundaries\n",
    "- We dont see any overfitting and hence avoided going for l2 regularization."
   ]
  },
  {
   "cell_type": "code",
   "execution_count": 15,
   "metadata": {
    "ExecuteTime": {
     "end_time": "2018-04-18T06:52:40.303649Z",
     "start_time": "2018-04-18T06:52:40.116148Z"
    }
   },
   "outputs": [
    {
     "name": "stderr",
     "output_type": "stream",
     "text": [
      "C:\\Users\\Karma\\Anaconda3\\lib\\site-packages\\sklearn\\utils\\validation.py:578: DataConversionWarning: A column-vector y was passed when a 1d array was expected. Please change the shape of y to (n_samples, ), for example using ravel().\n",
      "  y = column_or_1d(y, warn=True)\n"
     ]
    },
    {
     "data": {
      "image/png": "[encoded data removed]",
      "text/plain": [
       "<matplotlib.figure.Figure at 0x1e19789a7f0>"
      ]
     },
     "metadata": {},
     "output_type": "display_data"
    },
    {
     "name": "stdout",
     "output_type": "stream",
     "text": [
      "0.25720316845820246\n"
     ]
    },
    {
     "name": "stderr",
     "output_type": "stream",
     "text": [
      "C:\\Users\\Karma\\Anaconda3\\lib\\site-packages\\ipykernel_launcher.py:2: RuntimeWarning: overflow encountered in exp\n",
      "  \n"
     ]
    }
   ],
   "source": [
    "\n",
    "# Generate new X,Y using the gaussian distribution at the start\n",
    "new_x0, new_y0 = generateClass0()\n",
    "new_x1, new_y1 = generateClass1()  \n",
    "new_c0 = np.vstack((x0, y0)).T\n",
    "new_c1 = np.vstack((x1, y1)).T\n",
    "new_X = np.concatenate((new_c0,new_c1), axis = 0)\n",
    "new_Y = np.array([0]*int(n_inpoints/2) + [1]*int(n_inpoints/2)).reshape(n_inpoints,1)\n",
    "plt.scatter(new_x0, new_y0, color = 'r',marker='x', label = 'New Cl 0')\n",
    "plt.scatter(new_x1, new_y1, color = 'b',marker='^', label = 'New Cl 1')\n",
    "# Plot the boundary\n",
    "new_xx, new_yy, clf = plotDecisionLine(new_X, new_Y)\n",
    "plt.plot(new_xx, new_yy, 'k-')\n",
    "plt.legend()    \n",
    "plt.title('New data to test')\n",
    "plt.show()\n",
    "\n",
    "# Use the above code to figure out the class the elements of newly generated values belong to \n",
    "print(new_X[1,1])\n",
    "new_z = np.array([newClassifier(new_X[i,1]) for i in range(0, n_inpoints)])\n",
    "new_z = sigmoid(new_z.flatten())\n",
    "new_z[new_z <= 0.5] = 0\n",
    "new_z[new_z >  0.5] = 1 # Set Class 1 for greater than 0.5\n",
    "#print(new_z)\n"
   ]
  },
  {
   "cell_type": "markdown",
   "metadata": {},
   "source": [
    "## 6. Conditional probability of incorrect classification for each class"
   ]
  },
  {
   "cell_type": "code",
   "execution_count": 13,
   "metadata": {
    "ExecuteTime": {
     "end_time": "2018-04-18T06:45:20.506793Z",
     "start_time": "2018-04-18T06:45:20.483857Z"
    }
   },
   "outputs": [
    {
     "name": "stdout",
     "output_type": "stream",
     "text": [
      "-0.43729215905600105\n",
      "0.9250694106315436\n",
      "8 8\n",
      "New Conditional Probability of Error\n",
      "Perror_c0, Perror_c1 :  0.16 0.16\n"
     ]
    }
   ],
   "source": [
    "new_bad_c0 = 0\n",
    "new_bad_c1 = 0\n",
    "#equation of decision line\n",
    "new_m = (new_yy[1]-new_yy[0])/(new_xx[1]-new_xx[0])\n",
    "print(new_m)\n",
    "new_c = new_yy[1] - new_m*new_xx[1]\n",
    "print(new_c)\n",
    "\n",
    "for i in range(0,int(n_inpoints/2)):\n",
    "    if(decisionLine(new_X[i][0],new_X[i][1],new_m,new_c) == 0):\n",
    "        new_bad_c0 = new_bad_c0+1\n",
    "for i in range(int(n_inpoints/2),n_inpoints):\n",
    "    if(decisionLine(new_X[i][0],new_X[i][1],new_m,new_c) == 1):\n",
    "        new_bad_c1 = new_bad_c1+1\n",
    "\n",
    "#Number of points mis-classified        \n",
    "print(new_bad_c0,new_bad_c1)\n",
    "new_Perror_c0 = new_bad_c0/(n_inpoints/2)\n",
    "new_Perror_c1 = new_bad_c1/(n_inpoints/2)\n",
    "print('New Conditional Probability of Error')\n",
    "print('Perror_c0, Perror_c1 : ',new_Perror_c0, new_Perror_c1)"
   ]
  },
  {
   "cell_type": "code",
   "execution_count": null,
   "metadata": {},
   "outputs": [],
   "source": []
  }
 ],
 "metadata": {
  "kernelspec": {
   "display_name": "Python [default]",
   "language": "python",
   "name": "python3"
  },
  "language_info": {
   "codemirror_mode": {
    "name": "ipython",
    "version": 3
   },
   "file_extension": ".py",
   "mimetype": "text/x-python",
   "name": "python",
   "nbconvert_exporter": "python",
   "pygments_lexer": "ipython3",
   "version": "3.6.4"
  }
 },
 "nbformat": 4,
 "nbformat_minor": 2
}
