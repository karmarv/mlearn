{
 "cells": [
  {
   "cell_type": "markdown",
   "metadata": {},
   "source": [
    "### 1. Generate 2D Gaussian distribution\n",
    "\n",
    "----------------------------------------"
   ]
  },
  {
   "cell_type": "code",
   "execution_count": 1,
   "metadata": {
    "ExecuteTime": {
     "end_time": "2018-04-16T10:47:35.870885Z",
     "start_time": "2018-04-16T10:47:35.033089Z"
    }
   },
   "outputs": [],
   "source": [
    "import numpy as np \n",
    "from math import *\n",
    "import matplotlib.pyplot as plt\n",
    "from scipy.stats import norm\n",
    "from IPython.display import Image, display, Math, Latex\n",
    "\n",
    "# this allows plots to appear directly in the notebook\n",
    "%matplotlib inline\n",
    "%config IPCompleter.greedy=True\n",
    "\n",
    "# Params\n",
    "n_inpoints = 100\n",
    "\n",
    "# Functions "
   ]
  },
  {
   "cell_type": "markdown",
   "metadata": {},
   "source": [
    "#### Class 0"
   ]
  },
  {
   "cell_type": "code",
   "execution_count": 2,
   "metadata": {
    "ExecuteTime": {
     "end_time": "2018-04-16T10:47:36.066799Z",
     "start_time": "2018-04-16T10:47:35.874313Z"
    }
   },
   "outputs": [
    {
     "data": {
      "image/png": "[encoded data removed]",
      "text/plain": [
       "<Figure size 432x288 with 1 Axes>"
      ]
     },
     "metadata": {},
     "output_type": "display_data"
    }
   ],
   "source": [
    "theta0 = 0\n",
    "lmb01 = 2\n",
    "lmb02 = 1\n",
    "m0 = (0,  0)\n",
    "# computing u * u.T and later multiplying with lambda\n",
    "cov01 = [[(cos(theta0))**2,    cos(theta0)*sin(theta0)], \n",
    "         [(sin(theta0))*cos(theta0), (sin(theta0))**2]]\n",
    "cov02 = [[(sin(theta0))**2,    -(cos(theta0)*sin(theta0))], \n",
    "         [-(cos(theta0)*sin(theta0)), (cos(theta0))**2]]\n",
    "cov0 = lmb01*np.matrix(cov01) + lmb02*np.matrix(cov02)\n",
    "x0, y0 = np.random.multivariate_normal(m0, cov0, int(n_inpoints/2)).T\n",
    "plt.scatter(x0, y0, color = 'r',marker='x', label = 'Cl 0')\n",
    "plt.legend()    \n",
    "plt.show()"
   ]
  },
  {
   "cell_type": "markdown",
   "metadata": {},
   "source": [
    "#### Class 1 (Mixture A & B)"
   ]
  },
  {
   "cell_type": "code",
   "execution_count": 3,
   "metadata": {
    "ExecuteTime": {
     "end_time": "2018-04-16T10:47:36.260818Z",
     "start_time": "2018-04-16T10:47:36.069738Z"
    },
    "scrolled": true
   },
   "outputs": [
    {
     "data": {
      "image/png": "[encoded data removed]",
      "text/plain": [
       "<Figure size 432x288 with 1 Axes>"
      ]
     },
     "metadata": {},
     "output_type": "display_data"
    }
   ],
   "source": [
    "# Mixture A\n",
    "theta1a = -3*pi/4\n",
    "lmb1a1 = 2\n",
    "lmb1a2 = 1/4\n",
    "m1a = (-2, 1)\n",
    "cov1a = [[(cos(theta1a))**2,    cos(theta1a)*sin(theta1a)], \n",
    "         [(sin(theta1a))*cos(theta1a), (sin(theta1a))**2]]\n",
    "cov2a = [[(sin(theta1a))**2,    -(cos(theta1a)*sin(theta1a))], \n",
    "         [-(cos(theta1a)*sin(theta1a)), (cos(theta1a))**2]]\n",
    "cov1a = lmb1a1*np.matrix(cov1a) + lmb1a2*np.matrix(cov2a)\n",
    "x1a, y1a = np.random.multivariate_normal(m1a, cov1a, int(n_inpoints/2)).T\n",
    "#print('Shape: ',x1a.shape,', ',y1a.shape,', ',cov1a)\n",
    "\n",
    "# Mixture B\n",
    "theta1b = pi/4\n",
    "lmb1b1 = 3\n",
    "lmb1b2 = 1\n",
    "m1b = (3, 2)\n",
    "cov1b = [[(cos(theta1b))**2,    cos(theta1b)*sin(theta1b)], \n",
    "         [(sin(theta1b))*cos(theta1b), (sin(theta1b))**2]]\n",
    "cov2b = [[(sin(theta1b))**2,    -(cos(theta1b)*sin(theta1b))], \n",
    "         [-(cos(theta1b)*sin(theta1b)), (cos(theta1b))**2]]\n",
    "cov1b = lmb1b1*np.matrix(cov1b) + lmb1b2*np.matrix(cov2b)\n",
    "x1b, y1b = np.random.multivariate_normal(m1b, cov1b, int(n_inpoints/2)).T\n",
    "#print('Shape: ',x1b.shape,', ',y1b.shape,', ',cov1b)\n",
    "\n",
    "# Class 1 (A * 0.33 +B * 0.66)\n",
    "y1 = np.array(y1a)* (1 / 3)+np.array(y1b)* (2 / 3)\n",
    "x1 = np.array(x1a)* (1 / 3)+np.array(x1b)* (2 / 3)\n",
    "plt.scatter(x1, y1, color = 'b',marker='^', label = 'Cl 1')\n",
    "plt.legend()    \n",
    "plt.show()"
   ]
  },
  {
   "cell_type": "markdown",
   "metadata": {},
   "source": [
    "#### Combined plot "
   ]
  },
  {
   "cell_type": "code",
   "execution_count": 4,
   "metadata": {
    "ExecuteTime": {
     "end_time": "2018-04-16T10:47:36.517627Z",
     "start_time": "2018-04-16T10:47:36.264669Z"
    },
    "scrolled": false
   },
   "outputs": [
    {
     "name": "stdout",
     "output_type": "stream",
     "text": [
      "Shape; X: (100,) , Y: (100,)\n"
     ]
    },
    {
     "data": {
      "image/png": "[encoded data removed]",
      "text/plain": [
       "<Figure size 432x288 with 1 Axes>"
      ]
     },
     "metadata": {},
     "output_type": "display_data"
    }
   ],
   "source": [
    "x = np.concatenate((x0, x1))\n",
    "y = np.concatenate((y0, y1))\n",
    "print('Shape; X:',x.shape,', Y:',y.shape)\n",
    "plt.scatter(x0, y0, color = 'r',marker='x', label = 'Cl 0')\n",
    "plt.scatter(x1, y1, color = 'b',marker='^', label = 'Cl 1')\n",
    "plt.legend()    \n",
    "plt.show()"
   ]
  },
  {
   "cell_type": "markdown",
   "metadata": {
    "ExecuteTime": {
     "end_time": "2018-04-13T21:47:29.838088Z",
     "start_time": "2018-04-13T21:47:29.831153Z"
    }
   },
   "source": [
    "### 2. MAP \n",
    "\n",
    "- Compute log likelihoods as log((pdf y1)/(pdf y0)) > 0 ===> [Class1]\n",
    "- We can then find the values of µ and σ that maximize the log likelihood by taking derivative\n",
    "with respect to the desired variable and solving the equation obtained.\n",
    "- MLE for parameters mean and variance\n",
    "\\begin{equation}\n",
    "\\hat{\\mu} = \\frac{1}{N} {{\\sum}}_{n=1}^{N}x_n\n",
    "\\end{equation}\n",
    "\n",
    "\\begin{equation}\n",
    "\\hat{\\sigma}^2 = \\frac{1}{N} {{\\sum}}_{n=1}^{N}(x_n - \\hat{\\mu})^2\n",
    "\\end{equation}"
   ]
  },
  {
   "cell_type": "code",
   "execution_count": 5,
   "metadata": {
    "ExecuteTime": {
     "end_time": "2018-04-16T10:47:36.542461Z",
     "start_time": "2018-04-16T10:47:36.520604Z"
    },
    "scrolled": false
   },
   "outputs": [
    {
     "name": "stdout",
     "output_type": "stream",
     "text": [
      "MLE\n",
      "u: 0.7701961325271026\n",
      "C: [[1.92305957 0.76546297]\n",
      " [0.76546297 1.6765997 ]]\n"
     ]
    }
   ],
   "source": [
    "# Estimating the mean vector.\n",
    "muMle = np.mean(y, axis=0)\n",
    "print('MLE')\n",
    "print('u:', muMle)\n",
    "covMle = np.cov(x,y)\n",
    "print('C:', covMle)\n",
    "\n",
    "# Take the log likelihood based on the generated data\n",
    "y0_ll = norm.pdf(y0)\n",
    "y1_ll = norm.pdf(y1)\n",
    "y_ll = np.log2(y1_ll / y0_ll) \n",
    "#print('LL:',y_ll)"
   ]
  },
  {
   "cell_type": "code",
   "execution_count": 6,
   "metadata": {
    "ExecuteTime": {
     "end_time": "2018-04-16T10:47:36.564388Z",
     "start_time": "2018-04-16T10:47:36.545401Z"
    }
   },
   "outputs": [
    {
     "name": "stdout",
     "output_type": "stream",
     "text": [
      "2.2951905948782096 0.9932770630614778\n"
     ]
    }
   ],
   "source": [
    "zx_ll = []\n",
    "zy_ll = []\n",
    "# Obtain intersection\n",
    "idx = 0\n",
    "for xl in y_ll:\n",
    "    # Compare with 0\n",
    "    if xl < 0.2 and xl > -0.2:       \n",
    "        zy_ll.append(y[idx])\n",
    "        zx_ll.append(x[idx])\n",
    "    idx = idx+1\n",
    "# Taking first two points: ==> FIX ME\n",
    "# need a slope and c to fix the position of line\n",
    "slope = (zy_ll[0]-zy_ll[1]) / (zx_ll[0]-zx_ll[1])\n",
    "c = zy_ll[0] - slope * zx_ll[0]\n",
    "print(c, slope)"
   ]
  },
  {
   "cell_type": "code",
   "execution_count": 18,
   "metadata": {
    "ExecuteTime": {
     "end_time": "2018-04-16T11:05:57.914054Z",
     "start_time": "2018-04-16T11:05:57.393255Z"
    }
   },
   "outputs": [
    {
     "name": "stdout",
     "output_type": "stream",
     "text": [
      "Shape; X: (100,) , Y: (100,)\n",
      "X, -5.462660651957317 4.909170978789735\n",
      "Y, -3.130744933999452 7.171357526757118\n"
     ]
    },
    {
     "data": {
      "text/plain": [
       "<matplotlib.legend.Legend at 0x2185d47f908>"
      ]
     },
     "execution_count": 18,
     "metadata": {},
     "output_type": "execute_result"
    },
    {
     "data": {
      "image/png": "[encoded data removed]",
      "text/plain": [
       "<Figure size 864x288 with 2 Axes>"
      ]
     },
     "metadata": {},
     "output_type": "display_data"
    }
   ],
   "source": [
    "# plot - \n",
    "# ==============================\n",
    "fig,(ax1,ax2) = plt.subplots(1,2,figsize=(12,4))\n",
    "print('Shape; X:',x.shape,', Y:',y.shape)\n",
    "ax1.scatter(x, y, color = 'g',marker='o', label = 'Cl Unknown')\n",
    "ax1.scatter(zx_ll, zy_ll, color = 'r',marker='x', label = 'Lin Cl')\n",
    "\n",
    "x_min, x_max = ax1.get_xlim()\n",
    "y_minl, y_maxl = ax1.get_ylim()\n",
    "y_min = (c + slope*(x_min)) if slope>0 else (c + slope*(x_max))\n",
    "y_max = (c + slope*(x_max)) if slope>0 else (c + slope*(x_min))\n",
    "\n",
    "print(\"X,\",x_min, x_max)\n",
    "print(\"Y,\",y_min, y_max)\n",
    "ax1.plot([x_min, x_max], [y_min, y_max])\n",
    "ax1.set_xlim([x_min, x_max])\n",
    "ax1.legend()    \n",
    "\n",
    "\n",
    "ax2.scatter(x0, y0, color = 'r',marker='x', label = 'Cl 0')\n",
    "ax2.scatter(x1, y1, color = 'b',marker='^', label = 'Cl 1')\n",
    "ax2.legend()    "
   ]
  },
  {
   "cell_type": "code",
   "execution_count": 8,
   "metadata": {
    "ExecuteTime": {
     "end_time": "2018-04-16T10:47:37.115428Z",
     "start_time": "2018-04-16T10:47:36.957816Z"
    }
   },
   "outputs": [
    {
     "data": {
      "image/png": "[encoded data removed]",
      "text/plain": [
       "<Figure size 432x288 with 1 Axes>"
      ]
     },
     "metadata": {},
     "output_type": "display_data"
    }
   ],
   "source": [
    "# Printing PDF Y0 and Y1 \n",
    "freex = np.arange(0, int(n_inpoints/2), 1)\n",
    "plt.scatter(freex, y0, color = 'r',marker='x', label = 'Cl 0')\n",
    "plt.scatter(freex, y1, color = 'b',marker='^', label = 'Cl 1')\n",
    "#plt.scatter(freex, z_ll, color = 'y',marker='o', label = 'Cl 1')\n",
    "plt.legend() \n",
    "plt.show()"
   ]
  },
  {
   "cell_type": "code",
   "execution_count": null,
   "metadata": {},
   "outputs": [],
   "source": []
  }
 ],
 "metadata": {
  "kernelspec": {
   "display_name": "Python [default]",
   "language": "python",
   "name": "python3"
  },
  "language_info": {
   "codemirror_mode": {
    "name": "ipython",
    "version": 3
   },
   "file_extension": ".py",
   "mimetype": "text/x-python",
   "name": "python",
   "nbconvert_exporter": "python",
   "pygments_lexer": "ipython3",
   "version": "3.6.4"
  }
 },
 "nbformat": 4,
 "nbformat_minor": 2
}
