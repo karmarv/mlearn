{
 "cells": [
  {
   "cell_type": "markdown",
   "metadata": {},
   "source": [
    "### 1. Generate 2D Gaussian distribution\n",
    "\n",
    "----------------------------------------"
   ]
  },
  {
   "cell_type": "code",
   "execution_count": 196,
   "metadata": {
    "ExecuteTime": {
     "end_time": "2018-04-16T09:05:05.162702Z",
     "start_time": "2018-04-16T09:05:05.096239Z"
    }
   },
   "outputs": [],
   "source": [
    "import numpy as np \n",
    "from math import *\n",
    "import matplotlib.pyplot as plt\n",
    "from scipy.stats import norm\n",
    "from IPython.display import Image, display, Math, Latex\n",
    "\n",
    "# this allows plots to appear directly in the notebook\n",
    "%matplotlib inline\n",
    "%config IPCompleter.greedy=True\n",
    "\n",
    "# Params\n",
    "n_inpoints = 100\n",
    "\n",
    "# Functions "
   ]
  },
  {
   "cell_type": "markdown",
   "metadata": {},
   "source": [
    "#### Class 0"
   ]
  },
  {
   "cell_type": "code",
   "execution_count": 197,
   "metadata": {
    "ExecuteTime": {
     "end_time": "2018-04-16T09:05:06.666130Z",
     "start_time": "2018-04-16T09:05:06.473005Z"
    }
   },
   "outputs": [
    {
     "data": {
      "image/png": "[encoded data removed]",
      "text/plain": [
       "<Figure size 432x288 with 1 Axes>"
      ]
     },
     "metadata": {},
     "output_type": "display_data"
    }
   ],
   "source": [
    "theta0 = 0\n",
    "lmb01 = 2\n",
    "lmb02 = 1\n",
    "m0 = (0,  0)\n",
    "# computing u * u.T and later multiplying with lambda\n",
    "cov01 = [[(cos(theta0))**2,    cos(theta0)*sin(theta0)], \n",
    "         [(sin(theta0))*cos(theta0), (sin(theta0))**2]]\n",
    "cov02 = [[(sin(theta0))**2,    -(cos(theta0)*sin(theta0))], \n",
    "         [-(cos(theta0)*sin(theta0)), (cos(theta0))**2]]\n",
    "cov0 = lmb01*np.matrix(cov01) + lmb02*np.matrix(cov02)\n",
    "x0, y0 = np.random.multivariate_normal(m0, cov0, int(n_inpoints/2)).T\n",
    "plt.scatter(x0, y0, color = 'r',marker='x', label = 'Cl 0')\n",
    "plt.legend()    \n",
    "plt.show()"
   ]
  },
  {
   "cell_type": "markdown",
   "metadata": {},
   "source": [
    "#### Class 1 (Mixture A & B)"
   ]
  },
  {
   "cell_type": "code",
   "execution_count": 198,
   "metadata": {
    "ExecuteTime": {
     "end_time": "2018-04-16T09:05:08.934141Z",
     "start_time": "2018-04-16T09:05:08.668065Z"
    },
    "scrolled": true
   },
   "outputs": [
    {
     "data": {
      "image/png": "[encoded data removed]",
      "text/plain": [
       "<Figure size 432x288 with 1 Axes>"
      ]
     },
     "metadata": {},
     "output_type": "display_data"
    }
   ],
   "source": [
    "# Mixture A\n",
    "theta1a = -3*pi/4\n",
    "lmb1a1 = 2\n",
    "lmb1a2 = 1/4\n",
    "m1a = (-2, 1)\n",
    "cov1a = [[(cos(theta1a))**2,    cos(theta1a)*sin(theta1a)], \n",
    "         [(sin(theta1a))*cos(theta1a), (sin(theta1a))**2]]\n",
    "cov2a = [[(sin(theta1a))**2,    -(cos(theta1a)*sin(theta1a))], \n",
    "         [-(cos(theta1a)*sin(theta1a)), (cos(theta1a))**2]]\n",
    "cov1a = lmb1a1*np.matrix(cov1a) + lmb1a2*np.matrix(cov2a)\n",
    "x1a, y1a = np.random.multivariate_normal(m1a, cov1a, int(n_inpoints/2)).T\n",
    "#print('Shape: ',x1a.shape,', ',y1a.shape,', ',cov1a)\n",
    "\n",
    "# Mixture B\n",
    "theta1b = pi/4\n",
    "lmb1b1 = 3\n",
    "lmb1b2 = 1\n",
    "m1b = (3, 2)\n",
    "cov1b = [[(cos(theta1b))**2,    cos(theta1b)*sin(theta1b)], \n",
    "         [(sin(theta1b))*cos(theta1b), (sin(theta1b))**2]]\n",
    "cov2b = [[(sin(theta1b))**2,    -(cos(theta1b)*sin(theta1b))], \n",
    "         [-(cos(theta1b)*sin(theta1b)), (cos(theta1b))**2]]\n",
    "cov1b = lmb1b1*np.matrix(cov1b) + lmb1b2*np.matrix(cov2b)\n",
    "x1b, y1b = np.random.multivariate_normal(m1b, cov1b, int(n_inpoints/2)).T\n",
    "#print('Shape: ',x1b.shape,', ',y1b.shape,', ',cov1b)\n",
    "\n",
    "# Class 1 (A * 0.33 +B * 0.66)\n",
    "y1 = np.array(y1a)* (1 / 3)+np.array(y1b)* (2 / 3)\n",
    "x1 = np.array(x1a)* (1 / 3)+np.array(x1b)* (2 / 3)\n",
    "plt.scatter(x1, y1, color = 'b',marker='^', label = 'Cl 1')\n",
    "plt.legend()    \n",
    "plt.show()"
   ]
  },
  {
   "cell_type": "markdown",
   "metadata": {},
   "source": [
    "#### Combined plot "
   ]
  },
  {
   "cell_type": "code",
   "execution_count": 199,
   "metadata": {
    "ExecuteTime": {
     "end_time": "2018-04-16T09:05:16.170049Z",
     "start_time": "2018-04-16T09:05:15.920730Z"
    },
    "scrolled": true
   },
   "outputs": [
    {
     "name": "stdout",
     "output_type": "stream",
     "text": [
      "Shape; X: (100,) , Y: (100,)\n"
     ]
    },
    {
     "data": {
      "image/png": "[encoded data removed]",
      "text/plain": [
       "<Figure size 432x288 with 1 Axes>"
      ]
     },
     "metadata": {},
     "output_type": "display_data"
    }
   ],
   "source": [
    "x = np.concatenate((x0, x1))\n",
    "y = np.concatenate((y0, y1))\n",
    "print('Shape; X:',x.shape,', Y:',y.shape)\n",
    "plt.scatter(x0, y0, color = 'r',marker='x', label = 'Cl 0')\n",
    "plt.scatter(x1, y1, color = 'b',marker='^', label = 'Cl 1')\n",
    "plt.legend()    \n",
    "plt.show()"
   ]
  },
  {
   "cell_type": "markdown",
   "metadata": {
    "ExecuteTime": {
     "end_time": "2018-04-13T21:47:29.838088Z",
     "start_time": "2018-04-13T21:47:29.831153Z"
    }
   },
   "source": [
    "### 2. MAP \n",
    "\n",
    "- Compute log likelihoods as log((pdf y1)/(pdf y0)) > 0 ===> [Class1]\n",
    "- We can then find the values of µ and σ that maximize the log likelihood by taking derivative\n",
    "with respect to the desired variable and solving the equation obtained.\n",
    "- MLE for parameters mean and variance\n",
    "\\begin{equation}\n",
    "\\hat{\\mu} = \\frac{1}{N} {{\\sum}}_{n=1}^{N}x_n\n",
    "\\end{equation}\n",
    "\n",
    "\\begin{equation}\n",
    "\\hat{\\sigma}^2 = \\frac{1}{N} {{\\sum}}_{n=1}^{N}(x_n - \\hat{\\mu})^2\n",
    "\\end{equation}"
   ]
  },
  {
   "cell_type": "code",
   "execution_count": 200,
   "metadata": {
    "ExecuteTime": {
     "end_time": "2018-04-16T09:05:20.822237Z",
     "start_time": "2018-04-16T09:05:20.461671Z"
    },
    "scrolled": true
   },
   "outputs": [
    {
     "name": "stdout",
     "output_type": "stream",
     "text": [
      "0.7001991582500439\n",
      "[[1.65763539 0.86446606]\n",
      " [0.86446606 1.5625088 ]]\n",
      "(2, 2)\n",
      "{2: 2.378083767677726, 3: -3.129416144131594, 6: 0.8172564362721517, 8: -1.2200289149156365, 9: 1.1547898054066494, 10: -3.6416219325880332, 19: 1.0186966933135608, 20: -1.2860501970889522, 21: 5.241552771605398, 22: -5.231907499156194, 27: 4.178811015171994, 28: -8.093380007888996, 30: 0.6391020280700369, 31: -4.3001877860728275, 35: 1.3846382565267945, 36: -3.040984900613788, 43: 0.5662828022890851, 44: -0.9465611515581072}\n",
      "(50,)\n"
     ]
    },
    {
     "data": {
      "image/png": "[encoded data removed]",
      "text/plain": [
       "<Figure size 432x288 with 1 Axes>"
      ]
     },
     "metadata": {},
     "output_type": "display_data"
    }
   ],
   "source": [
    "# Estimating the mean vector.\n",
    "muMle = np.mean(y, axis=0)\n",
    "print(muMle)\n",
    "covMle = np.cov(x,y)\n",
    "print(covMle)\n",
    "print(covMle.shape)\n",
    "\n",
    "# Take the log likelihood based on the generated data\n",
    "y0 = norm.pdf(y0)\n",
    "y1 = norm.pdf(y1)\n",
    "y_ll = np.log2( (y1 / y0)) \n",
    "z_ll = []\n",
    "\n",
    "# Obtain intersection\n",
    "edge_status_prev = 0\n",
    "idx = 0\n",
    "edge_index = {}\n",
    "for xl in y_ll:\n",
    "    # Compare with 0\n",
    "    status = -1\n",
    "    if xl > 0:\n",
    "        status = 1\n",
    "    elif xl < 0:\n",
    "        status = 0\n",
    "    else:\n",
    "        status = 0.5\n",
    "    z_ll.append(status)\n",
    "    # Skip first\n",
    "    if idx == 0:\n",
    "        idx = idx+1\n",
    "        continue\n",
    "    # Verify the edge change\n",
    "    if status != edge_status_prev:\n",
    "        #print([x, y_ll[idx-1]])\n",
    "        edge_index[idx] = xl - y_ll[idx-1]\n",
    "    edge_status_prev = status\n",
    "    idx = idx+1\n",
    "print(edge_index)\n",
    "# Only the magnitude hence comparing square\n",
    "edge_index = sorted(edge_index.items(), key=lambda x: x[1])\n",
    "#print(edge_index)\n",
    "freex = np.arange(0, int(n_inpoints/2), 1)\n",
    "#plt.plot( y_ll, color = 'b',marker='x', label = 'Cl')\n",
    "#plt.plot( z_ll, color = 'r',marker='o', label = 'Cl')\n",
    "print(y0.shape)\n",
    "plt.scatter(freex, y0, color = 'r',marker='x', label = 'Cl 0')\n",
    "plt.scatter(freex, y1, color = 'b',marker='^', label = 'Cl 1')\n",
    "plt.scatter(freex, z_ll, color = 'y',marker='o', label = 'Cl 1')\n",
    "plt.legend() \n",
    "plt.show()"
   ]
  },
  {
   "cell_type": "code",
   "execution_count": null,
   "metadata": {
    "ExecuteTime": {
     "end_time": "2018-04-16T08:15:20.067839Z",
     "start_time": "2018-04-16T08:15:20.007822Z"
    }
   },
   "outputs": [],
   "source": [
    "\n",
    "\n"
   ]
  },
  {
   "cell_type": "code",
   "execution_count": null,
   "metadata": {},
   "outputs": [],
   "source": []
  },
  {
   "cell_type": "code",
   "execution_count": null,
   "metadata": {},
   "outputs": [],
   "source": []
  }
 ],
 "metadata": {
  "kernelspec": {
   "display_name": "Python [default]",
   "language": "python",
   "name": "python3"
  },
  "language_info": {
   "codemirror_mode": {
    "name": "ipython",
    "version": 3
   },
   "file_extension": ".py",
   "mimetype": "text/x-python",
   "name": "python",
   "nbconvert_exporter": "python",
   "pygments_lexer": "ipython3",
   "version": "3.6.4"
  }
 },
 "nbformat": 4,
 "nbformat_minor": 2
}
