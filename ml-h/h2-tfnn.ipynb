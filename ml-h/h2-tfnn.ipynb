{
 "cells": [
  {
   "cell_type": "markdown",
   "metadata": {},
   "source": [
    "###### ECE 283: Homework 2\n",
    "###### Topics: Classification using neural networks\n",
    "###### Due: Monday April 30\n",
    "\n",
    "- Neural networks; Tensorflow\n",
    "- 2D synthetic gaussian mixture data for binary classification"
   ]
  },
  {
   "cell_type": "markdown",
   "metadata": {},
   "source": [
    "### Report\n",
    "----------------------------------------\n",
    "\n",
    "###### 1. Tensorflow based neural network\n",
    "\n",
    "###### (a) 1 hidden layer: Below are the parameters that are used to run training\n",
    "```\n",
    "    Hyper Parameters\n",
    "    learning_rate = 0.0000001\n",
    "    num_steps = 100\n",
    "    batch_size = 20\n",
    "    display_step = 10\n",
    "    reg_const_lambda = 0.01\n",
    "\n",
    "    Network Parameters\n",
    "    n_hidden_1 = 24 # 1st layer number of neurons\n",
    "    num_input = 2  # data input (shape: 2 * 70)\n",
    "    num_classes = 1 # total classes (0 or 1 based on the value)\n",
    "```\n",
    "\n",
    "- Test Accuracy: 40.000\n",
    "- actuals: [[0 1 0 0 0 0 1 0 0 1]]\n",
    "- predict: [[1. 1. 1. 1. 1. 1. 1. 0. 1. 1.]]\n",
    "\n",
    "\n",
    "###### (b) 2 hidden layers: Below are the parameters \n",
    "\n",
    "\n",
    "```\n",
    "    Hyper Parameters\n",
    "    learning_rate = 0.0001\n",
    "    num_steps = 20\n",
    "    batch_size = 5\n",
    "    display_step = 2\n",
    "    reg_const_lambda = 0.01\n",
    "\n",
    "    Network Parameters\n",
    "    n_hidden_1 = 15 # 1st layer number of neurons\n",
    "    n_hidden_2 = 15 # 2nd layer number of neurons\n",
    "    num_input = 2  # data input (shape: 2 * 70)\n",
    "    num_classes = 1 # total classes (0 or 1 based on the value)\n",
    "\n",
    "```\n",
    "\n",
    "- Test Accuracy: 80.000\n",
    "- actuals: [[0 1 0 0 0 0 1 0 0 1]]\n",
    "- predict: [[0. 0. 1. 0. 0. 0. 1. 0. 0. 1.]]\n"
   ]
  },
  {
   "cell_type": "code",
   "execution_count": 1,
   "metadata": {
    "ExecuteTime": {
     "end_time": "2018-05-01T00:21:13.536690Z",
     "start_time": "2018-05-01T00:21:11.671084Z"
    }
   },
   "outputs": [
    {
     "name": "stderr",
     "output_type": "stream",
     "text": [
      "C:\\Users\\Karma\\Anaconda3\\envs\\tflo\\lib\\site-packages\\h5py\\__init__.py:36: FutureWarning: Conversion of the second argument of issubdtype from `float` to `np.floating` is deprecated. In future, it will be treated as `np.float64 == np.dtype(float).type`.\n",
      "  from ._conv import register_converters as _register_converters\n"
     ]
    }
   ],
   "source": [
    "# -*- coding: utf-8 -*-\n",
    "\n",
    "import tensorflow as tf\n",
    "import numpy as np\n",
    "from math import *\n",
    "import matplotlib.pyplot as plt\n",
    "from matplotlib import cm\n",
    "from mpl_toolkits.mplot3d import Axes3D\n",
    "\n",
    "from scipy.stats import norm\n",
    "from IPython.display import Image, display, Math, Latex\n",
    "\n",
    "\n",
    "# Params\n",
    "n_inpoints = 100"
   ]
  },
  {
   "cell_type": "code",
   "execution_count": 2,
   "metadata": {
    "ExecuteTime": {
     "end_time": "2018-05-01T00:21:13.663420Z",
     "start_time": "2018-05-01T00:21:13.538685Z"
    },
    "code_folding": [
     1
    ]
   },
   "outputs": [
    {
     "data": {
      "image/png": "[encoded data removed]",
      "text/plain": [
       "<Figure size 432x288 with 1 Axes>"
      ]
     },
     "metadata": {},
     "output_type": "display_data"
    }
   ],
   "source": [
    "def generateClass0():\n",
    "    theta0 = 0\n",
    "    lmb01 = 2\n",
    "    lmb02 = 1\n",
    "    m0 = (0,  0)\n",
    "    # computing u * u.T and later multiplying with lambda\n",
    "    cov01 = [[(cos(theta0))**2,    cos(theta0)*sin(theta0)],\n",
    "             [(sin(theta0))*cos(theta0), (sin(theta0))**2]]\n",
    "    cov02 = [[(sin(theta0))**2,    -(cos(theta0)*sin(theta0))],\n",
    "             [-(cos(theta0)*sin(theta0)), (cos(theta0))**2]]\n",
    "    cov0 = lmb01*np.matrix(cov01) + lmb02*np.matrix(cov02)\n",
    "    cov0_det = np.linalg.det(cov0)\n",
    "    x0, y0 = np.random.multivariate_normal(m0, cov0, int(n_inpoints/2)).T\n",
    "    return x0,y0\n",
    "\n",
    "x0, y0 = generateClass0()\n",
    "plt.scatter(x0, y0, color = 'r',marker='x', label = 'Cl 0')\n",
    "plt.legend()\n",
    "plt.title('Distribution of Class 0')\n",
    "plt.show()"
   ]
  },
  {
   "cell_type": "code",
   "execution_count": 3,
   "metadata": {
    "ExecuteTime": {
     "end_time": "2018-05-01T00:21:13.769591Z",
     "start_time": "2018-05-01T00:21:13.665391Z"
    },
    "code_folding": [
     1
    ]
   },
   "outputs": [
    {
     "data": {
      "image/png": "[encoded data removed]",
      "text/plain": [
       "<Figure size 432x288 with 1 Axes>"
      ]
     },
     "metadata": {},
     "output_type": "display_data"
    }
   ],
   "source": [
    "def generateClass1():\n",
    "    # Mixture A\n",
    "    theta1a = -3*pi/4\n",
    "    lmb1a1 = 2\n",
    "    lmb1a2 = 1/4\n",
    "    m1a = (-2, 1)\n",
    "    cov1a = [[(cos(theta1a))**2,    cos(theta1a)*sin(theta1a)],\n",
    "             [(sin(theta1a))*cos(theta1a), (sin(theta1a))**2]]\n",
    "    cov2a = [[(sin(theta1a))**2,    -(cos(theta1a)*sin(theta1a))],\n",
    "             [-(cos(theta1a)*sin(theta1a)), (cos(theta1a))**2]]\n",
    "    cov1a = lmb1a1*np.matrix(cov1a) + lmb1a2*np.matrix(cov2a)\n",
    "    cov1a_det = np.linalg.det(cov1a)\n",
    "    x1a, y1a = np.random.multivariate_normal(m1a, cov1a, int(n_inpoints/2)).T\n",
    "    #print('Shape: ',x1a.shape,', ',y1a.shape,', ',cov1a)\n",
    "\n",
    "    # Mixture B\n",
    "    theta1b = pi/4\n",
    "    lmb1b1 = 3\n",
    "    lmb1b2 = 1\n",
    "    m1b = (3, 2)\n",
    "    cov1b = [[(cos(theta1b))**2,    cos(theta1b)*sin(theta1b)],\n",
    "             [(sin(theta1b))*cos(theta1b), (sin(theta1b))**2]]\n",
    "    cov2b = [[(sin(theta1b))**2,    -(cos(theta1b)*sin(theta1b))],\n",
    "             [-(cos(theta1b)*sin(theta1b)), (cos(theta1b))**2]]\n",
    "    cov1b = lmb1b1*np.matrix(cov1b) + lmb1b2*np.matrix(cov2b)\n",
    "    cov1b_det = np.linalg.det(cov1b)\n",
    "    x1b, y1b = np.random.multivariate_normal(m1b, cov1b, int(n_inpoints/2)).T\n",
    "    #print('Shape: ',x1b.shape,', ',y1b.shape,', ',cov1b)\n",
    "\n",
    "    # Class 1 (A * 0.33 +B * 0.66)\n",
    "    y1 = np.array(y1a)* (1 / 3)+np.array(y1b)* (2 / 3)\n",
    "    x1 = np.array(x1a)* (1 / 3)+np.array(x1b)* (2 / 3)\n",
    "    return x1,y1\n",
    "\n",
    "x1, y1 = generateClass1()\n",
    "plt.scatter(x1, y1, color = 'b',marker='^', label = 'Cl 1')\n",
    "plt.title('Distribution of Class 1')\n",
    "plt.legend()\n",
    "plt.show()"
   ]
  },
  {
   "cell_type": "code",
   "execution_count": 4,
   "metadata": {
    "ExecuteTime": {
     "end_time": "2018-05-01T00:21:13.894246Z",
     "start_time": "2018-05-01T00:21:13.772570Z"
    }
   },
   "outputs": [
    {
     "name": "stdout",
     "output_type": "stream",
     "text": [
      "Shape; X: (100,) , Y: (100,)\n"
     ]
    },
    {
     "data": {
      "image/png": "[encoded data removed]",
      "text/plain": [
       "<Figure size 432x288 with 1 Axes>"
      ]
     },
     "metadata": {},
     "output_type": "display_data"
    }
   ],
   "source": [
    "x = np.concatenate((x0, x1))\n",
    "y = np.concatenate((y0, y1))\n",
    "print('Shape; X:',x.shape,', Y:',y.shape)\n",
    "plt.scatter(x0, y0, color = 'r',marker='x', label = 'Cl 0')\n",
    "plt.scatter(x1, y1, color = 'b',marker='^', label = 'Cl 1')\n",
    "plt.legend()\n",
    "plt.show()\n",
    "\n",
    "c0 = np.vstack((x0, y0)).T\n",
    "c1 = np.vstack((x1, y1)).T\n",
    "# ----------------------------------------\n",
    "# Set up the [xi, yi] training data vector\n",
    "# ----------------------------------------\n",
    "X = np.concatenate((c0,c1), axis = 0)\n",
    "Y = np.array([0]*int(n_inpoints/2) + [1]*int(n_inpoints/2)).reshape(n_inpoints,1)"
   ]
  },
  {
   "cell_type": "markdown",
   "metadata": {},
   "source": [
    "### Training, test and validation sets (70:20:10)"
   ]
  },
  {
   "cell_type": "code",
   "execution_count": 5,
   "metadata": {
    "ExecuteTime": {
     "end_time": "2018-05-01T00:21:13.911227Z",
     "start_time": "2018-05-01T00:21:13.897241Z"
    }
   },
   "outputs": [
    {
     "name": "stdout",
     "output_type": "stream",
     "text": [
      "(100, 1)\n",
      "Train:  (70, 1) [[1 1 0 0 1 0 1 0 1 1 0 1 1 0 1 0 0 0 0 0 1 0 0 1 0 1 1 1 1 1 1 0 1 0 0 0\n",
      "  1 0 1 0 0 1 0 0 0 1 0 0 0 1 0 1 0 1 1 0 1 0 0 0 0 1 1 1 0 1 0 1 0 0]]\n",
      "Valid:  (2, 20) [[1 0 0 1 1 0 1 1 0 1 0 0 0 0 0 1 0 1 1 1]]\n",
      "Tests:  (2, 10) [[1 1 0 1 1 1 1 0 1 1]]\n"
     ]
    }
   ],
   "source": [
    "\n",
    "# Divide the data into Train Valid, Test\n",
    "tot_count = n_inpoints\n",
    "trn_count = 70\n",
    "val_count = 20\n",
    "tst_count = 10\n",
    "\n",
    "# Shuffle X & Y values\n",
    "sfl_idx = np.arange(0,tot_count)\n",
    "np.random.shuffle(sfl_idx)\n",
    "\n",
    "Xc0 = X[:,0]\n",
    "Xc1 = X[:,1]\n",
    "Xc0 = Xc0.reshape(tot_count,1)\n",
    "Xc1 = Xc1.reshape(tot_count,1)\n",
    "print(Xc1.shape)\n",
    "\n",
    "train_X0 = Xc0[sfl_idx[np.arange(0,trn_count)]]\n",
    "train_X1 = Xc1[sfl_idx[np.arange(0,trn_count)]]\n",
    "train_Y = Y[sfl_idx[np.arange(0,trn_count)]]\n",
    "n_samples = train_X1.shape[0]\n",
    "\n",
    "valid_X0 = Xc0[sfl_idx[np.arange(trn_count,trn_count+val_count)]]\n",
    "valid_X1 = Xc1[sfl_idx[np.arange(trn_count,trn_count+val_count)]]\n",
    "valid_X  = np.vstack((valid_X0.T, valid_X1.T))\n",
    "valid_Y = Y[sfl_idx[np.arange(trn_count,trn_count+val_count)]]\n",
    "\n",
    "tests_X0 = Xc0[sfl_idx[np.arange(trn_count+val_count, tot_count)]]\n",
    "tests_X1 = Xc1[sfl_idx[np.arange(trn_count+val_count, tot_count)]]\n",
    "tests_X = np.vstack((tests_X0.T, tests_X1.T))\n",
    "tests_Y = Y[sfl_idx[np.arange(trn_count+val_count, tot_count)]]\n",
    "\n",
    "batchIndex = 0\n",
    "def getNextTrainBatch(size):\n",
    "    global batchIndex\n",
    "    if((batchIndex + size) >= trn_count):\n",
    "        size = trn_count-1\n",
    "        batchIndex = 0 # recycle the batches from start\n",
    "    \n",
    "    #trn_sfl_idx = np.arange(0,trn_count)\n",
    "    #np.random.shuffle(trn_sfl_idx)\n",
    "    trn_X0_r1 =  train_X0[np.arange(batchIndex, batchIndex  + size)]\n",
    "    trn_X1_r1 =  train_X1[np.arange(batchIndex, batchIndex  + size)]\n",
    "    trn_Y_r1  =   train_Y[np.arange(batchIndex, batchIndex  + size)]\n",
    "    #print(trn_X0_r1.shape)\n",
    "    trn_X = np.vstack((trn_X0_r1.T, trn_X1_r1.T))\n",
    "    #print((trn_X.T).shape)\n",
    "    batchIndex = batchIndex  + size\n",
    "    return trn_X.T, trn_Y_r1\n",
    "\n",
    "print('Train: ',train_X0.shape, train_Y.T)\n",
    "print('Valid: ',valid_X.shape, valid_Y.T)\n",
    "print('Tests: ',tests_X.shape, tests_Y.T)"
   ]
  },
  {
   "cell_type": "code",
   "execution_count": 6,
   "metadata": {
    "ExecuteTime": {
     "end_time": "2018-05-01T00:21:14.358020Z",
     "start_time": "2018-05-01T00:21:13.913197Z"
    },
    "code_folding": [],
    "scrolled": false
   },
   "outputs": [
    {
     "name": "stdout",
     "output_type": "stream",
     "text": [
      "Epoch: 0050 cost= 0.079107761 W= [[0.21164967]] b= [[0.13576482]]\n",
      "Epoch: 0100 cost= 0.070536837 W= [[0.24398854]] b= [[0.18850131]]\n",
      "Epoch: 0150 cost= 0.068856172 W= [[0.24372648]] b= [[0.2170979]]\n",
      "Epoch: 0200 cost= 0.068128146 W= [[0.23900813]] b= [[0.23549922]]\n",
      "Epoch: 0250 cost= 0.067773730 W= [[0.23480208]] b= [[0.24808013]]\n",
      "Epoch: 0300 cost= 0.067599475 W= [[0.23167443]] b= [[0.256841]]\n",
      "Epoch: 0350 cost= 0.067513727 W= [[0.22944534]] b= [[0.26297408]]\n",
      "Epoch: 0400 cost= 0.067471519 W= [[0.22787467]] b= [[0.26727405]]\n",
      "Epoch: 0450 cost= 0.067450754 W= [[0.2267715]] b= [[0.27028996]]\n",
      "Epoch: 0500 cost= 0.067440532 W= [[0.22599733]] b= [[0.27240553]]\n",
      "Optimization Finished!\n",
      "Training cost= 0.06744053 W= [[0.22599733]] b= [[0.27240553]] \n",
      "\n"
     ]
    },
    {
     "data": {
      "image/png": "[encoded data removed]",
      "text/plain": [
       "<Figure size 432x288 with 1 Axes>"
      ]
     },
     "metadata": {},
     "output_type": "display_data"
    }
   ],
   "source": [
    "def linearRegression():\n",
    "    # Parameters\n",
    "    learning_rate = 0.01\n",
    "    training_epochs = 500\n",
    "    display_step = 50\n",
    "    rng = np.random\n",
    "\n",
    "    # tf Graph Input\n",
    "    Xtf = tf.placeholder(tf.float32, [None, 1])\n",
    "    Ytf = tf.placeholder(tf.float32, [None, 1])\n",
    "\n",
    "    # Set model weights\n",
    "    # figure tf.rand\n",
    "    # tf.keras.initializer\n",
    "    Wtf = tf.Variable(np.zeros([1,1]), dtype=tf.float32, name=\"weight\")\n",
    "    btf = tf.Variable(np.zeros([1,1]), dtype=tf.float32, name=\"bias\")\n",
    "\n",
    "    # Construct a linear model\n",
    "    predtf = tf.add(tf.matmul(Xtf, Wtf), btf)\n",
    "\n",
    "    # Mean squared error\n",
    "    costtf = tf.reduce_sum(tf.pow(predtf-Ytf, 2))/(2*n_samples)\n",
    "    # Gradient descent\n",
    "    optimizer = tf.train.GradientDescentOptimizer(learning_rate).minimize(costtf)\n",
    "\n",
    "    # Initialize the variables (i.e. assign their default value)\n",
    "    init = tf.global_variables_initializer()\n",
    "\n",
    "    # Start training\n",
    "    with tf.Session() as sess:\n",
    "        sess.run(init)\n",
    "\n",
    "        # Fit all training data\n",
    "        for epoch in range(training_epochs):\n",
    "            sess.run(optimizer, feed_dict={Xtf: train_X1, Ytf: train_Y})\n",
    "            #Display logs per epoch step\n",
    "            if (epoch+1) % display_step == 0:\n",
    "                c = sess.run(costtf, feed_dict={Xtf: train_X1, Ytf:train_Y})\n",
    "                print(\"Epoch:\", '%04d' % (epoch+1), \"cost=\", \"{:.9f}\".format(c), \\\n",
    "                    \"W=\", sess.run(Wtf), \"b=\", sess.run(btf))\n",
    "        print(\"Optimization Finished!\")\n",
    "        training_cost = sess.run(costtf, feed_dict={Xtf: train_X1, Ytf: train_Y})\n",
    "        print(\"Training cost=\", training_cost, \"W=\", sess.run(Wtf), \"b=\", sess.run(btf), '\\n')\n",
    "\n",
    "        #Graphic display plt.plot(train_X, train_Y, 'ro', label='Original data')\n",
    "        plt.scatter(x0, y0, color = 'r',marker='x', label = 'Cl 0')\n",
    "        plt.scatter(x1, y1, color = 'b',marker='^', label = 'Cl 1')\n",
    "        plt.plot(train_X1, sess.run(Wtf) * train_X1 + sess.run(btf), label='Fitted line')\n",
    "        plt.legend()\n",
    "        plt.show()\n",
    "        sess.close()\n",
    "\n",
    "# Run Linear Regression\n",
    "linearRegression()"
   ]
  },
  {
   "cell_type": "markdown",
   "metadata": {
    "ExecuteTime": {
     "end_time": "2018-04-25T19:47:57.057672Z",
     "start_time": "2018-04-25T19:47:57.049887Z"
    }
   },
   "source": [
    "### Neural Network implementation\n",
    "- 1.(a) One hidden layer"
   ]
  },
  {
   "cell_type": "code",
   "execution_count": 7,
   "metadata": {
    "ExecuteTime": {
     "end_time": "2018-05-01T00:21:14.728121Z",
     "start_time": "2018-05-01T00:21:14.363018Z"
    },
    "code_folding": [],
    "scrolled": false
   },
   "outputs": [
    {
     "name": "stdout",
     "output_type": "stream",
     "text": [
      "Trn Step 1, Minibatch Loss= 1.5899, Accuracy= 70.000\n",
      "differr: 6\n",
      "Val Step 1, Minibatch Loss= 1.1979, Accuracy= 70.000\n",
      "differr: 6\n",
      "Trn Step 10, Minibatch Loss= 1.8718, Accuracy= 62.319\n",
      "differr: 26\n",
      "Val Step 10, Minibatch Loss= 1.1979, Accuracy= 70.000\n",
      "differr: 6\n",
      "Trn Step 20, Minibatch Loss= 1.8717, Accuracy= 62.319\n",
      "differr: 26\n",
      "Val Step 20, Minibatch Loss= 1.1979, Accuracy= 70.000\n",
      "differr: 6\n",
      "Trn Step 30, Minibatch Loss= 1.8717, Accuracy= 62.319\n",
      "differr: 26\n",
      "Val Step 30, Minibatch Loss= 1.1979, Accuracy= 70.000\n",
      "differr: 6\n",
      "Trn Step 40, Minibatch Loss= 1.8717, Accuracy= 62.319\n",
      "differr: 26\n",
      "Val Step 40, Minibatch Loss= 1.1979, Accuracy= 70.000\n",
      "differr: 6\n",
      "Trn Step 50, Minibatch Loss= 1.8717, Accuracy= 62.319\n",
      "differr: 26\n",
      "Val Step 50, Minibatch Loss= 1.1979, Accuracy= 70.000\n",
      "differr: 6\n",
      "Trn Step 60, Minibatch Loss= 1.8717, Accuracy= 62.319\n",
      "differr: 26\n",
      "Val Step 60, Minibatch Loss= 1.1979, Accuracy= 70.000\n",
      "differr: 6\n",
      "Trn Step 70, Minibatch Loss= 1.8717, Accuracy= 62.319\n",
      "differr: 26\n",
      "Val Step 70, Minibatch Loss= 1.1978, Accuracy= 70.000\n",
      "differr: 6\n",
      "Trn Step 80, Minibatch Loss= 1.8717, Accuracy= 62.319\n",
      "differr: 26\n",
      "Val Step 80, Minibatch Loss= 1.1978, Accuracy= 70.000\n",
      "differr: 6\n",
      "Trn Step 90, Minibatch Loss= 1.8717, Accuracy= 62.319\n",
      "differr: 26\n",
      "Val Step 90, Minibatch Loss= 1.1978, Accuracy= 70.000\n",
      "differr: 6\n",
      "Trn Step 100, Minibatch Loss= 1.8717, Accuracy= 62.319\n",
      "differr: 26\n",
      "Val Step 100, Minibatch Loss= 1.1978, Accuracy= 70.000\n",
      "differr: 6\n",
      "Optimization Finished!\n",
      "Test Accuracy: 70.000\n",
      "actuals: [[1 1 0 1 1 1 1 0 1 1]]\n",
      "predict: [[0. 0. 0. 1. 1. 1. 1. 0. 1. 0.]]\n"
     ]
    }
   ],
   "source": [
    "def oneHiddenNeuralNetwork():\n",
    "\n",
    "    # Parameters\n",
    "    learning_rate = 0.0000001\n",
    "    num_steps = 100\n",
    "    batch_size = 20\n",
    "    display_step = 10\n",
    "    reg_const_lambda = 0.01\n",
    "\n",
    "    # Network Parameters\n",
    "    n_hidden_1 = 24 # 1st layer number of neurons\n",
    "    num_input = 2  # data input (shape: 2 * 70)\n",
    "    num_classes = 1 # total classes (0 or 1 based on the value)\n",
    "\n",
    "    # tf Graph input\n",
    "    X = tf.placeholder(\"float\", [None, num_input])\n",
    "    Y = tf.placeholder(\"float\", [None, num_classes])\n",
    "\n",
    "    # Store layers weight & bias (initializing using random nromal)\n",
    "    weights = {\n",
    "        'h1': tf.Variable(tf.random_normal([num_input, n_hidden_1])),\n",
    "        'out': tf.Variable(tf.random_normal([n_hidden_1, num_classes]))\n",
    "    }\n",
    "    biases = {\n",
    "        'b1': tf.Variable(tf.random_normal([n_hidden_1])),\n",
    "        'out': tf.Variable(tf.random_normal([num_classes]))\n",
    "    }\n",
    "\n",
    "    # Create model\n",
    "    def one_neural_net(x):\n",
    "        # Hidden fully connected layer, a1 \n",
    "        layer_1 = tf.add(tf.matmul(x, weights['h1']), biases['b1'])\n",
    "        #layer_1 = tf.nn.relu(layer_1)\n",
    "        # Output fully connected layer with a neuron for each class \n",
    "        out_layer = tf.matmul(layer_1, weights['out']) + biases['out']\n",
    "        return out_layer\n",
    "\n",
    "    # Construct model\n",
    "    logits = one_neural_net(X)\n",
    "    output = tf.sigmoid(logits) # Convert output to a probability\n",
    "\n",
    "    # Define loss and optimizer\n",
    "    cel_loss_op = tf.reduce_mean(tf.nn.sigmoid_cross_entropy_with_logits(logits=logits, labels=Y))\n",
    "    reg_loss = tf.nn.l2_loss(weights['h1']) + tf.nn.l2_loss(weights['out']) # L2 regularization\n",
    "    loss_op = tf.reduce_mean(cel_loss_op + reg_const_lambda*reg_loss) \n",
    "    \n",
    "    optimizer = tf.train.GradientDescentOptimizer(learning_rate=learning_rate)\n",
    "    train_op = optimizer.minimize(loss_op)\n",
    "\n",
    "    # Evaluate model (with test logits, for dropout to be disabled)\n",
    "    # keep in mind boolean to float32 tensor output\n",
    "    #correct_pred = tf.equal(tf.argmax(logits, 1), tf.argmax(Y, 1))\n",
    "    correct_pred = tf.cast(tf.greater(output, 0.5), tf.float32)\n",
    "    accuracy = tf.reduce_mean(tf.cast(tf.equal(correct_pred, Y), tf.float32))\n",
    "\n",
    "    # Initialize the variables (i.e. assign their default value)\n",
    "    init = tf.global_variables_initializer()\n",
    "\n",
    "    # Start training\n",
    "    batchIndex = 0\n",
    "    with tf.Session() as sess:\n",
    "        # Run the initializer\n",
    "        sess.run(init)\n",
    "        for step in range(1, num_steps+1):\n",
    "            batch_x, batch_y = getNextTrainBatch(batch_size)\n",
    "            # Run optimization op (backprop)\n",
    "           # print(batch_x)\n",
    "           # print(batch_y)\n",
    "            sess.run(train_op, feed_dict={X: batch_x, Y: batch_y})\n",
    "            if step % display_step == 0 or step == 1:\n",
    "                # Training batch loss and accuracy\n",
    "                loss, acc, pred = sess.run([loss_op, accuracy, correct_pred], feed_dict={X: batch_x,\n",
    "                                                                     Y: batch_y})\n",
    "                print(\"Trn Step \" + str(step) + \", Minibatch Loss= \" + \\\n",
    "                      \"{:.4f}\".format(loss) + \", Accuracy= \" + \\\n",
    "                      \"{:.3f}\".format(100*acc))           \n",
    "                #print(\"actuals:\", batch_y.T)\n",
    "                #print(\"predict:\", pred.T)\n",
    "                print(\"differr:\", (pred.T != batch_y.T).sum())\n",
    "                # Validation accuracy\n",
    "                loss_v, acc_v, pred_v = sess.run([loss_op, accuracy, correct_pred], feed_dict={X: valid_X.T,\n",
    "                                                                     Y: valid_Y})\n",
    "                print(\"Val Step \" + str(step) + \", Minibatch Loss= \" + \\\n",
    "                      \"{:.4f}\".format(loss_v) + \", Accuracy= \" + \\\n",
    "                      \"{:.3f}\".format(100*acc_v))\n",
    "                #print(\"actuals:\", valid_Y.T)\n",
    "                #print(\"predict:\", pred_v.T)\n",
    "                print(\"differr:\", (pred_v.T != valid_Y.T).sum())\n",
    "\n",
    "\n",
    "        print(\"Optimization Finished!\")\n",
    "\n",
    "        # Calculate accuracy for test data\n",
    "        acc_t, pred_t = sess.run([accuracy,correct_pred], feed_dict={X: tests_X.T, Y: tests_Y})\n",
    "        print(\"Test Accuracy:\", \"{:.3f}\".format(100*acc_t))\n",
    "        print(\"actuals:\", tests_Y.T)\n",
    "        print(\"predict:\", pred_t.T)\n",
    "        sess.close()\n",
    "\n",
    "# Execute\n",
    "oneHiddenNeuralNetwork() "
   ]
  },
  {
   "cell_type": "markdown",
   "metadata": {
    "ExecuteTime": {
     "end_time": "2018-04-29T00:03:11.680381Z",
     "start_time": "2018-04-29T00:03:11.549763Z"
    }
   },
   "source": [
    "\n",
    "- 1.(b) Two hidden layer"
   ]
  },
  {
   "cell_type": "code",
   "execution_count": 11,
   "metadata": {
    "ExecuteTime": {
     "end_time": "2018-05-01T00:21:41.762085Z",
     "start_time": "2018-05-01T00:21:41.064563Z"
    },
    "code_folding": [],
    "scrolled": false
   },
   "outputs": [
    {
     "name": "stdout",
     "output_type": "stream",
     "text": [
      "Trn Step 1, Minibatch Loss= 6.1183, Accuracy= 39.130\n",
      "differr: 42\n",
      "Val Step 1, Minibatch Loss= 5.3659, Accuracy= 50.000\n",
      "differr: 10\n",
      "Trn Step 2, Minibatch Loss= 6.1148, Accuracy= 39.130\n",
      "differr: 42\n",
      "Val Step 2, Minibatch Loss= 5.3631, Accuracy= 50.000\n",
      "differr: 10\n",
      "Trn Step 4, Minibatch Loss= 6.1078, Accuracy= 39.130\n",
      "differr: 42\n",
      "Val Step 4, Minibatch Loss= 5.3577, Accuracy= 50.000\n",
      "differr: 10\n",
      "Trn Step 6, Minibatch Loss= 6.1008, Accuracy= 39.130\n",
      "differr: 42\n",
      "Val Step 6, Minibatch Loss= 5.3523, Accuracy= 50.000\n",
      "differr: 10\n",
      "Trn Step 8, Minibatch Loss= 6.0938, Accuracy= 39.130\n",
      "differr: 42\n",
      "Val Step 8, Minibatch Loss= 5.3468, Accuracy= 50.000\n",
      "differr: 10\n",
      "Trn Step 10, Minibatch Loss= 6.0868, Accuracy= 39.130\n",
      "differr: 42\n",
      "Val Step 10, Minibatch Loss= 5.3414, Accuracy= 50.000\n",
      "differr: 10\n",
      "Trn Step 12, Minibatch Loss= 6.0797, Accuracy= 39.130\n",
      "differr: 42\n",
      "Val Step 12, Minibatch Loss= 5.3360, Accuracy= 50.000\n",
      "differr: 10\n",
      "Trn Step 14, Minibatch Loss= 6.0727, Accuracy= 39.130\n",
      "differr: 42\n",
      "Val Step 14, Minibatch Loss= 5.3306, Accuracy= 50.000\n",
      "differr: 10\n",
      "Trn Step 16, Minibatch Loss= 6.0657, Accuracy= 39.130\n",
      "differr: 42\n",
      "Val Step 16, Minibatch Loss= 5.3252, Accuracy= 50.000\n",
      "differr: 10\n",
      "Trn Step 18, Minibatch Loss= 6.0587, Accuracy= 39.130\n",
      "differr: 42\n",
      "Val Step 18, Minibatch Loss= 5.3198, Accuracy= 50.000\n",
      "differr: 10\n",
      "Trn Step 20, Minibatch Loss= 6.0518, Accuracy= 39.130\n",
      "differr: 42\n",
      "Val Step 20, Minibatch Loss= 5.3144, Accuracy= 50.000\n",
      "differr: 10\n",
      "Optimization Finished!\n",
      "Test Accuracy: 80.000\n",
      "actuals: [[1 1 0 1 1 1 1 0 1 1]]\n",
      "predict: [[1. 1. 1. 1. 1. 1. 1. 1. 1. 1.]]\n"
     ]
    }
   ],
   "source": [
    "def twoHiddenNeuralNetwork():\n",
    "\n",
    "    # Parameters\n",
    "    learning_rate = 0.0001\n",
    "    num_steps = 20\n",
    "    batch_size = 5\n",
    "    display_step = 2\n",
    "    reg_const_lambda = 0.01\n",
    "\n",
    "    # Network Parameters\n",
    "    n_hidden_1 = 15 # 1st layer number of neurons\n",
    "    n_hidden_2 = 15 # 2nd layer number of neurons\n",
    "    num_input = 2  # data input (shape: 2 * 70)\n",
    "    num_classes = 1 # total classes (0 or 1 based on the value)\n",
    "\n",
    "    # tf Graph input\n",
    "    X = tf.placeholder(\"float\", [None, num_input])\n",
    "    Y = tf.placeholder(\"float\", [None, num_classes])\n",
    "\n",
    "    # Store layers weight & bias (initializing using random nromal)\n",
    "    weights = {\n",
    "        'h1': tf.Variable(tf.random_normal([num_input, n_hidden_1])),\n",
    "        'h2': tf.Variable(tf.random_normal([n_hidden_1, n_hidden_2])),\n",
    "        'out': tf.Variable(tf.random_normal([n_hidden_2, num_classes]))\n",
    "    }\n",
    "    biases = {\n",
    "        'b1': tf.Variable(tf.random_normal([n_hidden_1])),\n",
    "        'b2': tf.Variable(tf.random_normal([n_hidden_2])),\n",
    "        'out': tf.Variable(tf.random_normal([num_classes]))\n",
    "    }\n",
    "\n",
    "    # Create model\n",
    "    def two_neural_net(x):\n",
    "        # Hidden fully connected layer, a1 \n",
    "        layer_1 = tf.add(tf.matmul(x, weights['h1']), biases['b1'])\n",
    "        layer_1 = tf.nn.relu(layer_1)\n",
    "        layer_2 = tf.add(tf.matmul(layer_1, weights['h2']), biases['b2'])\n",
    "        layer_2 = tf.nn.relu(layer_2)\n",
    "        # Output fully connected layer with a neuron for each class \n",
    "        out_layer = tf.matmul(layer_2, weights['out']) + biases['out']\n",
    "        return out_layer\n",
    "\n",
    "    # Construct model\n",
    "    logits = two_neural_net(X)\n",
    "    output = tf.sigmoid(logits) # Convert output to a probability\n",
    "\n",
    "    # Define loss and optimizer\n",
    "    cel_loss_op = tf.reduce_mean(tf.nn.sigmoid_cross_entropy_with_logits(logits=logits, labels=Y))\n",
    "    reg_loss = tf.nn.l2_loss(weights['h1']) + tf.nn.l2_loss(weights['h2']) + tf.nn.l2_loss(weights['out']) # L2 regularization\n",
    "    loss_op = tf.reduce_mean(cel_loss_op + reg_const_lambda*reg_loss) \n",
    "    \n",
    "    optimizer = tf.train.GradientDescentOptimizer(learning_rate=learning_rate)\n",
    "    train_op = optimizer.minimize(loss_op)\n",
    "    \n",
    "    # Evaluate model (with test logits, for dropout to be disabled)\n",
    "    # keep in mind boolean to float32 tensor output\n",
    "    #correct_pred = tf.equal(tf.argmax(logits, 1), tf.argmax(Y, 1))\n",
    "    correct_pred = tf.cast(tf.greater(output, 0.5), tf.float32)\n",
    "    accuracy = tf.reduce_mean(tf.cast(tf.equal(correct_pred, Y), tf.float32))\n",
    "\n",
    "    # Initialize the variables (i.e. assign their default value)\n",
    "    init = tf.global_variables_initializer()\n",
    "\n",
    "    # Start training\n",
    "    batchIndex = 0\n",
    "    with tf.Session() as sess:\n",
    "        # Run the initializer\n",
    "        sess.run(init)\n",
    "        for step in range(1, num_steps+1):\n",
    "            batch_x, batch_y = getNextTrainBatch(batch_size)\n",
    "            # Run optimization op (backprop)\n",
    "           # print(batch_x)\n",
    "           # print(batch_y)\n",
    "            sess.run(train_op, feed_dict={X: batch_x, Y: batch_y})\n",
    "            if step % display_step == 0 or step == 1:\n",
    "                # Training batch loss and accuracy\n",
    "                loss, acc, pred = sess.run([loss_op, accuracy, correct_pred], feed_dict={X: batch_x,\n",
    "                                                                     Y: batch_y})\n",
    "                print(\"Trn Step \" + str(step) + \", Minibatch Loss= \" + \\\n",
    "                      \"{:.4f}\".format(loss) + \", Accuracy= \" + \\\n",
    "                      \"{:.3f}\".format(100*acc))           \n",
    "                #print(\"actuals:\", batch_y.T)\n",
    "                #print(\"predict:\", pred.T)\n",
    "                print(\"differr:\", (pred.T != batch_y.T).sum())\n",
    "                # Validation accuracy\n",
    "                loss_v, acc_v, pred_v = sess.run([loss_op, accuracy, correct_pred], feed_dict={X: valid_X.T,\n",
    "                                                                     Y: valid_Y})\n",
    "                print(\"Val Step \" + str(step) + \", Minibatch Loss= \" + \\\n",
    "                      \"{:.4f}\".format(loss_v) + \", Accuracy= \" + \\\n",
    "                      \"{:.3f}\".format(100*acc_v))\n",
    "                #print(\"actuals:\", valid_Y.T)\n",
    "                #print(\"predict:\", pred_v.T)\n",
    "                print(\"differr:\", (pred_v.T != valid_Y.T).sum())\n",
    "\n",
    "\n",
    "        print(\"Optimization Finished!\")\n",
    "\n",
    "        # Calculate accuracy for test data\n",
    "        acc_t, pred_t = sess.run([accuracy,correct_pred], feed_dict={X: tests_X.T, Y: tests_Y})\n",
    "        print(\"Test Accuracy:\", \"{:.3f}\".format(100*acc_t))\n",
    "        print(\"actuals:\", tests_Y.T)\n",
    "        print(\"predict:\", pred_t.T)\n",
    "        sess.close()\n",
    "\n",
    "# Execute\n",
    "twoHiddenNeuralNetwork() "
   ]
  }
 ],
 "metadata": {
  "kernelspec": {
   "display_name": "Python [conda env:tflo]",
   "language": "python",
   "name": "conda-env-tflo-py"
  },
  "language_info": {
   "codemirror_mode": {
    "name": "ipython",
    "version": 3
   },
   "file_extension": ".py",
   "mimetype": "text/x-python",
   "name": "python",
   "nbconvert_exporter": "python",
   "pygments_lexer": "ipython3",
   "version": "3.6.4"
  }
 },
 "nbformat": 4,
 "nbformat_minor": 2
}
