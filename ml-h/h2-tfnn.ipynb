{
 "cells": [
  {
   "cell_type": "markdown",
   "metadata": {},
   "source": [
    "# Classification using neural networks\n",
    "- Neural networks; Tensorflow\n",
    "- 2D synthetic gaussian mixture data for binary classification"
   ]
  },
  {
   "cell_type": "code",
   "execution_count": 1,
   "metadata": {
    "ExecuteTime": {
     "end_time": "2018-04-27T19:56:15.301172Z",
     "start_time": "2018-04-27T19:56:12.276458Z"
    }
   },
   "outputs": [
    {
     "name": "stderr",
     "output_type": "stream",
     "text": [
      "C:\\Users\\Karma\\Anaconda3\\envs\\tflo\\lib\\site-packages\\h5py\\__init__.py:36: FutureWarning: Conversion of the second argument of issubdtype from `float` to `np.floating` is deprecated. In future, it will be treated as `np.float64 == np.dtype(float).type`.\n",
      "  from ._conv import register_converters as _register_converters\n"
     ]
    }
   ],
   "source": [
    "# -*- coding: utf-8 -*-\n",
    "\n",
    "import tensorflow as tf\n",
    "import numpy as np\n",
    "from math import *\n",
    "import matplotlib.pyplot as plt\n",
    "from matplotlib import cm\n",
    "from mpl_toolkits.mplot3d import Axes3D\n",
    "\n",
    "from scipy.stats import norm\n",
    "from IPython.display import Image, display, Math, Latex\n",
    "\n",
    "\n",
    "# Params\n",
    "n_inpoints = 100"
   ]
  },
  {
   "cell_type": "code",
   "execution_count": 2,
   "metadata": {
    "ExecuteTime": {
     "end_time": "2018-04-27T19:56:15.497877Z",
     "start_time": "2018-04-27T19:56:15.303158Z"
    },
    "code_folding": [
     1
    ]
   },
   "outputs": [
    {
     "data": {
      "image/png": "[encoded data removed]",
      "text/plain": [
       "<Figure size 432x288 with 1 Axes>"
      ]
     },
     "metadata": {},
     "output_type": "display_data"
    }
   ],
   "source": [
    "def generateClass0():\n",
    "    theta0 = 0\n",
    "    lmb01 = 2\n",
    "    lmb02 = 1\n",
    "    m0 = (0,  0)\n",
    "    # computing u * u.T and later multiplying with lambda\n",
    "    cov01 = [[(cos(theta0))**2,    cos(theta0)*sin(theta0)],\n",
    "             [(sin(theta0))*cos(theta0), (sin(theta0))**2]]\n",
    "    cov02 = [[(sin(theta0))**2,    -(cos(theta0)*sin(theta0))],\n",
    "             [-(cos(theta0)*sin(theta0)), (cos(theta0))**2]]\n",
    "    cov0 = lmb01*np.matrix(cov01) + lmb02*np.matrix(cov02)\n",
    "    cov0_det = np.linalg.det(cov0)\n",
    "    x0, y0 = np.random.multivariate_normal(m0, cov0, int(n_inpoints/2)).T\n",
    "    return x0,y0\n",
    "\n",
    "x0, y0 = generateClass0()\n",
    "plt.scatter(x0, y0, color = 'r',marker='x', label = 'Cl 0')\n",
    "plt.legend()\n",
    "plt.title('Distribution of Class 0')\n",
    "plt.show()"
   ]
  },
  {
   "cell_type": "code",
   "execution_count": 3,
   "metadata": {
    "ExecuteTime": {
     "end_time": "2018-04-27T19:56:15.627994Z",
     "start_time": "2018-04-27T19:56:15.500254Z"
    },
    "code_folding": [
     1
    ]
   },
   "outputs": [
    {
     "data": {
      "image/png": "[encoded data removed]",
      "text/plain": [
       "<Figure size 432x288 with 1 Axes>"
      ]
     },
     "metadata": {},
     "output_type": "display_data"
    }
   ],
   "source": [
    "def generateClass1():\n",
    "    # Mixture A\n",
    "    theta1a = -3*pi/4\n",
    "    lmb1a1 = 2\n",
    "    lmb1a2 = 1/4\n",
    "    m1a = (-2, 1)\n",
    "    cov1a = [[(cos(theta1a))**2,    cos(theta1a)*sin(theta1a)],\n",
    "             [(sin(theta1a))*cos(theta1a), (sin(theta1a))**2]]\n",
    "    cov2a = [[(sin(theta1a))**2,    -(cos(theta1a)*sin(theta1a))],\n",
    "             [-(cos(theta1a)*sin(theta1a)), (cos(theta1a))**2]]\n",
    "    cov1a = lmb1a1*np.matrix(cov1a) + lmb1a2*np.matrix(cov2a)\n",
    "    cov1a_det = np.linalg.det(cov1a)\n",
    "    x1a, y1a = np.random.multivariate_normal(m1a, cov1a, int(n_inpoints/2)).T\n",
    "    #print('Shape: ',x1a.shape,', ',y1a.shape,', ',cov1a)\n",
    "\n",
    "    # Mixture B\n",
    "    theta1b = pi/4\n",
    "    lmb1b1 = 3\n",
    "    lmb1b2 = 1\n",
    "    m1b = (3, 2)\n",
    "    cov1b = [[(cos(theta1b))**2,    cos(theta1b)*sin(theta1b)],\n",
    "             [(sin(theta1b))*cos(theta1b), (sin(theta1b))**2]]\n",
    "    cov2b = [[(sin(theta1b))**2,    -(cos(theta1b)*sin(theta1b))],\n",
    "             [-(cos(theta1b)*sin(theta1b)), (cos(theta1b))**2]]\n",
    "    cov1b = lmb1b1*np.matrix(cov1b) + lmb1b2*np.matrix(cov2b)\n",
    "    cov1b_det = np.linalg.det(cov1b)\n",
    "    x1b, y1b = np.random.multivariate_normal(m1b, cov1b, int(n_inpoints/2)).T\n",
    "    #print('Shape: ',x1b.shape,', ',y1b.shape,', ',cov1b)\n",
    "\n",
    "    # Class 1 (A * 0.33 +B * 0.66)\n",
    "    y1 = np.array(y1a)* (1 / 3)+np.array(y1b)* (2 / 3)\n",
    "    x1 = np.array(x1a)* (1 / 3)+np.array(x1b)* (2 / 3)\n",
    "    return x1,y1\n",
    "\n",
    "x1, y1 = generateClass1()\n",
    "plt.scatter(x1, y1, color = 'b',marker='^', label = 'Cl 1')\n",
    "plt.title('Distribution of Class 1')\n",
    "plt.legend()\n",
    "plt.show()"
   ]
  },
  {
   "cell_type": "code",
   "execution_count": 4,
   "metadata": {
    "ExecuteTime": {
     "end_time": "2018-04-27T19:56:15.797990Z",
     "start_time": "2018-04-27T19:56:15.630981Z"
    }
   },
   "outputs": [
    {
     "name": "stdout",
     "output_type": "stream",
     "text": [
      "Shape; X: (100,) , Y: (100,)\n"
     ]
    },
    {
     "data": {
      "image/png": "[encoded data removed]",
      "text/plain": [
       "<Figure size 432x288 with 1 Axes>"
      ]
     },
     "metadata": {},
     "output_type": "display_data"
    }
   ],
   "source": [
    "x = np.concatenate((x0, x1))\n",
    "y = np.concatenate((y0, y1))\n",
    "print('Shape; X:',x.shape,', Y:',y.shape)\n",
    "plt.scatter(x0, y0, color = 'r',marker='x', label = 'Cl 0')\n",
    "plt.scatter(x1, y1, color = 'b',marker='^', label = 'Cl 1')\n",
    "plt.legend()\n",
    "plt.show()\n",
    "\n",
    "c0 = np.vstack((x0, y0)).T\n",
    "c1 = np.vstack((x1, y1)).T\n",
    "# ----------------------------------------\n",
    "# Set up the [xi, yi] training data vector\n",
    "# ----------------------------------------\n",
    "X = np.concatenate((c0,c1), axis = 0)\n",
    "Y = np.array([0]*int(n_inpoints/2) + [1]*int(n_inpoints/2)).reshape(n_inpoints,1)"
   ]
  },
  {
   "cell_type": "markdown",
   "metadata": {},
   "source": [
    "### Training, test and validation sets (70:20:10)"
   ]
  },
  {
   "cell_type": "code",
   "execution_count": 5,
   "metadata": {
    "ExecuteTime": {
     "end_time": "2018-04-27T19:56:15.807904Z",
     "start_time": "2018-04-27T19:56:15.800903Z"
    }
   },
   "outputs": [
    {
     "name": "stdout",
     "output_type": "stream",
     "text": [
      "(100, 1)\n"
     ]
    }
   ],
   "source": [
    "\n",
    "# Divide the data into Train Valid, Test\n",
    "tot_count = n_inpoints\n",
    "trn_count = 70\n",
    "val_count = 20\n",
    "tst_count = 10\n",
    "\n",
    "# Shuffle X & Y values\n",
    "sfl_idx = np.arange(0,tot_count)\n",
    "np.random.shuffle(sfl_idx)\n",
    "\n",
    "Xc0 = X[:,0]\n",
    "Xc1 = X[:,1]\n",
    "Xc0 = Xc0.reshape(tot_count,1)\n",
    "Xc1 = Xc1.reshape(tot_count,1)\n",
    "print(Xc1.shape)\n",
    "\n",
    "train_X0 = Xc0[sfl_idx[np.arange(0,trn_count)]]\n",
    "train_X1 = Xc1[sfl_idx[np.arange(0,trn_count)]]\n",
    "train_Y = Y[sfl_idx[np.arange(0,trn_count)]]\n",
    "n_samples = train_X1.shape[0]\n",
    "\n",
    "#valid_X = Xc[sfl_idx[np.arange(trn_count,trn_count+val_count)]]\n",
    "#valid_Y = Y[sfl_idx[np.arange(trn_count,trn_count+val_count)]]\n",
    "\n",
    "#tests_X = Xc[sfl_idx[np.arange(trn_count+val_count, tot_count)]]\n",
    "#tests_Y = Y[sfl_idx[np.arange(trn_count+val_count, tot_count)]]\n",
    "\n",
    "batchIndex = 0\n",
    "def getNextTrainBatch(size):\n",
    "    global batchIndex\n",
    "    if((batchIndex + size) >= trn_count):\n",
    "        size = trn_count-1\n",
    "    \n",
    "    #trn_sfl_idx = np.arange(0,trn_count)\n",
    "    #np.random.shuffle(trn_sfl_idx)\n",
    "    trn_X0_r1 =  train_X0[np.arange(batchIndex, batchIndex  + size)]\n",
    "    trn_X1_r1 =  train_X1[np.arange(batchIndex, batchIndex  + size)]\n",
    "    trn_Y_r1  =   train_Y[np.arange(batchIndex, batchIndex  + size)]\n",
    "    print(trn_X0_r1.shape)\n",
    "    trn_X = np.vstack((trn_X0_r1.T, trn_X1_r1.T))\n",
    "    print((trn_X.T).shape)\n",
    "    batchIndex = batchIndex  + size\n",
    "    return trn_X.T, trn_Y_r1\n",
    "\n",
    "#print(getNextTrainBatch(5))\n",
    "\n",
    "#print('Train: ',train_X.shape, train_Y.T)\n",
    "#print('Valid: ',valid_X.shape, valid_Y.T)\n",
    "#print('Tests: ',tests_X.shape, tests_Y.T)"
   ]
  },
  {
   "cell_type": "code",
   "execution_count": 6,
   "metadata": {
    "ExecuteTime": {
     "end_time": "2018-04-27T19:56:16.616266Z",
     "start_time": "2018-04-27T19:56:15.810214Z"
    },
    "code_folding": [],
    "scrolled": false
   },
   "outputs": [
    {
     "name": "stdout",
     "output_type": "stream",
     "text": [
      "Epoch: 0050 cost= 0.080227666 W= [[0.23670696]] b= [[0.13282688]]\n",
      "Epoch: 0100 cost= 0.073678620 W= [[0.27767047]] b= [[0.16551374]]\n",
      "Epoch: 0150 cost= 0.073295251 W= [[0.2823912]] b= [[0.17777796]]\n",
      "Epoch: 0200 cost= 0.073185302 W= [[0.28086057]] b= [[0.18497951]]\n",
      "Epoch: 0250 cost= 0.073119424 W= [[0.2786278]] b= [[0.19025867]]\n",
      "Epoch: 0300 cost= 0.073077202 W= [[0.27664664]] b= [[0.19439985]]\n",
      "Epoch: 0350 cost= 0.073050022 W= [[0.27502128]] b= [[0.19770433]]\n",
      "Epoch: 0400 cost= 0.073032536 W= [[0.2737106]] b= [[0.2003521]]\n",
      "Epoch: 0450 cost= 0.073021285 W= [[0.27265775]] b= [[0.20247567]]\n",
      "Epoch: 0500 cost= 0.073014036 W= [[0.27181283]] b= [[0.20417924]]\n",
      "Optimization Finished!\n",
      "Training cost= 0.073014036 W= [[0.27181283]] b= [[0.20417924]] \n",
      "\n"
     ]
    },
    {
     "data": {
      "image/png": "[encoded data removed]",
      "text/plain": [
       "<Figure size 432x288 with 1 Axes>"
      ]
     },
     "metadata": {},
     "output_type": "display_data"
    }
   ],
   "source": [
    "def linearRegression():\n",
    "    # Parameters\n",
    "    learning_rate = 0.01\n",
    "    training_epochs = 500\n",
    "    display_step = 50\n",
    "    rng = np.random\n",
    "\n",
    "    # tf Graph Input\n",
    "    Xtf = tf.placeholder(tf.float32, [None, 1])\n",
    "    Ytf = tf.placeholder(tf.float32, [None, 1])\n",
    "\n",
    "    # Set model weights\n",
    "    # figure tf.rand\n",
    "    # tf.keras.initializer\n",
    "    Wtf = tf.Variable(np.zeros([1,1]), dtype=tf.float32, name=\"weight\")\n",
    "    btf = tf.Variable(np.zeros([1,1]), dtype=tf.float32, name=\"bias\")\n",
    "\n",
    "    # Construct a linear model\n",
    "    predtf = tf.add(tf.matmul(Xtf, Wtf), btf)\n",
    "\n",
    "    # Mean squared error\n",
    "    costtf = tf.reduce_sum(tf.pow(predtf-Ytf, 2))/(2*n_samples)\n",
    "    # Gradient descent\n",
    "    optimizer = tf.train.GradientDescentOptimizer(learning_rate).minimize(costtf)\n",
    "\n",
    "    # Initialize the variables (i.e. assign their default value)\n",
    "    init = tf.global_variables_initializer()\n",
    "\n",
    "    # Start training\n",
    "    with tf.Session() as sess:\n",
    "        sess.run(init)\n",
    "\n",
    "        # Fit all training data\n",
    "        for epoch in range(training_epochs):\n",
    "            sess.run(optimizer, feed_dict={Xtf: train_X1, Ytf: train_Y})\n",
    "            #Display logs per epoch step\n",
    "            if (epoch+1) % display_step == 0:\n",
    "                c = sess.run(costtf, feed_dict={Xtf: train_X1, Ytf:train_Y})\n",
    "                print(\"Epoch:\", '%04d' % (epoch+1), \"cost=\", \"{:.9f}\".format(c), \\\n",
    "                    \"W=\", sess.run(Wtf), \"b=\", sess.run(btf))\n",
    "        print(\"Optimization Finished!\")\n",
    "        training_cost = sess.run(costtf, feed_dict={Xtf: train_X1, Ytf: train_Y})\n",
    "        print(\"Training cost=\", training_cost, \"W=\", sess.run(Wtf), \"b=\", sess.run(btf), '\\n')\n",
    "\n",
    "        #Graphic display plt.plot(train_X, train_Y, 'ro', label='Original data')\n",
    "        plt.scatter(x0, y0, color = 'r',marker='x', label = 'Cl 0')\n",
    "        plt.scatter(x1, y1, color = 'b',marker='^', label = 'Cl 1')\n",
    "        plt.plot(train_X1, sess.run(Wtf) * train_X1 + sess.run(btf), label='Fitted line')\n",
    "        plt.legend()\n",
    "        plt.show()\n",
    "\n",
    "# Run Linear Regression\n",
    "linearRegression()"
   ]
  },
  {
   "cell_type": "markdown",
   "metadata": {
    "ExecuteTime": {
     "end_time": "2018-04-25T19:47:57.057672Z",
     "start_time": "2018-04-25T19:47:57.049887Z"
    }
   },
   "source": [
    "### Neural Network implementation\n",
    "- 1.(a) One hidden layer"
   ]
  },
  {
   "cell_type": "code",
   "execution_count": 7,
   "metadata": {
    "ExecuteTime": {
     "end_time": "2018-04-27T19:56:16.895298Z",
     "start_time": "2018-04-27T19:56:16.626577Z"
    }
   },
   "outputs": [],
   "source": [
    "# Parameters\n",
    "learning_rate = 0.00001\n",
    "num_steps = 12\n",
    "batch_size = 5\n",
    "display_step = 1\n",
    "\n",
    "# Network Parameters\n",
    "n_hidden_1 = 10 # 1st layer number of neurons\n",
    "num_input = 2  # data input (img shape: 28*28)\n",
    "num_classes = 1 # total classes (0-9 digits)\n",
    "\n",
    "# tf Graph input\n",
    "X = tf.placeholder(\"float\", [None, num_input])\n",
    "Y = tf.placeholder(\"float\", [None, num_classes])\n",
    "\n",
    "# Store layers weight & bias (initializing using random nromal)\n",
    "weights = {\n",
    "    'h1': tf.Variable(tf.random_normal([num_input, n_hidden_1])),\n",
    "    'out': tf.Variable(tf.random_normal([n_hidden_1, num_classes]))\n",
    "}\n",
    "biases = {\n",
    "    'b1': tf.Variable(tf.random_normal([n_hidden_1])),\n",
    "    'out': tf.Variable(tf.random_normal([num_classes]))\n",
    "}\n",
    "\n",
    "# Create model\n",
    "def neural_net(x):\n",
    "    # Hidden fully connected layer \n",
    "    layer_1 = tf.add(tf.matmul(x, weights['h1']), biases['b1'])\n",
    "    # Output fully connected layer with a neuron for each class\n",
    "    out_layer = tf.matmul(layer_1, weights['out']) + biases['out']\n",
    "    return out_layer\n",
    "\n",
    "# Construct model\n",
    "logits = neural_net(X)\n",
    "\n",
    "# Define loss and optimizer\n",
    "loss_op = tf.reduce_mean(tf.nn.sigmoid_cross_entropy_with_logits(\n",
    "    logits=logits, labels=Y))\n",
    "optimizer = tf.train.GradientDescentOptimizer(learning_rate=learning_rate)\n",
    "train_op = optimizer.minimize(loss_op)\n",
    "\n",
    "# Evaluate model (with test logits, for dropout to be disabled)\n",
    "#correct_pred = tf.equal(tf.argmax(logits, 1), tf.argmax(Y, 1))\n",
    "correct_pred = tf.cast(tf.greater(tf.sigmoid(logits), 0.5), tf.float32)\n",
    "accuracy = tf.reduce_mean(tf.cast(tf.equal(correct_pred, y), tf.float32))\n",
    "\n",
    "# Initialize the variables (i.e. assign their default value)\n",
    "init = tf.global_variables_initializer()\n",
    "\n",
    "##keep i mind boolena to float32 tensor output"
   ]
  },
  {
   "cell_type": "code",
   "execution_count": 8,
   "metadata": {
    "ExecuteTime": {
     "end_time": "2018-04-27T19:56:17.321529Z",
     "start_time": "2018-04-27T19:56:16.898281Z"
    }
   },
   "outputs": [
    {
     "name": "stdout",
     "output_type": "stream",
     "text": [
      "(5, 1)\n",
      "(5, 2)\n",
      "Step 1, Minibatch Loss= 0.9081, Training Accuracy= 0.000\n",
      "(5, 1)\n",
      "(5, 2)\n",
      "Step 2, Minibatch Loss= 3.0768, Training Accuracy= 0.000\n",
      "(5, 1)\n",
      "(5, 2)\n",
      "Step 3, Minibatch Loss= 1.4306, Training Accuracy= 0.000\n",
      "(5, 1)\n",
      "(5, 2)\n",
      "Step 4, Minibatch Loss= 3.6475, Training Accuracy= 0.000\n",
      "(5, 1)\n",
      "(5, 2)\n",
      "Step 5, Minibatch Loss= 1.2367, Training Accuracy= 0.000\n",
      "(5, 1)\n",
      "(5, 2)\n",
      "Step 6, Minibatch Loss= 4.5327, Training Accuracy= 0.000\n",
      "(5, 1)\n",
      "(5, 2)\n",
      "Step 7, Minibatch Loss= 3.4580, Training Accuracy= 0.000\n",
      "(5, 1)\n",
      "(5, 2)\n",
      "Step 8, Minibatch Loss= 2.3988, Training Accuracy= 0.000\n",
      "(5, 1)\n",
      "(5, 2)\n",
      "Step 9, Minibatch Loss= 2.6105, Training Accuracy= 0.000\n",
      "(5, 1)\n",
      "(5, 2)\n",
      "Step 10, Minibatch Loss= 3.1071, Training Accuracy= 0.000\n",
      "(5, 1)\n",
      "(5, 2)\n",
      "Step 11, Minibatch Loss= 3.4842, Training Accuracy= 0.000\n",
      "(5, 1)\n",
      "(5, 2)\n",
      "Step 12, Minibatch Loss= 3.3983, Training Accuracy= 0.000\n",
      "Optimization Finished!\n"
     ]
    },
    {
     "ename": "NameError",
     "evalue": "name 'tests_X' is not defined",
     "output_type": "error",
     "traceback": [
      "\u001b[1;31m---------------------------------------------------------------------------\u001b[0m",
      "\u001b[1;31mNameError\u001b[0m                                 Traceback (most recent call last)",
      "\u001b[1;32m<ipython-input-8-9faab792425c>\u001b[0m in \u001b[0;36m<module>\u001b[1;34m()\u001b[0m\n\u001b[0;32m     20\u001b[0m \u001b[1;33m\u001b[0m\u001b[0m\n\u001b[0;32m     21\u001b[0m     \u001b[1;31m# Calculate accuracy for MNIST test images\u001b[0m\u001b[1;33m\u001b[0m\u001b[1;33m\u001b[0m\u001b[0m\n\u001b[1;32m---> 22\u001b[1;33m     print(\"Testing Accuracy:\",         sess.run(accuracy, feed_dict={X: tests_X,\n\u001b[0m\u001b[0;32m     23\u001b[0m                                       Y: tests_Y}))\n",
      "\u001b[1;31mNameError\u001b[0m: name 'tests_X' is not defined"
     ]
    }
   ],
   "source": [
    "# Start training\n",
    "with tf.Session() as sess:\n",
    "\n",
    "    # Run the initializer\n",
    "    sess.run(init)\n",
    "\n",
    "    for step in range(1, num_steps+1):\n",
    "        batch_x, batch_y = getNextTrainBatch(batch_size)\n",
    "        # Run optimization op (backprop)\n",
    "       # print(batch_x)\n",
    "       # print(batch_y)\n",
    "        sess.run(train_op, feed_dict={X: batch_x, Y: batch_y})\n",
    "        if step % display_step == 0 or step == 1:\n",
    "            # Calculate batch loss and accuracy\n",
    "            loss, acc = sess.run([loss_op, accuracy], feed_dict={X: batch_x,\n",
    "                                                                 Y: batch_y})\n",
    "            print(\"Step \" + str(step) + \", Minibatch Loss= \" + \\\n",
    "                  \"{:.4f}\".format(loss) + \", Training Accuracy= \" + \\\n",
    "                  \"{:.3f}\".format(acc))\n",
    "\n",
    "    print(\"Optimization Finished!\")\n",
    "\n",
    "    # Calculate accuracy for MNIST test images\n",
    "    print(\"Testing Accuracy:\", \\\n",
    "        sess.run(accuracy, feed_dict={X: tests_X,\n",
    "                                      Y: tests_Y}))"
   ]
  },
  {
   "cell_type": "code",
   "execution_count": null,
   "metadata": {},
   "outputs": [],
   "source": []
  }
 ],
 "metadata": {
  "kernelspec": {
   "display_name": "Python [conda env:tflo]",
   "language": "python",
   "name": "conda-env-tflo-py"
  },
  "language_info": {
   "codemirror_mode": {
    "name": "ipython",
    "version": 3
   },
   "file_extension": ".py",
   "mimetype": "text/x-python",
   "name": "python",
   "nbconvert_exporter": "python",
   "pygments_lexer": "ipython3",
   "version": "3.6.4"
  }
 },
 "nbformat": 4,
 "nbformat_minor": 2
}
