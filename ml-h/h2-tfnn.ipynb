{
 "cells": [
  {
   "cell_type": "markdown",
   "metadata": {},
   "source": [
    "###### ECE 283: Homework 2\n",
    "###### Topics: Classification using neural networks\n",
    "###### Due: Monday April 30\n",
    "\n",
    "- Neural networks; Tensorflow\n",
    "- 2D synthetic gaussian mixture data for binary classification"
   ]
  },
  {
   "cell_type": "markdown",
   "metadata": {},
   "source": [
    "### Report\n",
    "\n",
    "----------------------------------------\n",
    "\n",
    "##### 1. Tensorflow based neural network\n",
    "\n",
    "- 2D Gaussian mixture is synthesized based on the provided mean, covariances for class 0 and 1.\n",
    "- Training, validation and test sample counts are 70, 20, and 10 respectively\n",
    "\n",
    "##### (a) One hidden layer: Implementation code below In[7] : oneHiddenNeuralNetwork()\n",
    "\n",
    "Below are the parameters that are used to run training for this network.\n",
    "The validation data is used to compute loss/accuracy in order to tune the hyper parameters.\n",
    "```\n",
    "    Hyper Parameters\n",
    "    learning_rate = 0.001\n",
    "    num_steps = 1000\n",
    "    batch_size = 1000\n",
    "    display_step = 100\n",
    "    reg_const_lambda = 0.01\n",
    "\n",
    "    Network Parameters\n",
    "    n_hidden_1 = 9 # 1st layer number of neurons\n",
    "    num_input = 2  # data input (shape: 2 * 70)\n",
    "    num_classes = 1 # total classes (0 or 1 based on the value)\n",
    "```\n",
    "###### Execution:\n",
    "\n",
    "1. Without input preprocessing: Single Layer Network\n",
    "\n",
    "    > Log\n",
    "    > - Trn Step 1, Minibatch Loss= 2.3662, Accuracy= 49.500\n",
    "    > - Val Step 1, Minibatch Loss= 2.4016, Accuracy= 48.800\n",
    "    > - Trn Step 100, Minibatch Loss= 1.8325, Accuracy= 58.437\n",
    "    > - Val Step 100, Minibatch Loss= 1.8935, Accuracy= 57.050\n",
    "    > - Trn Step 1000, Minibatch Loss= 0.6166, Accuracy= 79.854\n",
    "    > - Val Step 1000, Minibatch Loss= 0.6331, Accuracy= 79.000\n",
    "\n",
    "    > - Test Accuracy: 80.800\n",
    "    > - Diff Error: 192/1000\n",
    "\n",
    "2. With input preprocessing: Single Layer Network \n",
    "\n",
    "    > Log\n",
    "    > - Trn Step 1, Minibatch Loss= 1.3303, Accuracy= 30.100\n",
    "    > - Val Step 1, Minibatch Loss= 1.6977, Accuracy= 33.150\n",
    "    > - Trn Step 100, Minibatch Loss= 1.0398, Accuracy= 36.600\n",
    "    > - Val Step 100, Minibatch Loss= 1.2065, Accuracy= 37.400\n",
    "    > - Trn Step 1000, Minibatch Loss= 0.5143, Accuracy= 80.700\n",
    "    > - Val Step 1000, Minibatch Loss= 0.5572, Accuracy= 76.700\n",
    "\n",
    "    > - Test Accuracy: 77.100\n",
    "    > - Diff Error: 229/1000\n",
    "\n",
    "\n",
    "\n",
    "###### Observations: Q 1,2,3,4\n",
    "\n",
    "1. The number of neurons here are 10 which provided more accuracy over single neuron. Upon changing the number of neurons from 1 to 10 we see a jump of accuracy from 50% to 75%. However growing neurons beyond 10 does not provide much benefit/accuracy change on the validation data. Which says that training further may be overfitting to the training dataset.\n",
    "\n",
    "2. Training samples are 70% and validation samples are 20%. When we run for 1000 steps/epoch with batch size 1000 on a learning rate of 0.001. We see that training loss converges towards 0.5572, while training accuracy converges from 30% to 80%. The validation values appear to be peaks at 77%. Training was stopped when we saw consistent convergence and similar accuracy on the validation and the test dataset.\n",
    "    \n",
    "    > - Upon changing the learning rate to a higher value like 1 we see that convergence is an issue. This was observed since the data kept alternating between two values consistently, irrespective of the iterations ran. When learning rate is of the order 10**(-3) then we see the convergence in the data.\n",
    "    > - The L2 regularization constant will penalize the square value of the weights and it is set to 0.01 here. When we changed the value to say 10 it will allow for a higher order coefficient to affect and may cause over fitting. However, it does not seem to affect the results here and it may be due to the fact that the higher order coefficient do not affect this data. \n",
    "    > - Final Test Accuracy: 77.1%\n",
    "\n",
    "3. Input pre-processing and Weight Initialization\n",
    "\n",
    "    > Normalization/input-preprocessing is achieved by subracting the mean and scaling with standard deviation. \n",
    "    > - The function getNextTrainBatch() was without normalization and gave the results in sections 1 and 2 above. Upon using normalized batch training data using getNextNormalizedTrainBatch() function we have the following observations,\n",
    "    > - The convergence was relatively faster than before (1 Step)\n",
    "    > - The batch loss reduced to ~0.5572 while the accuracy on test was around 77%\n",
    "\n",
    "    > Weight initialization has a major impact since these multipliers lead to vanishing or exploding gradients issue. \n",
    "    > - In the current scenario we have used random_normal distribution for initialization. In the currnt scenario since the convergence is fast and data is separable we do not see any difference by using uniform initialization. However there are datasets that demonstrate the empirical benefit of using a uniform distribution for initializing weights.\n",
    "\n",
    "4. Comparing the performance of neural network from HW1 (MAP, Kernelized Logistic Regression and Logistic Regression with feature engg)\n",
    "\n",
    "    > - We observed a probability of error around 23% here.\n",
    "    > - Misclassification rate in MAP was around 16% for class0 and 47% for class1\n",
    "    > - Misclassification in Kernelized Logistic regression was slightly better than the MAP\n",
    "    > - Misclassification for Logistic regression by feature engineering was around 56% for class0 and 10% for class1\n",
    "However if we see the overall misclassification error rate we get a great accuracy of about 77%-81% using the neural network technique here. We can be sure that upon learning more data this technique will provide a better accuracy.\n",
    "\n",
    "\n",
    "##### (b) Two hidden layer: Implementation code below In[11] : twoHiddenNeuralNetwork()\n",
    "\n",
    "Below are the parameters that are used to run training for this network\n",
    "```\n",
    "    Hyper Parameters\n",
    "    learning_rate = 0.001\n",
    "    num_steps = 1000\n",
    "    batch_size = 1000\n",
    "    display_step = 100\n",
    "    reg_const_lambda = 0.01\n",
    "\n",
    "    Network Parameters\n",
    "    n_hidden_1 = 4 # 1st layer number of neurons\n",
    "    n_hidden_2 = 4 # 2nd layer number of neurons\n",
    "    num_input = 2  # data input (shape: 2 * 70)\n",
    "    num_classes = 1 # total classes (0 or 1 based on the value)\n",
    "\n",
    "```\n",
    "###### Execution:\n",
    "\n",
    "1. Without input preprocessing: Two Layer Network\n",
    "\n",
    "    > Log\n",
    "    > - Trn Step 1, Minibatch Loss= 1.8265, Accuracy= 67.295\n",
    "    > - Val Step 1, Minibatch Loss= 1.9003, Accuracy= 66.800\n",
    "    > - Trn Step 100, Minibatch Loss= 1.2101, Accuracy= 80.126\n",
    "    > - Val Step 100, Minibatch Loss= 1.2648, Accuracy= 80.550\n",
    "    > - Trn Step 1000, Minibatch Loss= 1.0394, Accuracy= 83.812\n",
    "    > - Val Step 1000, Minibatch Loss= 1.0760, Accuracy= 83.750\n",
    "\n",
    "    > - Test Accuracy: 83.600\n",
    "    > - Diff Error: 164/1000\n",
    "\n",
    "2. With input preprocessing: Two Layer Network\n",
    "\n",
    "    > Log\n",
    "    > - Trn Step 1, Minibatch Loss= 2.0676, Accuracy= 30.800\n",
    "    > - Val Step 1, Minibatch Loss= 2.1635, Accuracy= 27.600\n",
    "    > - Trn Step 100, Minibatch Loss= 0.8971, Accuracy= 51.700\n",
    "    > - Val Step 100, Minibatch Loss= 1.0530, Accuracy= 51.000\n",
    "    > - Trn Step 1000, Minibatch Loss= 0.6649, Accuracy= 80.600\n",
    "    > - Val Step 1000, Minibatch Loss= 0.6496, Accuracy= 83.100\n",
    "\n",
    "    > - Test Accuracy: 81.900\n",
    "    > - Diff Error: 181/1000\n",
    "\n",
    "\n",
    "\n",
    "###### Observations: Additional observations for two layer network only\n",
    "\n",
    "1. In this case we see a better result when compared to the single network but that may not always the case. Upon increasing the number of layers to two we add more capacity. By doing this we allow for complex fitting of the weights which leads to good results on the training data and I.I.D. test data. \n",
    "2. On increasing the learning rate we see that the convergence is quick around the loss value of 0.6496\n",
    "\n",
    "    > - Final Test Accuracy: 81.900\n",
    "    > - All the same observations as described for a single layer network as above. However here we see that due to higher capacity a better linear accuracy is observed at every neuron count.\n",
    "\n",
    "3. The number of neurons here are 4 each and provides a peak accuracy at that value. An overfitting may be occurring beyond that.\n",
    "\n",
    "    > - The test accuracy is 82% but we also see that the training and validation accuracy are 81% and 83% respectively. This is data specific and can be improved by increasing the size of the training data. 10000 test samples is not a great sample to compute a general accuracy for the entire dataset.\n",
    "\n",
    "![Num. of Neurons VS. Accuracy](network_perf.png)\n",
    "\n",
    "\n",
    "\n"
   ]
  },
  {
   "cell_type": "markdown",
   "metadata": {},
   "source": [
    "# Code Section"
   ]
  },
  {
   "cell_type": "code",
   "execution_count": 81,
   "metadata": {
    "ExecuteTime": {
     "end_time": "2018-05-01T05:53:46.468900Z",
     "start_time": "2018-05-01T05:53:46.463914Z"
    }
   },
   "outputs": [],
   "source": [
    "# -*- coding: utf-8 -*-\n",
    "\n",
    "import tensorflow as tf\n",
    "import numpy as np\n",
    "from math import *\n",
    "import matplotlib.pyplot as plt\n",
    "from matplotlib import cm\n",
    "from mpl_toolkits.mplot3d import Axes3D\n",
    "\n",
    "from scipy.stats import norm\n",
    "from IPython.display import Image, display, Math, Latex\n",
    "\n",
    "\n",
    "# Params\n",
    "n_inpoints = 10000"
   ]
  },
  {
   "cell_type": "code",
   "execution_count": 2,
   "metadata": {
    "ExecuteTime": {
     "end_time": "2018-05-01T05:27:08.443858Z",
     "start_time": "2018-05-01T05:27:08.279344Z"
    },
    "code_folding": [
     1
    ]
   },
   "outputs": [
    {
     "data": {
      "image/png": "[encoded data removed]",
      "text/plain": [
       "<Figure size 432x288 with 1 Axes>"
      ]
     },
     "metadata": {},
     "output_type": "display_data"
    }
   ],
   "source": [
    "def generateClass0():\n",
    "    theta0 = 0\n",
    "    lmb01 = 2\n",
    "    lmb02 = 1\n",
    "    m0 = (0,  0)\n",
    "    # computing u * u.T and later multiplying with lambda\n",
    "    cov01 = [[(cos(theta0))**2,    cos(theta0)*sin(theta0)],\n",
    "             [(sin(theta0))*cos(theta0), (sin(theta0))**2]]\n",
    "    cov02 = [[(sin(theta0))**2,    -(cos(theta0)*sin(theta0))],\n",
    "             [-(cos(theta0)*sin(theta0)), (cos(theta0))**2]]\n",
    "    cov0 = lmb01*np.matrix(cov01) + lmb02*np.matrix(cov02)\n",
    "    cov0_det = np.linalg.det(cov0)\n",
    "    x0, y0 = np.random.multivariate_normal(m0, cov0, int(n_inpoints/2)).T\n",
    "    return x0,y0\n",
    "\n",
    "x0, y0 = generateClass0()\n",
    "plt.scatter(x0, y0, color = 'r',marker='x', label = 'Cl 0')\n",
    "plt.legend()\n",
    "plt.title('Distribution of Class 0')\n",
    "plt.show()"
   ]
  },
  {
   "cell_type": "code",
   "execution_count": 3,
   "metadata": {
    "ExecuteTime": {
     "end_time": "2018-05-01T05:27:08.632386Z",
     "start_time": "2018-05-01T05:27:08.463767Z"
    },
    "code_folding": [
     1
    ]
   },
   "outputs": [
    {
     "data": {
      "image/png": "[encoded data removed]",
      "text/plain": [
       "<Figure size 432x288 with 1 Axes>"
      ]
     },
     "metadata": {},
     "output_type": "display_data"
    }
   ],
   "source": [
    "def generateClass1():\n",
    "    # Mixture A\n",
    "    theta1a = -3*pi/4\n",
    "    lmb1a1 = 2\n",
    "    lmb1a2 = 1/4\n",
    "    m1a = (-2, 1)\n",
    "    cov1a = [[(cos(theta1a))**2,    cos(theta1a)*sin(theta1a)],\n",
    "             [(sin(theta1a))*cos(theta1a), (sin(theta1a))**2]]\n",
    "    cov2a = [[(sin(theta1a))**2,    -(cos(theta1a)*sin(theta1a))],\n",
    "             [-(cos(theta1a)*sin(theta1a)), (cos(theta1a))**2]]\n",
    "    cov1a = lmb1a1*np.matrix(cov1a) + lmb1a2*np.matrix(cov2a)\n",
    "    cov1a_det = np.linalg.det(cov1a)\n",
    "    x1a, y1a = np.random.multivariate_normal(m1a, cov1a, int(n_inpoints/2)).T\n",
    "    #print('Shape: ',x1a.shape,', ',y1a.shape,', ',cov1a)\n",
    "\n",
    "    # Mixture B\n",
    "    theta1b = pi/4\n",
    "    lmb1b1 = 3\n",
    "    lmb1b2 = 1\n",
    "    m1b = (3, 2)\n",
    "    cov1b = [[(cos(theta1b))**2,    cos(theta1b)*sin(theta1b)],\n",
    "             [(sin(theta1b))*cos(theta1b), (sin(theta1b))**2]]\n",
    "    cov2b = [[(sin(theta1b))**2,    -(cos(theta1b)*sin(theta1b))],\n",
    "             [-(cos(theta1b)*sin(theta1b)), (cos(theta1b))**2]]\n",
    "    cov1b = lmb1b1*np.matrix(cov1b) + lmb1b2*np.matrix(cov2b)\n",
    "    cov1b_det = np.linalg.det(cov1b)\n",
    "    x1b, y1b = np.random.multivariate_normal(m1b, cov1b, int(n_inpoints/2)).T\n",
    "    #print('Shape: ',x1b.shape,', ',y1b.shape,', ',cov1b)\n",
    "\n",
    "    # Class 1 (A * 0.33 +B * 0.66)\n",
    "    y1 = np.array(y1a)* (1 / 3)+np.array(y1b)* (2 / 3)\n",
    "    x1 = np.array(x1a)* (1 / 3)+np.array(x1b)* (2 / 3)\n",
    "    return x1,y1\n",
    "\n",
    "x1, y1 = generateClass1()\n",
    "plt.scatter(x1, y1, color = 'b',marker='^', label = 'Cl 1')\n",
    "plt.title('Distribution of Class 1')\n",
    "plt.legend()\n",
    "plt.show()"
   ]
  },
  {
   "cell_type": "code",
   "execution_count": 4,
   "metadata": {
    "ExecuteTime": {
     "end_time": "2018-05-01T05:27:09.627240Z",
     "start_time": "2018-05-01T05:27:09.412613Z"
    }
   },
   "outputs": [
    {
     "name": "stdout",
     "output_type": "stream",
     "text": [
      "Shape; X: (10000,) , Y: (10000,)\n"
     ]
    },
    {
     "data": {
      "image/png": "[encoded data removed]",
      "text/plain": [
       "<Figure size 432x288 with 1 Axes>"
      ]
     },
     "metadata": {},
     "output_type": "display_data"
    }
   ],
   "source": [
    "x = np.concatenate((x0, x1))\n",
    "y = np.concatenate((y0, y1))\n",
    "print('Shape; X:',x.shape,', Y:',y.shape)\n",
    "plt.scatter(x0, y0, color = 'r',marker='x', label = 'Cl 0')\n",
    "plt.scatter(x1, y1, color = 'b',marker='^', label = 'Cl 1')\n",
    "plt.legend()\n",
    "plt.show()\n",
    "\n",
    "c0 = np.vstack((x0, y0)).T\n",
    "c1 = np.vstack((x1, y1)).T\n",
    "# ----------------------------------------\n",
    "# Set up the [xi, yi] training data vector\n",
    "# ----------------------------------------\n",
    "X = np.concatenate((c0,c1), axis = 0)\n",
    "Y = np.array([0]*int(n_inpoints/2) + [1]*int(n_inpoints/2)).reshape(n_inpoints,1)"
   ]
  },
  {
   "cell_type": "markdown",
   "metadata": {},
   "source": [
    "### Training, test and validation sets (70:20:10)\n",
    "\n",
    "##### Without Normalization"
   ]
  },
  {
   "cell_type": "code",
   "execution_count": 5,
   "metadata": {
    "ExecuteTime": {
     "end_time": "2018-05-01T05:27:12.744379Z",
     "start_time": "2018-05-01T05:27:12.731378Z"
    }
   },
   "outputs": [
    {
     "name": "stdout",
     "output_type": "stream",
     "text": [
      "(10000, 1)\n",
      "Train:  (7000, 1) (7000, 1)\n",
      "Valid:  (2, 2000) (2000, 1)\n",
      "Tests:  (2, 1000) (1000, 1)\n"
     ]
    }
   ],
   "source": [
    "# Divide the data into Train Valid, Test\n",
    "tot_count = n_inpoints\n",
    "trn_count = int(0.7 * tot_count)\n",
    "val_count = int(0.2 * tot_count)\n",
    "tst_count = int(0.1 * tot_count)\n",
    "\n",
    "# Shuffle X & Y values\n",
    "sfl_idx = np.arange(0,tot_count)\n",
    "np.random.shuffle(sfl_idx)\n",
    "\n",
    "Xc0 = X[:,0]\n",
    "Xc1 = X[:,1]\n",
    "Xc0 = Xc0.reshape(tot_count,1)\n",
    "Xc1 = Xc1.reshape(tot_count,1)\n",
    "print(Xc1.shape)\n",
    "\n",
    "train_X0 = Xc0[sfl_idx[np.arange(0,trn_count)]]\n",
    "train_X1 = Xc1[sfl_idx[np.arange(0,trn_count)]]\n",
    "train_Y = Y[sfl_idx[np.arange(0,trn_count)]]\n",
    "n_samples = train_X1.shape[0]\n",
    "\n",
    "valid_X0 = Xc0[sfl_idx[np.arange(trn_count,trn_count+val_count)]]\n",
    "valid_X1 = Xc1[sfl_idx[np.arange(trn_count,trn_count+val_count)]]\n",
    "valid_X  = np.vstack((valid_X0.T, valid_X1.T))\n",
    "valid_Y = Y[sfl_idx[np.arange(trn_count,trn_count+val_count)]]\n",
    "\n",
    "tests_X0 = Xc0[sfl_idx[np.arange(trn_count+val_count, tot_count)]]\n",
    "tests_X1 = Xc1[sfl_idx[np.arange(trn_count+val_count, tot_count)]]\n",
    "tests_X = np.vstack((tests_X0.T, tests_X1.T))\n",
    "tests_Y = Y[sfl_idx[np.arange(trn_count+val_count, tot_count)]]\n",
    "\n",
    "batchIndex = 0\n",
    "def getNextTrainBatch(size):\n",
    "    global batchIndex\n",
    "    if((batchIndex + size) >= trn_count):\n",
    "        size = trn_count-1\n",
    "        batchIndex = 0 # recycle the batches from start\n",
    "    \n",
    "    #trn_sfl_idx = np.arange(0,trn_count)\n",
    "    #np.random.shuffle(trn_sfl_idx)\n",
    "    trn_X0_r1 =  train_X0[np.arange(batchIndex, batchIndex  + size)]\n",
    "    trn_X1_r1 =  train_X1[np.arange(batchIndex, batchIndex  + size)]\n",
    "    trn_Y_r1  =   train_Y[np.arange(batchIndex, batchIndex  + size)]\n",
    "    #print(trn_X0_r1.shape)\n",
    "    trn_X = np.vstack((trn_X0_r1.T, trn_X1_r1.T))\n",
    "    #print((trn_X.T).shape)\n",
    "    batchIndex = batchIndex  + size\n",
    "    return trn_X.T, trn_Y_r1\n",
    "\n",
    "print('Train: ',train_X0.shape, train_Y.shape)\n",
    "print('Valid: ',valid_X.shape, valid_Y.shape)\n",
    "print('Tests: ',tests_X.shape, tests_Y.shape)"
   ]
  },
  {
   "cell_type": "markdown",
   "metadata": {},
   "source": [
    "##### With Normalization"
   ]
  },
  {
   "cell_type": "code",
   "execution_count": 6,
   "metadata": {
    "ExecuteTime": {
     "end_time": "2018-05-01T05:27:14.852797Z",
     "start_time": "2018-05-01T05:27:14.843824Z"
    }
   },
   "outputs": [
    {
     "name": "stdout",
     "output_type": "stream",
     "text": [
      "(7000, 1)\n",
      "(7000, 1)\n",
      "Train:  (2, 7000) (7000, 1)\n"
     ]
    }
   ],
   "source": [
    "# ------------------- \n",
    "# Normalize the data\n",
    "# ------------------- \n",
    "\n",
    "# Mean\n",
    "train_X0_mean = np.mean(train_X0)\n",
    "train_X1_mean = np.mean(train_X1)\n",
    "\n",
    "# Standard deviation\n",
    "train_X0_stddev = np.std(train_X0)\n",
    "train_X1_stddev = np.std(train_X1)\n",
    "\n",
    "# Normalization by scaling using standard deviation\n",
    "train_X0_nrm = (train_X0 - train_X0_mean)/train_X0_stddev\n",
    "train_X1_nrm = (train_X1 - train_X1_mean)/train_X1_stddev\n",
    "\n",
    "print(train_X0_nrm.shape)\n",
    "print(train_X1_nrm.shape)\n",
    "\n",
    "train_X_nrm = np.vstack((train_X0_nrm.T, train_X1_nrm.T))\n",
    "\n",
    "def getNextNormalizedTrainBatch(size):\n",
    "    global batchIndex\n",
    "    batchIndex = 0\n",
    "    if((batchIndex + size) >= trn_count):\n",
    "        size = trn_count-1\n",
    "        batchIndex = 0 # recycle the batches from start\n",
    "    # Shuffle the dataset each time\n",
    "    trn_sfl_idx = np.arange(batchIndex, batchIndex  + size)\n",
    "    np.random.shuffle(trn_sfl_idx)\n",
    "    trn_X0_r1 =  train_X0_nrm[trn_sfl_idx[np.arange(batchIndex, batchIndex  + size)]]\n",
    "    trn_X1_r1 =  train_X1_nrm[trn_sfl_idx[np.arange(batchIndex, batchIndex  + size)]]\n",
    "    trn_Y_r1  =  train_Y[trn_sfl_idx[np.arange(batchIndex, batchIndex  + size)]]\n",
    "    #print(trn_X0_r1.shape)\n",
    "    trn_X = np.vstack((trn_X0_r1.T, trn_X1_r1.T))\n",
    "    #print((trn_X.T).shape)\n",
    "    batchIndex = batchIndex  + size\n",
    "    return trn_X.T, trn_Y_r1\n",
    "\n",
    "print('Train: ',train_X_nrm.shape, train_Y.shape)\n",
    "#print('Valid: ',valid_X.shape, valid_Y.T)\n",
    "#print('Tests: ',tests_X.shape, tests_Y.T)"
   ]
  },
  {
   "cell_type": "code",
   "execution_count": 7,
   "metadata": {
    "ExecuteTime": {
     "end_time": "2018-05-01T05:27:16.762482Z",
     "start_time": "2018-05-01T05:27:16.019096Z"
    },
    "code_folding": [
     0
    ],
    "scrolled": false
   },
   "outputs": [
    {
     "name": "stdout",
     "output_type": "stream",
     "text": [
      "Epoch: 0050 cost= 0.086520113 W= [[0.22172657]] b= [[0.14955907]]\n",
      "Epoch: 0100 cost= 0.075541042 W= [[0.26486838]] b= [[0.20467149]]\n",
      "Epoch: 0150 cost= 0.073922656 W= [[0.2683425]] b= [[0.23227467]]\n",
      "Epoch: 0200 cost= 0.073287055 W= [[0.26424062]] b= [[0.2495297]]\n",
      "Epoch: 0250 cost= 0.072956562 W= [[0.25965545]] b= [[0.2615027]]\n",
      "Epoch: 0300 cost= 0.072778456 W= [[0.25591362]] b= [[0.27013934]]\n",
      "Epoch: 0350 cost= 0.072682224 W= [[0.25307462]] b= [[0.2764516]]\n",
      "Epoch: 0400 cost= 0.072630167 W= [[0.2509661]] b= [[0.28108466]]\n",
      "Epoch: 0450 cost= 0.072602026 W= [[0.24941045]] b= [[0.28448996]]\n",
      "Epoch: 0500 cost= 0.072586790 W= [[0.2482652]] b= [[0.286994]]\n",
      "Optimization Finished!\n",
      "Training cost= 0.07258679 W= [[0.2482652]] b= [[0.286994]] \n",
      "\n"
     ]
    },
    {
     "data": {
      "image/png": "[encoded data removed]",
      "text/plain": [
       "<Figure size 432x288 with 1 Axes>"
      ]
     },
     "metadata": {},
     "output_type": "display_data"
    }
   ],
   "source": [
    "def linearRegression():\n",
    "    # Parameters\n",
    "    learning_rate = 0.01\n",
    "    training_epochs = 500\n",
    "    display_step = 50\n",
    "    rng = np.random\n",
    "\n",
    "    # tf Graph Input\n",
    "    Xtf = tf.placeholder(tf.float32, [None, 1])\n",
    "    Ytf = tf.placeholder(tf.float32, [None, 1])\n",
    "\n",
    "    # Set model weights\n",
    "    # figure tf.rand\n",
    "    # tf.keras.initializer\n",
    "    Wtf = tf.Variable(np.zeros([1,1]), dtype=tf.float32, name=\"weight\")\n",
    "    btf = tf.Variable(np.zeros([1,1]), dtype=tf.float32, name=\"bias\")\n",
    "\n",
    "    # Construct a linear model\n",
    "    predtf = tf.add(tf.matmul(Xtf, Wtf), btf)\n",
    "\n",
    "    # Mean squared error\n",
    "    costtf = tf.reduce_sum(tf.pow(predtf-Ytf, 2))/(2*n_samples)\n",
    "    # Gradient descent\n",
    "    optimizer = tf.train.GradientDescentOptimizer(learning_rate).minimize(costtf)\n",
    "\n",
    "    # Initialize the variables (i.e. assign their default value)\n",
    "    init = tf.global_variables_initializer()\n",
    "\n",
    "    # Start training\n",
    "    with tf.Session() as sess:\n",
    "        sess.run(init)\n",
    "\n",
    "        # Fit all training data\n",
    "        for epoch in range(training_epochs):\n",
    "            sess.run(optimizer, feed_dict={Xtf: train_X1, Ytf: train_Y})\n",
    "            #Display logs per epoch step\n",
    "            if (epoch+1) % display_step == 0:\n",
    "                c = sess.run(costtf, feed_dict={Xtf: train_X1, Ytf:train_Y})\n",
    "                print(\"Epoch:\", '%04d' % (epoch+1), \"cost=\", \"{:.9f}\".format(c), \\\n",
    "                    \"W=\", sess.run(Wtf), \"b=\", sess.run(btf))\n",
    "        print(\"Optimization Finished!\")\n",
    "        training_cost = sess.run(costtf, feed_dict={Xtf: train_X1, Ytf: train_Y})\n",
    "        print(\"Training cost=\", training_cost, \"W=\", sess.run(Wtf), \"b=\", sess.run(btf), '\\n')\n",
    "\n",
    "        #Graphic display plt.plot(train_X, train_Y, 'ro', label='Original data')\n",
    "        plt.scatter(x0, y0, color = 'r',marker='x', label = 'Cl 0')\n",
    "        plt.scatter(x1, y1, color = 'b',marker='^', label = 'Cl 1')\n",
    "        plt.plot(train_X1, sess.run(Wtf) * train_X1 + sess.run(btf), label='Fitted line')\n",
    "        plt.legend()\n",
    "        plt.show()\n",
    "        sess.close()\n",
    "\n",
    "# Run Linear Regression\n",
    "linearRegression()"
   ]
  },
  {
   "cell_type": "markdown",
   "metadata": {
    "ExecuteTime": {
     "end_time": "2018-04-25T19:47:57.057672Z",
     "start_time": "2018-04-25T19:47:57.049887Z"
    }
   },
   "source": [
    "### Neural Network implementation\n",
    "- 1.(a) One hidden layer"
   ]
  },
  {
   "cell_type": "code",
   "execution_count": 55,
   "metadata": {
    "ExecuteTime": {
     "end_time": "2018-05-01T05:39:14.618667Z",
     "start_time": "2018-05-01T05:39:10.948314Z"
    },
    "code_folding": [],
    "scrolled": false
   },
   "outputs": [
    {
     "name": "stdout",
     "output_type": "stream",
     "text": [
      "Trn Step 1, Minibatch Loss= 1.3303, Accuracy= 30.100\n",
      "differr: 699\n",
      "Val Step 1, Minibatch Loss= 1.6977, Accuracy= 33.150\n",
      "differr: 1337\n",
      "Trn Step 100, Minibatch Loss= 1.0398, Accuracy= 36.600\n",
      "differr: 634\n",
      "Val Step 100, Minibatch Loss= 1.2065, Accuracy= 37.400\n",
      "differr: 1252\n",
      "Trn Step 200, Minibatch Loss= 0.8524, Accuracy= 47.100\n",
      "differr: 529\n",
      "Val Step 200, Minibatch Loss= 0.8916, Accuracy= 48.650\n",
      "differr: 1027\n",
      "Trn Step 300, Minibatch Loss= 0.7363, Accuracy= 59.500\n",
      "differr: 405\n",
      "Val Step 300, Minibatch Loss= 0.7172, Accuracy= 64.550\n",
      "differr: 709\n",
      "Trn Step 400, Minibatch Loss= 0.6629, Accuracy= 65.900\n",
      "differr: 341\n",
      "Val Step 400, Minibatch Loss= 0.6273, Accuracy= 73.700\n",
      "differr: 526\n",
      "Trn Step 500, Minibatch Loss= 0.6144, Accuracy= 71.800\n",
      "differr: 282\n",
      "Val Step 500, Minibatch Loss= 0.5822, Accuracy= 76.900\n",
      "differr: 462\n",
      "Trn Step 600, Minibatch Loss= 0.5808, Accuracy= 75.400\n",
      "differr: 246\n",
      "Val Step 600, Minibatch Loss= 0.5606, Accuracy= 77.900\n",
      "differr: 442\n",
      "Trn Step 700, Minibatch Loss= 0.5567, Accuracy= 76.900\n",
      "differr: 231\n",
      "Val Step 700, Minibatch Loss= 0.5517, Accuracy= 78.200\n",
      "differr: 436\n",
      "Trn Step 800, Minibatch Loss= 0.5387, Accuracy= 78.800\n",
      "differr: 212\n",
      "Val Step 800, Minibatch Loss= 0.5500, Accuracy= 77.450\n",
      "differr: 451\n",
      "Trn Step 900, Minibatch Loss= 0.5250, Accuracy= 80.000\n",
      "differr: 200\n",
      "Val Step 900, Minibatch Loss= 0.5525, Accuracy= 77.250\n",
      "differr: 455\n",
      "Trn Step 1000, Minibatch Loss= 0.5143, Accuracy= 80.700\n",
      "differr: 193\n",
      "Val Step 1000, Minibatch Loss= 0.5572, Accuracy= 76.700\n",
      "differr: 466\n",
      "Optimization Finished!\n",
      "Test Accuracy: 77.100\n",
      "actuals: (1000, 1)\n",
      "predict: (1000, 1)\n",
      "differr: 229\n"
     ]
    }
   ],
   "source": [
    "def oneHiddenNeuralNetwork():\n",
    "    # Parameters\n",
    "    learning_rate = 0.001\n",
    "    num_steps = 1000\n",
    "    batch_size = 1000\n",
    "    display_step = 100\n",
    "    reg_const_lambda = 0.01\n",
    "\n",
    "    # Network Parameters\n",
    "    n_hidden_1 = 9 # 1st layer number of neurons\n",
    "    num_input = 2  # data input (shape: 2 * 70)\n",
    "    num_classes = 1 # total classes (0 or 1 based on the value)\n",
    "\n",
    "    # tf Graph input\n",
    "    X = tf.placeholder(\"float\", [None, num_input])\n",
    "    Y = tf.placeholder(\"float\", [None, num_classes])\n",
    "\n",
    "    # Store layers weight & bias (initializing using random nromal)\n",
    "    weights = {\n",
    "        'h1': tf.Variable(tf.random_normal([num_input, n_hidden_1])),\n",
    "        'out': tf.Variable(tf.random_normal([n_hidden_1, num_classes]))\n",
    "    }\n",
    "    biases = {\n",
    "        'b1': tf.Variable(tf.random_normal([n_hidden_1])),\n",
    "        'out': tf.Variable(tf.random_normal([num_classes]))\n",
    "    }\n",
    "\n",
    "    # Create model\n",
    "    def one_neural_net(x):\n",
    "        # Hidden fully connected layer, a1 \n",
    "        layer_1 = tf.add(tf.matmul(x, weights['h1']), biases['b1'])\n",
    "        #layer_1 = tf.nn.relu(layer_1)\n",
    "        # Output fully connected layer with a neuron for each class \n",
    "        out_layer = tf.matmul(layer_1, weights['out']) + biases['out']\n",
    "        return out_layer\n",
    "\n",
    "    # Construct model\n",
    "    logits = one_neural_net(X)\n",
    "    output = tf.sigmoid(logits) # Convert output to a probability\n",
    "\n",
    "    # Define loss and optimizer\n",
    "    cel_loss_op = tf.reduce_mean(tf.nn.sigmoid_cross_entropy_with_logits(logits=logits, labels=Y))\n",
    "    reg_loss = tf.nn.l2_loss(weights['h1']) + tf.nn.l2_loss(weights['out']) # L2 regularization\n",
    "    loss_op = tf.reduce_mean(cel_loss_op + reg_const_lambda*reg_loss) \n",
    "    \n",
    "    optimizer = tf.train.GradientDescentOptimizer(learning_rate=learning_rate)\n",
    "    train_op = optimizer.minimize(loss_op)\n",
    "\n",
    "    # Evaluate model (with test logits, for dropout to be disabled)\n",
    "    # keep in mind boolean to float32 tensor output\n",
    "    #correct_pred = tf.equal(tf.argmax(logits, 1), tf.argmax(Y, 1))\n",
    "    correct_pred = tf.cast(tf.greater(output, 0.5), tf.float32)\n",
    "    accuracy = tf.reduce_mean(tf.cast(tf.equal(correct_pred, Y), tf.float32))\n",
    "\n",
    "    # Initialize the variables (i.e. assign their default value)\n",
    "    init = tf.global_variables_initializer()\n",
    "\n",
    "    # Start training\n",
    "    batchIndex = 0\n",
    "    with tf.Session() as sess:\n",
    "        # Run the initializer\n",
    "        sess.run(init)\n",
    "        for step in range(1, num_steps+1):\n",
    "            batch_x, batch_y = getNextNormalizedTrainBatch(batch_size)\n",
    "            # Run optimization op (backprop)\n",
    "           # print(batch_x)\n",
    "           # print(batch_y)\n",
    "            sess.run(train_op, feed_dict={X: batch_x, Y: batch_y})\n",
    "            if step % display_step == 0 or step == 1:\n",
    "                # Training batch loss and accuracy\n",
    "                loss, acc, pred = sess.run([loss_op, accuracy, correct_pred], feed_dict={X: batch_x,\n",
    "                                                                     Y: batch_y})\n",
    "                print(\"Trn Step \" + str(step) + \", Minibatch Loss= \" + \\\n",
    "                      \"{:.4f}\".format(loss) + \", Accuracy= \" + \\\n",
    "                      \"{:.3f}\".format(100*acc))           \n",
    "                #print(\"actuals:\", batch_y.T)\n",
    "                #print(\"predict:\", pred.T)\n",
    "                print(\"differr:\", (pred.T != batch_y.T).sum())\n",
    "                # Validation accuracy\n",
    "                loss_v, acc_v, pred_v = sess.run([loss_op, accuracy, correct_pred], feed_dict={X: valid_X.T,\n",
    "                                                                     Y: valid_Y})\n",
    "                print(\"Val Step \" + str(step) + \", Minibatch Loss= \" + \\\n",
    "                      \"{:.4f}\".format(loss_v) + \", Accuracy= \" + \\\n",
    "                      \"{:.3f}\".format(100*acc_v))\n",
    "                #print(\"actuals:\", valid_Y.T)\n",
    "                #print(\"predict:\", pred_v.T)\n",
    "                print(\"differr:\", (pred_v.T != valid_Y.T).sum())\n",
    "\n",
    "        print(\"Optimization Finished!\")\n",
    "        # Calculate accuracy for test data\n",
    "        acc_t, pred_t = sess.run([accuracy,correct_pred], feed_dict={X: tests_X.T, Y: tests_Y})\n",
    "        print(\"Test Accuracy:\", \"{:.3f}\".format(100*acc_t))\n",
    "        print(\"actuals:\", tests_Y.shape)\n",
    "        print(\"predict:\", pred_t.shape)\n",
    "        print(\"differr:\", (pred_t.T != tests_Y.T).sum())\n",
    "        sess.close()\n",
    "\n",
    "# Execute\n",
    "oneHiddenNeuralNetwork() "
   ]
  },
  {
   "cell_type": "markdown",
   "metadata": {
    "ExecuteTime": {
     "end_time": "2018-04-29T00:03:11.680381Z",
     "start_time": "2018-04-29T00:03:11.549763Z"
    }
   },
   "source": [
    "\n",
    "- 1.(b) Two hidden layer"
   ]
  },
  {
   "cell_type": "code",
   "execution_count": 74,
   "metadata": {
    "ExecuteTime": {
     "end_time": "2018-05-01T05:45:13.076889Z",
     "start_time": "2018-05-01T05:45:08.276932Z"
    },
    "code_folding": [],
    "scrolled": false
   },
   "outputs": [
    {
     "name": "stdout",
     "output_type": "stream",
     "text": [
      "Trn Step 1, Minibatch Loss= 2.0676, Accuracy= 30.800\n",
      "differr: 692\n",
      "Val Step 1, Minibatch Loss= 2.1635, Accuracy= 27.600\n",
      "differr: 1448\n",
      "Trn Step 100, Minibatch Loss= 0.8971, Accuracy= 51.700\n",
      "differr: 483\n",
      "Val Step 100, Minibatch Loss= 1.0530, Accuracy= 51.000\n",
      "differr: 980\n",
      "Trn Step 200, Minibatch Loss= 0.8193, Accuracy= 63.700\n",
      "differr: 363\n",
      "Val Step 200, Minibatch Loss= 0.8234, Accuracy= 67.850\n",
      "differr: 643\n",
      "Trn Step 300, Minibatch Loss= 0.7975, Accuracy= 67.100\n",
      "differr: 329\n",
      "Val Step 300, Minibatch Loss= 0.7820, Accuracy= 73.050\n",
      "differr: 539\n",
      "Trn Step 400, Minibatch Loss= 0.7781, Accuracy= 69.600\n",
      "differr: 304\n",
      "Val Step 400, Minibatch Loss= 0.7564, Accuracy= 76.400\n",
      "differr: 472\n",
      "Trn Step 500, Minibatch Loss= 0.7584, Accuracy= 71.600\n",
      "differr: 284\n",
      "Val Step 500, Minibatch Loss= 0.7352, Accuracy= 78.150\n",
      "differr: 437\n",
      "Trn Step 600, Minibatch Loss= 0.7395, Accuracy= 73.900\n",
      "differr: 261\n",
      "Val Step 600, Minibatch Loss= 0.7148, Accuracy= 79.250\n",
      "differr: 415\n",
      "Trn Step 700, Minibatch Loss= 0.7202, Accuracy= 76.200\n",
      "differr: 238\n",
      "Val Step 700, Minibatch Loss= 0.6950, Accuracy= 81.150\n",
      "differr: 377\n",
      "Trn Step 800, Minibatch Loss= 0.7005, Accuracy= 77.900\n",
      "differr: 221\n",
      "Val Step 800, Minibatch Loss= 0.6776, Accuracy= 82.000\n",
      "differr: 360\n",
      "Trn Step 900, Minibatch Loss= 0.6820, Accuracy= 78.800\n",
      "differr: 212\n",
      "Val Step 900, Minibatch Loss= 0.6624, Accuracy= 82.850\n",
      "differr: 343\n",
      "Trn Step 1000, Minibatch Loss= 0.6649, Accuracy= 80.600\n",
      "differr: 194\n",
      "Val Step 1000, Minibatch Loss= 0.6496, Accuracy= 83.100\n",
      "differr: 338\n",
      "Optimization Finished!\n",
      "Test Accuracy: 81.900\n",
      "actuals: (1000, 1)\n",
      "predict: (1000, 1)\n",
      "differr: 181\n"
     ]
    }
   ],
   "source": [
    "def twoHiddenNeuralNetwork():\n",
    "    # Parameters\n",
    "    learning_rate = 0.01\n",
    "    num_steps = 1000\n",
    "    batch_size = 1000\n",
    "    display_step = 100\n",
    "    reg_const_lambda = 0.01\n",
    "\n",
    "    # Network Parameters\n",
    "    n_hidden_1 = 4 # 1st layer number of neurons\n",
    "    n_hidden_2 = 4 # 2nd layer number of neurons\n",
    "    num_input = 2  # data input (shape: 2 * 70)\n",
    "    num_classes = 1 # total classes (0 or 1 based on the value)\n",
    "\n",
    "    # tf Graph input\n",
    "    X = tf.placeholder(\"float\", [None, num_input])\n",
    "    Y = tf.placeholder(\"float\", [None, num_classes])\n",
    "\n",
    "    # Store layers weight & bias (initializing using random nromal)\n",
    "    weights = {\n",
    "        'h1': tf.Variable(tf.random_normal([num_input, n_hidden_1])),\n",
    "        'h2': tf.Variable(tf.random_normal([n_hidden_1, n_hidden_2])),\n",
    "        'out': tf.Variable(tf.random_normal([n_hidden_2, num_classes]))\n",
    "    }\n",
    "    biases = {\n",
    "        'b1': tf.Variable(tf.random_normal([n_hidden_1])),\n",
    "        'b2': tf.Variable(tf.random_normal([n_hidden_2])),\n",
    "        'out': tf.Variable(tf.random_normal([num_classes]))\n",
    "    }\n",
    "\n",
    "    # Create model\n",
    "    def two_neural_net(x):\n",
    "        # Hidden fully connected layer, a1 \n",
    "        layer_1 = tf.add(tf.matmul(x, weights['h1']), biases['b1'])\n",
    "        layer_1 = tf.nn.relu(layer_1)\n",
    "        layer_2 = tf.add(tf.matmul(layer_1, weights['h2']), biases['b2'])\n",
    "        layer_2 = tf.nn.relu(layer_2)\n",
    "        # Output fully connected layer with a neuron for each class \n",
    "        out_layer = tf.matmul(layer_2, weights['out']) + biases['out']\n",
    "        return out_layer\n",
    "\n",
    "    # Construct model\n",
    "    logits = two_neural_net(X)\n",
    "    output = tf.sigmoid(logits) # Convert output to a probability\n",
    "\n",
    "    # Define loss and optimizer\n",
    "    cel_loss_op = tf.reduce_mean(tf.nn.sigmoid_cross_entropy_with_logits(logits=logits, labels=Y))\n",
    "    reg_loss = tf.nn.l2_loss(weights['h1']) + tf.nn.l2_loss(weights['h2']) + tf.nn.l2_loss(weights['out']) # L2 regularization\n",
    "    loss_op = tf.reduce_mean(cel_loss_op + reg_const_lambda*reg_loss) \n",
    "    \n",
    "    optimizer = tf.train.GradientDescentOptimizer(learning_rate=learning_rate)\n",
    "    train_op = optimizer.minimize(loss_op)\n",
    "    \n",
    "    # Evaluate model (with test logits, for dropout to be disabled)\n",
    "    # keep in mind boolean to float32 tensor output\n",
    "    #correct_pred = tf.equal(tf.argmax(logits, 1), tf.argmax(Y, 1))\n",
    "    correct_pred = tf.cast(tf.greater(output, 0.5), tf.float32)\n",
    "    accuracy = tf.reduce_mean(tf.cast(tf.equal(correct_pred, Y), tf.float32))\n",
    "\n",
    "    # Initialize the variables (i.e. assign their default value)\n",
    "    init = tf.global_variables_initializer()\n",
    "\n",
    "    # Start training\n",
    "    batchIndex = 0\n",
    "    with tf.Session() as sess:\n",
    "        # Run the initializer\n",
    "        sess.run(init)\n",
    "        for step in range(1, num_steps+1):\n",
    "            batch_x, batch_y = getNextNormalizedTrainBatch(batch_size)\n",
    "            # Run optimization op (backprop)\n",
    "           # print(batch_x)\n",
    "           # print(batch_y)\n",
    "            sess.run(train_op, feed_dict={X: batch_x, Y: batch_y})\n",
    "            if step % display_step == 0 or step == 1:\n",
    "                # Training batch loss and accuracy\n",
    "                loss, acc, pred = sess.run([loss_op, accuracy, correct_pred], feed_dict={X: batch_x,\n",
    "                                                                     Y: batch_y})\n",
    "                print(\"Trn Step \" + str(step) + \", Minibatch Loss= \" + \\\n",
    "                      \"{:.4f}\".format(loss) + \", Accuracy= \" + \\\n",
    "                      \"{:.3f}\".format(100*acc))           \n",
    "                #print(\"actuals:\", batch_y.T)\n",
    "                #print(\"predict:\", pred.T)\n",
    "                print(\"differr:\", (pred.T != batch_y.T).sum())\n",
    "                # Validation accuracy\n",
    "                loss_v, acc_v, pred_v = sess.run([loss_op, accuracy, correct_pred], feed_dict={X: valid_X.T,\n",
    "                                                                     Y: valid_Y})\n",
    "                print(\"Val Step \" + str(step) + \", Minibatch Loss= \" + \\\n",
    "                      \"{:.4f}\".format(loss_v) + \", Accuracy= \" + \\\n",
    "                      \"{:.3f}\".format(100*acc_v))\n",
    "                #print(\"actuals:\", valid_Y.T)\n",
    "                #print(\"predict:\", pred_v.T)\n",
    "                print(\"differr:\", (pred_v.T != valid_Y.T).sum())\n",
    "\n",
    "        print(\"Optimization Finished!\")\n",
    "        # Calculate accuracy for test data\n",
    "        acc_t, pred_t = sess.run([accuracy,correct_pred], feed_dict={X: tests_X.T, Y: tests_Y})\n",
    "        print(\"Test Accuracy:\", \"{:.3f}\".format(100*acc_t))\n",
    "        print(\"actuals:\", tests_Y.shape)\n",
    "        print(\"predict:\", pred_t.shape)\n",
    "        print(\"differr:\", (pred_t.T != tests_Y.T).sum())\n",
    "        sess.close()\n",
    "\n",
    "# Execute\n",
    "twoHiddenNeuralNetwork() "
   ]
  },
  {
   "cell_type": "markdown",
   "metadata": {
    "ExecuteTime": {
     "end_time": "2018-05-01T05:53:53.905236Z",
     "start_time": "2018-05-01T05:53:53.784559Z"
    }
   },
   "source": [
    "### Results"
   ]
  },
  {
   "cell_type": "code",
   "execution_count": 83,
   "metadata": {
    "ExecuteTime": {
     "end_time": "2018-05-01T05:54:23.479288Z",
     "start_time": "2018-05-01T05:54:23.344648Z"
    }
   },
   "outputs": [
    {
     "data": {
      "image/png": "[encoded data removed]",
      "text/plain": [
       "<Figure size 432x288 with 1 Axes>"
      ]
     },
     "metadata": {},
     "output_type": "display_data"
    }
   ],
   "source": [
    "num_neurons = np.arange(0, 15)\n",
    "accuracy_1_net = [50,66,57,72,75,72,74,69,77,75,74,70,70,74,75]\n",
    "accuracy_2_net = [74,67,78,82,73,78,79,75,78,79,80,80,80,78,80]\n",
    "plt.plot(num_neurons, accuracy_2_net,  c = 'red' , label = 'Two Layer Network')\n",
    "plt.plot(num_neurons, accuracy_1_net, c = 'blue' , label = 'One Layer Network')\n",
    "plt.legend()\n",
    "plt.title(\"Number of Neurons vs Accuracy\")\n",
    "plt.show()"
   ]
  }
 ],
 "metadata": {
  "kernelspec": {
   "display_name": "Python [conda env:tflo]",
   "language": "python",
   "name": "conda-env-tflo-py"
  },
  "language_info": {
   "codemirror_mode": {
    "name": "ipython",
    "version": 3
   },
   "file_extension": ".py",
   "mimetype": "text/x-python",
   "name": "python",
   "nbconvert_exporter": "python",
   "pygments_lexer": "ipython3",
   "version": "3.6.4"
  }
 },
 "nbformat": 4,
 "nbformat_minor": 2
}
