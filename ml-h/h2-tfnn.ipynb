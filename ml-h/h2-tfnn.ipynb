{
 "cells": [
  {
   "cell_type": "markdown",
   "metadata": {},
   "source": [
    "###### ECE 283: Homework 2\n",
    "###### Topics: Classification using neural networks\n",
    "###### Due: Monday April 30\n",
    "----------------------------------------\n",
    "\n",
    "- Neural networks; Tensorflow\n",
    "- 2D synthetic gaussian mixture data for binary classification"
   ]
  },
  {
   "cell_type": "code",
   "execution_count": 1,
   "metadata": {
    "ExecuteTime": {
     "end_time": "2018-04-28T23:59:12.204569Z",
     "start_time": "2018-04-28T23:59:10.214322Z"
    }
   },
   "outputs": [
    {
     "name": "stderr",
     "output_type": "stream",
     "text": [
      "C:\\Users\\Karma\\Anaconda3\\envs\\tflo\\lib\\site-packages\\h5py\\__init__.py:36: FutureWarning: Conversion of the second argument of issubdtype from `float` to `np.floating` is deprecated. In future, it will be treated as `np.float64 == np.dtype(float).type`.\n",
      "  from ._conv import register_converters as _register_converters\n"
     ]
    }
   ],
   "source": [
    "# -*- coding: utf-8 -*-\n",
    "\n",
    "import tensorflow as tf\n",
    "import numpy as np\n",
    "from math import *\n",
    "import matplotlib.pyplot as plt\n",
    "from matplotlib import cm\n",
    "from mpl_toolkits.mplot3d import Axes3D\n",
    "\n",
    "from scipy.stats import norm\n",
    "from IPython.display import Image, display, Math, Latex\n",
    "\n",
    "\n",
    "# Params\n",
    "n_inpoints = 100"
   ]
  },
  {
   "cell_type": "code",
   "execution_count": 2,
   "metadata": {
    "ExecuteTime": {
     "end_time": "2018-04-28T23:59:12.330193Z",
     "start_time": "2018-04-28T23:59:12.205550Z"
    },
    "code_folding": [
     1
    ]
   },
   "outputs": [
    {
     "data": {
      "image/png": "[encoded data removed]",
      "text/plain": [
       "<Figure size 432x288 with 1 Axes>"
      ]
     },
     "metadata": {},
     "output_type": "display_data"
    }
   ],
   "source": [
    "def generateClass0():\n",
    "    theta0 = 0\n",
    "    lmb01 = 2\n",
    "    lmb02 = 1\n",
    "    m0 = (0,  0)\n",
    "    # computing u * u.T and later multiplying with lambda\n",
    "    cov01 = [[(cos(theta0))**2,    cos(theta0)*sin(theta0)],\n",
    "             [(sin(theta0))*cos(theta0), (sin(theta0))**2]]\n",
    "    cov02 = [[(sin(theta0))**2,    -(cos(theta0)*sin(theta0))],\n",
    "             [-(cos(theta0)*sin(theta0)), (cos(theta0))**2]]\n",
    "    cov0 = lmb01*np.matrix(cov01) + lmb02*np.matrix(cov02)\n",
    "    cov0_det = np.linalg.det(cov0)\n",
    "    x0, y0 = np.random.multivariate_normal(m0, cov0, int(n_inpoints/2)).T\n",
    "    return x0,y0\n",
    "\n",
    "x0, y0 = generateClass0()\n",
    "plt.scatter(x0, y0, color = 'r',marker='x', label = 'Cl 0')\n",
    "plt.legend()\n",
    "plt.title('Distribution of Class 0')\n",
    "plt.show()"
   ]
  },
  {
   "cell_type": "code",
   "execution_count": 3,
   "metadata": {
    "ExecuteTime": {
     "end_time": "2018-04-28T23:59:12.484787Z",
     "start_time": "2018-04-28T23:59:12.333193Z"
    },
    "code_folding": [
     1
    ]
   },
   "outputs": [
    {
     "data": {
      "image/png": "[encoded data removed]",
      "text/plain": [
       "<Figure size 432x288 with 1 Axes>"
      ]
     },
     "metadata": {},
     "output_type": "display_data"
    }
   ],
   "source": [
    "def generateClass1():\n",
    "    # Mixture A\n",
    "    theta1a = -3*pi/4\n",
    "    lmb1a1 = 2\n",
    "    lmb1a2 = 1/4\n",
    "    m1a = (-2, 1)\n",
    "    cov1a = [[(cos(theta1a))**2,    cos(theta1a)*sin(theta1a)],\n",
    "             [(sin(theta1a))*cos(theta1a), (sin(theta1a))**2]]\n",
    "    cov2a = [[(sin(theta1a))**2,    -(cos(theta1a)*sin(theta1a))],\n",
    "             [-(cos(theta1a)*sin(theta1a)), (cos(theta1a))**2]]\n",
    "    cov1a = lmb1a1*np.matrix(cov1a) + lmb1a2*np.matrix(cov2a)\n",
    "    cov1a_det = np.linalg.det(cov1a)\n",
    "    x1a, y1a = np.random.multivariate_normal(m1a, cov1a, int(n_inpoints/2)).T\n",
    "    #print('Shape: ',x1a.shape,', ',y1a.shape,', ',cov1a)\n",
    "\n",
    "    # Mixture B\n",
    "    theta1b = pi/4\n",
    "    lmb1b1 = 3\n",
    "    lmb1b2 = 1\n",
    "    m1b = (3, 2)\n",
    "    cov1b = [[(cos(theta1b))**2,    cos(theta1b)*sin(theta1b)],\n",
    "             [(sin(theta1b))*cos(theta1b), (sin(theta1b))**2]]\n",
    "    cov2b = [[(sin(theta1b))**2,    -(cos(theta1b)*sin(theta1b))],\n",
    "             [-(cos(theta1b)*sin(theta1b)), (cos(theta1b))**2]]\n",
    "    cov1b = lmb1b1*np.matrix(cov1b) + lmb1b2*np.matrix(cov2b)\n",
    "    cov1b_det = np.linalg.det(cov1b)\n",
    "    x1b, y1b = np.random.multivariate_normal(m1b, cov1b, int(n_inpoints/2)).T\n",
    "    #print('Shape: ',x1b.shape,', ',y1b.shape,', ',cov1b)\n",
    "\n",
    "    # Class 1 (A * 0.33 +B * 0.66)\n",
    "    y1 = np.array(y1a)* (1 / 3)+np.array(y1b)* (2 / 3)\n",
    "    x1 = np.array(x1a)* (1 / 3)+np.array(x1b)* (2 / 3)\n",
    "    return x1,y1\n",
    "\n",
    "x1, y1 = generateClass1()\n",
    "plt.scatter(x1, y1, color = 'b',marker='^', label = 'Cl 1')\n",
    "plt.title('Distribution of Class 1')\n",
    "plt.legend()\n",
    "plt.show()"
   ]
  },
  {
   "cell_type": "code",
   "execution_count": 4,
   "metadata": {
    "ExecuteTime": {
     "end_time": "2018-04-28T23:59:12.671285Z",
     "start_time": "2018-04-28T23:59:12.487775Z"
    }
   },
   "outputs": [
    {
     "name": "stdout",
     "output_type": "stream",
     "text": [
      "Shape; X: (100,) , Y: (100,)\n"
     ]
    },
    {
     "data": {
      "image/png": "[encoded data removed]",
      "text/plain": [
       "<Figure size 432x288 with 1 Axes>"
      ]
     },
     "metadata": {},
     "output_type": "display_data"
    }
   ],
   "source": [
    "x = np.concatenate((x0, x1))\n",
    "y = np.concatenate((y0, y1))\n",
    "print('Shape; X:',x.shape,', Y:',y.shape)\n",
    "plt.scatter(x0, y0, color = 'r',marker='x', label = 'Cl 0')\n",
    "plt.scatter(x1, y1, color = 'b',marker='^', label = 'Cl 1')\n",
    "plt.legend()\n",
    "plt.show()\n",
    "\n",
    "c0 = np.vstack((x0, y0)).T\n",
    "c1 = np.vstack((x1, y1)).T\n",
    "# ----------------------------------------\n",
    "# Set up the [xi, yi] training data vector\n",
    "# ----------------------------------------\n",
    "X = np.concatenate((c0,c1), axis = 0)\n",
    "Y = np.array([0]*int(n_inpoints/2) + [1]*int(n_inpoints/2)).reshape(n_inpoints,1)"
   ]
  },
  {
   "cell_type": "markdown",
   "metadata": {},
   "source": [
    "### Training, test and validation sets (70:20:10)"
   ]
  },
  {
   "cell_type": "code",
   "execution_count": 5,
   "metadata": {
    "ExecuteTime": {
     "end_time": "2018-04-28T23:59:12.689268Z",
     "start_time": "2018-04-28T23:59:12.674308Z"
    }
   },
   "outputs": [
    {
     "name": "stdout",
     "output_type": "stream",
     "text": [
      "(100, 1)\n",
      "(5, 2)\n",
      "(array([[ 2.21657231,  0.57519528],\n",
      "       [ 2.10700634,  2.27001109],\n",
      "       [ 1.42137504,  1.87006252],\n",
      "       [-2.56472495, -0.80598147],\n",
      "       [ 0.16106261,  0.4282983 ]]), array([[1],\n",
      "       [1],\n",
      "       [1],\n",
      "       [0],\n",
      "       [0]]))\n",
      "Train:  (70, 1) [[1 1 1 0 0 0 1 0 0 1 0 0 0 0 0 1 1 1 1 1 1 1 1 0 1 0 1 1 1 1 1 1 0 0 0 1\n",
      "  1 1 0 1 1 0 0 1 0 1 0 1 1 1 1 0 0 1 0 1 0 0 1 0 0 0 1 0 0 1 0 1 1 0]]\n",
      "Valid:  (2, 20) [[1 0 0 1 0 1 1 0 0 1 0 0 1 0 1 0 1 0 0 0]]\n"
     ]
    }
   ],
   "source": [
    "\n",
    "# Divide the data into Train Valid, Test\n",
    "tot_count = n_inpoints\n",
    "trn_count = 70\n",
    "val_count = 20\n",
    "tst_count = 10\n",
    "\n",
    "# Shuffle X & Y values\n",
    "sfl_idx = np.arange(0,tot_count)\n",
    "np.random.shuffle(sfl_idx)\n",
    "\n",
    "Xc0 = X[:,0]\n",
    "Xc1 = X[:,1]\n",
    "Xc0 = Xc0.reshape(tot_count,1)\n",
    "Xc1 = Xc1.reshape(tot_count,1)\n",
    "print(Xc1.shape)\n",
    "\n",
    "train_X0 = Xc0[sfl_idx[np.arange(0,trn_count)]]\n",
    "train_X1 = Xc1[sfl_idx[np.arange(0,trn_count)]]\n",
    "train_Y = Y[sfl_idx[np.arange(0,trn_count)]]\n",
    "n_samples = train_X1.shape[0]\n",
    "\n",
    "valid_X0 = Xc0[sfl_idx[np.arange(trn_count,trn_count+val_count)]]\n",
    "valid_X1 = Xc1[sfl_idx[np.arange(trn_count,trn_count+val_count)]]\n",
    "valid_X  = np.vstack((valid_X0.T, valid_X1.T))\n",
    "valid_Y = Y[sfl_idx[np.arange(trn_count,trn_count+val_count)]]\n",
    "\n",
    "tests_X0 = Xc0[sfl_idx[np.arange(trn_count+val_count, tot_count)]]\n",
    "tests_X1 = Xc1[sfl_idx[np.arange(trn_count+val_count, tot_count)]]\n",
    "tests_X = np.vstack((tests_X0.T, tests_X1.T))\n",
    "tests_Y = Y[sfl_idx[np.arange(trn_count+val_count, tot_count)]]\n",
    "\n",
    "batchIndex = 0\n",
    "def getNextTrainBatch(size):\n",
    "    global batchIndex\n",
    "    if((batchIndex + size) >= trn_count):\n",
    "        size = trn_count-1\n",
    "        batchIndex = 0 # recycle the batches from start\n",
    "    \n",
    "    #trn_sfl_idx = np.arange(0,trn_count)\n",
    "    #np.random.shuffle(trn_sfl_idx)\n",
    "    trn_X0_r1 =  train_X0[np.arange(batchIndex, batchIndex  + size)]\n",
    "    trn_X1_r1 =  train_X1[np.arange(batchIndex, batchIndex  + size)]\n",
    "    trn_Y_r1  =   train_Y[np.arange(batchIndex, batchIndex  + size)]\n",
    "    #print(trn_X0_r1.shape)\n",
    "    trn_X = np.vstack((trn_X0_r1.T, trn_X1_r1.T))\n",
    "    print((trn_X.T).shape)\n",
    "    batchIndex = batchIndex  + size\n",
    "    return trn_X.T, trn_Y_r1\n",
    "\n",
    "print(getNextTrainBatch(5))\n",
    "\n",
    "print('Train: ',train_X0.shape, train_Y.T)\n",
    "print('Valid: ',valid_X.shape, valid_Y.T)\n",
    "#print('Tests: ',tests_X.shape, tests_Y.T)"
   ]
  },
  {
   "cell_type": "code",
   "execution_count": 6,
   "metadata": {
    "ExecuteTime": {
     "end_time": "2018-04-28T23:59:13.436241Z",
     "start_time": "2018-04-28T23:59:12.691229Z"
    },
    "code_folding": [
     0
    ],
    "scrolled": false
   },
   "outputs": [
    {
     "name": "stdout",
     "output_type": "stream",
     "text": [
      "Epoch: 0050 cost= 0.083558522 W= [[0.23531869]] b= [[0.17101969]]\n",
      "Epoch: 0100 cost= 0.066049673 W= [[0.2932401]] b= [[0.23906443]]\n",
      "Epoch: 0150 cost= 0.063506231 W= [[0.30294266]] b= [[0.27240452]]\n",
      "Epoch: 0200 cost= 0.062713042 W= [[0.30071703]] b= [[0.29201812]]\n",
      "Epoch: 0250 cost= 0.062339332 W= [[0.2964431]] b= [[0.3049489]]\n",
      "Epoch: 0300 cost= 0.062145725 W= [[0.29257658]] b= [[0.31396654]]\n",
      "Epoch: 0350 cost= 0.062043797 W= [[0.28954905]] b= [[0.3204107]]\n",
      "Epoch: 0400 cost= 0.061990004 W= [[0.28728673]] b= [[0.3250623]]\n",
      "Epoch: 0450 cost= 0.061961602 W= [[0.28562498]] b= [[0.32843325]]\n",
      "Epoch: 0500 cost= 0.061946612 W= [[0.2844123]] b= [[0.33088028]]\n",
      "Optimization Finished!\n",
      "Training cost= 0.06194661 W= [[0.2844123]] b= [[0.33088028]] \n",
      "\n"
     ]
    },
    {
     "data": {
      "image/png": "[encoded data removed]",
      "text/plain": [
       "<Figure size 432x288 with 1 Axes>"
      ]
     },
     "metadata": {},
     "output_type": "display_data"
    }
   ],
   "source": [
    "def linearRegression():\n",
    "    # Parameters\n",
    "    learning_rate = 0.01\n",
    "    training_epochs = 500\n",
    "    display_step = 50\n",
    "    rng = np.random\n",
    "\n",
    "    # tf Graph Input\n",
    "    Xtf = tf.placeholder(tf.float32, [None, 1])\n",
    "    Ytf = tf.placeholder(tf.float32, [None, 1])\n",
    "\n",
    "    # Set model weights\n",
    "    # figure tf.rand\n",
    "    # tf.keras.initializer\n",
    "    Wtf = tf.Variable(np.zeros([1,1]), dtype=tf.float32, name=\"weight\")\n",
    "    btf = tf.Variable(np.zeros([1,1]), dtype=tf.float32, name=\"bias\")\n",
    "\n",
    "    # Construct a linear model\n",
    "    predtf = tf.add(tf.matmul(Xtf, Wtf), btf)\n",
    "\n",
    "    # Mean squared error\n",
    "    costtf = tf.reduce_sum(tf.pow(predtf-Ytf, 2))/(2*n_samples)\n",
    "    # Gradient descent\n",
    "    optimizer = tf.train.GradientDescentOptimizer(learning_rate).minimize(costtf)\n",
    "\n",
    "    # Initialize the variables (i.e. assign their default value)\n",
    "    init = tf.global_variables_initializer()\n",
    "\n",
    "    # Start training\n",
    "    with tf.Session() as sess:\n",
    "        sess.run(init)\n",
    "\n",
    "        # Fit all training data\n",
    "        for epoch in range(training_epochs):\n",
    "            sess.run(optimizer, feed_dict={Xtf: train_X1, Ytf: train_Y})\n",
    "            #Display logs per epoch step\n",
    "            if (epoch+1) % display_step == 0:\n",
    "                c = sess.run(costtf, feed_dict={Xtf: train_X1, Ytf:train_Y})\n",
    "                print(\"Epoch:\", '%04d' % (epoch+1), \"cost=\", \"{:.9f}\".format(c), \\\n",
    "                    \"W=\", sess.run(Wtf), \"b=\", sess.run(btf))\n",
    "        print(\"Optimization Finished!\")\n",
    "        training_cost = sess.run(costtf, feed_dict={Xtf: train_X1, Ytf: train_Y})\n",
    "        print(\"Training cost=\", training_cost, \"W=\", sess.run(Wtf), \"b=\", sess.run(btf), '\\n')\n",
    "\n",
    "        #Graphic display plt.plot(train_X, train_Y, 'ro', label='Original data')\n",
    "        plt.scatter(x0, y0, color = 'r',marker='x', label = 'Cl 0')\n",
    "        plt.scatter(x1, y1, color = 'b',marker='^', label = 'Cl 1')\n",
    "        plt.plot(train_X1, sess.run(Wtf) * train_X1 + sess.run(btf), label='Fitted line')\n",
    "        plt.legend()\n",
    "        plt.show()\n",
    "\n",
    "# Run Linear Regression\n",
    "linearRegression()"
   ]
  },
  {
   "cell_type": "markdown",
   "metadata": {
    "ExecuteTime": {
     "end_time": "2018-04-25T19:47:57.057672Z",
     "start_time": "2018-04-25T19:47:57.049887Z"
    }
   },
   "source": [
    "### Neural Network implementation\n",
    "- 1.(a) One hidden layer"
   ]
  },
  {
   "cell_type": "code",
   "execution_count": 7,
   "metadata": {
    "ExecuteTime": {
     "end_time": "2018-04-28T23:59:13.797238Z",
     "start_time": "2018-04-28T23:59:13.438201Z"
    }
   },
   "outputs": [],
   "source": [
    "# Parameters\n",
    "learning_rate = 0.00001\n",
    "num_steps = 12\n",
    "batch_size = 5\n",
    "display_step = 2\n",
    "\n",
    "# Network Parameters\n",
    "n_hidden_1 = 10 # 1st layer number of neurons\n",
    "num_input = 2  # data input (shape: 2 * 70)\n",
    "num_classes = 1 # total classes (0 or 1 based on the value)\n",
    "\n",
    "# tf Graph input\n",
    "X = tf.placeholder(\"float\", [None, num_input])\n",
    "Y = tf.placeholder(\"float\", [None, num_classes])\n",
    "\n",
    "# Store layers weight & bias (initializing using random nromal)\n",
    "weights = {\n",
    "    'h1': tf.Variable(tf.random_normal([num_input, n_hidden_1])),\n",
    "    'out': tf.Variable(tf.random_normal([n_hidden_1, num_classes]))\n",
    "}\n",
    "biases = {\n",
    "    'b1': tf.Variable(tf.random_normal([n_hidden_1])),\n",
    "    'out': tf.Variable(tf.random_normal([num_classes]))\n",
    "}\n",
    "\n",
    "# Create model\n",
    "def neural_net(x):\n",
    "    # Hidden fully connected layer, a1 \n",
    "    layer_1 = tf.add(tf.matmul(x, weights['h1']), biases['b1'])\n",
    "    # Output fully connected layer with a neuron for each class \n",
    "    out_layer = tf.matmul(layer_1, weights['out']) + biases['out']\n",
    "    return out_layer\n",
    "\n",
    "# Construct model\n",
    "logits = neural_net(X)\n",
    "output = tf.sigmoid(logits) # Convert output to a probability\n",
    "\n",
    "# Define loss and optimizer\n",
    "loss_op = tf.reduce_mean(tf.nn.sigmoid_cross_entropy_with_logits(logits=logits, labels=Y))\n",
    "optimizer = tf.train.GradientDescentOptimizer(learning_rate=learning_rate)\n",
    "train_op = optimizer.minimize(loss_op)\n",
    "\n",
    "# Evaluate model (with test logits, for dropout to be disabled)\n",
    "#correct_pred = tf.equal(tf.argmax(logits, 1), tf.argmax(Y, 1))\n",
    "correct_pred = tf.cast(tf.greater(output, 0.5), tf.float32)\n",
    "accuracy = tf.reduce_mean(tf.cast(tf.equal(correct_pred, Y), tf.float32))\n",
    "\n",
    "# Initialize the variables (i.e. assign their default value)\n",
    "init = tf.global_variables_initializer()\n",
    "\n",
    "##keep in mind boolena to float32 tensor output"
   ]
  },
  {
   "cell_type": "code",
   "execution_count": 10,
   "metadata": {
    "ExecuteTime": {
     "end_time": "2018-04-29T00:03:11.680381Z",
     "start_time": "2018-04-29T00:03:11.549763Z"
    }
   },
   "outputs": [
    {
     "name": "stdout",
     "output_type": "stream",
     "text": [
      "(5, 2)\n",
      "Trn Step 1, Minibatch Loss= 0.7627, Accuracy= 80.000\n",
      "differr: 1\n",
      "Val Step 1, Minibatch Loss= 2.3654, Accuracy= 65.000\n",
      "differr: 7\n",
      "(5, 2)\n",
      "Trn Step 2, Minibatch Loss= 0.6115, Accuracy= 60.000\n",
      "differr: 2\n",
      "Val Step 2, Minibatch Loss= 2.3654, Accuracy= 65.000\n",
      "differr: 7\n",
      "(5, 2)\n",
      "(5, 2)\n",
      "Trn Step 4, Minibatch Loss= 0.0029, Accuracy= 100.000\n",
      "differr: 0\n",
      "Val Step 4, Minibatch Loss= 2.3654, Accuracy= 65.000\n",
      "differr: 7\n",
      "(5, 2)\n",
      "(5, 2)\n",
      "Trn Step 6, Minibatch Loss= 0.3956, Accuracy= 80.000\n",
      "differr: 1\n",
      "Val Step 6, Minibatch Loss= 2.3654, Accuracy= 65.000\n",
      "differr: 7\n",
      "(5, 2)\n",
      "(5, 2)\n",
      "Trn Step 8, Minibatch Loss= 0.3728, Accuracy= 80.000\n",
      "differr: 1\n",
      "Val Step 8, Minibatch Loss= 2.3653, Accuracy= 65.000\n",
      "differr: 7\n",
      "(5, 2)\n",
      "(5, 2)\n",
      "Trn Step 10, Minibatch Loss= 0.1089, Accuracy= 100.000\n",
      "differr: 0\n",
      "Val Step 10, Minibatch Loss= 2.3652, Accuracy= 65.000\n",
      "differr: 7\n",
      "(5, 2)\n",
      "(5, 2)\n",
      "Trn Step 12, Minibatch Loss= 2.0417, Accuracy= 60.000\n",
      "differr: 2\n",
      "Val Step 12, Minibatch Loss= 2.3652, Accuracy= 65.000\n",
      "differr: 7\n",
      "Optimization Finished!\n",
      "Test Accuracy: 60.000\n",
      "actuals: [[1 0 1 0 0 0 1 1 0 0]]\n",
      "predict: [[1. 1. 1. 0. 1. 1. 1. 1. 1. 0.]]\n"
     ]
    }
   ],
   "source": [
    "# Start training\n",
    "batchIndex = 0\n",
    "with tf.Session() as sess:\n",
    "\n",
    "    # Run the initializer\n",
    "    sess.run(init)\n",
    "\n",
    "    for step in range(1, num_steps+1):\n",
    "        batch_x, batch_y = getNextTrainBatch(batch_size)\n",
    "        # Run optimization op (backprop)\n",
    "       # print(batch_x)\n",
    "       # print(batch_y)\n",
    "        sess.run(train_op, feed_dict={X: batch_x, Y: batch_y})\n",
    "        if step % display_step == 0 or step == 1:\n",
    "            # Training batch loss and accuracy\n",
    "            loss, acc, pred = sess.run([loss_op, accuracy, correct_pred], feed_dict={X: batch_x,\n",
    "                                                                 Y: batch_y})\n",
    "            print(\"Trn Step \" + str(step) + \", Minibatch Loss= \" + \\\n",
    "                  \"{:.4f}\".format(loss) + \", Accuracy= \" + \\\n",
    "                  \"{:.3f}\".format(100*acc))           \n",
    "            #print(\"actuals:\", batch_y.T)\n",
    "            #print(\"predict:\", pred.T)\n",
    "            print(\"differr:\", (pred.T != batch_y.T).sum())\n",
    "            # Validation accuracy\n",
    "            loss_v, acc_v, pred_v = sess.run([loss_op, accuracy, correct_pred], feed_dict={X: valid_X.T,\n",
    "                                                                 Y: valid_Y})\n",
    "            print(\"Val Step \" + str(step) + \", Minibatch Loss= \" + \\\n",
    "                  \"{:.4f}\".format(loss_v) + \", Accuracy= \" + \\\n",
    "                  \"{:.3f}\".format(100*acc_v))\n",
    "            #print(\"actuals:\", valid_Y.T)\n",
    "            #print(\"predict:\", pred_v.T)\n",
    "            print(\"differr:\", (pred_v.T != valid_Y.T).sum())\n",
    "\n",
    "\n",
    "    print(\"Optimization Finished!\")\n",
    "\n",
    "    # Calculate accuracy for test data\n",
    "    acc_t, pred_t = sess.run([accuracy,correct_pred], feed_dict={X: tests_X.T, Y: tests_Y})\n",
    "    print(\"Test Accuracy:\", \"{:.3f}\".format(100*acc_t))\n",
    "    print(\"actuals:\", tests_Y.T)\n",
    "    print(\"predict:\", pred_t.T)"
   ]
  },
  {
   "cell_type": "code",
   "execution_count": null,
   "metadata": {},
   "outputs": [],
   "source": []
  }
 ],
 "metadata": {
  "kernelspec": {
   "display_name": "Python [conda env:tflo]",
   "language": "python",
   "name": "conda-env-tflo-py"
  },
  "language_info": {
   "codemirror_mode": {
    "name": "ipython",
    "version": 3
   },
   "file_extension": ".py",
   "mimetype": "text/x-python",
   "name": "python",
   "nbconvert_exporter": "python",
   "pygments_lexer": "ipython3",
   "version": "3.6.4"
  }
 },
 "nbformat": 4,
 "nbformat_minor": 2
}
