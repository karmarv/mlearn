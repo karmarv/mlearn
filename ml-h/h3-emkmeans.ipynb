{
 "cells": [
  {
   "cell_type": "markdown",
   "metadata": {},
   "source": [
    "###### ECE 283: Homework 3\n",
    "###### Topics: Unsupervised Learning, part 1 (Gaussian mixtures and EM algorithm; K-means and soft K-means)\n",
    "###### Due: Friday May 11\n",
    "\n",
    "- Neural networks; Tensorflow\n",
    "- 2D synthetic gaussian mixture data for binary classification"
   ]
  },
  {
   "cell_type": "markdown",
   "metadata": {},
   "source": [
    "\n",
    "### Report \n",
    "##### With reference to the code and plots in the detailed report & code below\n",
    "\n",
    "----------------------------------------\n",
    "\n",
    "##### Generate the 2D sample data\n",
    "Generated data in In[61] through In[65]\n",
    "\n",
    "##### 1. KMeans : Observations are mentioned right after the plot In[7] along with the probability values for each K when compared to the ground truth\n",
    "\n",
    "With values of K = 2, 3, 4, 5. For each K. \n",
    "\n",
    "##### 2. EM : log likelihood plot is described below in  section In[8] with K=2,3,4,5\n",
    "\n",
    "##### 3. Comments on the variation of mean with covariance\n",
    "\n",
    "##### 4. Generated Multidim data  section In[9]\n",
    "\n",
    "##### 5. Gaussian Mix with Component 1,2,3 generated in section In[10]\n",
    "\n",
    "##### 6. The Kmeans on the data can be seen in section In[11] and In[12] below\n",
    "All the values can be seen in the log for each K=2,3,4,5\n",
    "\n",
    "##### 7. Geometric insight \n",
    "Yes, The values of means calculated after computing the d-dimensional matrix are quite relatable to the \"u\" vector generated in starting. And the relation is as follows. Component 1 = u1 + Z1u2 + Z2u3 + N and the d-dimensional mean calculated after is , for all the values that have -1 in the position when taking the final values of component 1, the corresponding values in mean matrix are nearer to -1 or less then 0, similary for all the values that summed to 1 in the component 1, the corresponding value in mean matrix is greater then 0. Similary for all the three components created so far. Hence it can be deduced from the values of mean that, the initial vector \"u\" used in creation of genertion of data or each component actually influences the values of corresponding means of the final mean matrix. \n",
    "\n",
    "##### 8. EM Algorithm in section In[13]\n",
    "Eigen vectors and the covariance directly relate to the parameters Xm1, Xm2, Xm3 of the various gaussian mixture components.  \n"
   ]
  },
  {
   "cell_type": "markdown",
   "metadata": {},
   "source": [
    "# Code Section"
   ]
  },
  {
   "cell_type": "code",
   "execution_count": 1,
   "metadata": {
    "ExecuteTime": {
     "end_time": "2018-05-14T07:04:21.999557Z",
     "start_time": "2018-05-14T07:04:19.257517Z"
    }
   },
   "outputs": [
    {
     "name": "stderr",
     "output_type": "stream",
     "text": [
      "C:\\Users\\Karma\\Anaconda3\\envs\\tflo\\lib\\site-packages\\h5py\\__init__.py:36: FutureWarning: Conversion of the second argument of issubdtype from `float` to `np.floating` is deprecated. In future, it will be treated as `np.float64 == np.dtype(float).type`.\n",
      "  from ._conv import register_converters as _register_converters\n"
     ]
    }
   ],
   "source": [
    "# -*- coding: utf-8 -*-\n",
    "import tensorflow as tf\n",
    "import numpy as np\n",
    "from math import *\n",
    "import matplotlib.pyplot as plt\n",
    "from matplotlib import cm\n",
    "from mpl_toolkits.mplot3d import Axes3D\n",
    "\n",
    "from scipy.stats import norm\n",
    "from IPython.display import Image, display, Math, Latex\n",
    "\n",
    "# Params\n",
    "n_inpoints = 200"
   ]
  },
  {
   "cell_type": "code",
   "execution_count": 2,
   "metadata": {
    "ExecuteTime": {
     "end_time": "2018-05-14T07:04:22.024492Z",
     "start_time": "2018-05-14T07:04:22.001590Z"
    },
    "code_folding": [
     1
    ]
   },
   "outputs": [
    {
     "name": "stdout",
     "output_type": "stream",
     "text": [
      "Mean:  (0, 0)   \n",
      "Cov : [[2. 0.]\n",
      " [0. 1.]]\n"
     ]
    }
   ],
   "source": [
    "def generateClass0(): \n",
    "    theta0 = 0\n",
    "    lmb01 = 2\n",
    "    lmb02 = 1\n",
    "    m0 = (0,  0)\n",
    "    # computing u * u.T and later multiplying with lambda\n",
    "    cov01 = [[(cos(theta0))**2,    cos(theta0)*sin(theta0)],\n",
    "             [(sin(theta0))*cos(theta0), (sin(theta0))**2]]\n",
    "    cov02 = [[(sin(theta0))**2,    -(cos(theta0)*sin(theta0))],\n",
    "             [-(cos(theta0)*sin(theta0)), (cos(theta0))**2]]\n",
    "    cov0 = lmb01*np.matrix(cov01) + lmb02*np.matrix(cov02)\n",
    "    print('Mean: ',m0,' ','\\nCov :',cov0)\n",
    "    cov0_det = np.linalg.det(cov0)\n",
    "    x0, y0 = np.random.multivariate_normal(m0, cov0, int(n_inpoints)).T\n",
    "    return x0,y0\n",
    "\n",
    "x0, y0 = generateClass0()"
   ]
  },
  {
   "cell_type": "code",
   "execution_count": 3,
   "metadata": {
    "ExecuteTime": {
     "end_time": "2018-05-14T07:04:22.044437Z",
     "start_time": "2018-05-14T07:04:22.026485Z"
    },
    "code_folding": [],
    "scrolled": true
   },
   "outputs": [
    {
     "name": "stdout",
     "output_type": "stream",
     "text": [
      "Mean:  (-2, 1)   \n",
      "Cov : [[1.125 0.875]\n",
      " [0.875 1.125]]\n",
      "Mean:  (3, 2)   \n",
      "Cov : [[2. 1.]\n",
      " [1. 2.]]\n"
     ]
    }
   ],
   "source": [
    "# Mixture A\n",
    "def generateClass1a():\n",
    "    theta1a = -3*pi/4\n",
    "    lmb1a1 = 2\n",
    "    lmb1a2 = 1/4\n",
    "    m1a = (-2, 1)\n",
    "    cov1a = [[(cos(theta1a))**2,    cos(theta1a)*sin(theta1a)],\n",
    "             [(sin(theta1a))*cos(theta1a), (sin(theta1a))**2]]\n",
    "    cov2a = [[(sin(theta1a))**2,    -(cos(theta1a)*sin(theta1a))],\n",
    "             [-(cos(theta1a)*sin(theta1a)), (cos(theta1a))**2]]\n",
    "    cov1a = lmb1a1*np.matrix(cov1a) + lmb1a2*np.matrix(cov2a)\n",
    "    cov1a_det = np.linalg.det(cov1a)\n",
    "    x1a, y1a = np.random.multivariate_normal(m1a, cov1a, int(n_inpoints)).T\n",
    "    print('Mean: ',m1a,' ','\\nCov :',cov1a)\n",
    "    return x1a,y1a\n",
    "\n",
    "# Mixture B\n",
    "def generateClass1b():\n",
    "    theta1b = pi/4\n",
    "    lmb1b1 = 3\n",
    "    lmb1b2 = 1\n",
    "    m1b = (3, 2)\n",
    "    cov1b = [[(cos(theta1b))**2,    cos(theta1b)*sin(theta1b)],\n",
    "             [(sin(theta1b))*cos(theta1b), (sin(theta1b))**2]]\n",
    "    cov2b = [[(sin(theta1b))**2,    -(cos(theta1b)*sin(theta1b))],\n",
    "             [-(cos(theta1b)*sin(theta1b)), (cos(theta1b))**2]]\n",
    "    cov1b = lmb1b1*np.matrix(cov1b) + lmb1b2*np.matrix(cov2b)\n",
    "    cov1b_det = np.linalg.det(cov1b)\n",
    "    x1b, y1b = np.random.multivariate_normal(m1b, cov1b, int(n_inpoints)).T\n",
    "    print('Mean: ',m1b,' ','\\nCov :',cov1b)\n",
    "    return x1b,y1b\n",
    "\n",
    "x1a, y1a = generateClass1a()\n",
    "x1b, y1b = generateClass1b()"
   ]
  },
  {
   "cell_type": "code",
   "execution_count": 4,
   "metadata": {
    "ExecuteTime": {
     "end_time": "2018-05-14T07:04:22.394500Z",
     "start_time": "2018-05-14T07:04:22.046466Z"
    }
   },
   "outputs": [
    {
     "name": "stdout",
     "output_type": "stream",
     "text": [
      "Coefficients count for 3 GMM components:  [100, 33, 67]\n",
      "Component identifiers for GMM mixture:  (200, 1)\n"
     ]
    },
    {
     "data": {
      "image/png": "[encoded data removed]",
      "text/plain": [
       "<Figure size 1008x432 with 2 Axes>"
      ]
     },
     "metadata": {},
     "output_type": "display_data"
    }
   ],
   "source": [
    "# Mixture Density of 3 component Gaussian\n",
    "# [Class0 * (1/2) + Class1A * (1/6) + Class1B * (1/3)] \n",
    "cnt_m1 = [int(ceil(n_inpoints*(1/2))),int(floor(n_inpoints*(1/6))),int(ceil(n_inpoints*(1/3)))] \n",
    "print('Coefficients count for 3 GMM components: ',cnt_m1)\n",
    "\n",
    "# Randomly pick mixture components \n",
    "idx_m1 = np.argsort(np.random.random(n_inpoints))[:cnt_m1[0]]\n",
    "idx_m2 = np.argsort(np.random.random(n_inpoints))[:cnt_m1[1]]\n",
    "idx_m3 = np.argsort(np.random.random(n_inpoints))[:cnt_m1[2]]\n",
    "\n",
    "# Combine the arrays \n",
    "\n",
    "y = np.concatenate((np.array(y0[idx_m1]), np.array(y1a[idx_m2]), np.array(y1b[idx_m3])), axis = 0)\n",
    "x = np.concatenate((np.array(x0[idx_m1]), np.array(x1a[idx_m2]), np.array(x1b[idx_m3])), axis = 0)\n",
    "z = np.array([1,0,0]*int(cnt_m1[0]) + [0,1,0]*int(cnt_m1[1])+ [0,0,1]*int(cnt_m1[2])).reshape(n_inpoints,3)\n",
    "z_val = np.array([0]*int(cnt_m1[0]) + [1]*int(cnt_m1[1])+ [2]*int(cnt_m1[2])).reshape(n_inpoints,1)\n",
    "print('Component identifiers for GMM mixture: ', z_val.shape)\n",
    "\n",
    "# Subplots \n",
    "f, (ax1, ax2) = plt.subplots(1,2,figsize=(14,6))\n",
    "ax1.scatter(x, y, color = 'y',marker='o', label = 'Mix')\n",
    "ax1.set_title('Gaussian Mixture (k=3)')\n",
    "ax1.legend()\n",
    "ax2.scatter(x0, y0, color = 'r',marker='x', label = 'Cl 0')\n",
    "ax2.scatter(x1a, y1a, color = 'b',marker='^', label = 'Cl 1a')\n",
    "ax2.scatter(x1b, y1b, color = 'g',marker='o', label = 'Cl 1b')\n",
    "ax2.set_title('Mixture 3 Components Separated')\n",
    "ax2.legend()\n",
    "f.subplots_adjust()"
   ]
  },
  {
   "cell_type": "code",
   "execution_count": 5,
   "metadata": {
    "ExecuteTime": {
     "end_time": "2018-05-14T07:04:22.563048Z",
     "start_time": "2018-05-14T07:04:22.396497Z"
    }
   },
   "outputs": [
    {
     "name": "stdout",
     "output_type": "stream",
     "text": [
      "Training Data, X(x1,x2) Shape: (200, 2) , Y Shape (200, 1)\n"
     ]
    },
    {
     "data": {
      "image/png": "[encoded data removed]",
      "text/plain": [
       "<Figure size 432x288 with 1 Axes>"
      ]
     },
     "metadata": {},
     "output_type": "display_data"
    }
   ],
   "source": [
    "# ----------------------------------------\n",
    "# Set up the [Xi, Yi] training data vector\n",
    "# ----------------------------------------\n",
    "X = np.vstack((x, y)).T\n",
    "Z_val = z_val\n",
    "print(\"Training Data, X(x1,x2) Shape:\",X.shape, ', Y Shape', z_val.shape)\n",
    "fig = plt.figure()\n",
    "ax = fig.add_subplot(111, projection='3d')\n",
    "ax.scatter(X[:,0], X[:,1], Z_val, s=int(z_val.shape[0]), c='r', marker='o')\n",
    "ax.set_title('Visualize the cluster')\n",
    "ax.set_xlabel('x1')\n",
    "ax.set_ylabel('x2')\n",
    "ax.set_zlabel('Z')\n",
    "plt.show()"
   ]
  },
  {
   "cell_type": "markdown",
   "metadata": {},
   "source": [
    "## 1. KMEANS\n",
    "\n",
    "##### With values of K = 2, 3, 4, 5. For each K, start with several different random initializations, \n",
    "##### and choose the run that leads to the smallest mean squared error. \n"
   ]
  },
  {
   "cell_type": "code",
   "execution_count": 6,
   "metadata": {
    "ExecuteTime": {
     "end_time": "2018-05-14T07:04:22.953007Z",
     "start_time": "2018-05-14T07:04:22.565045Z"
    }
   },
   "outputs": [
    {
     "name": "stdout",
     "output_type": "stream",
     "text": [
      "[[ 3.45129465  2.30738825]\n",
      " [-0.46744735  0.27677531]]\n"
     ]
    },
    {
     "data": {
      "text/plain": [
       "<matplotlib.collections.PathCollection at 0x1bbd3a1a588>"
      ]
     },
     "execution_count": 6,
     "metadata": {},
     "output_type": "execute_result"
    },
    {
     "data": {
      "image/png": "[encoded data removed]",
      "text/plain": [
       "<Figure size 432x288 with 1 Axes>"
      ]
     },
     "metadata": {},
     "output_type": "display_data"
    }
   ],
   "source": [
    "from sklearn.cluster import KMeans  \n",
    "kmeans = KMeans(n_clusters=2)  \n",
    "kmeans.fit(X)  \n",
    "print(kmeans.cluster_centers_) \n",
    "plt.scatter(X[:,0],X[:,1], c=kmeans.labels_, cmap='rainbow')  \n",
    "plt.scatter(kmeans.cluster_centers_[:,0] ,kmeans.cluster_centers_[:,1], color='black')  "
   ]
  },
  {
   "cell_type": "code",
   "execution_count": 7,
   "metadata": {
    "ExecuteTime": {
     "end_time": "2018-05-14T07:04:23.614235Z",
     "start_time": "2018-05-14T07:04:22.959991Z"
    },
    "scrolled": false
   },
   "outputs": [
    {
     "name": "stdout",
     "output_type": "stream",
     "text": [
      "K= 2\n",
      "(K= 1 )Prob:( 90 / 141 )= 0.6382978723404256\n",
      "(K= 2 )Prob:( 0 / 59 )= 0.0\n",
      "K= 3\n",
      "(K= 1 )Prob:( 27 / 61 )= 0.4426229508196721\n",
      "(K= 2 )Prob:( 0 / 41 )= 0.0\n",
      "(K= 3 )Prob:( 26 / 98 )= 0.2653061224489796\n",
      "K= 4\n",
      "(K= 1 )Prob:( 0 / 40 )= 0.0\n",
      "(K= 2 )Prob:( 13 / 28 )= 0.4642857142857143\n",
      "(K= 3 )Prob:( 22 / 92 )= 0.2391304347826087\n",
      "(K= 4 )Prob:( 0 / 40 )= 0.0\n",
      "K= 5\n",
      "(K= 1 )Prob:( 48 / 68 )= 0.7058823529411765\n",
      "(K= 2 )Prob:( 24 / 34 )= 0.7058823529411765\n",
      "(K= 3 )Prob:( 6 / 30 )= 0.2\n",
      "(K= 4 )Prob:( 0 / 40 )= 0.0\n",
      "(K= 5 )Prob:( 0 / 28 )= 0.0\n"
     ]
    },
    {
     "data": {
      "image/png": "[encoded data removed]",
      "text/plain": [
       "<Figure size 1008x432 with 4 Axes>"
      ]
     },
     "metadata": {},
     "output_type": "display_data"
    }
   ],
   "source": [
    "# KMeans Algorithms Implementation using euclidean distance \n",
    "def kMeans(X, K, maxIters = 10):\n",
    "    # Centroid m1, m2 ... mk\n",
    "    centroids = X[np.random.choice(np.arange(len(X)), K), :]\n",
    "    #print(centroids)\n",
    "    for i in range(maxIters):\n",
    "        # Cluster Assignment step\n",
    "        C = np.array([np.argmin([np.dot(x_i-m_k, x_i-m_k) for m_k in centroids]) for x_i in X])\n",
    "        # Move centroids step\n",
    "        centroids = [X[C == k].mean(axis = 0) for k in range(K)]\n",
    "    return np.array(centroids) , C\n",
    "\n",
    "\n",
    "# Calculate the probability wrt the ground truth\n",
    "def cprob(C, K): \n",
    "    ground = (Z_val.T)[0]\n",
    "    print('K=',K)\n",
    "    for k in range(K):\n",
    "        found_ids = np.where(C==k)\n",
    "        matched_ground = np.count_nonzero(C[found_ids]==ground[found_ids])\n",
    "        if(len(found_ids[0])>0):\n",
    "            print('(K=',k+1,')Prob:(',matched_ground,'/',len(found_ids[0]),')=', (matched_ground/len(found_ids[0])))\n",
    "        else:\n",
    "            print('(K=',k+1,')Prob:(',matched_ground,'/',len(found_ids[0]),')=', 0)\n",
    "        \n",
    "   \n",
    "    \n",
    "# Provide a value of k = (1,...K) and plot the centroids\n",
    "f, (ax1, ax2, ax3, ax4) = plt.subplots(1,4,figsize=(14,6))\n",
    "centroids, C = kMeans(X, K = 2)\n",
    "ax1.plot(X[C == 0, 0], X[C == 0, 1], 'ob',\n",
    "             X[C == 1, 0], X[C == 1, 1], 'or')\n",
    "ax1.plot(centroids[:,0],centroids[:,1],'*m',markersize=20)\n",
    "ax1.set_title('K = 2')\n",
    "cprob(C,2)\n",
    "\n",
    "centroids, C = kMeans(X, K = 3)\n",
    "ax2.plot(X[C == 0, 0], X[C == 0, 1], 'ob',\n",
    "             X[C == 1, 0], X[C == 1, 1], 'or',\n",
    "             X[C == 2, 0], X[C == 2, 1], 'og')\n",
    "ax2.plot(centroids[:,0],centroids[:,1],'*m',markersize=20)\n",
    "ax2.set_title('K = 3')\n",
    "cprob(C,3)\n",
    "\n",
    "centroids, C = kMeans(X, K = 4)\n",
    "ax3.plot(X[C == 0, 0], X[C == 0, 1], 'ob',\n",
    "             X[C == 1, 0], X[C == 1, 1], 'or',\n",
    "             X[C == 2, 0], X[C == 2, 1], 'og',\n",
    "             X[C == 3, 0], X[C == 3, 1], 'oy')\n",
    "ax3.plot(centroids[:,0],centroids[:,1],'*m',markersize=20)\n",
    "ax3.set_title('K = 4')\n",
    "cprob(C,4)\n",
    "centroids, C = kMeans(X, K = 5)\n",
    "ax4.plot(X[C == 0, 0], X[C == 0, 1], 'ob',\n",
    "             X[C == 1, 0], X[C == 1, 1], 'or',\n",
    "             X[C == 2, 0], X[C == 2, 1], 'og',\n",
    "             X[C == 3, 0], X[C == 3, 1], 'oy',\n",
    "             X[C == 4, 0], X[C == 4, 1], 'om')\n",
    "ax4.plot(centroids[:,0],centroids[:,1],'*m',markersize=20)\n",
    "ax4.set_title('K = 5')\n",
    "cprob(C,5)"
   ]
  },
  {
   "cell_type": "markdown",
   "metadata": {},
   "source": [
    "Observations\n",
    "##### As we can see from the plot of mean represented by the \"Star\" in magenta color. The mean and covariance are best converging when the value of K=3 , on increasing the value of K beyond 3 , the mean and covarianec then also converges to the same values , and as we can see from the plot, the values of 2 means converges to the same point, While intializing the values of mean with random variables, we found out that even if we take the values of mean too far away and too different , for example in case of K=5, the values on m_hat[1,:] and m_hat[3,:], these are too far away, but once the convergence starts , then the values of both converges to the same point. As shown in the matrix of of mean values and as you can see from the plot. All the values of mean converges to same point if both are coming from the same direction towards the cluster. OR i simple terms of both the assumed intial values of means are in same direction of the cluster and approaching from the same direction."
   ]
  },
  {
   "cell_type": "markdown",
   "metadata": {},
   "source": [
    "## 2. KMEANS - EM Algorithm\n",
    "\n",
    "#### E-STEP\n",
    "We will evaluate the expectation of the below equation for the current estimate of the parameter,\n",
    "\n",
    "1. $ log p(x_{i}, z_{i} | \\theta) = \\sum_{k=1}^{K} z_{i} [k] (log N (x_{i} | m_{k}, C_{k}) + log \\pi_{k}) $\n",
    "2. $ E[log p(x_{i}, z_{i} | \\theta) | \\theta^l ] = \\sum_{k=1}^{K} p(k|x_{i}) (log N (x_{i} | m_{k}, C_{k}) + log \\pi_{k}) $\n",
    "Note that $ \\theta = \\{ pi_{k}, m_{k}, C_{k} \\}_{k=1}^{K} $ in the above is to be optimized over to get the next estimate $ \\theta^{l+1} $ in the M-step, and $ p(k|x_{i}) $ are numerical values that we computed using the current estimate\n",
    "$ \\theta^{l} $  in the E-step\n",
    "\n",
    "#### M-STEP\n",
    "We now use these assignment probabilities as weights as to how much each data point counts towards estimating the parameters for a given cluster, and update the parameters for each component k as follows,\n",
    "\n",
    "1. $ m_{k} = \\frac{ \\sum_{i=1}^{N} p(k|x_{i})x_{i}}{\\sum_{i=1}^{N} p(k|x_{i})} $\n",
    "2. $ C_{k} = \\frac{ \\sum_{i=1}^{N} p(k|x_{i})(x_{i} - m_{k})(x_{i} - m_{k})^{T}}{\\sum_{i=1}^{N} p(k|x_{i})} $\n",
    "3. $ pi_{k} = \\frac{ \\sum_{i=1}^{N} p(k|x_{i})}{N} $\n",
    "\n",
    "\n"
   ]
  },
  {
   "cell_type": "code",
   "execution_count": 8,
   "metadata": {
    "ExecuteTime": {
     "end_time": "2018-05-14T07:04:23.807759Z",
     "start_time": "2018-05-14T07:04:23.617227Z"
    },
    "code_folding": [],
    "scrolled": false
   },
   "outputs": [
    {
     "name": "stdout",
     "output_type": "stream",
     "text": [
      "\n",
      "---------- K= 2 Parameters estimate ----------\n",
      "LogL : [-2282.820379107024, -2.7755575615628914e-15, -6.661338147750939e-16]\n",
      "Mu   : [[0.1562487  0.52021437]\n",
      " [4.35130486 2.79023415]]\n",
      "Si   : [array([[3.91614648, 0.63001193],\n",
      "       [0.63001193, 1.367434  ]]), array([[1., 0.],\n",
      "       [0., 1.]])]\n",
      "W    : [0.869980853527839, 0.5]\n",
      "\n",
      "---------- K= 3 Parameters estimate ----------\n",
      "LogL : [-1079.6018514760383, -97.52051002898406, -2.220446049250313e-15, 1.1102230246251536e-16]\n",
      "Mu   : [[-1.18513646  0.1693727 ]\n",
      " [ 0.01817047  0.25748304]\n",
      " [ 0.48860611  2.24264206]]\n",
      "Si   : [array([[ 2.26748561, -0.21315027],\n",
      "       [-0.21315027,  1.02642225]]), array([[ 1.98435422, -0.23899901],\n",
      "       [-0.23899901,  1.01622004]]), array([[1., 0.],\n",
      "       [0., 1.]])]\n",
      "W    : [0.3231822032914043, 0.301598088119588, 0.3333333333333333]\n",
      "\n",
      "---------- K= 4 Parameters estimate ----------\n",
      "LogL : [-1196.0684971479864, -176.2557405872803, -2.6645352591003757e-15, -1.1102230246251568e-16]\n",
      "Mu   : [[-1.90310472  0.29831427]\n",
      " [ 2.69391596  2.72582912]\n",
      " [ 0.75765048 -0.0813355 ]\n",
      " [-0.80351767  1.11249768]]\n",
      "Si   : [array([[1.49226485, 0.0703214 ],\n",
      "       [0.0703214 , 0.48118261]]), array([[4.56924998, 1.36972244],\n",
      "       [1.36972244, 1.41016494]]), array([[2.21360395, 0.38325949],\n",
      "       [0.38325949, 0.78314214]]), array([[1., 0.],\n",
      "       [0., 1.]])]\n",
      "W    : [0.012611312611104078, 0.2289806409125894, 0.35776911435622133, 0.25]\n",
      "\n",
      "---------- K= 5 Parameters estimate ----------\n",
      "LogL : [-927.9242634599116, -233.14107773388335, -3.3632614393820055, -3.4416913763379853e-15, 7.771561172376094e-16]\n",
      "Mu   : [[ 5.56051049e-01  1.41964459e-01]\n",
      " [-2.73823539e+00  4.49875310e-01]\n",
      " [ 8.47331947e-01 -1.85374232e-04]\n",
      " [-1.05903526e-01  6.14244328e-01]\n",
      " [ 1.80963587e+00  1.29596536e+00]]\n",
      "Si   : [array([[1.20873576, 0.25821755],\n",
      "       [0.25821755, 0.63352086]]), array([[0.69368499, 0.20121766],\n",
      "       [0.20121766, 0.61124106]]), array([[1.45309436, 0.47117128],\n",
      "       [0.47117128, 1.10518904]]), array([[1.33381198, 0.22936408],\n",
      "       [0.22936408, 1.185686  ]]), array([[1., 0.],\n",
      "       [0., 1.]])]\n",
      "W    : [0.017405922903813258, 0.07367784046430507, 0.2086066758421174, 0.14996384996351636, 0.2]\n"
     ]
    },
    {
     "data": {
      "image/png": "[encoded data removed]",
      "text/plain": [
       "<Figure size 432x288 with 1 Axes>"
      ]
     },
     "metadata": {},
     "output_type": "display_data"
    }
   ],
   "source": [
    "\n",
    "def fit_EM(X, max_iters = 1000, k=2, eps=0.000001):\n",
    "    # n = number of data-points, d = dimension of data points        \n",
    "    n, d = X.shape\n",
    "    # randomly choose the starting centroids/means as 3 of the points from datasets        \n",
    "    mu = X[np.random.choice(n, k, False), :]\n",
    "    # initialize the covariance matrices for each gaussians\n",
    "    Sigma= [np.eye(d)] * k\n",
    "    # initialize the probabilities/weights for each gaussians\n",
    "    w = [1./k] * k\n",
    "    # responsibility matrix is initialized to all zeros\n",
    "    # we have responsibility for each of n points for eack of k gaussians\n",
    "    R = np.zeros((n, k))\n",
    "    \n",
    "    ### log_likelihoods\n",
    "    log_likelihoods = []\n",
    "    P = lambda mu, s: (np.linalg.det(s)** -.5)*((2*np.pi)**(-X.shape[1]/2.)) \\\n",
    "            * np.exp(-.5 * np.einsum('ij, ij -> i',X - mu, \\\n",
    "                np.dot(np.linalg.inv(s) , (X - mu).T).T ) ) \n",
    "    \n",
    "    # Iterate till max_iters iterations        \n",
    "    while len(log_likelihoods) < max_iters:\n",
    "\n",
    "        # E - Step\n",
    "        ## Vectorized implementation of e-step equation to calculate the \n",
    "        ## membership for each of k -gaussians\n",
    "        for k in range(k):\n",
    "            R[:, k] = w[k] * P(mu[k], Sigma[k])\n",
    "        ### Likelihood computation\n",
    "        log_likelihood = np.sum(np.log(np.sum(R, axis = 1)))\n",
    "        log_likelihoods.append(log_likelihood)\n",
    "        ## Normalize so that the responsibility matrix is row stochastic\n",
    "        R = (R.T / np.sum(R, axis = 1)).T\n",
    "        ## The number of datapoints belonging to each gaussian            \n",
    "        N_ks = np.sum(R, axis = 0)\n",
    "\n",
    "        # M Step\n",
    "        ## calculate the new mean and covariance for each gaussian by \n",
    "        ## utilizing the new responsibilities\n",
    "        for k in range(k):\n",
    "            ## means\n",
    "            mu[k] = 1. / N_ks[k] * np.sum(R[:, k] * X.T, axis = 1).T\n",
    "            x_mu = np.matrix(X - mu[k])\n",
    "            ## covariances\n",
    "            Sigma[k] = np.array(1 / N_ks[k] * np.dot(np.multiply(x_mu.T,  R[:, k]), x_mu))\n",
    "            ## and finally the probabilities\n",
    "            w[k] = 1. / n * N_ks[k]\n",
    "        # check for onvergence\n",
    "        if len(log_likelihoods) < 2 : continue\n",
    "        if np.abs(log_likelihood - log_likelihoods[-2]) < eps: break\n",
    "    \n",
    "    ## bind all results together\n",
    "    from collections import namedtuple\n",
    "    params = namedtuple('params', ['mu', 'Sigma', 'w', 'log_likelihoods', 'num_iters'])\n",
    "    params.mu = mu\n",
    "    params.Sigma = Sigma\n",
    "    params.w = w\n",
    "    params.log_likelihoods = log_likelihoods\n",
    "    params.num_iters = len(log_likelihoods)   \n",
    "    return params\n",
    "\n",
    "for k_trial in [2,3,4,5]:\n",
    "    print('\\n---------- K=',k_trial,'Parameters estimate ----------')\n",
    "    params = fit_EM(X, max_iters= 100, k= k_trial)\n",
    "    print('LogL :',params.log_likelihoods)\n",
    "    print('Mu   :',params.mu)\n",
    "    print('Si   :',params.Sigma)\n",
    "    print('W    :',params.w)\n",
    "    lbl = 'K=',k_trial\n",
    "    plt.plot(params.log_likelihoods, label=lbl)\n",
    "\n",
    "plt.title('Log Likelihood vs iteration plot')\n",
    "plt.xlabel('Iterations')\n",
    "plt.ylabel('log likelihood')\n",
    "plt.legend()\n",
    "plt.show()"
   ]
  },
  {
   "cell_type": "markdown",
   "metadata": {
    "ExecuteTime": {
     "end_time": "2018-05-10T16:01:56.425729Z",
     "start_time": "2018-05-10T16:01:56.421706Z"
    }
   },
   "source": [
    "### 3) Comment  on how the means and covariances of the mixture components you find relate geometrically to the ground truth mixture components for different values of K."
   ]
  },
  {
   "cell_type": "markdown",
   "metadata": {
    "ExecuteTime": {
     "end_time": "2018-05-14T05:34:23.363258Z",
     "start_time": "2018-05-14T05:34:23.356278Z"
    }
   },
   "source": [
    "\n",
    "\n",
    "\n",
    "Looking at the values of loglikelihood and the final values of mean and covarince matrices. \n",
    "Ground truth : Having been used 3 cluster or the data is generated from three clusters. \n",
    "    So mathematically the value of mean and covariances matrices should have minimun mean square error(MSE) \n",
    "    when the values of K is equal to 3. but as per my observations the data converges much better \n",
    "    and nearer to the original mean and covariance values when the value of K = 4. \n",
    "    \n",
    "The reason for this might be the type of data generated and the closeness in the values of means of the two clusters, \n",
    "Since the accuracy is only 60-70%, hence closeness in mean values and overlapping of data of two clusters might \n",
    "be the reason for this. The plot of this are shown above in the table, each plot represents the \n",
    "porbability against the number of iterations being run on it.\n",
    "    \n",
    "    "
   ]
  },
  {
   "cell_type": "markdown",
   "metadata": {},
   "source": [
    "##### Experiments with data in higher dimensions\n",
    "Let us now see what happens when we increase the number of dimensions to d (d to be played\n",
    "with, but the nominal value is d = 30), while keeping the \\effective dimension\" (I’m not defining\n",
    "this formally, but you should soon see what I mean once I tell you how to generate the data)\n",
    "smaller than d.\n",
    "\n",
    "\n",
    "### 4) Program to generate a random vector u in d dimensions as follows:\n",
    "The components of u are i.i.d., with\n",
    "P[u[i] = 0] = 2=3; P[u[i] = +1] = 1=6; P[u[i] = −1] = 1=6\n",
    "\n",
    "Let {uj; j = 1 . . . .  7} be i.i.d."
   ]
  },
  {
   "cell_type": "code",
   "execution_count": 9,
   "metadata": {
    "ExecuteTime": {
     "end_time": "2018-05-14T07:04:23.821694Z",
     "start_time": "2018-05-14T07:04:23.809715Z"
    }
   },
   "outputs": [
    {
     "name": "stdout",
     "output_type": "stream",
     "text": [
      "Number of Data points:  [20, 5, 5]\n",
      "1  Corr =>  1.0\n",
      "2  Corr =>  1.0\n",
      "3  Corr =>  -4.0\n",
      "4  Corr =>  -1.0\n",
      "5  Corr =>  2.0\n",
      "6  Corr =>  -2.0\n",
      "[[ 0.  0.  1.  0.  1.  0.  0.  0.  0.  0.  1. -1.  0.  0.  0.  0. -1.  1.\n",
      "   1. -1. -1.  0.  0.  0. -1.  0.  0.  0.  0.  0.]\n",
      " [ 0.  0.  0.  0.  0.  1.  1.  0.  0.  0.  1.  0.  0.  1.  0.  0.  0. -1.\n",
      "   0. -1.  0. -1.  0.  0.  0. -1.  0.  1.  0. -1.]\n",
      " [ 1.  0.  1.  0.  0.  0.  0.  0.  0.  0.  0. -1.  0.  1. -1.  1.  0. -1.\n",
      "   0.  0.  0.  1.  0. -1.  0.  0.  0.  0. -1.  0.]\n",
      " [-1. -1.  1.  0.  0.  0.  0.  0.  0.  0.  0.  0.  0. -1.  1.  0.  0.  1.\n",
      "   0.  0.  0.  0.  0.  1. -1.  0.  0. -1.  0.  1.]\n",
      " [ 0.  0.  0.  0.  0. -1. -1.  0.  0.  0.  1.  0.  1. -1.  0. -1.  0. -1.\n",
      "   0.  0.  1.  0.  0.  0.  0.  0.  1.  1.  0.  0.]\n",
      " [-1.  0.  1.  1.  0.  1. -1.  0.  0.  0.  0.  0.  1. -1.  0.  0.  0.  0.\n",
      "   0.  0.  0.  1.  0.  0.  0. -1.  0.  0. -1.  0.]\n",
      " [ 0.  0.  0.  0.  0. -1.  1.  1.  1.  0.  0. -1.  0.  0.  0. -1.  0.  0.\n",
      "   1. -1.  1.  0.  0.  0. -1.  0.  0.  0.  0.  0.]]\n"
     ]
    }
   ],
   "source": [
    "d = 30\n",
    "ul = 7\n",
    "\n",
    "\n",
    "def checkCorrelation(uj1, uj2):\n",
    "    udot = np.dot(uj1, uj2)\n",
    "    return udot\n",
    "\n",
    "# Generate the IID \n",
    "def generateMultiDimGaussian():\n",
    "    uj_cnts = [int(ceil(d*(2/3))),int(floor(d*(1/6))),int(ceil(d*(1/6)))]\n",
    "    uj_vals = np.array([0]*int(uj_cnts[0]) + [1]*int(uj_cnts[1])+ [-1]*int(uj_cnts[2]))\n",
    "    print('Number of Data points: ',uj_cnts)\n",
    "    u = np.zeros([ul,d])\n",
    "    np.random.shuffle(uj_vals)\n",
    "    u[0] = uj_vals\n",
    "    for j in np.arange(1, ul):\n",
    "        #print('Prev: ', u[j-1])\n",
    "        np.random.shuffle(uj_vals)      # Shuffled\n",
    "        u[j] = uj_vals\n",
    "        #print('Curr: ', u[j])\n",
    "        corr = checkCorrelation(u[j-1],u[j])\n",
    "        #if too correlated then use another\n",
    "        if(corr*2 > 1):\n",
    "            np.random.shuffle(uj_vals)      # Shuffled again\n",
    "        print(j,' Corr => ',corr)\n",
    "    return u\n",
    "\n",
    "# Uj be i.i.d\n",
    "uj = generateMultiDimGaussian()\n",
    "print(uj)"
   ]
  },
  {
   "cell_type": "markdown",
   "metadata": {},
   "source": [
    "### 5) Generate d-dimensional data samples for a Gaussian mixture distribution with 3 equiprobable components\n",
    "- Zm  : Standard Gaussian (N(0, 1)) distribution\n",
    "- N   : noise vector\" N ∼ N(0, σ2Id) (default value σ2 = 0:01)\n",
    "- Component 1: Generate X = u1 + Z1u2 + Z2u3 + N.\n",
    "- Component 2: Generate X = 2u4 + sqrt(2)Z1u5 + Z2u6 + N.\n",
    "- Component 3: Generate X = sqrt(2)u6 + Z1(u1 + u2) + (1/sqrt(2))Z2u5 + N"
   ]
  },
  {
   "cell_type": "code",
   "execution_count": 10,
   "metadata": {
    "ExecuteTime": {
     "end_time": "2018-05-14T07:04:23.857591Z",
     "start_time": "2018-05-14T07:04:23.826670Z"
    }
   },
   "outputs": [
    {
     "name": "stdout",
     "output_type": "stream",
     "text": [
      "Zm: (50,) , N: (30, 30)\n",
      "Uj: (30,)\n",
      "X1: [[ 0.46976294  0.10082271  2.73802155 ... -1.00757998  0.62826412\n",
      "   0.35984212]\n",
      " [-0.04871214  0.00902035  0.04136905 ...  0.09852824  0.12883807\n",
      "  -0.0672622 ]\n",
      " [ 1.79847612  1.10698191  3.92120529 ... -0.16103529  1.79720199\n",
      "   1.65229729]\n",
      " ...\n",
      " [-0.399094   -1.55959633  1.67489557 ... -0.65619333 -0.00954588\n",
      "   0.30887721]\n",
      " [-0.88028932  0.03576686 -2.61341636 ...  0.97296517 -0.73806787\n",
      "  -0.35988557]\n",
      " [ 0.34592278  1.69137074 -1.66608849 ...  0.35981942 -0.20363409\n",
      "  -0.32931533]]\n",
      "X2: [[-2.8111344  -1.96879867 -4.93738623 ... -1.02881963 -2.72574607\n",
      "  -2.57111068]\n",
      " [-2.04871214 -1.99097965 -1.95863095 ... -1.90147176 -1.87116193\n",
      "  -2.0672622 ]\n",
      " [ 2.79847612  2.10698191  4.92120529 ...  0.83896471  2.79720199\n",
      "   2.65229729]\n",
      " ...\n",
      " [-2.52313859 -4.24770102  0.41110245 ... -2.85946183 -2.0263954\n",
      "  -1.57363776]\n",
      " [-0.88028932  0.03576686 -2.61341636 ...  0.97296517 -0.73806787\n",
      "  -0.35988557]\n",
      " [ 2.04629817  2.0292821   2.11218899 ...  1.86883272  1.75566658\n",
      "   1.95446494]]\n",
      "X3: [[-1.58468573 -1.34798798 -1.51368234 ... -1.43219981 -1.46274098\n",
      "  -1.51963428]\n",
      " [-0.04871214  0.00902035  0.04136905 ...  0.09852824  0.12883807\n",
      "  -0.0672622 ]\n",
      " [ 1.27240284 -0.17591742  3.27577888 ...  0.75135818  1.49349757\n",
      "   1.88460116]\n",
      " ...\n",
      " [ 0.05383999 -1.53497773  3.68175829 ... -1.35589643  0.46924132\n",
      "   0.63806844]\n",
      " [-1.65384065 -1.34342245 -1.18971247 ... -1.43041501 -1.47506278\n",
      "  -1.30840917]\n",
      " [ 0.34592278  1.69137074 -1.66608849 ...  0.35981942 -0.20363409\n",
      "  -0.32931533]]\n"
     ]
    }
   ],
   "source": [
    "num_data = 50\n",
    "Zm = [np.random.normal(0,1,num_data), np.random.normal(0,1,num_data)]\n",
    "N_cov = np.eye(d) * (0.01)\n",
    "N_mu = np.zeros([1,d])[0]\n",
    "\n",
    "print('Zm:',Zm[0].shape,', N:',N_cov.shape)\n",
    "print('Uj:',uj[0].shape)\n",
    "# Function for each component function\n",
    "Xm1 = lambda z1, z2, n: (uj[0].reshape(d,1) + z1*uj[1].reshape(d,1) + z2*uj[2].reshape(d,1) + n)\n",
    "Xm2 = lambda z1, z2, n: (2*uj[3].reshape(d,1) + 1.414 * z1*uj[4].reshape(d,1) + z2*uj[5].reshape(d,1) + n)\n",
    "Xm3 = lambda z1, z2, n: (1.414*uj[5].reshape(d,1) + z1*(uj[0].reshape(d,1)+uj[1].reshape(d,1)) + (1/1.414)*z2*uj[4].reshape(d,1) + n)\n",
    "X = np.zeros([num_data, d])\n",
    "\n",
    "X1 = np.zeros([d,num_data])\n",
    "X2 = np.zeros([d,num_data])\n",
    "X3 = np.zeros([d,num_data])\n",
    "\n",
    "# Assign the values based on the three component function\n",
    "for i in range(0, num_data):\n",
    "    N = np.random.multivariate_normal(N_mu, N_cov, 1)  \n",
    "    X1[:,i] = Xm1(Zm[0][i], Zm[1][i], N.T).T\n",
    "    X2[:,i] = Xm2(Zm[0][i], Zm[1][i], N.T).T\n",
    "    X3[:,i] = Xm3(Zm[0][i], Zm[1][i], N.T).T\n",
    "\n",
    "print('X1:',X1)\n",
    "print('X2:',X2)\n",
    "print('X3:',X3)"
   ]
  },
  {
   "cell_type": "markdown",
   "metadata": {
    "ExecuteTime": {
     "end_time": "2018-05-11T07:19:43.554306Z",
     "start_time": "2018-05-11T07:19:43.549322Z"
    }
   },
   "source": [
    "### 6) Generate N =?? (to be determined) data samples from the preceding model, saving both the data point xi and zi 2 f0; 1g3, the one-hot encoding of which component the data point belongs to. Implement the K-means algorithm with different values of K = 2; 3; 4; 5."
   ]
  },
  {
   "cell_type": "code",
   "execution_count": 11,
   "metadata": {
    "ExecuteTime": {
     "end_time": "2018-05-14T07:04:23.872557Z",
     "start_time": "2018-05-14T07:04:23.860580Z"
    }
   },
   "outputs": [
    {
     "name": "stdout",
     "output_type": "stream",
     "text": [
      "(30, 150)\n",
      "(3, 150)\n"
     ]
    }
   ],
   "source": [
    "numberPoint = 50\n",
    "X_vec = np.concatenate((X1,X2,X3), axis=1)\n",
    "Y_vec = np.array([1,0,0]*int(numberPoint) + [0,1,0]*int(numberPoint) + [0,0,1]*int(numberPoint)).reshape(3,3*numberPoint)\n",
    "print(X_vec.shape)\n",
    "print(Y_vec.shape)\n"
   ]
  },
  {
   "cell_type": "code",
   "execution_count": 12,
   "metadata": {
    "ExecuteTime": {
     "end_time": "2018-05-14T07:04:24.965622Z",
     "start_time": "2018-05-14T07:04:23.878531Z"
    },
    "scrolled": false
   },
   "outputs": [
    {
     "name": "stdout",
     "output_type": "stream",
     "text": [
      "Shape of input (30, 150)\n",
      "(30, 5)\n",
      "(30, 150)\n",
      "K= 2 Mean_Vector Matrix (30, 5)\n",
      "K= 2 Mean_Vector Matrix [[ 4.97517619e-01 -1.41483133e+00 -3.90501226e+00  4.11309271e+00\n",
      "  -3.91958811e+00]\n",
      " [-2.49599128e-02  1.52095156e-02 -1.48832209e+00  8.14785619e-01\n",
      "  -3.36104951e+00]\n",
      " [ 1.54562456e+00  6.55791746e-01  1.61251137e+00  3.38361169e+00\n",
      "  -2.12239995e+00]\n",
      " [-1.57079303e-02  1.42965811e+00 -3.99564166e-01  4.19522803e+00\n",
      "  -2.29919849e+00]\n",
      " [ 9.31675350e-01 -6.40981425e-01 -4.24348228e+00 -3.44067733e+00\n",
      "   1.48577750e+00]\n",
      " [-1.02055531e-01  1.22602446e+00 -1.33922764e+00  3.76630574e+00\n",
      "   1.05142666e+00]\n",
      " [-2.97537987e-02 -1.60456309e+00 -1.76470168e+00 -1.52609916e+00\n",
      "   1.52654351e+00]\n",
      " [-4.65790541e-03 -1.59756439e-02  3.83592490e-01  4.25320835e+00\n",
      "   5.15079698e-01]\n",
      " [ 2.29636759e-02 -8.37459123e-03 -2.99712048e+00  2.26209464e+00\n",
      "   4.74394236e+00]\n",
      " [ 8.16153686e-03  8.23550337e-02  1.77193428e-01  3.05903547e+00\n",
      "  -9.33201854e-01]\n",
      " [ 8.48174196e-01 -1.76157339e+00  3.43150778e+00 -3.24657727e+00\n",
      "  -1.58581257e+00]\n",
      " [-1.58778954e+00  6.65825302e-01  2.95893245e-01 -2.07799772e-01\n",
      "   2.29188539e+00]\n",
      " [ 3.38175316e-02  9.34448619e-01 -4.12106568e-01 -2.97073362e+00\n",
      "  -3.03660049e+00]\n",
      " [ 3.87057534e-01 -1.65074419e+00  4.70356592e-01  2.77960718e+00\n",
      "   3.75956716e+00]\n",
      " [-5.53164775e-01 -2.78918116e-03 -3.06101239e-01  2.28426323e+00\n",
      "  -2.40707446e+00]\n",
      " [ 5.89612106e-01  4.29309031e-01 -3.14566755e+00  1.35804991e+00\n",
      "  -1.32698504e+00]\n",
      " [-9.87062797e-01  6.33042343e-01  3.50466854e+00  1.58096536e+00\n",
      "  -2.20525385e+00]\n",
      " [ 5.90527710e-01  3.97399036e-01  7.62229255e-01 -3.32946998e+00\n",
      "   7.32949739e-01]\n",
      " [ 9.54727083e-01 -6.97836467e-01  4.61472839e+00  4.29969025e+00\n",
      "  -1.71217085e+00]\n",
      " [-8.95784511e-01  1.30171733e+00  4.20380967e+00  4.38554092e+00\n",
      "  -2.97940869e+00]\n",
      " [-1.06291869e+00  2.51665672e-01 -4.07341594e+00 -1.83593246e+00\n",
      "   2.19664474e-01]\n",
      " [ 5.61998503e-01  1.94053423e+00 -1.59327945e+00  9.12460303e-01\n",
      "   1.81758813e+00]\n",
      " [-2.90869595e-02 -1.25900797e-02 -4.98855356e-01 -2.25049002e+00\n",
      "   1.05756810e+00]\n",
      " [-5.75533627e-01 -1.17275485e-02  3.37773993e+00 -2.71879624e+00\n",
      "   1.31662073e+00]\n",
      " [-9.62728678e-01  6.59018945e-01  1.14129693e+00  3.17568784e-01\n",
      "  -2.65316691e+00]\n",
      " [ 1.30276147e-01 -7.56046147e-01 -6.09303323e-01 -9.20842508e-01\n",
      "   2.66710782e+00]\n",
      " [ 6.28790445e-03 -4.80453830e-01 -2.18807962e+00 -4.42441192e+00\n",
      "  -2.50050111e+00]\n",
      " [-1.48415707e-01 -1.09560920e+00 -6.36213579e-01  3.39354534e+00\n",
      "  -4.56734610e+00]\n",
      " [-5.67497653e-01 -1.40126441e+00 -3.55584502e+00  3.74144877e+00\n",
      "   3.13866452e+00]\n",
      " [ 7.33745477e-02  5.84740678e-01 -3.93965673e+00  1.96837727e+00\n",
      "   2.42176984e+00]]\n",
      "Shape of input (30, 150)\n",
      "(30, 5)\n",
      "(30, 150)\n",
      "K= 3 Mean_Vector Matrix (30, 5)\n",
      "K= 3 Mean_Vector Matrix [[ 4.97695758e-01 -8.13663873e-01 -5.78149863e-01 -3.50012222e+00\n",
      "   2.44266165e+00]\n",
      " [-2.49197852e-02  3.43150605e-02  7.12300285e-02  4.69883230e+00\n",
      "  -4.76802366e+00]\n",
      " [ 1.54656848e+00  1.45444517e-01  4.59117542e-01 -4.63106651e+00\n",
      "  -4.75038268e-01]\n",
      " [-1.59709652e-02 -2.18268391e-02 -1.22983538e-02  4.88552024e+00\n",
      "   2.64870045e-01]\n",
      " [ 9.31160236e-01  9.98675650e-01  9.90680846e-01  4.29420449e+00\n",
      "   4.34697384e+00]\n",
      " [-1.01157660e-01  8.23967705e-03  3.43258194e-01  2.44313785e+00\n",
      "   3.69766726e+00]\n",
      " [-2.92648689e-02 -1.05800216e-01  3.10641600e-01  3.90352144e+00\n",
      "  -4.53663806e+00]\n",
      " [-4.56319067e-03 -1.22117270e-02 -1.37613742e-02 -6.24129164e-01\n",
      "   1.72592640e+00]\n",
      " [ 2.30679558e-02 -8.83257575e-04 -9.46820675e-03 -4.86202780e+00\n",
      "   3.09643520e-01]\n",
      " [ 8.21030724e-03  4.69004331e-02 -1.34594372e-02 -1.56082876e+00\n",
      "  -3.45040773e+00]\n",
      " [ 8.48636978e-01  9.27357736e-01  1.29394221e+00  2.51888326e-01\n",
      "  -9.45261285e-01]\n",
      " [-1.58831955e+00 -2.62046603e-01 -5.18253576e-01 -2.79549397e+00\n",
      "   8.25366835e-01]\n",
      " [ 3.39501683e-02 -1.52972205e-02  2.94126984e-02  3.09611456e+00\n",
      "  -6.53004480e-01]\n",
      " [ 3.87973843e-01 -8.07187637e-01 -1.95836894e-01 -2.56563245e+00\n",
      "  -2.30152365e+00]\n",
      " [-5.53508691e-01  8.03409558e-01  5.64946918e-01  2.59621813e+00\n",
      "   1.02050850e+00]\n",
      " [ 5.89896753e-01 -7.95551755e-01 -5.81407612e-01  2.00857465e+00\n",
      "  -8.60658619e-01]\n",
      " [-9.86848587e-01 -9.97141576e-01 -1.00764880e+00 -2.26627417e+00\n",
      "   4.21693412e+00]\n",
      " [ 5.89079203e-01  1.83187583e+00  1.20961468e+00 -9.31617043e-01\n",
      "   3.52688833e+00]\n",
      " [ 9.54538275e-01  1.01194218e+00  1.03960711e+00  2.36416326e+00\n",
      "  -2.82096332e+00]\n",
      " [-8.96811023e-01 -9.43554970e-01 -1.33843252e+00  3.06516855e+00\n",
      "   1.82507451e+00]\n",
      " [-1.06281072e+00 -9.52097857e-01 -1.00640965e+00 -4.27162453e+00\n",
      "   2.46112083e+00]\n",
      " [ 5.62258276e-01 -8.02310222e-01 -8.14871374e-01  4.76386382e+00\n",
      "  -1.40498814e+00]\n",
      " [-2.91202884e-02  2.71160648e-02  3.95580862e-02 -2.84507373e+00\n",
      "   7.98009793e-01]\n",
      " [-5.75999791e-01  8.03883073e-01  5.78559907e-01 -4.43150476e+00\n",
      "  -2.11687530e+00]\n",
      " [-9.62558796e-01 -9.62442360e-01 -9.80843404e-01  9.86545258e-01\n",
      "  -3.69243108e+00]\n",
      " [ 1.29262626e-01  8.48548213e-02 -2.81737080e-01 -3.20363390e+00\n",
      "  -1.90200237e+00]\n",
      " [ 6.20908566e-03 -4.02268818e-02 -1.60371691e-02  1.71160999e+00\n",
      "   1.78714104e-01]\n",
      " [-1.47592621e-01 -4.36035951e-02  3.42243524e-01  4.27734477e+00\n",
      "  -2.25046790e+00]\n",
      " [-5.67747201e-01  8.05046160e-01  5.37388634e-01  4.64541247e+00\n",
      "  -4.52467032e+00]\n",
      " [ 7.27133643e-02  3.74549379e-02 -4.04202004e-01  4.11273455e+00\n",
      "   2.87104149e+00]]\n",
      "Shape of input (30, 150)\n",
      "(30, 5)\n",
      "(30, 150)\n",
      "K= 4 Mean_Vector Matrix (30, 5)\n",
      "K= 4 Mean_Vector Matrix [[-5.70156146e-01 -4.70280468e-02 -6.94897270e-01 -6.94877594e-01\n",
      "  -3.20833026e+00]\n",
      " [ 7.23843836e-02  8.55131184e-04  1.77106392e-02  1.77040465e-02\n",
      "   3.52824817e+00]\n",
      " [ 4.69500752e-01  9.14193203e-01  2.65826704e-01  2.65843188e-01\n",
      "   2.13823062e+00]\n",
      " [-1.24979132e-02  3.56861987e-02  4.08154600e-03  4.08007790e-03\n",
      "   1.39598527e+00]\n",
      " [ 9.90975189e-01  1.02184784e+00  1.01483884e+00  1.01483580e+00\n",
      "  -4.02962746e+00]\n",
      " [ 3.62012502e-01 -8.16427809e-01 -9.52962650e-02 -9.53335731e-02\n",
      "   2.60963202e+00]\n",
      " [ 3.29183804e-01 -7.61363007e-01 -1.73864523e-01 -1.73889229e-01\n",
      "   3.22360308e+00]\n",
      " [-1.46357971e-02  1.00109915e-03 -2.03796979e-03 -2.03790200e-03\n",
      "  -4.23591053e+00]\n",
      " [-7.91923032e-03  1.14472433e-02 -5.94134004e-03 -5.95360507e-03\n",
      "   3.88473939e+00]\n",
      " [-1.08602638e-02  5.12436287e-02  6.14539981e-02  6.14590050e-02\n",
      "   1.80673150e+00]\n",
      " [ 1.31300894e+00  1.91227255e-01  8.20688116e-01  8.20654515e-01\n",
      "  -8.11693229e-01]\n",
      " [-5.23515487e-01 -9.22664228e-01 -3.54681441e-01 -3.54691654e-01\n",
      "   8.01154060e-01]\n",
      " [ 2.99763893e-02  3.35557958e-02 -6.52494714e-04 -6.52708704e-04\n",
      "   2.90871713e+00]\n",
      " [-1.72084349e-01 -8.89812642e-01 -8.18410904e-01 -8.18435252e-01\n",
      "  -3.02762612e+00]\n",
      " [ 5.56326914e-01 -2.76684449e-02  6.86599157e-01  6.86585778e-01\n",
      "  -8.84933171e-01]\n",
      " [-5.71221683e-01  3.29510752e-02 -6.98911950e-01 -6.98890893e-01\n",
      "   4.79403066e+00]\n",
      " [-1.00882267e+00 -1.05748962e+00 -9.92658922e-01 -9.92667772e-01\n",
      "  -1.70283962e+00]\n",
      " [ 1.18209971e+00  1.83938737e+00  1.83732313e+00  1.83734260e+00\n",
      "  -4.00194919e+00]\n",
      " [ 1.03970720e+00  9.21240617e-01  1.01406624e+00  1.01407413e+00\n",
      "   1.96018611e+00]\n",
      " [-1.35676824e+00 -1.80670203e-01 -8.13256605e-01 -8.13228469e-01\n",
      "  -2.19424095e+00]\n",
      " [-1.01080069e+00 -1.01201549e+00 -9.24404168e-01 -9.24402783e-01\n",
      "   3.20166218e+00]\n",
      " [-8.24214935e-01  6.92295660e-01 -5.87981001e-01 -5.87931224e-01\n",
      "   1.44836514e+00]\n",
      " [ 3.82857892e-02  9.16364047e-03  1.15233472e-02  1.15148649e-02\n",
      "  -4.26145602e+00]\n",
      " [ 5.69020560e-01  4.18944470e-02  6.99150491e-01  6.99133804e-01\n",
      "   6.30856120e-01]\n",
      " [-9.82827645e-01 -9.67135776e-01 -9.84342223e-01 -9.84344584e-01\n",
      "   3.74930876e+00]\n",
      " [-3.00269998e-01  8.48361680e-01  1.98636445e-01  1.98676017e-01\n",
      "   3.54427763e-02]\n",
      " [-1.64188697e-02 -2.81012657e-02 -3.49806079e-02 -3.49825010e-02\n",
      "  -4.73080678e+00]\n",
      " [ 3.59814451e-01 -8.10836489e-01 -1.68893216e-01 -1.68931984e-01\n",
      "  -1.29097746e+00]\n",
      " [ 5.29259089e-01  3.78209577e-02  6.90615557e-01  6.90599200e-01\n",
      "  -8.29430590e-01]\n",
      " [-4.21006211e-01  7.74166433e-01  1.22231251e-01  1.22267140e-01\n",
      "   2.96843388e+00]]\n",
      "Shape of input (30, 150)\n",
      "(30, 5)\n",
      "(30, 150)\n",
      "K= 5 Mean_Vector Matrix (30, 5)\n",
      "K= 5 Mean_Vector Matrix [[-5.78147561e-01 -1.46989622e+00 -1.46989545e+00 -1.41483259e+00\n",
      "  -6.94876995e-01]\n",
      " [ 7.12303803e-02  2.60401316e-03  2.60410361e-03  1.52074980e-02\n",
      "   1.77029530e-02]\n",
      " [ 4.59119151e-01  1.28679639e+00  1.28679863e+00  6.55791627e-01\n",
      "   2.65842997e-01]\n",
      " [-1.22970646e-02  1.39883115e+00  1.39883250e+00  1.42965719e+00\n",
      "   4.08053974e-03]\n",
      " [ 9.90683841e-01 -2.12861116e-01 -2.12860166e-01 -6.40980280e-01\n",
      "   1.01483824e+00]\n",
      " [ 3.43259415e-01  9.82604246e-01  9.82604426e-01  1.22602460e+00\n",
      "  -9.53361528e-02]\n",
      " [ 3.10645870e-01 -1.79178472e+00 -1.79178427e+00 -1.60456573e+00\n",
      "  -1.73889861e-01]\n",
      " [-1.37641935e-02 -1.80138927e-02 -1.80129457e-02 -1.59751493e-02\n",
      "  -2.03801613e-03]\n",
      " [-9.46731700e-03  1.51364766e-02  1.51385558e-02 -8.37487064e-03\n",
      "  -5.95337525e-03]\n",
      " [-1.34574038e-02  2.70750588e-02  2.70761844e-02  8.23529408e-02\n",
      "   6.14589497e-02]\n",
      " [ 1.29394686e+00 -1.63579368e-02 -1.63574044e-02 -1.76157082e+00\n",
      "   8.20655022e-01]\n",
      " [-5.18254697e-01  1.15999151e-01  1.15998187e-01  6.65825853e-01\n",
      "  -3.54691261e-01]\n",
      " [ 2.94163634e-02  1.78917110e+00  1.78917378e+00  9.34449586e-01\n",
      "  -6.51447662e-04]\n",
      " [-1.95831070e-01 -1.90370579e+00 -1.90370641e+00 -1.65074581e+00\n",
      "  -8.18436885e-01]\n",
      " [ 5.64948194e-01  5.77333972e-03  5.77275350e-03 -2.79166634e-03\n",
      "   6.86583479e-01]\n",
      " [-5.81405587e-01 -2.43105011e-01 -2.43106766e-01  4.29309385e-01\n",
      "  -6.98887658e-01]\n",
      " [-1.00764756e+00  1.63511337e-01  1.63513767e-01  6.33041487e-01\n",
      "  -9.92668058e-01]\n",
      " [ 1.20960789e+00 -2.83452226e-01 -2.83452327e-01  3.97394602e-01\n",
      "   1.83734367e+00]\n",
      " [ 1.03960365e+00 -1.84571078e-01 -1.84571886e-01 -6.97837030e-01\n",
      "   1.01407275e+00]\n",
      " [-1.33843775e+00  2.88141196e-01  2.88140222e-01  1.30171903e+00\n",
      "  -8.13228287e-01]\n",
      " [-1.00640986e+00  4.15222695e-01  4.15223755e-01  2.51665593e-01\n",
      "  -9.24403042e-01]\n",
      " [-8.14869819e-01  1.47137305e+00  1.47137542e+00  1.94053342e+00\n",
      "  -5.87928187e-01]\n",
      " [ 3.95610164e-02 -3.01579654e-02 -3.01565476e-02 -1.25907180e-02\n",
      "   1.15150364e-02]\n",
      " [ 5.78560735e-01 -2.62938921e-02 -2.62930581e-02 -1.17276423e-02\n",
      "   6.99134965e-01]\n",
      " [-9.80840955e-01  1.69344477e-01  1.69342555e-01  6.59018884e-01\n",
      "  -9.84345349e-01]\n",
      " [-2.81741229e-01 -1.24371127e+00 -1.24371082e+00 -7.56045293e-01\n",
      "   1.98677707e-01]\n",
      " [-1.60380889e-02  3.06284167e-01  3.06285660e-01 -4.80454464e-01\n",
      "  -3.49797289e-02]\n",
      " [ 3.42248784e-01  1.36097429e-01  1.36099174e-01 -1.09560385e+00\n",
      "  -1.68934314e-01]\n",
      " [ 5.37384567e-01 -1.45458046e+00 -1.45458038e+00 -1.40126413e+00\n",
      "   6.90595651e-01]\n",
      " [-4.04204998e-01  1.04205522e-01  1.04203139e-01  5.84741214e-01\n",
      "   1.22266636e-01]]\n"
     ]
    }
   ],
   "source": [
    "def KMeans_Vec(K, X_vec):\n",
    "    #input X shape (200,2)\n",
    "    #K = 5\n",
    "    iterations = 50\n",
    "    print(\"Shape of input\", X_vec.shape)\n",
    "    #initialized mean matrix\n",
    "    m_hat_vec  = np.random.uniform(-5,5, size=(30, 5))\n",
    "    print(m_hat_vec.shape)\n",
    "    \n",
    "    ##initialized covariance matrix\n",
    "    cov_hat1 = np.random.uniform(-3,3,size=(30,30))\n",
    "    cov_hat2 = np.random.uniform(-4,5,size=(30,30))\n",
    "    cov_hat3 = np.random.uniform(-2,1,size=(30,30))\n",
    "    cov_hat4 = np.random.uniform(-6,3,size=(30,30))\n",
    "    cov_hat5 = np.random.uniform(0,4,size=(30,30))\n",
    "        \n",
    "    cov_hat_vec = np.concatenate((cov_hat1,cov_hat2,cov_hat3,cov_hat4,cov_hat5), axis=1)\n",
    "    print(cov_hat_vec.shape)\n",
    "    for itr in range(iterations):\n",
    "        for i in range(K):\n",
    "            dist = []\n",
    "            for j in range(3*numberPoint):\n",
    "                err = m_hat_vec[:,i]-X_vec[:,j]\n",
    "                err = err**2\n",
    "                dist.append(sum(err))\n",
    "            dist_arr = (np.asarray(dist))\n",
    "            min_dis = np.argsort(dist_arr)\n",
    "            #print(min_dis)\n",
    "            if(itr<10):\n",
    "                for sort_idx in range(itr):\n",
    "                    m_hat_vec[:,i]  = m_hat_vec[:,i] + X_vec[:,min_dis[sort_idx]]\n",
    "                m_hat_vec[:,i] = m_hat_vec[:,i]/(itr+1)\n",
    "    print('K=',K,'Mean_Vector Matrix', m_hat_vec.shape)\n",
    "    print('K=',K,'Mean_Vector Matrix', m_hat_vec)\n",
    "\n",
    "\n",
    "KMeans_Vec(2, X_vec)\n",
    "KMeans_Vec(3, X_vec)\n",
    "KMeans_Vec(4, X_vec)\n",
    "KMeans_Vec(5, X_vec)\n",
    "\n"
   ]
  },
  {
   "cell_type": "markdown",
   "metadata": {
    "ExecuteTime": {
     "end_time": "2018-05-14T05:58:19.427042Z",
     "start_time": "2018-05-14T05:58:19.421058Z"
    }
   },
   "source": [
    "## 7.) Geometric insights for K-means \n",
    "\n",
    "Yes, The values of means calculated after computing the d-dimensional matrix are quite relatable to the \"u\" vector generated in starting. And the relation is as follows. Component 1 = u1 + Z1u2 + Z2u3 + N and the d-dimensional mean calculated after is , for all the values that have -1 in the position when taking the final values of component 1, the corresponding values in mean matrix are nearer to -1 or less then 0, similary for all the values that summed to 1 in the component 1, the corresponding value in mean matrix is greater then 0. Similary for all the three components created so far. Hence it can be deduced from the values of mean that, the initial vector \"u\" used in creation of genertion of data or each component actually influences the values of corresponding means of the final mean matrix. "
   ]
  },
  {
   "cell_type": "markdown",
   "metadata": {},
   "source": [
    "### 8.) EM algorithm with several different values of K\n",
    "\n"
   ]
  },
  {
   "cell_type": "code",
   "execution_count": 13,
   "metadata": {
    "ExecuteTime": {
     "end_time": "2018-05-14T07:04:25.278796Z",
     "start_time": "2018-05-14T07:04:24.967617Z"
    }
   },
   "outputs": [
    {
     "name": "stdout",
     "output_type": "stream",
     "text": [
      "[[ 4.76156317 -1.56408452 -0.47927134  0.80902582  4.02730917]\n",
      " [ 3.4019048   2.40944342  3.24134912  0.27381211 -3.53558513]\n",
      " [ 1.97174179 -0.22661808  0.73471453  3.67829045 -2.97699967]\n",
      " [-4.11598534 -1.40246647  1.37969184  1.15390811  2.12433782]\n",
      " [ 2.37896977 -4.10213099  0.48731094 -3.08284452 -0.181407  ]\n",
      " [-0.96807159 -1.82523631  0.8346912   1.67392626 -4.35835928]\n",
      " [ 4.55155045 -3.77196041 -2.87899132  0.38496428  3.94630725]\n",
      " [-2.60781415 -1.31356206 -3.62070848  2.53998055  4.09481227]\n",
      " [ 3.08915869  2.23543917  2.81977776  0.9533677  -2.02058748]\n",
      " [-2.84709939  1.06960256 -2.18315336  3.29082482 -3.59212485]\n",
      " [ 0.58838998 -3.79294743  2.14245065  4.17364777  0.61634129]\n",
      " [ 1.74500809 -3.1394544   3.26060211  3.03633863  0.98144981]\n",
      " [-2.67840067 -4.98780994  3.12072081 -2.9026952  -4.80124728]\n",
      " [ 0.42705044 -1.86866521  2.27481098  3.55152512  0.46143884]\n",
      " [-0.57367557 -2.37615889 -2.62753269  3.4702087   0.50602406]\n",
      " [ 1.77121165 -1.76630915 -1.44744294 -4.2961298   1.27038967]\n",
      " [ 3.68931279 -0.32982198  0.74434072 -2.65655327 -4.7143609 ]\n",
      " [-4.65221706  1.86648104  1.74426169 -4.30840301 -2.66496226]\n",
      " [-4.45609479  1.34944632  2.99310049  0.34206732  3.44907011]\n",
      " [ 2.17894239  1.19071798  1.67376874 -4.42309182 -4.2205166 ]\n",
      " [-1.00948994  0.7992479   4.54855894 -0.41230662 -2.04176535]\n",
      " [-0.57536894  3.0782663   2.51562808 -0.82055156  3.77703834]\n",
      " [-1.44752669 -4.06389586 -3.96752124 -2.93336014 -3.33813104]\n",
      " [-3.90056196  3.28174761  3.18238786  2.82221875 -3.94475083]\n",
      " [ 0.7828361   1.5677652   4.57917149 -2.16518822 -1.18215077]\n",
      " [ 0.84355738 -1.6744267   2.14287556  4.82641997 -1.24494359]\n",
      " [-4.3524858  -1.40379506 -2.57911625  4.22835421  3.33612984]\n",
      " [-0.57668532  1.31543278 -3.37930429  2.27425833 -1.43431595]\n",
      " [ 3.79912187 -1.60259342  4.77055277  2.24504025 -0.50662366]\n",
      " [-3.08604292  0.15014777  2.02683006 -3.5319226   1.06193139]]\n",
      "(30, 150)\n",
      "(30, 150)\n",
      "Mean U:  (2, 150)\n",
      "Covariance:  (30, 30)\n"
     ]
    },
    {
     "ename": "ValueError",
     "evalue": "operands could not be broadcast together with shapes (50,30) (150,) ",
     "output_type": "error",
     "traceback": [
      "\u001b[1;31m---------------------------------------------------------------------------\u001b[0m",
      "\u001b[1;31mValueError\u001b[0m                                Traceback (most recent call last)",
      "\u001b[1;32m<ipython-input-13-30fa4ec94222>\u001b[0m in \u001b[0;36m<module>\u001b[1;34m()\u001b[0m\n\u001b[0;32m     92\u001b[0m \u001b[1;33m\u001b[0m\u001b[0m\n\u001b[0;32m     93\u001b[0m \u001b[1;32mfor\u001b[0m \u001b[0mval\u001b[0m \u001b[1;32min\u001b[0m \u001b[0mrange\u001b[0m\u001b[1;33m(\u001b[0m\u001b[1;36m2\u001b[0m\u001b[1;33m,\u001b[0m\u001b[1;36m6\u001b[0m\u001b[1;33m)\u001b[0m\u001b[1;33m:\u001b[0m\u001b[1;33m\u001b[0m\u001b[0m\n\u001b[1;32m---> 94\u001b[1;33m     \u001b[0mparams\u001b[0m \u001b[1;33m=\u001b[0m \u001b[0mfit_EM_vector\u001b[0m\u001b[1;33m(\u001b[0m\u001b[0mX_vec\u001b[0m\u001b[1;33m,\u001b[0m\u001b[1;36m10\u001b[0m\u001b[1;33m,\u001b[0m\u001b[0mk\u001b[0m\u001b[1;33m=\u001b[0m\u001b[0mval\u001b[0m\u001b[1;33m)\u001b[0m\u001b[1;33m\u001b[0m\u001b[0m\n\u001b[0m\u001b[0;32m     95\u001b[0m     \u001b[0mprint\u001b[0m\u001b[1;33m(\u001b[0m\u001b[1;34m'Mu   :'\u001b[0m\u001b[1;33m,\u001b[0m\u001b[0mparams\u001b[0m\u001b[1;33m.\u001b[0m\u001b[0mmu\u001b[0m\u001b[1;33m)\u001b[0m\u001b[1;33m\u001b[0m\u001b[0m\n\u001b[0;32m     96\u001b[0m     \u001b[0mprint\u001b[0m\u001b[1;33m(\u001b[0m\u001b[1;34m'Si   :'\u001b[0m\u001b[1;33m,\u001b[0m\u001b[0mparams\u001b[0m\u001b[1;33m.\u001b[0m\u001b[0mSigma\u001b[0m\u001b[1;33m)\u001b[0m\u001b[1;33m\u001b[0m\u001b[0m\n",
      "\u001b[1;32m<ipython-input-13-30fa4ec94222>\u001b[0m in \u001b[0;36mfit_EM_vector\u001b[1;34m(X_vec, max_iters, k, eps)\u001b[0m\n\u001b[0;32m     48\u001b[0m         \u001b[1;31m## membership for each of k -gaussians\u001b[0m\u001b[1;33m\u001b[0m\u001b[1;33m\u001b[0m\u001b[0m\n\u001b[0;32m     49\u001b[0m         \u001b[1;32mfor\u001b[0m \u001b[0mk\u001b[0m \u001b[1;32min\u001b[0m \u001b[0mrange\u001b[0m\u001b[1;33m(\u001b[0m\u001b[0mk\u001b[0m\u001b[1;33m)\u001b[0m\u001b[1;33m:\u001b[0m\u001b[1;33m\u001b[0m\u001b[0m\n\u001b[1;32m---> 50\u001b[1;33m             \u001b[0mR\u001b[0m\u001b[1;33m[\u001b[0m\u001b[1;33m:\u001b[0m\u001b[1;33m,\u001b[0m \u001b[0mk\u001b[0m\u001b[1;33m]\u001b[0m \u001b[1;33m=\u001b[0m \u001b[0mw\u001b[0m\u001b[1;33m[\u001b[0m\u001b[0mk\u001b[0m\u001b[1;33m]\u001b[0m \u001b[1;33m*\u001b[0m \u001b[0mP\u001b[0m\u001b[1;33m(\u001b[0m\u001b[0mmu\u001b[0m\u001b[1;33m[\u001b[0m\u001b[0mk\u001b[0m\u001b[1;33m]\u001b[0m\u001b[1;33m,\u001b[0m \u001b[0mSigma\u001b[0m\u001b[1;33m[\u001b[0m\u001b[0mk\u001b[0m\u001b[1;33m]\u001b[0m\u001b[1;33m)\u001b[0m\u001b[1;33m\u001b[0m\u001b[0m\n\u001b[0m\u001b[0;32m     51\u001b[0m \u001b[1;33m\u001b[0m\u001b[0m\n\u001b[0;32m     52\u001b[0m         \u001b[1;31m### Likelihood computation\u001b[0m\u001b[1;33m\u001b[0m\u001b[1;33m\u001b[0m\u001b[0m\n",
      "\u001b[1;32m<ipython-input-13-30fa4ec94222>\u001b[0m in \u001b[0;36m<lambda>\u001b[1;34m(mu, s)\u001b[0m\n\u001b[0;32m     39\u001b[0m     \u001b[0mlog_likelihoods\u001b[0m \u001b[1;33m=\u001b[0m \u001b[1;33m[\u001b[0m\u001b[1;33m]\u001b[0m\u001b[1;33m\u001b[0m\u001b[0m\n\u001b[0;32m     40\u001b[0m \u001b[1;33m\u001b[0m\u001b[0m\n\u001b[1;32m---> 41\u001b[1;33m     \u001b[0mP\u001b[0m \u001b[1;33m=\u001b[0m \u001b[1;32mlambda\u001b[0m \u001b[0mmu\u001b[0m\u001b[1;33m,\u001b[0m \u001b[0ms\u001b[0m\u001b[1;33m:\u001b[0m \u001b[1;33m(\u001b[0m\u001b[1;36m2774532095.999\u001b[0m\u001b[1;33m)\u001b[0m \u001b[1;33m**\u001b[0m \u001b[1;33m-\u001b[0m\u001b[1;36m.5\u001b[0m \u001b[1;33m**\u001b[0m \u001b[1;33m(\u001b[0m\u001b[1;36m2\u001b[0m \u001b[1;33m*\u001b[0m \u001b[0mnp\u001b[0m\u001b[1;33m.\u001b[0m\u001b[0mpi\u001b[0m\u001b[1;33m)\u001b[0m \u001b[1;33m**\u001b[0m \u001b[1;33m(\u001b[0m\u001b[1;33m-\u001b[0m\u001b[0md\u001b[0m\u001b[1;33m/\u001b[0m\u001b[1;36m2.\u001b[0m\u001b[1;33m)\u001b[0m             \u001b[1;33m*\u001b[0m \u001b[0mnp\u001b[0m\u001b[1;33m.\u001b[0m\u001b[0mexp\u001b[0m\u001b[1;33m(\u001b[0m\u001b[1;33m-\u001b[0m\u001b[1;36m.5\u001b[0m \u001b[1;33m*\u001b[0m \u001b[0mnp\u001b[0m\u001b[1;33m.\u001b[0m\u001b[0meinsum\u001b[0m\u001b[1;33m(\u001b[0m\u001b[1;34m'ij, ij -> i'\u001b[0m\u001b[1;33m,\u001b[0m                    \u001b[0mX\u001b[0m \u001b[1;33m-\u001b[0m \u001b[1;33m(\u001b[0m\u001b[0mmu\u001b[0m\u001b[1;33m.\u001b[0m\u001b[0mT\u001b[0m\u001b[1;33m)\u001b[0m\u001b[1;33m,\u001b[0m \u001b[0mnp\u001b[0m\u001b[1;33m.\u001b[0m\u001b[0mdot\u001b[0m\u001b[1;33m(\u001b[0m\u001b[0mSigma_inv\u001b[0m \u001b[1;33m,\u001b[0m \u001b[1;33m(\u001b[0m\u001b[0mX_vec\u001b[0m \u001b[1;33m-\u001b[0m \u001b[1;33m(\u001b[0m\u001b[0mmu\u001b[0m\u001b[1;33m.\u001b[0m\u001b[0mT\u001b[0m\u001b[1;33m)\u001b[0m\u001b[1;33m)\u001b[0m\u001b[1;33m.\u001b[0m\u001b[0mT\u001b[0m\u001b[1;33m)\u001b[0m\u001b[1;33m.\u001b[0m\u001b[0mT\u001b[0m \u001b[1;33m)\u001b[0m \u001b[1;33m)\u001b[0m\u001b[1;33m\u001b[0m\u001b[0m\n\u001b[0m\u001b[0;32m     42\u001b[0m \u001b[1;33m\u001b[0m\u001b[0m\n\u001b[0;32m     43\u001b[0m     \u001b[1;31m# Iterate till max_iters iterations\u001b[0m\u001b[1;33m\u001b[0m\u001b[1;33m\u001b[0m\u001b[0m\n",
      "\u001b[1;31mValueError\u001b[0m: operands could not be broadcast together with shapes (50,30) (150,) "
     ]
    }
   ],
   "source": [
    "# Initialization \n",
    "K = 3\n",
    "Pik= [0.33, 0.33, 0.34]\n",
    "Mk = np.random.uniform(-5,5, size=(30, 5))\n",
    "\n",
    "print(Mk)\n",
    "\n",
    "ck_hat1 = np.random.uniform(-3,3,size=(30,30))\n",
    "ck_hat2 = np.random.uniform(-4,5,size=(30,30))\n",
    "ck_hat3 = np.random.uniform(-2,1,size=(30,30))\n",
    "ck_hat4 = np.random.uniform(-6,3,size=(30,30))\n",
    "ck_hat5 = np.random.uniform(0,4,size=(30,30))\n",
    "        \n",
    "Ck = np.concatenate((ck_hat1,ck_hat2,ck_hat3,ck_hat4,ck_hat5), axis=1)\n",
    "\n",
    "print(Ck.shape)\n",
    "\n",
    "\n",
    "def fit_EM_vector(X_vec, max_iters, k=3, eps = 0.000001):\n",
    "    # n = number of data-points, d = dimension of data points        \n",
    "    d,n = X_vec.shape\n",
    "    print(X_vec.shape)\n",
    "    # randomly choose the starting centroids/means \n",
    "    ## as 3 of the points from datasets        \n",
    "    mu = X_vec[np.random.choice(d, k, False), :]\n",
    "    print('Mean U: ',mu.shape)\n",
    "\n",
    "    # initialize the covariance matrices for each gaussians\n",
    "    Sigma = [np.eye(d)] * k\n",
    "    print('Covariance: ',Sigma[0].shape)\n",
    "    # initialize the probabilities/weights for each gaussians\n",
    "    w = [1./k] * k\n",
    "\n",
    "    # responsibility matrix is initialized to all zeros\n",
    "    # we have responsibility for each of n points for eack of k gaussians\n",
    "    R = np.zeros((n, k))\n",
    "\n",
    "    ### log_likelihoods\n",
    "    log_likelihoods = []\n",
    "\n",
    "    P = lambda mu, s: (2774532095.999) ** -.5 ** (2 * np.pi) ** (-d/2.) \\\n",
    "            * np.exp(-.5 * np.einsum('ij, ij -> i',\\\n",
    "                    X - (mu.T), np.dot(Sigma_inv , (X_vec - (mu.T)).T).T ) ) \n",
    "    \n",
    "    # Iterate till max_iters iterations        \n",
    "    while len(log_likelihoods) < max_iters:\n",
    "\n",
    "        # E - Step\n",
    "        ## Vectorized implementation of e-step equation to calculate the \n",
    "        ## membership for each of k -gaussians\n",
    "        for k in range(k):\n",
    "            R[:, k] = w[k] * P(mu[k], Sigma[k])\n",
    "\n",
    "        ### Likelihood computation\n",
    "        log_likelihood = np.sum(np.log(np.sum(R, axis = 1)))\n",
    "\n",
    "        log_likelihoods.append(log_likelihood)\n",
    "\n",
    "        ## Normalize so that the responsibility matrix is row stochastic\n",
    "        R = (R.T / np.sum(R, axis = 1)).T\n",
    "\n",
    "        ## The number of datapoints belonging to each gaussian            \n",
    "        N_ks = np.sum(R, axis = 0)\n",
    "\n",
    "\n",
    "        # M Step\n",
    "        ## calculate the new mean and covariance for each gaussian by \n",
    "        ## utilizing the new responsibilities\n",
    "        for k in range(k):\n",
    "\n",
    "            ## means\n",
    "            mu[k] = 1. / N_ks[k] * np.sum(R[:, k] * X.T, axis = 1).T\n",
    "            x_mu = np.matrix(X_vec - mu[k])\n",
    "\n",
    "            ## covariances\n",
    "            Sigma[k] = np.array(1 / N_ks[k] * np.dot(np.multiply(x_mu.T,  R[:, k]), x_mu))\n",
    "\n",
    "            ## and finally the probabilities\n",
    "            w[k] = 1. / n * N_ks[k]\n",
    "        # check for onvergence\n",
    "        if len(log_likelihoods) < 2 : continue\n",
    "        if np.abs(log_likelihood - log_likelihoods[-2]) < eps: break\n",
    "\n",
    "    \n",
    "    ## bind all results together\n",
    "    from collections import namedtuple\n",
    "    params = namedtuple('params', ['mu', 'Sigma', 'w', 'log_likelihoods', 'num_iters'])\n",
    "    params.mu = mu\n",
    "    params.Sigma = Sigma\n",
    "    params.w = w\n",
    "    params.log_likelihoods = log_likelihoods\n",
    "    params.num_iters = len(log_likelihoods)   \n",
    "    return params\n",
    "\n",
    "for val in range(2,6):\n",
    "    params = fit_EM_vector(X_vec,10,k=val)\n",
    "    print('Mu   :',params.mu)\n",
    "    print('Si   :',params.Sigma)\n",
    "    print('W    :',params.w)\n",
    "    print('LogL :',params.log_likelihoods)\n",
    "    print('Iter :',params.num_iters)\n",
    "    plt.plot(params.log_likelihoods)\n",
    "    plt.title('Log Likelihood vs iteration plot')\n",
    "    plt.xlabel('Iterations')\n",
    "    plt.ylabel('log likelihood')\n",
    "    plt.show()\n",
    "\n"
   ]
  },
  {
   "cell_type": "markdown",
   "metadata": {},
   "source": [
    "### 9) Optional bonus problem: Play with deterministic annealing for this dataset, and report on your findings."
   ]
  },
  {
   "cell_type": "markdown",
   "metadata": {
    "ExecuteTime": {
     "end_time": "2018-05-01T05:53:53.905236Z",
     "start_time": "2018-05-01T05:53:53.784559Z"
    }
   },
   "source": []
  }
 ],
 "metadata": {
  "kernelspec": {
   "display_name": "Python [conda env:tflo]",
   "language": "python",
   "name": "conda-env-tflo-py"
  },
  "language_info": {
   "codemirror_mode": {
    "name": "ipython",
    "version": 3
   },
   "file_extension": ".py",
   "mimetype": "text/x-python",
   "name": "python",
   "nbconvert_exporter": "python",
   "pygments_lexer": "ipython3",
   "version": "3.6.4"
  }
 },
 "nbformat": 4,
 "nbformat_minor": 2
}
