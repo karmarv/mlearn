{
 "cells": [
  {
   "cell_type": "markdown",
   "metadata": {},
   "source": [
    "###### ECE 283: Homework 3\n",
    "###### Topics: Unsupervised Learning, part 1 (Gaussian mixtures and EM algorithm; K-means and soft K-means)\n",
    "###### Due: Friday May 11\n",
    "\n",
    "- Neural networks; Tensorflow\n",
    "- 2D synthetic gaussian mixture data for binary classification"
   ]
  },
  {
   "cell_type": "markdown",
   "metadata": {},
   "source": [
    "### Report\n",
    "\n",
    "----------------------------------------\n",
    "\n",
    "##### 1.Generate the 2D sample data\n",
    "\n",
    "\n",
    "\n"
   ]
  },
  {
   "cell_type": "markdown",
   "metadata": {},
   "source": [
    "# Code Section"
   ]
  },
  {
   "cell_type": "code",
   "execution_count": 33,
   "metadata": {
    "ExecuteTime": {
     "end_time": "2018-05-09T04:05:10.749285Z",
     "start_time": "2018-05-09T04:05:10.733671Z"
    }
   },
   "outputs": [],
   "source": [
    "# -*- coding: utf-8 -*-\n",
    "\n",
    "import tensorflow as tf\n",
    "import numpy as np\n",
    "from math import *\n",
    "import matplotlib.pyplot as plt\n",
    "from matplotlib import cm\n",
    "from mpl_toolkits.mplot3d import Axes3D\n",
    "\n",
    "from scipy.stats import norm\n",
    "from IPython.display import Image, display, Math, Latex\n",
    "\n",
    "\n",
    "# Params\n",
    "n_inpoints = 20"
   ]
  },
  {
   "cell_type": "code",
   "execution_count": 34,
   "metadata": {
    "ExecuteTime": {
     "end_time": "2018-05-09T04:05:11.264833Z",
     "start_time": "2018-05-09T04:05:11.233545Z"
    },
    "code_folding": [
     1
    ]
   },
   "outputs": [
    {
     "name": "stdout",
     "output_type": "stream",
     "text": [
      "Mean:  (0, 0)   \n",
      "Cov : [[2. 0.]\n",
      " [0. 1.]]\n"
     ]
    }
   ],
   "source": [
    "def generateClass0(): \n",
    "    theta0 = 0\n",
    "    lmb01 = 2\n",
    "    lmb02 = 1\n",
    "    m0 = (0,  0)\n",
    "    # computing u * u.T and later multiplying with lambda\n",
    "    cov01 = [[(cos(theta0))**2,    cos(theta0)*sin(theta0)],\n",
    "             [(sin(theta0))*cos(theta0), (sin(theta0))**2]]\n",
    "    cov02 = [[(sin(theta0))**2,    -(cos(theta0)*sin(theta0))],\n",
    "             [-(cos(theta0)*sin(theta0)), (cos(theta0))**2]]\n",
    "    cov0 = lmb01*np.matrix(cov01) + lmb02*np.matrix(cov02)\n",
    "    print('Mean: ',m0,' ','\\nCov :',cov0)\n",
    "    cov0_det = np.linalg.det(cov0)\n",
    "    x0, y0 = np.random.multivariate_normal(m0, cov0, int(n_inpoints)).T\n",
    "    return x0,y0\n",
    "\n",
    "x0, y0 = generateClass0()"
   ]
  },
  {
   "cell_type": "code",
   "execution_count": 35,
   "metadata": {
    "ExecuteTime": {
     "end_time": "2018-05-09T04:05:11.785026Z",
     "start_time": "2018-05-09T04:05:11.769408Z"
    },
    "code_folding": [],
    "scrolled": true
   },
   "outputs": [
    {
     "name": "stdout",
     "output_type": "stream",
     "text": [
      "Mean:  (-2, 1)   \n",
      "Cov : [[1.125 0.875]\n",
      " [0.875 1.125]]\n",
      "Mean:  (3, 2)   \n",
      "Cov : [[2. 1.]\n",
      " [1. 2.]]\n"
     ]
    }
   ],
   "source": [
    "# Mixture A\n",
    "def generateClass1a():\n",
    "    theta1a = -3*pi/4\n",
    "    lmb1a1 = 2\n",
    "    lmb1a2 = 1/4\n",
    "    m1a = (-2, 1)\n",
    "    cov1a = [[(cos(theta1a))**2,    cos(theta1a)*sin(theta1a)],\n",
    "             [(sin(theta1a))*cos(theta1a), (sin(theta1a))**2]]\n",
    "    cov2a = [[(sin(theta1a))**2,    -(cos(theta1a)*sin(theta1a))],\n",
    "             [-(cos(theta1a)*sin(theta1a)), (cos(theta1a))**2]]\n",
    "    cov1a = lmb1a1*np.matrix(cov1a) + lmb1a2*np.matrix(cov2a)\n",
    "    cov1a_det = np.linalg.det(cov1a)\n",
    "    x1a, y1a = np.random.multivariate_normal(m1a, cov1a, int(n_inpoints)).T\n",
    "    print('Mean: ',m1a,' ','\\nCov :',cov1a)\n",
    "    return x1a,y1a\n",
    "\n",
    "# Mixture B\n",
    "def generateClass1b():\n",
    "    theta1b = pi/4\n",
    "    lmb1b1 = 3\n",
    "    lmb1b2 = 1\n",
    "    m1b = (3, 2)\n",
    "    cov1b = [[(cos(theta1b))**2,    cos(theta1b)*sin(theta1b)],\n",
    "             [(sin(theta1b))*cos(theta1b), (sin(theta1b))**2]]\n",
    "    cov2b = [[(sin(theta1b))**2,    -(cos(theta1b)*sin(theta1b))],\n",
    "             [-(cos(theta1b)*sin(theta1b)), (cos(theta1b))**2]]\n",
    "    cov1b = lmb1b1*np.matrix(cov1b) + lmb1b2*np.matrix(cov2b)\n",
    "    cov1b_det = np.linalg.det(cov1b)\n",
    "    x1b, y1b = np.random.multivariate_normal(m1b, cov1b, int(n_inpoints)).T\n",
    "    print('Mean: ',m1b,' ','\\nCov :',cov1b)\n",
    "    return x1b,y1b\n",
    "\n",
    "x1a, y1a = generateClass1a()\n",
    "x1b, y1b = generateClass1b()\n"
   ]
  },
  {
   "cell_type": "code",
   "execution_count": 37,
   "metadata": {
    "ExecuteTime": {
     "end_time": "2018-05-09T04:06:40.133366Z",
     "start_time": "2018-05-09T04:06:39.775971Z"
    }
   },
   "outputs": [
    {
     "name": "stdout",
     "output_type": "stream",
     "text": [
      "[0, 1, 0.10715065957483787, 2.7058013736683417, 0.9539919122841714, array([0., 1., 0.])]\n",
      "[1, 2, 0.38711449364687617, -0.7435316359171562, 3.474412829864824, array([0., 0., 1.])]\n",
      "[2, 2, 1.3644536869467827, 1.363758496634239, 5.046915362698376, array([0., 0., 1.])]\n",
      "[3, 2, 1.3052736607992148, 1.0868417791167577, 2.055221372721371, array([0., 0., 1.])]\n",
      "[4, 2, -1.4277366065776451, -0.2402195032319343, 0.13759704071744916, array([0., 0., 1.])]\n",
      "[5, 2, 1.2742663784422574, 0.518717315598299, 1.414832077157893, array([0., 0., 1.])]\n",
      "[6, 2, 0.3845813510676427, 0.6813210598402579, 0.9113517854522135, array([0., 0., 1.])]\n",
      "[7, 2, 1.0063092880344582, 0.3241124311952388, 1.6714861296214374, array([0., 0., 1.])]\n",
      "[8, 2, -0.9771483456488272, 1.3341318150649752, 2.5911484746347755, array([0., 0., 1.])]\n",
      "[9, 0, 1.4481481593550039, 1.0122653551067249, 1.2613407513316677, array([1., 0., 0.])]\n",
      "[10, 1, 0.4492319899757674, 1.8805914538665753, -0.3025120705541733, array([0., 1., 0.])]\n",
      "[11, 2, 0.735809649751118, 0.7701667202030635, 1.4099183515647251, array([0., 0., 1.])]\n",
      "[12, 2, -0.4511445856496172, 0.4615692778214532, 2.230137524328548, array([0., 0., 1.])]\n",
      "[13, 2, -0.23176492355282685, -0.14796954259306028, 2.3260005323172677, array([0., 0., 1.])]\n",
      "[14, 1, -0.10623690412692417, 2.6110170821098815, 0.7182846636390434, array([0., 1., 0.])]\n",
      "[15, 2, 0.6987963572260252, 0.5993281098070506, 1.9575393926899345, array([0., 0., 1.])]\n",
      "[16, 1, 0.8746653698048344, 2.587470874539596, 1.4700912870560257, array([0., 1., 0.])]\n",
      "[17, 2, 0.8178484325661991, 1.7221301508321967, 2.5291156761022475, array([0., 0., 1.])]\n",
      "[18, 2, -0.506897677331073, 1.9190769456065924, 3.398255411245308, array([0., 0., 1.])]\n",
      "[19, 2, 0.5309944361285616, 0.7147571975720242, 1.337219634028517, array([0., 0., 1.])]\n"
     ]
    },
    {
     "data": {
      "image/png": "[encoded data removed]",
      "text/plain": [
       "<Figure size 1008x432 with 2 Axes>"
      ]
     },
     "metadata": {},
     "output_type": "display_data"
    }
   ],
   "source": [
    "# Mixture Density of 3 component Gaussian\n",
    "# [Class0 * (1/2) + Class1A * (1/6) + Class1B * (1/3)] \n",
    "y = np.array(y0)*(1/2) + np.array(y1a)*(1/6) + np.array(y1b)*(1/3)\n",
    "x = np.array(x0)*(1/2) + np.array(x1a)*(1/6) + np.array(x1b)*(1/3)\n",
    "z = np.zeros([n_inpoints, 3])\n",
    "zidx = np.zeros([n_inpoints, 1])\n",
    "for i in np.arange(y.size):\n",
    "    idxmax = np.argmax([y0[i], y1a[i], y1b[i]])\n",
    "    zidx[i] = idxmax\n",
    "    z[i][idxmax] = 1\n",
    "    print([i, idxmax, y0[i], y1a[i], y1b[i], z[i]])\n",
    "\n",
    "# Subplots \n",
    "f, (ax1, ax2) = plt.subplots(1,2,figsize=(14,6))\n",
    "ax1.scatter(x, y, color = 'y',marker='o', label = 'Mix')\n",
    "ax1.set_title('Gaussian Mixture (k=3)')\n",
    "ax1.legend()\n",
    "ax2.scatter(x0, y0, color = 'r',marker='x', label = 'Cl 0')\n",
    "ax2.scatter(x1a, y1a, color = 'b',marker='^', label = 'Cl 1a')\n",
    "ax2.scatter(x1b, y1b, color = 'g',marker='o', label = 'Cl 1b')\n",
    "ax2.set_title('Mixture 3 Components Separated')\n",
    "ax2.legend()                \n",
    "# Fine-tune figure\n",
    "f.subplots_adjust()"
   ]
  },
  {
   "cell_type": "code",
   "execution_count": null,
   "metadata": {
    "ExecuteTime": {
     "end_time": "2018-05-08T21:13:26.027764Z",
     "start_time": "2018-05-08T21:13:25.896Z"
    }
   },
   "outputs": [],
   "source": [
    "# ----------------------------------------\n",
    "# Set up the [xi, yi] training data vector\n",
    "# ----------------------------------------\n",
    "X = np.vstack((x, y)).T\n",
    "Z = z\n",
    "print(\"Data X Shape:\",X.shape)\n",
    "\n",
    "X1, X2 = np.meshgrid(X[:,0], X[:,1])\n",
    "fig = plt.figure()\n",
    "ax = fig.add_subplot(111, projection='3d')\n",
    "ax.scatter(X1, X2, zidx)\n",
    "ax.set_title('Visualize the cluster')\n",
    "plt.show()\n"
   ]
  },
  {
   "cell_type": "markdown",
   "metadata": {},
   "source": [
    "### KMEANS\n",
    "\n",
    "##### With values of K = 2, 3, 4, 5. For each K, start with several different random initializations, \n",
    "##### and choose the run that leads to the smallest mean squared error. \n",
    "\n",
    "#### E-STEP\n",
    "We will evaluate the expectation of the below equation for the current estimate of the parameter,\n",
    "\n",
    "- $ log p(x_{i}, z_{i} | \\theta) = \\sum_{k=1}^{K} z_{i} [k] (log N (x_{i} | m_{k}, C_{k}) + log \\pi_{k})$\n",
    "- $ E[log p(x_{i}, z_{i} | \\theta) | \\theta^l ] = \\sum_{k=1}^{K} p(k|x_{i}) (log N (x_{i} | m_{k}, C_{k}) + log \\pi_{k})$\n",
    "\n",
    "Note that $ \\theta = \\{ pi_{k}, m_{k}, C_{k} \\}_{k=1}^{K} $ in the above is to be optimized over to get the next estimate $ \\theta^{l+1} $ in the M-step, and $ p(k|x_{i}) $ are numerical values that we computed using the current estimate\n",
    "$ \\theta^{l} $  in the E-step\n",
    "\n",
    "#### M-STEP\n",
    "\n"
   ]
  },
  {
   "cell_type": "code",
   "execution_count": 23,
   "metadata": {
    "ExecuteTime": {
     "end_time": "2018-05-08T22:51:57.471338Z",
     "start_time": "2018-05-08T22:51:57.304787Z"
    },
    "scrolled": false
   },
   "outputs": [
    {
     "name": "stdout",
     "output_type": "stream",
     "text": [
      "Mu   : [[-0.21373479  0.58419642]\n",
      " [ 0.70155719  0.80882767]\n",
      " [ 1.05622148  1.13937171]\n",
      " [ 0.32029843  0.75698003]\n",
      " [ 1.23662831  0.2020348 ]]\n",
      "Si   : [array([[ 0.31295557, -0.0047269 ],\n",
      "       [-0.0047269 ,  0.29457763]]), array([[0.46173819, 0.11236928],\n",
      "       [0.11236928, 0.30491585]]), array([[0.71778374, 0.10323723],\n",
      "       [0.10323723, 0.39995925]]), array([[0.51172763, 0.06181255],\n",
      "       [0.06181255, 0.43927923]]), array([[1., 0.],\n",
      "       [0., 1.]])]\n",
      "W    : [0.09818459245051689, 0.2370349892338578, 0.2353598699865137, 0.2592629137097491, 0.2]\n",
      "LogL : [-183.4793772830588, 19.474091721790973, 20.122872386279436, -2.7755575615628917e-15, 9.992007221626403e-16]\n",
      "Iter : 5\n"
     ]
    },
    {
     "data": {
      "image/png": "[encoded data removed]",
      "text/plain": [
       "<Figure size 432x288 with 1 Axes>"
      ]
     },
     "metadata": {},
     "output_type": "display_data"
    }
   ],
   "source": [
    "# Initialization \n",
    "K = 2\n",
    "Pik= [0.4, 0.4, 0.2]\n",
    "Mk = [(0, 0), (-2, 1), (3, 2)]\n",
    "Ck = [np.array([[2.0, 0.5], [0.5, 0.0]]),\n",
    "      np.array([[1.0, 0.5], [0.5, 1.0]]),\n",
    "      np.array([[1.5, 1.0], [1.0, 1.5]])]\n",
    "\n",
    "\n",
    "def fit_EM(X, max_iters = 1000, k=2, eps=0.000001):\n",
    "    # n = number of data-points, d = dimension of data points        \n",
    "    n, d = X.shape\n",
    "\n",
    "    # randomly choose the starting centroids/means \n",
    "    ## as 3 of the points from datasets        \n",
    "    mu = X[np.random.choice(n, k, False), :]\n",
    "\n",
    "    # initialize the covariance matrices for each gaussians\n",
    "    Sigma= [np.eye(d)] * k\n",
    "\n",
    "    # initialize the probabilities/weights for each gaussians\n",
    "    w = [1./k] * k\n",
    "\n",
    "    # responsibility matrix is initialized to all zeros\n",
    "    # we have responsibility for each of n points for eack of k gaussians\n",
    "    R = np.zeros((n, k))\n",
    "\n",
    "    ### log_likelihoods\n",
    "    log_likelihoods = []\n",
    "\n",
    "    P = lambda mu, s: np.linalg.det(s) ** -.5 ** (2 * np.pi) ** (-X.shape[1]/2.) \\\n",
    "            * np.exp(-.5 * np.einsum('ij, ij -> i',\\\n",
    "                    X - mu, np.dot(np.linalg.inv(s) , (X - mu).T).T ) ) \n",
    "    \n",
    "    # Iterate till max_iters iterations        \n",
    "    while len(log_likelihoods) < max_iters:\n",
    "\n",
    "        # E - Step\n",
    "\n",
    "        ## Vectorized implementation of e-step equation to calculate the \n",
    "        ## membership for each of k -gaussians\n",
    "        for k in range(k):\n",
    "            R[:, k] = w[k] * P(mu[k], Sigma[k])\n",
    "\n",
    "        ### Likelihood computation\n",
    "        log_likelihood = np.sum(np.log(np.sum(R, axis = 1)))\n",
    "\n",
    "        log_likelihoods.append(log_likelihood)\n",
    "\n",
    "        ## Normalize so that the responsibility matrix is row stochastic\n",
    "        R = (R.T / np.sum(R, axis = 1)).T\n",
    "\n",
    "        ## The number of datapoints belonging to each gaussian            \n",
    "        N_ks = np.sum(R, axis = 0)\n",
    "\n",
    "\n",
    "        # M Step\n",
    "        ## calculate the new mean and covariance for each gaussian by \n",
    "        ## utilizing the new responsibilities\n",
    "        for k in range(k):\n",
    "\n",
    "            ## means\n",
    "            mu[k] = 1. / N_ks[k] * np.sum(R[:, k] * X.T, axis = 1).T\n",
    "            x_mu = np.matrix(X - mu[k])\n",
    "\n",
    "            ## covariances\n",
    "            Sigma[k] = np.array(1 / N_ks[k] * np.dot(np.multiply(x_mu.T,  R[:, k]), x_mu))\n",
    "\n",
    "            ## and finally the probabilities\n",
    "            w[k] = 1. / n * N_ks[k]\n",
    "        # check for onvergence\n",
    "        if len(log_likelihoods) < 2 : continue\n",
    "        if np.abs(log_likelihood - log_likelihoods[-2]) < eps: break\n",
    "\n",
    "    \n",
    "    ## bind all results together\n",
    "    from collections import namedtuple\n",
    "    params = namedtuple('params', ['mu', 'Sigma', 'w', 'log_likelihoods', 'num_iters'])\n",
    "    params.mu = mu\n",
    "    params.Sigma = Sigma\n",
    "    params.w = w\n",
    "    params.log_likelihoods = log_likelihoods\n",
    "    params.num_iters = len(log_likelihoods)   \n",
    "    return params\n",
    "\n",
    "params = fit_EM(X, max_iters= 100, k= 5)\n",
    "print('Mu   :',params.mu)\n",
    "print('Si   :',params.Sigma)\n",
    "print('W    :',params.w)\n",
    "print('LogL :',params.log_likelihoods)\n",
    "print('Iter :',params.num_iters)\n",
    "plt.plot(params.log_likelihoods)\n",
    "plt.title('Log Likelihood vs iteration plot')\n",
    "plt.xlabel('Iterations')\n",
    "plt.ylabel('log likelihood')\n",
    "plt.show()"
   ]
  },
  {
   "cell_type": "markdown",
   "metadata": {},
   "source": [
    "##### With Normalization"
   ]
  },
  {
   "cell_type": "markdown",
   "metadata": {
    "ExecuteTime": {
     "end_time": "2018-05-01T05:53:53.905236Z",
     "start_time": "2018-05-01T05:53:53.784559Z"
    }
   },
   "source": [
    "### Results"
   ]
  }
 ],
 "metadata": {
  "kernelspec": {
   "display_name": "Python [conda env:tflo]",
   "language": "python",
   "name": "conda-env-tflo-py"
  },
  "language_info": {
   "codemirror_mode": {
    "name": "ipython",
    "version": 3
   },
   "file_extension": ".py",
   "mimetype": "text/x-python",
   "name": "python",
   "nbconvert_exporter": "python",
   "pygments_lexer": "ipython3",
   "version": "3.6.4"
  }
 },
 "nbformat": 4,
 "nbformat_minor": 2
}
