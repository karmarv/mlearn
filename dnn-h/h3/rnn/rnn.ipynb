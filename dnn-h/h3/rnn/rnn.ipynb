{
 "cells": [
  {
   "cell_type": "markdown",
   "metadata": {},
   "source": [
    "###### ECE194N: Homework 3\n",
    "###### Topics: RNN Problem\n",
    "###### Due: May 29\n",
    "\n",
    "\n",
    "-------------------------------------------------\n",
    "\n",
    "RNN: In this problem we will be implementing an RNN. The objective of the RNN\n",
    "is that given a sequence of words, it will try to guess the next word. For this task we\n",
    "will follow the RNN tutorial for Tensorflow which can be found from this link:\n",
    "\n",
    "https://www.tensorflow.org/tutorials/recurrent\n"
   ]
  },
  {
   "cell_type": "code",
   "execution_count": 1,
   "metadata": {
    "ExecuteTime": {
     "end_time": "2018-05-31T07:11:33.219388Z",
     "start_time": "2018-05-31T07:11:20.355270Z"
    }
   },
   "outputs": [
    {
     "name": "stderr",
     "output_type": "stream",
     "text": [
      "C:\\Users\\Karma\\Anaconda3\\envs\\tflo\\lib\\site-packages\\h5py\\__init__.py:36: FutureWarning: Conversion of the second argument of issubdtype from `float` to `np.floating` is deprecated. In future, it will be treated as `np.float64 == np.dtype(float).type`.\n",
      "  from ._conv import register_converters as _register_converters\n"
     ]
    }
   ],
   "source": [
    "%matplotlib inline\n",
    "import matplotlib.pyplot as plt\n",
    "import os, math\n",
    "import tensorflow as tf\n",
    "import numpy as np\n",
    "import collections\n",
    "import os\n",
    "import argparse\n",
    "import datetime as dt\n",
    "\n",
    "import reader\n",
    "import util\n"
   ]
  },
  {
   "cell_type": "markdown",
   "metadata": {
    "ExecuteTime": {
     "end_time": "2018-05-23T04:44:55.619135Z",
     "start_time": "2018-05-23T04:44:55.611113Z"
    }
   },
   "source": [
    "### (a.) Download the data and read the reader code from the tutorial. \n",
    "\n",
    "Write a small script that displays the word ids and the sentences for the first 10 samples in the validation set. \n",
    "##### Hint: It should be something like this: ”I like apples” [1,2,3] where 1:I, 2:like, 3:apples."
   ]
  },
  {
   "cell_type": "code",
   "execution_count": 2,
   "metadata": {
    "ExecuteTime": {
     "end_time": "2018-05-31T07:11:38.675121Z",
     "start_time": "2018-05-31T07:11:37.570815Z"
    },
    "code_folding": []
   },
   "outputs": [
    {
     "name": "stdout",
     "output_type": "stream",
     "text": [
      "aer banknote berlitz calloway centrust cluett fromstein gitano guterman hydro-quebec\n",
      "Vocabulary Size:  10000 \n",
      "\n",
      "1 .)  consumers may want to move their telephones a little closer to the tv set \n",
      "  [1132, 93, 358, 5, 329, 51, 9836, 6, 326, 2476, 5, 0, 662, 388]\n",
      "2 .)  <unk> <unk> watching abc 's monday night football can now vote during <unk> for the greatest play in N years from among four or five <unk> <unk> \n",
      "  [1, 1, 2974, 2158, 9, 381, 1068, 2347, 89, 99, 847, 198, 1, 11, 0, 3383, 1119, 7, 3, 72, 20, 211, 346, 36, 258, 1, 1]\n",
      "3 .)  two weeks ago viewers of several nbc <unk> consumer segments started calling a N number for advice on various <unk> issues \n",
      "  [75, 422, 195, 3917, 4, 249, 1795, 1, 580, 3528, 892, 2374, 6, 3, 297, 11, 2709, 16, 1186, 1, 250]\n",
      "4 .)  and the new syndicated reality show hard copy records viewers ' opinions for possible airing on the next day 's show \n",
      "  [8, 0, 35, 9922, 3747, 464, 710, 2998, 2037, 3917, 134, 6145, 11, 494, 5894, 16, 0, 130, 272, 9, 464]\n",
      "5 .)  interactive telephone technology has taken a new leap in <unk> and television programmers are racing to exploit the possibilities \n",
      "  [9958, 732, 503, 30, 641, 6, 35, 6498, 7, 1, 8, 761, 9967, 26, 6587, 5, 6415, 0, 6574]\n",
      "6 .)  eventually viewers may grow <unk> with the technology and <unk> the cost \n",
      "  [1413, 3917, 93, 1552, 1, 22, 0, 503, 8, 1, 0, 361]\n",
      "7 .)  but right now programmers are figuring that viewers who are busy dialing up a range of services may put down their <unk> control <unk> and stay <unk> \n",
      "  [29, 382, 99, 9967, 26, 7428, 10, 3917, 56, 26, 3248, 8846, 52, 6, 880, 4, 323, 93, 335, 118, 51, 1, 350, 1, 8, 1337, 1]\n",
      "8 .)  we 've been spending a lot of time in los angeles talking to tv production people says mike parks president of call interactive which supplied technology for both abc sports and nbc 's consumer minutes \n",
      "  [64, 573, 58, 508, 6, 581, 4, 103, 7, 639, 747, 1921, 5, 662, 359, 108, 44, 5458, 6149, 70, 4, 786, 9958, 41, 7746, 503, 11, 179, 2158, 1259, 8, 1795, 9, 580, 1495]\n",
      "9 .)  with the competitiveness of the television market these days everyone is looking for a way to get viewers more excited \n",
      "  [22, 0, 9643, 4, 0, 761, 47, 144, 171, 1376, 13, 735, 11, 6, 229, 5, 188, 3917, 45, 9684]\n",
      "10 .)  one of the leaders behind the expanded use of N numbers is call interactive a joint venture of giants american express co. and american telephone & telegraph co \n",
      "  [54, 4, 0, 815, 1116, 0, 2439, 269, 4, 3, 1619, 13, 786, 9958, 6, 795, 818, 4, 2172, 140, 1021, 95, 8, 140, 732, 82, 3133, 570]\n"
     ]
    }
   ],
   "source": [
    "# Read PTB sample data \n",
    "data_path = \"simple-examples/data/\"\n",
    "word_to_id = reader._build_vocab(os.path.join(data_path, \"ptb.train.txt\"))\n",
    "raw_data = reader.ptb_raw_data(data_path)\n",
    "train_data, valid_data, test_data, vocabulary = raw_data\n",
    "\n",
    "reversed_dictionary = dict(zip(word_to_id.values(), word_to_id.keys()))\n",
    "print(\" \".join([reversed_dictionary[x] for x in train_data[:10]]))\n",
    "\n",
    "print(\"Vocabulary Size: \", vocabulary,\"\\n\")\n",
    "eos_id = word_to_id[\"<eos>\"]\n",
    "word_txt = \"\"\n",
    "word_ids = []\n",
    "sent_cnt = 0\n",
    "for id_valid in valid_data[0:10000]:\n",
    "    kv = {k:v for k, v in word_to_id.items() if v == id_valid}\n",
    "    kv = kv.popitem()\n",
    "    if(id_valid == eos_id): # End of sentence\n",
    "        print((sent_cnt+1),\".)\",word_txt,\"\\n \",word_ids)\n",
    "        word_txt = \"\"\n",
    "        word_ids = []\n",
    "        sent_cnt = sent_cnt + 1\n",
    "        continue\n",
    "    if(sent_cnt == 10):  # Finish after 10 sentences\n",
    "        break\n",
    "    # Add word to sentence \n",
    "    word_txt = word_txt + \" \" + kv[0]\n",
    "    word_ids.append(kv[1])"
   ]
  },
  {
   "cell_type": "markdown",
   "metadata": {},
   "source": [
    "### (b) Create an RNN model following the tutorial. \n",
    "\n",
    "- Train the model and save training and validation losses over time. \n",
    "- Comment on if your model is overfitting or underfitting. \n",
    "\n"
   ]
  },
  {
   "cell_type": "code",
   "execution_count": 10,
   "metadata": {
    "ExecuteTime": {
     "end_time": "2018-05-31T09:42:54.340735Z",
     "start_time": "2018-05-31T09:42:54.149254Z"
    }
   },
   "outputs": [
    {
     "data": {
      "image/png": "[encoded data removed]",
      "text/plain": [
       "<Figure size 432x288 with 1 Axes>"
      ]
     },
     "metadata": {},
     "output_type": "display_data"
    }
   ],
   "source": [
    "# This part is continued in the ptb_word_lm.py source code \n",
    "\n",
    "import matplotlib.pyplot as plt\n",
    "\n",
    "x = range(0,30)\n",
    "x_axis =  [5.892828233455839, 5.175063474197051, 4.923602828133515, 4.755605833686223, 4.6317642236554155, \n",
    "           4.5337887175386795, 4.4146086716731485, 4.309408576892233, 4.224679030739641, 4.15113995112956, \n",
    "           4.091310661546713, 4.042695668270108, 4.002090388723179, 3.9691814252180104, 3.9422283922076957, \n",
    "           3.9196188754318784, 3.8993738749990015, 3.8886861031760516, 3.8726353648918055, 3.8653755862305528, \n",
    "           3.855408901839226, 3.8485901848083293, 3.8452557702895604, 3.8390576082842127, 3.8360201804934873, \n",
    "           3.834563913631778, 3.8339368299668437, 3.830275785865254, 3.8287308164710105, 3.828182678846872]\n",
    "y_axis = [5.324787410813935, 5.01346401084848, 4.84561486069037, 4.75106652084662, 4.6982585424306444, \n",
    "          4.652949011147427, 4.586399453091784, 4.5520516988533695, 4.523064533674798, 4.5084592110770085,\n",
    "          4.497108386811756, 4.493018537248884, 4.489556033595079, 4.485706998863999, 4.48800402167703, \n",
    "          4.485253441220238, 4.485081376056282, 4.482010697345344, 4.483444072697439, 4.482078861573926, \n",
    "          4.482794359687234, 4.482575554880155, 4.4811470374282525, 4.480794287441539, 4.480578127491231, \n",
    "          4.479583918772587, 4.4784935194781035, 4.478589228415975, 4.478181957841731, 4.477987438383557]\n",
    "\n",
    "plt.title(\"Loss for Train/Valid PTB Dataset\")\n",
    "plt.scatter(x, x_axis, color='darkblue', marker='x', label=\"Train Loss\")\n",
    "plt.scatter(x, y_axis, color='green', marker='x', label=\"Valid Loss\")\n",
    "\n",
    "plt.xlabel(\"Epoch\")\n",
    "plt.ylabel(\"Loss\")\n",
    "\n",
    "plt.grid(True)\n",
    "plt.legend()\n",
    "\n",
    "plt.show()"
   ]
  }
 ],
 "metadata": {
  "kernelspec": {
   "display_name": "Python [conda env:tflo]",
   "language": "python",
   "name": "conda-env-tflo-py"
  },
  "language_info": {
   "codemirror_mode": {
    "name": "ipython",
    "version": 3
   },
   "file_extension": ".py",
   "mimetype": "text/x-python",
   "name": "python",
   "nbconvert_exporter": "python",
   "pygments_lexer": "ipython3",
   "version": "3.6.4"
  }
 },
 "nbformat": 4,
 "nbformat_minor": 2
}
