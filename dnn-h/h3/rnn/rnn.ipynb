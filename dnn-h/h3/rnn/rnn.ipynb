{
 "cells": [
  {
   "cell_type": "markdown",
   "metadata": {},
   "source": [
    "###### ECE194N: Homework 3\n",
    "###### Topics: RNN Problem\n",
    "###### Due: May 29\n",
    "\n",
    "\n",
    "-------------------------------------------------\n",
    "\n",
    "RNN: In this problem we will be implementing an RNN. The objective of the RNN\n",
    "is that given a sequence of words, it will try to guess the next word. For this task we\n",
    "will follow the RNN tutorial for Tensorflow which can be found from this link:\n",
    "\n",
    "https://www.tensorflow.org/tutorials/recurrent\n"
   ]
  },
  {
   "cell_type": "code",
   "execution_count": 2,
   "metadata": {
    "ExecuteTime": {
     "end_time": "2018-05-23T05:03:21.423798Z",
     "start_time": "2018-05-23T05:03:09.684080Z"
    }
   },
   "outputs": [
    {
     "name": "stderr",
     "output_type": "stream",
     "text": [
      "C:\\Users\\Karma\\Anaconda3\\envs\\tflo\\lib\\site-packages\\h5py\\__init__.py:36: FutureWarning: Conversion of the second argument of issubdtype from `float` to `np.floating` is deprecated. In future, it will be treated as `np.float64 == np.dtype(float).type`.\n",
      "  from ._conv import register_converters as _register_converters\n"
     ]
    }
   ],
   "source": [
    "%matplotlib inline\n",
    "import matplotlib.pyplot as plt\n",
    "import numpy as np\n",
    "import math\n",
    "import matplotlib.pyplot as plt\n",
    "from matplotlib import cm\n",
    "from mpl_toolkits.mplot3d import Axes3D\n",
    "\n",
    "import reader\n"
   ]
  },
  {
   "cell_type": "markdown",
   "metadata": {
    "ExecuteTime": {
     "end_time": "2018-05-23T04:44:55.619135Z",
     "start_time": "2018-05-23T04:44:55.611113Z"
    }
   },
   "source": [
    "### (a.) Download the data and read the reader code from the tutorial. \n",
    "\n",
    "Write a small script that displays the word ids and the sentences for the first 10 samples in the validation set. \n",
    "##### Hint: It should be something like this: ”I like apples” [1,2,3] where 1:I, 2:like, 3:apples."
   ]
  },
  {
   "cell_type": "code",
   "execution_count": 33,
   "metadata": {
    "ExecuteTime": {
     "end_time": "2018-05-23T05:49:15.329229Z",
     "start_time": "2018-05-23T05:49:14.617189Z"
    },
    "code_folding": []
   },
   "outputs": [
    {
     "name": "stdout",
     "output_type": "stream",
     "text": [
      "1132 \t: know\n",
      "93 \t: new\n",
      "358 \t: excesses\n",
      "5 \t: their\n",
      "329 \t: lines\n",
      "51 \t: consumer\n",
      "9836 \t: savings\n",
      "6 \t: telephones\n",
      "326 \t: while\n",
      "2476 \t: colombia\n",
      "\n",
      "\n",
      "\"  know new excesses their lines consumer savings telephones while colombia \"  [1132, 93, 358, 5, 329, 51, 9836, 6, 326, 2476]\n"
     ]
    }
   ],
   "source": [
    "# Read PTB sample data \n",
    "data_path = \"simple-examples/data/\"\n",
    "raw_data = reader.ptb_raw_data(data_path)\n",
    "train_data, valid_data, test_data, _ = raw_data\n",
    "\n",
    "# Read the words from the valid data file\n",
    "data = reader._read_words(data_path+\"ptb.valid.txt\")\n",
    "\n",
    "# Print 10 sample words\n",
    "word_valid_sample = \"\"\n",
    "for idx in valid_data[0:10]:\n",
    "    print(idx,\"\\t:\",data[idx])\n",
    "    word_valid_sample = word_valid_sample + \" \" + data[idx]\n",
    "print(\"\\n\")\n",
    "print(\"\\\"\",word_valid_sample,\"\\\" \", valid_data[0:10])"
   ]
  },
  {
   "cell_type": "markdown",
   "metadata": {},
   "source": [
    "### (b) Design a model to classify these 10 classes. \n",
    "##### Choose parameters of your model architecture such as number of layers, number of neurons and the loss function. \n",
    "Comment on these choices. Implement this model in Tensorflow and train the model weights using the training set. Plot the training and testing loss and acc \n",
    "\n"
   ]
  },
  {
   "cell_type": "code",
   "execution_count": 38,
   "metadata": {
    "ExecuteTime": {
     "end_time": "2018-05-15T07:07:59.517711Z",
     "start_time": "2018-05-15T07:07:59.492778Z"
    },
    "code_folding": []
   },
   "outputs": [],
   "source": []
  },
  {
   "cell_type": "code",
   "execution_count": null,
   "metadata": {
    "ExecuteTime": {
     "end_time": "2018-05-15T07:08:27.311868Z",
     "start_time": "2018-05-15T07:08:25.534932Z"
    }
   },
   "outputs": [],
   "source": []
  },
  {
   "cell_type": "code",
   "execution_count": null,
   "metadata": {
    "ExecuteTime": {
     "end_time": "2018-05-15T07:42:53.512509Z",
     "start_time": "2018-05-15T07:08:31.339341Z"
    },
    "scrolled": false
   },
   "outputs": [],
   "source": []
  }
 ],
 "metadata": {
  "kernelspec": {
   "display_name": "Python [conda env:tflo]",
   "language": "python",
   "name": "conda-env-tflo-py"
  },
  "language_info": {
   "codemirror_mode": {
    "name": "ipython",
    "version": 3
   },
   "file_extension": ".py",
   "mimetype": "text/x-python",
   "name": "python",
   "nbconvert_exporter": "python",
   "pygments_lexer": "ipython3",
   "version": "3.6.4"
  }
 },
 "nbformat": 4,
 "nbformat_minor": 2
}
