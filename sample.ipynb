{
 "cells": [
  {
   "cell_type": "code",
   "execution_count": 5,
   "metadata": {
    "ExecuteTime": {
     "end_time": "2018-05-11T19:35:22.369537Z",
     "start_time": "2018-05-11T19:35:22.361591Z"
    }
   },
   "outputs": [
    {
     "name": "stdout",
     "output_type": "stream",
     "text": [
      "Sx: [[ 0  0  0]\n",
      " [16 16 16]\n",
      " [16 16 16]]\n",
      "Sy: [[0 0 0]\n",
      " [0 0 0]\n",
      " [0 0 0]]\n"
     ]
    }
   ],
   "source": [
    "import numpy \n",
    "import scipy\n",
    "from scipy import ndimage\n",
    "\n",
    "\n",
    "im = numpy.matrix([[2,2,2], [2,2,2], [6,6,6]])\n",
    "dx = ndimage.sobel(im, 0)  # horizontal derivative\n",
    "dy = ndimage.sobel(im, 1)  # vertical derivative\n",
    "mag = numpy.hypot(dx, dy)  # magnitude\n",
    "mag *= 255.0 / numpy.max(mag)  # normalize (Q&D)\n",
    "\n",
    "print('Sx:',dx)\n",
    "print('Sy:',dy)\n",
    "\n"
   ]
  }
 ],
 "metadata": {
  "kernelspec": {
   "display_name": "Python [conda env:tflo]",
   "language": "python",
   "name": "conda-env-tflo-py"
  },
  "language_info": {
   "codemirror_mode": {
    "name": "ipython",
    "version": 3
   },
   "file_extension": ".py",
   "mimetype": "text/x-python",
   "name": "python",
   "nbconvert_exporter": "python",
   "pygments_lexer": "ipython3",
   "version": "3.6.4"
  }
 },
 "nbformat": 4,
 "nbformat_minor": 2
}
